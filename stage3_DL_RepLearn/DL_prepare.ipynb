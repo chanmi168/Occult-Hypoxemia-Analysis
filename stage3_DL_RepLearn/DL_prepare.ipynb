{
 "cells": [
  {
   "cell_type": "markdown",
   "id": "25793c03",
   "metadata": {},
   "source": [
    "# this script takes the output of stage 1 and prepare a dataset that pytorch likes\n",
    "# the output of stage 1 is the segmented PPG (8s, no overlap) few minutes before and after the SaO2 sampling time\n",
    "# "
   ]
  },
  {
   "cell_type": "code",
   "execution_count": 1,
   "id": "1ac6bba4",
   "metadata": {},
   "outputs": [],
   "source": [
    "import pandas as pd\n",
    "from datetime import datetime\n",
    "import os\n",
    "import pickle\n",
    "from datetime import timedelta\n",
    "from datetime import datetime\n",
    "from datetime import date\n",
    "from datetime import time\n",
    "from dateutil.relativedelta import relativedelta\n",
    "import argparse\n",
    "\n",
    "import os\n",
    "import math\n",
    "\n",
    "import pandas as pd\n",
    "import numpy as np\n",
    "import os\n",
    "\n",
    "import json\n",
    "\n",
    "import sys\n",
    "from scipy.io import loadmat\n",
    "\n",
    "import matplotlib\n",
    "import matplotlib.pyplot as plt\n",
    "plt.style.use('seaborn-white')\n",
    "matplotlib.rc( 'savefig', facecolor = 'white' )\n",
    "from matplotlib import pyplot\n",
    "import matplotlib.ticker as plticker\n",
    "\n",
    "import torch\n",
    "from torch.utils.data import Dataset, DataLoader\n",
    "import torch.nn as nn\n",
    "import torch.nn.functional as F\n",
    "import torchvision\n",
    "from torchvision import transforms, datasets, models\n",
    "\n",
    "# %pip install torch-summary\n",
    "from torchsummary import summary\n",
    "torch.manual_seed(0)\n",
    "\n",
    "import seaborn as sns\n",
    "from matplotlib.cm import ScalarMappable\n",
    "\n",
    "\n",
    "import sys\n",
    "sys.path.append('../') # add this line so Data and data are visible in this file\n",
    "sys.path.append('../../') # add this line so Data and data are visible in this file\n",
    "sys.path.append('../PhysioMC/') # add this line so Data and data are visible in this file\n",
    "\n",
    "# from PatchWand import *\n",
    "from filters import *\n",
    "from setting import *\n",
    "# from preprocessing import *\n",
    "from ECG_module import *\n",
    "from dataIO import *\n",
    "from evaluate import *\n",
    "from stage1_PPG_analysis import *\n",
    "from plotting_tools import *\n",
    "\n",
    "\n",
    "from DR_extension.training_util import *\n",
    "from DR_extension.dataset_util import *\n",
    "from DR_extension.evaluation_util import *\n",
    "from DR_extension.models import *\n",
    "from DR_extension.models_CNNlight import *\n",
    "\n",
    "from importlib import reload\n",
    "%load_ext autoreload\n",
    "%autoreload 2"
   ]
  },
  {
   "cell_type": "code",
   "execution_count": null,
   "id": "76124baf-3971-451b-b49f-66c4909ff768",
   "metadata": {},
   "outputs": [],
   "source": []
  },
  {
   "cell_type": "code",
   "execution_count": 2,
   "id": "daa98f2f-2a31-41fc-8260-6257748b44fa",
   "metadata": {},
   "outputs": [
    {
     "name": "stdout",
     "output_type": "stream",
     "text": [
      "11.3\n",
      "True\n"
     ]
    }
   ],
   "source": [
    "print(torch.version.cuda)\n",
    "print(torch.cuda.is_available())"
   ]
  },
  {
   "cell_type": "code",
   "execution_count": 3,
   "id": "1900e03c-4685-4a3d-bc4c-7c9e1cbdf2c6",
   "metadata": {},
   "outputs": [
    {
     "name": "stdout",
     "output_type": "stream",
     "text": [
      "Namespace(input_folder='../../data/stage1/waveform/', output_folder='../../data/stage3_DL_prepare_new/', training_params_file='training_params_dummy.json')\n"
     ]
    }
   ],
   "source": [
    "parser = argparse.ArgumentParser(description='feature_learning')\n",
    "parser.add_argument('--input_folder', metavar='input_folder', help='input_folder',\n",
    "                    default='../')\n",
    "parser.add_argument('--output_folder', metavar='output_folder', help='output_folder',\n",
    "                    default='../')\n",
    "parser.add_argument('--training_params_file', metavar='training_params_file', help='training_params_file',\n",
    "                    default='training_params_list.json')\n",
    "\n",
    "\n",
    "# checklist 3: comment first line, uncomment second line\n",
    "args = parser.parse_args(['--input_folder', '../../data/stage1/waveform/', \n",
    "                          '--output_folder', '../../data/stage3_DL_prepare_new/',\n",
    "#                           '--training_params_file', 'training_params_baseline.json',\n",
    "                          '--training_params_file', 'training_params_dummy.json',\n",
    "                         ])\n",
    "# args = parser.parse_args()\n",
    "print(args)"
   ]
  },
  {
   "cell_type": "code",
   "execution_count": 4,
   "id": "b3ed2501",
   "metadata": {},
   "outputs": [],
   "source": [
    "# selected_id = 10"
   ]
  },
  {
   "cell_type": "code",
   "execution_count": 5,
   "id": "8c93df87",
   "metadata": {
    "tags": []
   },
   "outputs": [
    {
     "data": {
      "text/plain": [
       "'/labs/kamaleswaranlab/Sepsis3_062321/mchan_analysis/disparities_O2/repo/stage3_DL_RepLearn'"
      ]
     },
     "execution_count": 5,
     "metadata": {},
     "output_type": "execute_result"
    }
   ],
   "source": [
    "%pwd"
   ]
  },
  {
   "cell_type": "code",
   "execution_count": 6,
   "id": "95c122e7-2bd1-4ae2-a8b2-ea73d6004231",
   "metadata": {},
   "outputs": [],
   "source": [
    "# %pip install statannot\n"
   ]
  },
  {
   "cell_type": "code",
   "execution_count": 7,
   "id": "c1082f8d-abe1-4ed3-b4bd-7042f6111d0d",
   "metadata": {},
   "outputs": [],
   "source": [
    "# inputdir = '../../data/stage1/waveform/'\n",
    "inputdir = args.input_folder\n",
    "outputdir = args.output_folder\n",
    "training_params_file = args.training_params_file\n",
    "\n",
    "# outputdir = '../../data/stage3_DL_RepLearn/'\n",
    "if not os.path.exists(outputdir):\n",
    "    os.makedirs(outputdir)\n"
   ]
  },
  {
   "cell_type": "code",
   "execution_count": null,
   "id": "0435260c-7955-41a0-b1eb-cc8f1a98b7ec",
   "metadata": {},
   "outputs": [],
   "source": []
  },
  {
   "cell_type": "code",
   "execution_count": 8,
   "id": "83dffdb2-7973-4bca-82fe-63eed2e4f8e5",
   "metadata": {},
   "outputs": [],
   "source": [
    "def get_model_out_names(training_params):\n",
    "    model_out_names = []\n",
    "\n",
    "#     for output_name in training_params['output_names']:\n",
    "    for output_name in training_params['output_names']+['domain']:\n",
    "        for input_name in training_params['input_names']:\n",
    "            model_out_names.append(output_name+'-{}'.format(input_name))\n",
    "    return model_out_names"
   ]
  },
  {
   "cell_type": "code",
   "execution_count": 9,
   "id": "2788f8d1-da8f-40bc-b9d7-1ce8d7f4358d",
   "metadata": {},
   "outputs": [],
   "source": [
    "# inputdir"
   ]
  },
  {
   "cell_type": "code",
   "execution_count": 10,
   "id": "76c74a0c-91d3-4bfd-a2a4-8c42c9c341bd",
   "metadata": {},
   "outputs": [],
   "source": [
    "# aaa = data_loader(filename.split('.')[0], inputdir)"
   ]
  },
  {
   "cell_type": "code",
   "execution_count": 11,
   "id": "bf396c00-9678-4691-9ce0-e0ca6716ae4f",
   "metadata": {},
   "outputs": [],
   "source": [
    "# aaa.shape"
   ]
  },
  {
   "cell_type": "code",
   "execution_count": 12,
   "id": "849069b7-940c-4b77-b221-205620782c66",
   "metadata": {},
   "outputs": [],
   "source": [
    "# 2000/8"
   ]
  },
  {
   "cell_type": "code",
   "execution_count": 13,
   "id": "8aa313a6-33c2-4e04-84df-a200a559f394",
   "metadata": {},
   "outputs": [],
   "source": [
    "# plt.plot(aaa[:,5])\n",
    "# plt.show()"
   ]
  },
  {
   "cell_type": "code",
   "execution_count": null,
   "id": "2537774b-fdad-4ff1-bbdd-68ed328178c0",
   "metadata": {},
   "outputs": [],
   "source": []
  },
  {
   "cell_type": "code",
   "execution_count": 18,
   "id": "fecd6650-4442-4778-a1a1-606475ab1e3f",
   "metadata": {},
   "outputs": [],
   "source": [
    "df_demographic_processed = pd.read_feather(inputdir+'df_demographic_processed.feather', columns=None, use_threads=True)\n",
    "df_demographic_processed.reset_index(drop=True).to_feather(outputdir+'df_demographic_processed.feather')\n"
   ]
  },
  {
   "cell_type": "code",
   "execution_count": 19,
   "id": "97db8b49-7a75-4135-81eb-2cbc1a200a04",
   "metadata": {},
   "outputs": [],
   "source": [
    "# df_demographic_processed = pd.read_csv(inputdir+'df_demographic_processed.csv.gz')  \n",
    "# df_demographic_processed.to_csv(outputdir+'df_demographic_processed.csv.gz', index=False, compression='gzip')\n"
   ]
  },
  {
   "cell_type": "code",
   "execution_count": 20,
   "id": "4770493a-a513-404f-a5a9-a8f48433d031",
   "metadata": {},
   "outputs": [
    {
     "data": {
      "text/plain": [
       "76450"
      ]
     },
     "execution_count": 20,
     "metadata": {},
     "output_type": "execute_result"
    }
   ],
   "source": [
    "df_demographic_processed.shape[0]"
   ]
  },
  {
   "cell_type": "code",
   "execution_count": null,
   "id": "d82ac6bf-177b-4486-9864-b9ee68e99d9b",
   "metadata": {},
   "outputs": [],
   "source": []
  },
  {
   "cell_type": "code",
   "execution_count": null,
   "id": "c63761c3-63ee-4f66-a5fd-0f15f4d90f1b",
   "metadata": {},
   "outputs": [],
   "source": []
  },
  {
   "cell_type": "code",
   "execution_count": null,
   "id": "07ab3757-eb7c-4ef4-b6c0-f4797cda3146",
   "metadata": {},
   "outputs": [],
   "source": []
  },
  {
   "cell_type": "code",
   "execution_count": 16,
   "id": "678a0873-ce66-4a5a-9e0c-70d423e2e2b2",
   "metadata": {},
   "outputs": [],
   "source": [
    "# mask = df_demographic_processed['debug_message']=='[perfecto]'"
   ]
  },
  {
   "cell_type": "code",
   "execution_count": 17,
   "id": "1893bb7e-a3ab-41de-9397-f1a529ff4acf",
   "metadata": {},
   "outputs": [],
   "source": [
    "# for i, (index, row) in enumerate(df_demographic_processed.iterrows()):\n",
    "#     pass"
   ]
  },
  {
   "cell_type": "code",
   "execution_count": 18,
   "id": "07085f2c-25c7-48d3-988d-2ec0f580591a",
   "metadata": {},
   "outputs": [],
   "source": [
    "# print(os.path.getsize(inputdir+'PPGmatrix_A140-0515603029_0000_0.npz'))\n"
   ]
  },
  {
   "cell_type": "code",
   "execution_count": 19,
   "id": "f9add304-2ddf-44ab-b113-788f2c56290d",
   "metadata": {},
   "outputs": [],
   "source": [
    "# PPGmatrix = data_loader(row['matrix_name'], inputdir)\n"
   ]
  },
  {
   "cell_type": "code",
   "execution_count": 20,
   "id": "04dfcfc1-33d8-478e-8b1d-024ac92bbd29",
   "metadata": {},
   "outputs": [],
   "source": [
    "# len(os.listdir(inputdir))"
   ]
  },
  {
   "cell_type": "code",
   "execution_count": 21,
   "id": "71120752-9fa3-4afb-b014-eaffe8030426",
   "metadata": {},
   "outputs": [],
   "source": [
    "list_label = ['spo2', 'sao2', 'Race String', 'PAT_ID']\n"
   ]
  },
  {
   "cell_type": "code",
   "execution_count": 22,
   "id": "a6f19cad-1c7f-4f0c-bedd-0e8ec733bbc8",
   "metadata": {},
   "outputs": [],
   "source": [
    "def parse_samples(inputdir, list_label, df_demographic_processed):\n",
    "\n",
    "\n",
    "    # df_demographic_processed = pd.read_csv(inputdir+'df_demographic_processed.csv.gz')  \n",
    "\n",
    "    data = []\n",
    "    label = []\n",
    "\n",
    "    for i, (index, row) in enumerate(df_demographic_processed.iterrows()):\n",
    "        \n",
    "        if i%1000==0:\n",
    "            print('{}th sample'.format(i))\n",
    "        if row['debug_message']!='[perfecto]':\n",
    "            continue\n",
    "        # get a waveform (8s, Fs=100Hz)\n",
    "        PPGmatrix = data_loader(row['matrix_name'], inputdir)\n",
    "        # select one\n",
    "        PPGsig = PPGmatrix[:,np.random.randint(PPGmatrix.shape[1])]\n",
    "\n",
    "        # stack to waveform matrix\n",
    "        data.append(PPGsig)\n",
    "\n",
    "        # get the label array\n",
    "        # stack to label matrix\n",
    "        label.append(row[list_label].values)\n",
    "\n",
    "    data = np.stack(data)\n",
    "    label = np.stack(label)\n",
    "    \n",
    "    conversion_rate = data.shape[0]/df_demographic_processed.shape[0]\n",
    "    print('conversion rate: {:.1f}%'.format(conversion_rate*100) )\n",
    "    \n",
    "    return data, label, conversion_rate\n"
   ]
  },
  {
   "cell_type": "code",
   "execution_count": null,
   "id": "5c235d63-12f1-48a9-bcd9-94f2d5693f22",
   "metadata": {},
   "outputs": [],
   "source": [
    "# can take 2 hours for 10k samples"
   ]
  },
  {
   "cell_type": "code",
   "execution_count": 23,
   "id": "a46d6e45-e58d-472a-a0a5-6cfd3ae0c667",
   "metadata": {},
   "outputs": [
    {
     "name": "stdout",
     "output_type": "stream",
     "text": [
      "0th sample\n",
      "1000th sample\n",
      "2000th sample\n",
      "3000th sample\n",
      "4000th sample\n",
      "5000th sample\n",
      "6000th sample\n",
      "7000th sample\n",
      "8000th sample\n",
      "9000th sample\n",
      "10000th sample\n",
      "11000th sample\n",
      "12000th sample\n",
      "13000th sample\n",
      "14000th sample\n",
      "15000th sample\n",
      "16000th sample\n",
      "17000th sample\n",
      "18000th sample\n",
      "19000th sample\n",
      "20000th sample\n",
      "21000th sample\n",
      "22000th sample\n",
      "23000th sample\n",
      "24000th sample\n",
      "25000th sample\n",
      "26000th sample\n",
      "27000th sample\n",
      "28000th sample\n",
      "29000th sample\n",
      "30000th sample\n",
      "31000th sample\n",
      "32000th sample\n",
      "33000th sample\n",
      "34000th sample\n",
      "35000th sample\n",
      "36000th sample\n",
      "37000th sample\n",
      "38000th sample\n",
      "39000th sample\n",
      "40000th sample\n",
      "41000th sample\n",
      "42000th sample\n",
      "43000th sample\n",
      "44000th sample\n",
      "45000th sample\n",
      "46000th sample\n",
      "47000th sample\n",
      "48000th sample\n",
      "49000th sample\n",
      "50000th sample\n",
      "51000th sample\n",
      "52000th sample\n",
      "53000th sample\n",
      "54000th sample\n",
      "55000th sample\n",
      "56000th sample\n",
      "57000th sample\n",
      "58000th sample\n",
      "59000th sample\n",
      "60000th sample\n",
      "61000th sample\n",
      "62000th sample\n",
      "63000th sample\n",
      "64000th sample\n",
      "65000th sample\n",
      "66000th sample\n",
      "67000th sample\n",
      "68000th sample\n",
      "69000th sample\n",
      "70000th sample\n",
      "71000th sample\n",
      "72000th sample\n",
      "73000th sample\n",
      "74000th sample\n",
      "75000th sample\n",
      "76000th sample\n",
      "77000th sample\n",
      "78000th sample\n",
      "79000th sample\n",
      "80000th sample\n",
      "81000th sample\n",
      "82000th sample\n",
      "83000th sample\n",
      "84000th sample\n",
      "85000th sample\n",
      "86000th sample\n",
      "87000th sample\n",
      "88000th sample\n",
      "89000th sample\n",
      "90000th sample\n",
      "91000th sample\n",
      "92000th sample\n",
      "93000th sample\n",
      "94000th sample\n",
      "95000th sample\n",
      "96000th sample\n",
      "97000th sample\n",
      "98000th sample\n",
      "99000th sample\n",
      "100000th sample\n",
      "101000th sample\n",
      "102000th sample\n",
      "103000th sample\n",
      "conversion rate: 92.7%\n"
     ]
    }
   ],
   "source": [
    "data, label, conversion_rate = parse_samples(inputdir, list_label, df_demographic_processed)\n"
   ]
  },
  {
   "cell_type": "code",
   "execution_count": null,
   "id": "3712b315-3eb7-4d09-9040-2a801a407b9e",
   "metadata": {},
   "outputs": [],
   "source": []
  },
  {
   "cell_type": "code",
   "execution_count": 24,
   "id": "ea5248ad-1e96-4f35-a77e-eb757d74627a",
   "metadata": {},
   "outputs": [],
   "source": [
    "def get_indices_set(ids_arr, data_arr):\n",
    "    indices_set = []\n",
    "    for id_sub in ids_arr:\n",
    "        indices_set.append(np.where(data_arr==id_sub)[0])\n",
    "    return np.concatenate(indices_set)\n",
    "\n",
    "def split_matrix(data, label, indices_set, set_name='null'):\n",
    "\n",
    "    data = data[indices_set,:]\n",
    "    label = label[indices_set,:]\n",
    "    \n",
    "    return data, label\n",
    "\n",
    "def save_matrix(data, label, outputdir, set_name='null'):\n",
    "    outputdir_set = outputdir+set_name+'/'\n",
    "\n",
    "    if not os.path.exists(outputdir_set):\n",
    "        os.makedirs(outputdir_set)\n",
    "\n",
    "    data_saver(data, 'data', outputdir_set)\n",
    "    data_saver(label, 'label', outputdir_set)"
   ]
  },
  {
   "cell_type": "code",
   "execution_count": 25,
   "id": "f47c0c15-e419-41aa-a20a-821b42cb98ab",
   "metadata": {},
   "outputs": [
    {
     "name": "stdout",
     "output_type": "stream",
     "text": [
      "all ids_TRAIN [73480623.0 19312553.0 98103432.0 97089353.0 19436462.0 98787743.0\n",
      " 54100639.0 20640827.0 19842177.0 20904667.0 97859403.0 36156984.0\n",
      " 18519592.0 92188717.0 17965902.0 92490977.0 19447301.0 97653051.0\n",
      " 21356796.0 98067166.0 36329109.0 98380222.0 96308703.0 98127026.0\n",
      " 92860511.0 98453868.0 38378004.0 19117138.0 62364416.0 97793074.0\n",
      " 65068059.0 17673991.0 91467072.0 98803800.0 64157912.0 97138527.0\n",
      " 17404872.0 97708915.0 99079771.0 87350242.0 65614444.0 98419798.0\n",
      " 97727051.0 52106922.0 98639605.0 97663818.0 99548188.0 98567550.0\n",
      " 19075716.0 99005226.0 21276391.0 19161013.0 19316064.0 41218734.0\n",
      " 34757419.0 24098042.0 95082807.0 54787439.0 94731333.0 17424575.0\n",
      " 46154427.0 95661380.0 38061020.0 99078675.0 99070642.0 97780479.0\n",
      " 40561264.0 18366736.0 98772987.0 98228128.0 90981321.0 98468663.0\n",
      " 97966859.0 98390195.0 99822591.0 17227955.0 46724501.0 34250416.0\n",
      " 17522047.0 18148343.0 17675200.0 95572378.0 41003140.0 60784059.0\n",
      " 99519764.0 96564957.0 17653723.0 98348081.0 18449385.0 98544270.0\n",
      " 18568053.0 95158610.0 21425507.0 90421051.0 19842107.0 93883866.0\n",
      " 99673502.0 18356638.0 25252987.0 41124407.0 34104013.0 99040955.0\n",
      " 35424754.0 18844926.0 72742604.0 95371874.0 38808413.0 17227145.0\n",
      " 47835238.0 48621167.0 19349653.0 19225481.0 18576257.0 98770148.0\n",
      " 37954415.0 94520539.0 94166433.0 99015265.0 97379641.0 46728582.0\n",
      " 43966304.0 19061487.0 93351156.0 19139649.0 98772642.0 18799874.0\n",
      " 17334232.0 85366226.0 43411922.0 27872372.0 98090712.0 17333046.0\n",
      " 99456705.0 17665122.0 93518202.0 17552977.0 99820357.0 48866770.0\n",
      " 38214133.0 21501437.0 99802885.0 99084508.0 96083850.0 88882601.0\n",
      " 99093478.0 97242782.0 95029311.0 17445541.0 19011249.0 99668958.0\n",
      " 65817728.0 17206677.0 90871135.0 21206728.0 19267735.0 97349384.0\n",
      " 96526427.0 42210676.0 17693562.0 54432418.0 98689697.0 98613140.0\n",
      " 98728743.0 98386151.0 56700978.0 27568895.0 26416848.0 45892700.0\n",
      " 66223397.0 98895389.0 98420707.0 45017463.0 41843273.0 19158277.0\n",
      " 17307450.0 97438294.0 97935583.0 62750802.0 98115366.0 94252873.0\n",
      " 99896068.0 18941005.0 99868623.0 99044930.0 44116972.0 18266603.0\n",
      " 93597967.0 47625977.0 78269176.0 17262667.0 18997339.0 20648233.0\n",
      " 88328230.0 98259451.0 93155064.0 95167176.0 95616070.0 17930832.0\n",
      " 98293187.0 94231920.0 99322275.0 98895364.0 21751529.0 55985203.0\n",
      " 98142394.0 48809378.0 17725395.0 92093468.0 32331309.0 93016318.0\n",
      " 18005096.0 90887032.0 94514285.0 17467574.0 17870724.0 98387097.0\n",
      " 37295334.0 18353915.0 58211340.0 44270572.0 48835436.0 97815738.0\n",
      " 44364854.0 94481285.0 51780511.0 97729985.0 97314391.0 18812822.0\n",
      " 97399506.0 96846089.0 18552694.0 96465778.0 17677569.0 17259651.0\n",
      " 97824971.0 98717392.0 50693729.0 21476996.0 42309851.0 17388520.0\n",
      " 35039925.0 66320389.0 75579073.0 95272236.0 41170814.0 98922225.0\n",
      " 56151391.0 98364586.0 56559456.0 98271118.0 20810624.0 99863632.0\n",
      " 47808498.0 93803792.0 23041161.0 17395882.0 97717519.0 98981161.0\n",
      " 98110204.0 20562044.0 66785115.0 74996262.0 28470606.0 98174944.0\n",
      " 97413647.0 30875007.0 98247961.0 94101866.0 98500801.0 99439702.0\n",
      " 57601675.0 97948893.0 32876151.0 42031303.0 98374189.0 98256264.0\n",
      " 98082658.0 99222912.0 19304256.0 36302088.0 88933117.0 99038764.0\n",
      " 96717574.0 98262755.0 98260860.0 92121011.0 90646355.0 95400046.0\n",
      " 38014981.0 99015468.0 98400026.0 94560074.0 77919030.0 99093025.0\n",
      " 18879224.0 19214180.0 98441360.0 72905974.0 99050677.0 17582033.0\n",
      " 69818337.0 56573893.0 93889557.0 88687510.0 90716601.0 95669652.0\n",
      " 97866623.0 99250695.0 98293845.0 17500287.0 98197107.0 94736507.0\n",
      " 69879373.0 20663233.0 34778546.0 56095754.0 19520230.0 58220217.0\n",
      " 19445525.0 21595234.0 38644937.0 92667802.0 98335549.0 19897928.0\n",
      " 90144779.0 96439154.0 95865392.0 97931568.0 31489372.0 21543052.0\n",
      " 18895783.0 68918037.0 91644444.0 17824812.0 68548040.0 17277879.0\n",
      " 96019364.0 98379562.0 44577496.0 97623840.0 60531525.0 98452962.0\n",
      " 98330423.0 17738840.0 95007155.0 40742407.0 93225449.0 63859944.0\n",
      " 33203828.0 98349506.0 22664887.0 51624501.0 81072527.0 98059675.0\n",
      " 98319137.0 37732925.0 99051400.0 62573614.0 93150926.0 98520750.0\n",
      " 28330466.0 35156984.0 93050727.0 96979942.0 69690593.0 92500741.0\n",
      " 32017598.0 42907546.0 99780823.0 93417631.0 70232952.0 98142068.0\n",
      " 18315978.0 17321863.0 91797651.0 98854194.0 98357561.0 61048241.0\n",
      " 97853338.0 96777253.0 98895497.0 98428542.0 18815498.0 18841894.0\n",
      " 18097761.0 52686159.0 17714500.0 50135403.0 38465567.0 99005393.0\n",
      " 98882005.0 96092540.0 52979809.0 18603133.0 98090915.0 77909126.0\n",
      " 17936518.0 60384636.0 98181923.0 96959529.0 26036009.0 95784827.0\n",
      " 29488776.0 98613256.0 99002331.0 19305137.0 43912265.0 21336885.0\n",
      " 93858012.0 97868868.0 47438986.0 18185336.0 39532370.0 19283105.0\n",
      " 27187942.0 98395728.0 19374351.0 47639096.0 27538059.0 97590301.0\n",
      " 95500426.0 94221303.0 19450069.0 98769235.0 92757184.0 70597053.0\n",
      " 98424761.0 18257167.0 98570481.0 19337965.0 95403035.0 97806493.0\n",
      " 17322342.0 99064157.0 44006035.0 96083540.0 97475062.0 73205200.0\n",
      " 92958413.0 26319659.0 38948964.0 98504531.0 99222293.0 98808003.0\n",
      " 64989761.0 50695224.0 18047785.0 41278968.0 97319113.0 98668157.0\n",
      " 18899362.0 51142363.0 18789776.0 99245059.0 70345227.0 88258280.0\n",
      " 78532833.0 89112677.0 92706023.0 95811839.0 97841439.0 98768915.0\n",
      " 18731358.0 97646549.0 98542133.0 17931852.0 32720854.0 19427488.0\n",
      " 17886108.0 98718156.0 97572293.0 31809741.0 98584765.0 97392043.0\n",
      " 98837951.0 98444371.0 97599820.0 97688463.0 98233916.0 98433271.0\n",
      " 90777872.0 17986505.0 98704372.0 99495448.0 93777129.0 97800255.0\n",
      " 98203748.0 51466364.0 18202143.0 98941613.0 98226107.0 35533735.0\n",
      " 20550318.0 19353184.0 81100279.0 92231323.0 17221899.0 33981616.0\n",
      " 97458670.0 24677616.0 27151624.0 96307684.0 18764291.0 19213719.0\n",
      " 92760547.0 98762438.0 98768913.0 92973418.0 98902060.0 60303539.0\n",
      " 98689358.0 32593974.0 77516994.0 98280899.0 39987029.0 18154939.0\n",
      " 98182626.0 98355609.0 91290645.0 98029439.0 46610339.0 97868102.0\n",
      " 97332216.0 69018670.0 90114888.0 92455392.0 29057411.0 99698223.0\n",
      " 31754684.0 18989984.0 17766459.0 94058620.0 93731412.0 19464188.0\n",
      " 98423716.0 71642632.0 93534313.0 97276102.0 43367565.0 95322027.0\n",
      " 97912822.0 98581976.0 98150616.0 18832131.0 93144142.0 21451472.0\n",
      " 19074660.0 92703958.0 98760679.0 49265665.0 19316665.0 17399536.0\n",
      " 97866725.0 19154240.0 91776838.0 99499753.0 97916340.0 95834625.0\n",
      " 92500573.0 19389747.0 18067017.0 17294161.0 97131757.0 89606266.0\n",
      " 97812609.0 90786535.0 94415072.0 89689282.0 48299863.0 45046928.0\n",
      " 97122950.0 93776360.0 97579509.0 98229756.0 97792068.0 28823357.0\n",
      " 92835458.0 97443651.0 97253177.0 19028754.0 17920001.0 18841315.0\n",
      " 44637391.0 97126188.0 18397226.0 68110051.0 21486238.0 90944956.0\n",
      " 40488966.0 18376267.0 96965715.0 98513565.0 98854531.0 64926932.0\n",
      " 63161640.0 90101080.0 92010893.0 17944375.0 18523690.0 95365756.0\n",
      " 97998347.0 77555300.0 18297885.0 98503335.0 91313539.0 33612118.0\n",
      " 18508966.0 92848224.0 34788336.0 97756970.0 92852273.0 95035000.0\n",
      " 92057045.0 91696706.0 90329321.0 98728738.0 26363085.0 18034908.0\n",
      " 57522230.0 17436577.0 44026024.0 18373324.0 96836892.0 18563953.0\n",
      " 53941222.0 90910524.0 98722679.0 94828683.0 97009155.0 76989247.0\n",
      " 19166391.0 93469367.0 19105978.0 98444863.0 98616659.0 98400134.0\n",
      " 62563916.0 92727103.0 70543964.0 17728721.0 98442122.0 18848162.0\n",
      " 19166329.0 18762551.0 98127288.0 93477116.0 93472989.0 48048540.0\n",
      " 95526250.0 89932370.0 98035541.0 31528766.0 98334086.0 98781156.0\n",
      " 23217927.0 92487908.0 19363876.0 17228864.0 19418437.0 17440190.0\n",
      " 99229022.0 52075398.0 18207979.0 71726630.0 98991089.0 18120913.0\n",
      " 95583739.0 44019699.0 97413070.0 98552740.0 17343509.0 19226488.0\n",
      " 17582050.0 18578668.0 95978538.0 92687863.0 96557003.0 20696450.0\n",
      " 18673718.0 73691297.0 92174575.0 97246248.0 96314867.0 98414775.0\n",
      " 99745855.0 91520706.0 97750505.0 92779097.0 77854983.0 19059603.0\n",
      " 25618634.0 21093800.0 19081110.0 99524428.0 20396519.0 31224119.0\n",
      " 18622950.0 35460618.0 97824984.0 65823462.0 17287682.0 48211724.0\n",
      " 97874497.0 17813201.0 17998674.0 97832194.0 31377811.0 29848248.0\n",
      " 19334542.0 98379986.0 20949209.0 98562788.0 34581514.0 99182996.0\n",
      " 91460077.0 17498174.0 19054332.0 49483390.0 97245688.0 44404403.0\n",
      " 63850979.0 96455456.0 47770372.0 19969486.0 98177444.0 17825868.0\n",
      " 55704353.0 18754544.0 93404305.0 98851549.0 44706517.0 18198319.0\n",
      " 20513374.0 17874136.0 17579717.0 92331808.0 98235700.0 97423464.0\n",
      " 23343145.0 59306836.0 67266563.0 55985732.0 95609519.0 96943472.0\n",
      " 34488669.0 69353438.0 99822563.0 98487531.0 20222927.0 68785972.0\n",
      " 48541268.0 18556755.0 24458832.0 98939822.0 45131071.0 17523016.0\n",
      " 91658028.0 97062975.0 91848315.0 41009456.0 99693728.0 92376927.0\n",
      " 38241726.0 18739248.0 57440025.0 98139648.0 35864840.0 21667362.0\n",
      " 97472623.0 76480891.0 26240142.0 38965220.0 97978440.0 17327037.0\n",
      " 97382607.0 98823816.0 96183574.0 98532101.0 99417314.0 25692454.0\n",
      " 96990695.0 21408816.0 91930568.0 97981466.0 39466771.0 18672328.0\n",
      " 89290955.0 99878985.0 18330273.0 99486882.0 98278297.0 17906877.0\n",
      " 98724309.0 25743070.0 32674294.0 98193174.0 32008502.0 31801485.0\n",
      " 93520698.0 18213400.0 97817715.0 97863640.0 19153610.0 98378119.0\n",
      " 17345347.0 98068579.0 92244905.0 96658903.0 19297809.0 19241472.0\n",
      " 97688449.0 17430873.0 63411272.0 78213004.0 46777814.0 97770499.0\n",
      " 94152153.0 98155091.0 18149160.0 94391411.0 31331475.0 65800269.0\n",
      " 64360946.0 68412905.0 92896126.0 74812789.0 60908077.0 90716634.0\n",
      " 18673145.0 80760246.0 19208054.0 89291455.0 97332128.0 98293002.0\n",
      " 89979512.0 99554229.0 21568247.0 18220950.0 98532086.0 18538691.0\n",
      " 98349985.0 67786134.0 18346319.0 18269623.0 40378863.0 17796438.0\n",
      " 96015006.0 97238044.0 92638108.0 98487686.0 68212266.0 64413386.0\n",
      " 99697510.0 98258611.0 18740022.0 98836866.0 34928537.0 18065607.0\n",
      " 98192986.0 19097595.0 91457011.0 24116275.0 98191792.0 18187981.0\n",
      " 93677229.0 83078305.0 93653655.0 19102707.0 32031097.0 98744319.0\n",
      " 21262700.0 99209367.0 98842451.0 48765334.0 95607992.0 19255384.0\n",
      " 86276249.0 47810199.0 97095981.0 96912812.0 32572628.0 69761246.0\n",
      " 18100876.0 93250463.0 97275792.0 98036385.0 90575937.0 93230105.0\n",
      " 17595204.0 64269056.0 26600280.0 98876244.0 40826373.0 17362262.0\n",
      " 30735638.0 50784617.0 19095428.0 61392318.0 95860702.0 96392340.0\n",
      " 97930643.0 97207099.0 34806400.0 19025828.0 98157148.0 45270420.0\n",
      " 47774868.0 89590326.0 97965663.0 79325995.0 30819065.0 18807047.0\n",
      " 33907075.0 89827431.0 97574162.0 33032272.0 98124746.0 98161460.0\n",
      " 38438492.0 18324878.0 91540152.0 18693788.0 88749644.0 93487489.0\n",
      " 93514039.0 36615988.0 98331758.0 98719658.0 99609940.0 98391127.0\n",
      " 90441965.0 19887403.0 99837847.0 18044316.0 97823612.0 69061796.0\n",
      " 91297891.0 45864274.0 17845192.0 17988780.0 97875130.0 88783252.0\n",
      " 97668020.0 1842529.0 55093015.0 85398226.0 32148695.0 42891886.0\n",
      " 98514285.0 47815317.0 96102328.0 18143845.0 25746745.0 98311913.0\n",
      " 98031555.0 19116039.0 98051517.0 22170245.0 97066728.0 18069403.0\n",
      " 98259025.0 66398465.0 42847307.0 19073994.0 89902600.0 18335481.0\n",
      " 94036616.0 19257128.0]\n",
      "all ids_TEST [99635355.0 98324687.0 98607360.0 98043862.0 98574499.0 98287282.0\n",
      " 97957671.0 98726856.0 97798471.0 28712644.0 19270987.0 91204547.0\n",
      " 17385332.0 93722281.0 19902014.0 35133846.0 97594916.0 82516262.0\n",
      " 97888234.0 97507276.0 17226231.0 18332688.0 93723958.0 27032774.0\n",
      " 20512302.0 89227500.0 99521551.0 98359835.0 99100145.0 98619073.0\n",
      " 95482374.0 93509030.0 19141266.0 98227596.0 70218925.0 96456195.0\n",
      " 19122286.0 19128044.0 93805009.0 29260354.0 98192801.0 93816493.0\n",
      " 24852742.0 35248848.0 98384780.0 64283102.0 98614607.0 19394793.0\n",
      " 40190150.0 95934391.0 96142627.0 17729992.0 98391874.0 98122745.0\n",
      " 97345691.0 27543872.0 19201414.0 71161439.0 18179461.0 99595109.0\n",
      " 98260829.0 59708879.0 18293429.0 97548570.0 98071444.0 94004164.0\n",
      " 89045544.0 18342878.0 97570186.0 98149520.0 17246006.0 46296723.0\n",
      " 94071700.0 96701549.0 68915895.0 96175191.0 34140568.0 99403751.0\n",
      " 27183158.0 18522165.0 25357606.0 21067391.0 98552745.0 65571558.0\n",
      " 98029127.0 19854012.0 98380003.0 99210306.0 32972327.0 41349313.0\n",
      " 46684066.0 50288089.0 97606224.0 95609270.0 98107234.0 53539923.0\n",
      " 98540981.0 98157295.0 96611618.0 18593746.0 24352097.0 17699014.0\n",
      " 98832904.0 39294867.0 94092631.0 97990308.0 99098194.0 98543955.0\n",
      " 38180111.0 92708635.0 94699851.0 98737928.0 93411890.0 97510439.0\n",
      " 61427780.0 96521319.0 25923576.0 98195165.0 97719741.0 41056965.0\n",
      " 98836252.0 72202687.0 57861964.0 70404835.0 63829228.0 95309479.0\n",
      " 41420640.0 93010749.0 19882955.0 96266416.0 90951184.0 90180845.0\n",
      " 93649486.0 96811638.0 97786460.0 40332972.0 61074250.0 18417361.0\n",
      " 18568175.0 91774613.0 94170489.0 96819453.0 98932154.0 68456795.0\n",
      " 64568346.0 18598007.0 18130363.0 97798319.0 66168637.0 98643367.0\n",
      " 22982779.0 43738848.0 45656067.0 98790148.0 18010600.0 93145166.0\n",
      " 37871949.0 98121792.0 17499101.0 94198479.0 98440950.0 97082054.0\n",
      " 89992867.0 99451600.0 99030429.0 92244441.0 95247071.0 54698234.0\n",
      " 99008156.0 17822226.0 47692036.0 47220970.0 24899945.0 19103844.0\n",
      " 18411052.0 97843719.0 98228329.0 93026846.0 46975254.0 98557650.0\n",
      " 18737440.0 93043622.0 18634055.0 98404899.0 98732817.0 18305410.0\n",
      " 18834759.0 18338244.0 98677988.0 95380482.0 18927919.0 20462058.0\n",
      " 17434588.0 92299470.0 19158380.0 70264942.0 17418125.0 98139191.0\n",
      " 99176493.0 97911966.0 94399832.0 24964967.0 98004932.0 18979534.0\n",
      " 36827154.0 99622959.0 94826350.0 90924493.0 96006437.0 20605935.0\n",
      " 17844510.0 93136245.0 52247321.0 96767452.0 98734993.0 98680474.0\n",
      " 93423421.0 76465476.0 98603281.0 67440291.0 98307769.0 19067239.0\n",
      " 97777327.0 98669962.0 98776762.0 90880383.0 89353109.0 97664002.0\n",
      " 99050642.0 19163330.0 97530047.0 97231694.0 17811900.0 17373157.0\n",
      " 19079336.0 93198197.0 91121258.0 98264596.0 18157937.0 18620527.0\n",
      " 99041158.0 19051332.0 19507082.0 17488143.0 63115936.0 98530027.0\n",
      " 48580898.0 20208286.0 41356327.0 18256341.0 99837947.0 96166508.0\n",
      " 78428046.0 98235535.0 95261014.0 96877454.0 17374576.0 98211447.0\n",
      " 18468895.0 96093019.0 98351801.0 89122241.0 93810787.0 95300870.0\n",
      " 63900614.0 97653268.0 18346821.0 91729340.0 97476287.0 21648257.0\n",
      " 18760872.0 39345330.0 64697029.0 97801053.0 20604057.0 18013586.0\n",
      " 98688514.0 69575794.0 20007815.0 44314453.0 38742292.0 98430622.0\n",
      " 98417716.0 19510861.0 93095147.0 98264569.0 98430103.0 17406327.0\n",
      " 98112787.0 21102256.0 92417611.0 17279384.0 94611514.0 97909431.0\n",
      " 17970079.0 92532311.0 97868714.0 99778334.0 97984145.0 97889311.0\n",
      " 92679925.0 55819415.0 19058812.0 98347047.0 91307350.0 63456371.0\n",
      " 18263940.0 91033675.0 96222267.0 18050692.0 30950585.0 18314057.0\n",
      " 17366830.0 98882816.0 54571947.0 29446647.0 31665049.0 18991439.0\n",
      " 95950912.0 29116757.0 97129150.0 31834774.0 93315921.0 19318863.0\n",
      " 98493121.0 98155698.0 18653234.0 55669220.0 30149595.0 95690695.0\n",
      " 90444997.0 92781354.0 96837444.0 98621035.0 98330489.0 98426331.0\n",
      " 94488938.0 97128265.0 98278072.0 99375365.0 97928832.0 97025435.0\n",
      " 92496985.0 21649191.0 19011203.0 17963973.0 68994604.0 95674076.0\n",
      " 65320528.0 32809650.0 18004656.0 98120175.0 37168809.0 92570982.0\n",
      " 98242216.0 20465252.0 17689540.0 19324380.0 95292982.0 99312666.0\n",
      " 97894006.0 31911827.0 24135548.0 19504915.0 91967773.0 97958556.0\n",
      " 99116928.0 18305096.0 93024569.0 17388618.0 98430403.0 95083900.0\n",
      " 47321811.0 78886023.0 18511030.0 19253957.0 90155946.0 51832269.0\n",
      " 51964189.0 69714758.0 89162443.0 98826453.0 99003030.0 35654858.0\n",
      " 95776044.0 98336341.0 73895577.0 92903937.0 99573367.0 98421499.0\n",
      " 18065151.0 93977475.0 39073794.0 91950031.0 97175504.0 18194129.0\n",
      " 92506165.0 17844079.0 93856249.0 50724670.0 93923593.0 18717004.0\n",
      " 17981752.0 53939533.0 89806850.0 21423018.0 64143659.0 98066953.0\n",
      " 64131424.0 19656906.0 97764315.0 92218835.0 93698562.0 98453664.0\n",
      " 55357199.0 85556279.0]\n"
     ]
    }
   ],
   "source": [
    "ids_all = np.unique(label[:, -1])\n",
    "N_sub = ids_all.shape[0]\n",
    "\n",
    "np.random.seed(i_seed)\n",
    "np.random.shuffle(ids_all)\n",
    "\n",
    "ids_TRAIN = ids_all[:int(N_sub*.7)]\n",
    "ids_TEST = ids_all[int(N_sub*.7):]\n",
    "\n",
    "# interpolated datapoints\n",
    "indices_TRAIN = get_indices_set(ids_TRAIN, label[:, -1])\n",
    "indices_TEST = get_indices_set(ids_TEST, label[:, -1])\n",
    "\n",
    "print('all ids_TRAIN', ids_TRAIN)\n",
    "print('all ids_TEST', ids_TEST)\n",
    "# print('will save to', outputdir)\n",
    "\n",
    "split_string = np.empty(data.shape[0], dtype=object)\n",
    "split_string[indices_TEST] = 'TEST'\n",
    "\n",
    "# print(data_TRAIN.shape, label_TRAIN.shape, data_TEST.shape, label_TEST.shape, )"
   ]
  },
  {
   "cell_type": "code",
   "execution_count": 26,
   "id": "672465ba-25f4-47aa-aec3-45299e099df0",
   "metadata": {},
   "outputs": [
    {
     "name": "stdout",
     "output_type": "stream",
     "text": [
      "\n",
      "\n",
      "KFold(n_splits=5, random_state=0, shuffle=True)\n",
      "----------------Splitting for rep 0, CV 0----------------\n",
      "Sub ID | TRAIN: (774,) VAL: (194,)\n",
      "index CV 0\n",
      "----------------Splitting for rep 0, CV 1----------------\n",
      "Sub ID | TRAIN: (774,) VAL: (194,)\n",
      "index CV 1\n",
      "----------------Splitting for rep 0, CV 2----------------\n",
      "Sub ID | TRAIN: (774,) VAL: (194,)\n",
      "index CV 2\n",
      "----------------Splitting for rep 0, CV 3----------------\n",
      "Sub ID | TRAIN: (775,) VAL: (193,)\n",
      "index CV 3\n",
      "----------------Splitting for rep 0, CV 4----------------\n",
      "Sub ID | TRAIN: (775,) VAL: (193,)\n",
      "index CV 4\n"
     ]
    }
   ],
   "source": [
    "from sklearn.model_selection import KFold\n",
    "\n",
    "CV_n = 5\n",
    "rep_n = 1\n",
    "\n",
    "kfold = CV_n\n",
    "\n",
    "for i_rep in range(rep_n):\n",
    "\n",
    "    print('\\n')\n",
    "    kf = KFold(n_splits=kfold, shuffle=True, random_state=i_seed+i_rep)\n",
    "    kf.get_n_splits(ids_TRAIN)\n",
    "    print(kf)  \n",
    "\n",
    "    for i_CV, (train_idx, val_idx) in enumerate(kf.split(ids_TRAIN)):\n",
    "        print('----------------Splitting for rep {}, CV {}----------------'.format(i_rep, i_CV))\n",
    "        print(\"Sub ID | TRAIN:\", np.sort(ids_TRAIN[train_idx]).shape, \"VAL:\", np.sort(ids_TRAIN[val_idx]).shape)\n",
    "        print('index CV', CV_n*i_rep+i_CV)\n",
    "\n",
    "        ids_train = ids_TRAIN[train_idx]\n",
    "        ids_val = ids_TRAIN[val_idx]\n",
    "\n",
    "        indices_CV = get_indices_set(ids_val, label[:, -1])\n",
    "        split_string[indices_CV] = 'TRAIN-CV{}'.format(i_CV)\n",
    "        \n",
    "        \n",
    "label = np.c_[label, split_string]\n",
    "list_label.append('split_name')"
   ]
  },
  {
   "cell_type": "code",
   "execution_count": null,
   "id": "c6f72a4a-560f-42da-a2d9-3a7eb6f8ada1",
   "metadata": {},
   "outputs": [],
   "source": []
  },
  {
   "cell_type": "code",
   "execution_count": null,
   "id": "1fee7bcb-6c37-4ebc-afb4-de5854db4a7a",
   "metadata": {},
   "outputs": [],
   "source": []
  },
  {
   "cell_type": "code",
   "execution_count": null,
   "id": "82f952df-df78-4522-b919-b1ca03ca1a71",
   "metadata": {},
   "outputs": [],
   "source": []
  },
  {
   "cell_type": "code",
   "execution_count": null,
   "id": "5d8c0c0d-1599-4903-ba83-5758ea428d17",
   "metadata": {},
   "outputs": [],
   "source": []
  },
  {
   "cell_type": "code",
   "execution_count": null,
   "id": "4d00cf04-1315-4bd8-bbd0-02df7962e1ef",
   "metadata": {},
   "outputs": [],
   "source": []
  },
  {
   "cell_type": "code",
   "execution_count": 27,
   "id": "de0940df-5dc1-496b-afb6-fbdafc468ebf",
   "metadata": {},
   "outputs": [],
   "source": [
    "data_saver(data, 'data', outputdir)\n",
    "data_saver(label, 'label', outputdir)"
   ]
  },
  {
   "cell_type": "code",
   "execution_count": null,
   "id": "bed107cc-531d-4bf3-b0fe-560e6a3152c0",
   "metadata": {},
   "outputs": [],
   "source": []
  },
  {
   "cell_type": "code",
   "execution_count": null,
   "id": "fef8c0d2-c8a5-49ae-920e-62320883aacc",
   "metadata": {},
   "outputs": [],
   "source": []
  },
  {
   "cell_type": "code",
   "execution_count": null,
   "id": "7da46f0d-f570-478e-9b8b-4a6396fc078b",
   "metadata": {},
   "outputs": [],
   "source": []
  },
  {
   "cell_type": "code",
   "execution_count": 28,
   "id": "104a93bc-f6bb-4b42-84c7-22b091e1fa64",
   "metadata": {},
   "outputs": [
    {
     "data": {
      "text/plain": [
       "{'list_label': ['spo2', 'sao2', 'Race String', 'PAT_ID', 'split_name'],\n",
       " 'FS_RESAMPLE': 100,\n",
       " 'window_duration': 8.0}"
      ]
     },
     "execution_count": 28,
     "metadata": {},
     "output_type": "execute_result"
    }
   ],
   "source": [
    "dataset_dict = {}\n",
    "\n",
    "dataset_dict['list_label'] = list_label\n",
    "dataset_dict['FS_RESAMPLE'] = FS_RESAMPLE\n",
    "dataset_dict['window_duration'] = data.shape[1]/FS_RESAMPLE\n",
    "\n",
    "dataset_dict"
   ]
  },
  {
   "cell_type": "code",
   "execution_count": 29,
   "id": "5ffd353e-cc0a-41cd-8d9f-88a45f7d9b7f",
   "metadata": {},
   "outputs": [
    {
     "data": {
      "text/plain": [
       "'../../data/stage3_DL_prepare/'"
      ]
     },
     "execution_count": 29,
     "metadata": {},
     "output_type": "execute_result"
    }
   ],
   "source": [
    "outputdir"
   ]
  },
  {
   "cell_type": "code",
   "execution_count": 30,
   "id": "1561b4be-aba8-4193-a823-aa3e7a40f4c6",
   "metadata": {},
   "outputs": [],
   "source": [
    "data_saver(dataset_dict, 'dataset_dict', outputdir)\n"
   ]
  },
  {
   "cell_type": "code",
   "execution_count": null,
   "id": "cc59ae22-2b54-473a-a65d-fc0e87e69c99",
   "metadata": {},
   "outputs": [],
   "source": []
  },
  {
   "cell_type": "code",
   "execution_count": 31,
   "id": "b9235b1b-4270-4098-8234-2debfca98057",
   "metadata": {},
   "outputs": [
    {
     "name": "stdout",
     "output_type": "stream",
     "text": [
      "done\n"
     ]
    }
   ],
   "source": [
    "print('done')"
   ]
  },
  {
   "cell_type": "code",
   "execution_count": 32,
   "id": "f1cc7898-acee-45d4-8471-388e01506688",
   "metadata": {},
   "outputs": [
    {
     "ename": "SystemExit",
     "evalue": "",
     "output_type": "error",
     "traceback": [
      "An exception has occurred, use %tb to see the full traceback.\n",
      "\u001b[0;31mSystemExit\u001b[0m\n"
     ]
    },
    {
     "name": "stderr",
     "output_type": "stream",
     "text": [
      "/opt/rh/rh-python38/root/usr/local/lib/python3.8/site-packages/IPython/core/interactiveshell.py:3348: UserWarning: To exit: use 'exit', 'quit', or Ctrl-D.\n",
      "  warn(\"To exit: use 'exit', 'quit', or Ctrl-D.\", stacklevel=1)\n"
     ]
    }
   ],
   "source": [
    "sys.exit()"
   ]
  },
  {
   "cell_type": "code",
   "execution_count": null,
   "id": "d572aede-1e5b-428a-a44a-955f187911f3",
   "metadata": {},
   "outputs": [],
   "source": []
  },
  {
   "cell_type": "code",
   "execution_count": null,
   "id": "6445bc6b-5ec4-4db3-970c-ab746ff34464",
   "metadata": {},
   "outputs": [],
   "source": []
  },
  {
   "cell_type": "code",
   "execution_count": null,
   "id": "a9cb9170-9ad7-4cf2-b54a-3cf6ff1812d2",
   "metadata": {},
   "outputs": [],
   "source": []
  },
  {
   "cell_type": "code",
   "execution_count": null,
   "id": "15933b1c-6563-41b7-99f4-8ec0431955b2",
   "metadata": {},
   "outputs": [],
   "source": []
  },
  {
   "cell_type": "code",
   "execution_count": null,
   "id": "bf88c12f-8daf-47fe-b8f6-a4fb2cf80f62",
   "metadata": {},
   "outputs": [],
   "source": []
  },
  {
   "cell_type": "code",
   "execution_count": null,
   "id": "5e29ede6-37ae-4533-88ab-d74ab57d098e",
   "metadata": {},
   "outputs": [],
   "source": []
  },
  {
   "cell_type": "code",
   "execution_count": null,
   "id": "8b5162ab-4f29-44cb-8f54-15465c13d83c",
   "metadata": {},
   "outputs": [],
   "source": []
  },
  {
   "cell_type": "code",
   "execution_count": null,
   "id": "4da77167-99ce-4939-a66c-31f26373b180",
   "metadata": {},
   "outputs": [],
   "source": []
  },
  {
   "cell_type": "code",
   "execution_count": null,
   "id": "c3c534db-03f6-4afe-8c67-67c3f45aee1b",
   "metadata": {},
   "outputs": [],
   "source": []
  },
  {
   "cell_type": "code",
   "execution_count": null,
   "id": "4f899189-368a-48c9-83e8-37b568279d38",
   "metadata": {},
   "outputs": [],
   "source": []
  },
  {
   "cell_type": "code",
   "execution_count": null,
   "id": "ab639f92-95ac-4d29-ba88-13dcef680289",
   "metadata": {},
   "outputs": [],
   "source": []
  },
  {
   "cell_type": "code",
   "execution_count": null,
   "id": "f781201e-738e-49b0-ad9a-f016d0536b77",
   "metadata": {},
   "outputs": [],
   "source": []
  },
  {
   "cell_type": "code",
   "execution_count": null,
   "id": "c6f7d507-dce0-4e9c-96f8-d168b58247e8",
   "metadata": {},
   "outputs": [],
   "source": []
  },
  {
   "cell_type": "code",
   "execution_count": null,
   "id": "002afcf4-330f-4daf-af8b-125c994a4c55",
   "metadata": {},
   "outputs": [],
   "source": []
  },
  {
   "cell_type": "code",
   "execution_count": null,
   "id": "e467f132-76e2-46a1-b821-4d5d158683d0",
   "metadata": {},
   "outputs": [],
   "source": [
    "np.unique(label[:,-1]).shape"
   ]
  },
  {
   "cell_type": "code",
   "execution_count": null,
   "id": "c9b6d58b-1153-4a41-a204-43723e2b1c3e",
   "metadata": {},
   "outputs": [],
   "source": [
    "plt.scatter(label[:,0], label[:,1])"
   ]
  },
  {
   "cell_type": "code",
   "execution_count": null,
   "id": "c24b7ef8-9eba-48f0-85c0-da6ef85f0525",
   "metadata": {},
   "outputs": [],
   "source": []
  },
  {
   "cell_type": "code",
   "execution_count": null,
   "id": "1c453f8e-8fce-4363-b552-f76856c9ba69",
   "metadata": {},
   "outputs": [],
   "source": []
  },
  {
   "cell_type": "code",
   "execution_count": null,
   "id": "5c856c93-d0a2-4eb4-940e-af8548746cb5",
   "metadata": {},
   "outputs": [],
   "source": [
    "df_demographic_processed = pd.read_csv(inputdir+'df_demographic_processed.csv.gz')  \n",
    "df_demographic_processed"
   ]
  },
  {
   "cell_type": "code",
   "execution_count": null,
   "id": "b157705f-0fce-4f53-8071-e606d0254d2e",
   "metadata": {},
   "outputs": [],
   "source": []
  },
  {
   "cell_type": "code",
   "execution_count": null,
   "id": "4ac76fe3-c83e-47cf-a3ce-e02d7f52cd25",
   "metadata": {},
   "outputs": [],
   "source": []
  },
  {
   "cell_type": "code",
   "execution_count": null,
   "id": "6fdac27b-99ae-457a-8bd1-47326b39c08f",
   "metadata": {},
   "outputs": [],
   "source": [
    "np.unique(label[:,-1]).shape"
   ]
  },
  {
   "cell_type": "code",
   "execution_count": null,
   "id": "b5f7290f-c074-47c6-a088-3ecd4c16256a",
   "metadata": {},
   "outputs": [],
   "source": [
    "data_train = data[indices_train, :]\n",
    "label_train = label[indices_train, :]\n",
    "\n",
    "data_val = data[indices_val, :]\n",
    "label_val = label[indices_val, :]\n",
    "\n",
    "data_val = data[indices_val, :]\n",
    "label_val = label[indices_val, :]\n"
   ]
  },
  {
   "cell_type": "code",
   "execution_count": null,
   "id": "c9c1dcc6-6632-4611-8e38-f460a5a8c0ee",
   "metadata": {},
   "outputs": [],
   "source": [
    "data_train, label_train = get_samples(inputdir, 'train/', training_params)\n",
    "data_val, label_val = get_samples(inputdir, 'val/', training_params)\n"
   ]
  },
  {
   "cell_type": "code",
   "execution_count": null,
   "id": "fb4b8b2f-3442-487e-b208-cd7bb93dce0e",
   "metadata": {},
   "outputs": [],
   "source": []
  },
  {
   "cell_type": "code",
   "execution_count": null,
   "id": "d524fcd1-ef1b-41cf-8c0e-958933935a61",
   "metadata": {},
   "outputs": [],
   "source": [
    "data.shape"
   ]
  },
  {
   "cell_type": "code",
   "execution_count": null,
   "id": "7b090f4e-dcf3-4fdc-942a-4461976f5081",
   "metadata": {},
   "outputs": [],
   "source": [
    "plt.plot(data[np.random.randint(data.shape[0]), :])"
   ]
  },
  {
   "cell_type": "code",
   "execution_count": null,
   "id": "8b1181d3-107a-400a-badc-5951b8877935",
   "metadata": {},
   "outputs": [],
   "source": []
  },
  {
   "cell_type": "code",
   "execution_count": null,
   "id": "6cdbafd7-7d30-46c2-9c63-2767ba455a35",
   "metadata": {},
   "outputs": [],
   "source": []
  },
  {
   "cell_type": "code",
   "execution_count": null,
   "id": "4ec992a9-6d42-4fa2-84d1-957a4b8d5c33",
   "metadata": {},
   "outputs": [],
   "source": []
  },
  {
   "cell_type": "code",
   "execution_count": null,
   "id": "7d1a9a41-6407-4162-982a-fed01410b827",
   "metadata": {},
   "outputs": [],
   "source": [
    "for filename in os.listdir(inputdir):\n",
    "    pass"
   ]
  },
  {
   "cell_type": "code",
   "execution_count": null,
   "id": "0fb11a38-fba8-432b-b1dd-6791ce775ce4",
   "metadata": {},
   "outputs": [],
   "source": []
  },
  {
   "cell_type": "code",
   "execution_count": null,
   "id": "43857f15-6c29-4c16-93c6-4e9a6bb4030b",
   "metadata": {},
   "outputs": [],
   "source": [
    "with open(training_params_file) as json_file:\n",
    "    training_params_list = json.load(json_file)\n",
    "\n",
    "for training_params in [training_params_list[0]]:\n",
    "    # include device in training_params\n",
    "    device = torch.device('cuda:{}'.format(int(training_params['cuda_i'])) if torch.cuda.is_available() else 'cpu')\n",
    "    training_params['device'] = device\n",
    "    \n",
    "    if 'training_mode' in training_params:\n",
    "        training_mode = training_params['training_mode']\n",
    "    else:\n",
    "        training_params = 'subject_ind'\n",
    "\n",
    "    training_params['CV_config'] = {\n",
    "        'subject_id': 113,\n",
    "#         'task_id': 5,\n",
    "    }\n",
    "    # stage3_dict = data_loader('stage3_dict', inputdir).item()\n",
    "    # training_params['list_signal'] = stage3_dict['list_signal']\n",
    "    # training_params['list_feature'] = stage3_dict['list_feature']\n",
    "    # training_params['list_output'] = stage3_dict['list_output']\n",
    "    # training_params['list_meta'] = stage3_dict['list_meta']\n",
    "    training_params['FS_RESAMPLE_DL'] = 100\n",
    "    # training_params['subject_ids'] = stage3_dict['subject_ids']\n",
    "    # training_params['task_ids'] = stage3_dict['task_ids']\n",
    "    # training_params['sequence'] = stage3_dict['sequence']\n",
    "    \n",
    "    dataloaders, dataset_sizes = get_loaders(inputdir, training_params)\n",
    "    print('data dimensions are:', dataloaders['train'].dataset.data.shape)\n",
    "\n",
    "    data_dimensions = dataloaders['train'].dataset.__getitem__(0)[0].size()\n",
    "    training_params['data_dimensions'] = list(data_dimensions)\n",
    "    del dataloaders\n",
    "\n",
    "    sweep_name = training_params['sweep_name'] \n",
    "    \n",
    "    if training_params['model_name'] == 'FeatureExtractor_CNN':\n",
    "        training_params['featrue_extractor'] = FeatureExtractor_CNN\n",
    "    elif training_params['model_name'] == 'ResNet1D':\n",
    "        training_params['featrue_extractor'] = ResNet1D\n",
    "    elif training_params['model_name'] == 'FeatureExtractor_CNN2':\n",
    "        training_params['featrue_extractor'] = FeatureExtractor_CNN2\n",
    "\n",
    "    training_params['ordered_subject_ids'] = np.asarray(training_params['ordered_subject_ids'])\n",
    "#       \"ordered_subject_ids\": [101, 103, 104, 106, 107, 110, 111, 115, 116, 117, 118, 119, 120, 121, 113],\n",
    "\n",
    "    \n",
    "    training_params['inputdir'] = inputdir\n",
    "    training_params['outputdir'] = outputdir\n",
    "    \n",
    "    training_params = get_regressor_names(training_params)\n",
    "\n",
    "    if 'LSTM' in training_params['model_name']:\n",
    "        training_params = change_output_dim(training_params)\n",
    "\n",
    "        \n",
    "\n",
    "    model_out_names = get_model_out_names(training_params)\n",
    "    training_params['model_out_names'] = model_out_names\n",
    "    \n",
    "    \n",
    "    # integer encode\n",
    "    label_encoder = LabelEncoder()\n",
    "    modality_encoded = label_encoder.fit_transform(training_params['input_names'])\n",
    "#     modality_encoded # array([0, 1])\n",
    "\n",
    "    modality_dict = {}\n",
    "    for i_modality in modality_encoded:\n",
    "        modality_dict[training_params['input_names'][i_modality]] = i_modality\n",
    "    training_params['modality_dict'] = modality_dict\n",
    "\n",
    "    training_params['FS_Extracted'] = training_params['FS_RESAMPLE_DL'] / (training_params['stride']**training_params['n_block'])\n",
    "\n",
    "    \n",
    "    \n",
    "    last_layer_dim = training_params['data_dimensions'][-1]\n",
    "    for n in range(training_params['n_block']):\n",
    "        last_layer_dim = round(last_layer_dim/training_params['stride'])\n",
    "\n",
    "    training_params['last_layer_dim'] = last_layer_dim\n",
    "    xf = np.linspace(0.0, 1.0/2.0*training_params['FS_Extracted'] , training_params['last_layer_dim']//2)*60    \n",
    "    mask = (xf>=label_range_dict['HR_DL'][0]) & (xf<=label_range_dict['HR_DL'][1])\n",
    "\n",
    "    training_params['xf'] = xf\n",
    "    training_params['xf_masked'] = xf[mask]\n",
    "    training_params['mask'] = mask\n",
    "\n",
    "# training_params = training_params_list[0]"
   ]
  },
  {
   "cell_type": "code",
   "execution_count": null,
   "id": "395224bd-f24b-4799-9cb6-dc625bc42403",
   "metadata": {},
   "outputs": [],
   "source": []
  },
  {
   "cell_type": "code",
   "execution_count": null,
   "id": "02fbad1f-df67-4006-b636-668933da81a3",
   "metadata": {},
   "outputs": [],
   "source": []
  },
  {
   "cell_type": "code",
   "execution_count": null,
   "id": "7c90887b-6183-4537-a988-2d49030919d3",
   "metadata": {},
   "outputs": [],
   "source": []
  },
  {
   "cell_type": "markdown",
   "id": "0d2a9740-a03d-4242-b8be-937529b17886",
   "metadata": {
    "tags": []
   },
   "source": [
    "# test model"
   ]
  },
  {
   "cell_type": "code",
   "execution_count": null,
   "id": "7b10157f-d289-424c-86f3-4009e7adca72",
   "metadata": {},
   "outputs": [],
   "source": []
  },
  {
   "cell_type": "code",
   "execution_count": null,
   "id": "e0da7568",
   "metadata": {},
   "outputs": [],
   "source": [
    "def test_model_lstm(training_params):\n",
    "    print('test_model_lstm')\n",
    "\n",
    "    print('using model ', training_params['model_name'])\n",
    "\n",
    "    # prepare model\n",
    "    model = resp_multiverse(training_params=training_params)\n",
    "    model = model.to(device).float()\n",
    "\n",
    "    # prepare data\n",
    "    dataloaders, dataset_sizes = get_loaders(inputdir, training_params)\n",
    "\n",
    "    data = dataloaders['val'].dataset.data[:5,:,:]\n",
    "    data = torch.from_numpy(data)\n",
    "\n",
    "    feature = dataloaders['val'].dataset.feature[:5,:]\n",
    "    feature = torch.from_numpy(feature)\n",
    "\n",
    "    label = dataloaders['val'].dataset.label[:5,:]\n",
    "    label = torch.from_numpy(label)\n",
    "\n",
    "    data = data.to(device=device, dtype=torch.float)\n",
    "    feature = feature.to(device=device, dtype=torch.float)\n",
    "    label = label.to(device=device, dtype=torch.float)\n",
    "\n",
    "    # model inference\n",
    "    out = model(data, feature)\n",
    "\n",
    "    # compute loss\n",
    "    criterion = MultiTaskLoss(training_params)\n",
    "    losses = criterion(out, label)\n",
    "\n",
    "    # check losses\n",
    "    print(losses)\n",
    "    del model\n",
    "\n",
    "    \n",
    "def test_model(training_params):\n",
    "    print('test_model')\n",
    "\n",
    "    print('using model ', training_params['model_name'])\n",
    "\n",
    "    model = resp_multiverse(training_params=training_params)\n",
    "    summary(model, input_size=[tuple(training_params['data_dimensions']), (model.N_features,1)], device='cpu')\n",
    "    print(model)\n",
    "    del model\n",
    "    \n",
    "def test_model_dann(training_params):\n",
    "    print('test_model_dann')\n",
    "    print('using model ', training_params['model_name'])\n",
    "\n",
    "    model = resp_DANN(training_params=training_params)\n",
    "    print(model)\n",
    "\n",
    "    summary(model, input_size=[tuple(training_params['data_dimensions']), (model.N_features,1)], device='cpu')\n",
    "    del model\n",
    "\n",
    "\n",
    "\n",
    "debug_model = False\n",
    "if debug_model==True:\n",
    "    if 'LSTM' in training_params['model_name']:\n",
    "        test_model_lstm(training_params)\n",
    "    elif 'DANN' not in training_params['model_name']:\n",
    "        test_model(training_params)\n",
    "    else:\n",
    "        test_model_dann(training_params)\n"
   ]
  },
  {
   "cell_type": "code",
   "execution_count": null,
   "id": "e6501132-47dc-4aad-bf3e-d54181da9bcf",
   "metadata": {},
   "outputs": [],
   "source": []
  },
  {
   "cell_type": "code",
   "execution_count": null,
   "id": "d0e73996-7c03-4cbe-bad0-56f6b3f25a86",
   "metadata": {},
   "outputs": [],
   "source": []
  },
  {
   "cell_type": "code",
   "execution_count": null,
   "id": "2f0df5a7-34d2-418e-82d4-0e65d4db64d4",
   "metadata": {},
   "outputs": [],
   "source": []
  },
  {
   "cell_type": "code",
   "execution_count": null,
   "id": "98a2f827-f4a2-4361-8f48-f88749291d85",
   "metadata": {},
   "outputs": [],
   "source": [
    "\n",
    "\n"
   ]
  },
  {
   "cell_type": "code",
   "execution_count": null,
   "id": "4e777522-19e6-4db0-96d5-0ce151be8195",
   "metadata": {},
   "outputs": [],
   "source": []
  },
  {
   "cell_type": "code",
   "execution_count": null,
   "id": "4d0687a4-7938-4113-8b9f-ff614b96823b",
   "metadata": {},
   "outputs": [],
   "source": []
  },
  {
   "cell_type": "code",
   "execution_count": null,
   "id": "0812002b-3454-4d30-bf7c-0adc4505f09b",
   "metadata": {},
   "outputs": [],
   "source": []
  },
  {
   "cell_type": "code",
   "execution_count": null,
   "id": "b7b16da8-20f9-4ca4-8c4c-1ee525cc2bf8",
   "metadata": {},
   "outputs": [],
   "source": []
  },
  {
   "cell_type": "code",
   "execution_count": null,
   "id": "12adf142-431c-45cd-bb71-c08e98085fb4",
   "metadata": {},
   "outputs": [],
   "source": []
  },
  {
   "cell_type": "code",
   "execution_count": null,
   "id": "39e8e028-643d-4647-991a-0cb4f19c0206",
   "metadata": {},
   "outputs": [],
   "source": []
  },
  {
   "cell_type": "code",
   "execution_count": null,
   "id": "c4587914-5cd6-4bfb-a6d1-e5285620d0a3",
   "metadata": {},
   "outputs": [],
   "source": []
  },
  {
   "cell_type": "code",
   "execution_count": null,
   "id": "c2c7771e-fece-489a-923e-c087603c85d1",
   "metadata": {},
   "outputs": [],
   "source": []
  },
  {
   "cell_type": "code",
   "execution_count": null,
   "id": "403f6e4d-b63a-457c-a4e7-129d434d8aa4",
   "metadata": {},
   "outputs": [],
   "source": []
  },
  {
   "cell_type": "code",
   "execution_count": null,
   "id": "1d51587a-ab17-41f7-8774-2e613d347299",
   "metadata": {},
   "outputs": [],
   "source": []
  },
  {
   "cell_type": "code",
   "execution_count": null,
   "id": "9fe2f8fc-88a5-42ab-a6ea-3a3b59c6c340",
   "metadata": {},
   "outputs": [],
   "source": []
  },
  {
   "cell_type": "code",
   "execution_count": null,
   "id": "98423264-2bb1-46ce-88f8-ab943055e968",
   "metadata": {},
   "outputs": [],
   "source": [
    "sys.exit()"
   ]
  },
  {
   "cell_type": "code",
   "execution_count": null,
   "id": "6e79f596-092b-4bcc-9362-0cede3a8b5f0",
   "metadata": {},
   "outputs": [],
   "source": [
    "\n"
   ]
  },
  {
   "cell_type": "code",
   "execution_count": null,
   "id": "660f6ce2-b6c4-4173-bac8-0111159b45bb",
   "metadata": {},
   "outputs": [],
   "source": [
    "df_demographic_processed = pd.read_csv(inputdir+'df_demographic_processed.csv.gz')  \n",
    "df_demographic_processed['deBedTime'].unique().shape"
   ]
  },
  {
   "cell_type": "code",
   "execution_count": null,
   "id": "f4945a7c-66a9-4a22-a8d2-44b56f989049",
   "metadata": {},
   "outputs": [],
   "source": []
  },
  {
   "cell_type": "code",
   "execution_count": null,
   "id": "5f455688-88bb-4034-9f0a-efcef96063d7",
   "metadata": {},
   "outputs": [],
   "source": []
  },
  {
   "cell_type": "code",
   "execution_count": null,
   "id": "bd482255-c466-48cf-a2e6-6183abfd1f33",
   "metadata": {},
   "outputs": [],
   "source": [
    "for index, row in df_demographic_processed.iterrows():\n",
    "    continue"
   ]
  },
  {
   "cell_type": "code",
   "execution_count": null,
   "id": "2341cbdb-3222-422f-9990-65c5bc183b9c",
   "metadata": {},
   "outputs": [],
   "source": [
    "waveform_dir = row['waveform_dir']"
   ]
  },
  {
   "cell_type": "code",
   "execution_count": null,
   "id": "6ab36714-7df9-45e8-a16f-36770bf818e8",
   "metadata": {},
   "outputs": [],
   "source": [
    "df_bed = pd.read_csv(waveform_dir)  \n"
   ]
  },
  {
   "cell_type": "code",
   "execution_count": null,
   "id": "1786cb7c-2f72-411f-989c-400f40d7d140",
   "metadata": {},
   "outputs": [],
   "source": [
    "df_bed"
   ]
  },
  {
   "cell_type": "code",
   "execution_count": null,
   "id": "084d5b6b-ef9a-4ee2-a5ed-365c8ab33296",
   "metadata": {},
   "outputs": [],
   "source": [
    "plt.plot(df_bed['I'][:5000])å"
   ]
  },
  {
   "cell_type": "code",
   "execution_count": null,
   "id": "26294eff",
   "metadata": {},
   "outputs": [],
   "source": []
  },
  {
   "cell_type": "code",
   "execution_count": null,
   "id": "7a079245-1b97-4b12-978a-6cd54c9f2048",
   "metadata": {},
   "outputs": [],
   "source": []
  },
  {
   "cell_type": "code",
   "execution_count": null,
   "id": "e6c2c936-12d8-45cf-b2bf-97617921f699",
   "metadata": {},
   "outputs": [],
   "source": [
    "# /plt.plot(df_bed['SPO2'].values)"
   ]
  },
  {
   "cell_type": "code",
   "execution_count": null,
   "id": "6d7ba89d-ae66-4f25-9a24-9866b2e12510",
   "metadata": {},
   "outputs": [],
   "source": []
  },
  {
   "cell_type": "code",
   "execution_count": null,
   "id": "37fc6422-970d-4d54-9c55-b6b1cb7d4048",
   "metadata": {},
   "outputs": [],
   "source": []
  },
  {
   "cell_type": "code",
   "execution_count": null,
   "id": "3747a396-cda7-4bfc-aabd-04e500a39308",
   "metadata": {},
   "outputs": [],
   "source": [
    "waveform_dir"
   ]
  },
  {
   "cell_type": "code",
   "execution_count": null,
   "id": "e3db60d4-433e-4327-924f-0ed13304caa9",
   "metadata": {},
   "outputs": [],
   "source": [
    "sig_segments = df_bed2PPGmatrix(df_bed)\n"
   ]
  },
  {
   "cell_type": "code",
   "execution_count": null,
   "id": "73507762-eae2-403e-aa96-bf4678882c0f",
   "metadata": {},
   "outputs": [],
   "source": [
    "\n",
    "\n",
    "data_saver(sig_segments, 'sig_segment_A035-0519626285_0000_7581', '../../data/stage1/waveform/')\n"
   ]
  },
  {
   "cell_type": "code",
   "execution_count": null,
   "id": "cf23f070-bfff-4769-a11b-739b190490ff",
   "metadata": {},
   "outputs": [],
   "source": [
    "data_saver(sig_segments, 'sig_segment_A035-0519626285_0000_7581', '../../data/stage1/waveform/')\n",
    "sig_segments = data_loader('sig_segment_A035-0519626285_0000_7581', '../../data/stage1/waveform/')\n"
   ]
  },
  {
   "cell_type": "code",
   "execution_count": null,
   "id": "10f85bce-94b4-469a-9b88-4ea866c5b1b1",
   "metadata": {},
   "outputs": [],
   "source": []
  },
  {
   "cell_type": "code",
   "execution_count": null,
   "id": "330ab721-fa80-4b1e-a4a8-781f067731f1",
   "metadata": {},
   "outputs": [],
   "source": [
    "plt.plot(sig_segments[:,0])"
   ]
  },
  {
   "cell_type": "code",
   "execution_count": null,
   "id": "4657744d-ee23-4ae8-bb21-6672d3123659",
   "metadata": {},
   "outputs": [],
   "source": []
  },
  {
   "cell_type": "code",
   "execution_count": null,
   "id": "4d497889-4fce-40bb-8f90-e05905e017a9",
   "metadata": {},
   "outputs": [],
   "source": [
    "plt.plot(sig_segments[:,1])"
   ]
  },
  {
   "cell_type": "code",
   "execution_count": null,
   "id": "81279bae-30af-436d-bc7d-8846e6f930fe",
   "metadata": {},
   "outputs": [],
   "source": [
    "sig_segments[:,0].std()"
   ]
  },
  {
   "cell_type": "code",
   "execution_count": null,
   "id": "3820eaf3-af1f-4f31-b1d2-8cf057cedad0",
   "metadata": {},
   "outputs": [],
   "source": []
  },
  {
   "cell_type": "code",
   "execution_count": null,
   "id": "e2c51002-c91b-4ed9-8e54-5a6afb5a5424",
   "metadata": {},
   "outputs": [],
   "source": []
  },
  {
   "cell_type": "code",
   "execution_count": null,
   "id": "ce5ae4ab-557e-433b-a084-e113baf442ed",
   "metadata": {},
   "outputs": [],
   "source": []
  },
  {
   "cell_type": "code",
   "execution_count": null,
   "id": "f9e00360-7350-4dc1-a34a-225711ac8b18",
   "metadata": {},
   "outputs": [],
   "source": []
  },
  {
   "cell_type": "code",
   "execution_count": null,
   "id": "48f137cb",
   "metadata": {},
   "outputs": [],
   "source": [
    "df = get_filt_df(df_bed, Fs)\n",
    "plt.plot(df['SPO2'].values[-5000:])"
   ]
  },
  {
   "cell_type": "code",
   "execution_count": null,
   "id": "3337f31a-8ed2-4e5b-94a9-a527b7946d51",
   "metadata": {},
   "outputs": [],
   "source": [
    "# df['SPO2'].values.std()"
   ]
  },
  {
   "cell_type": "code",
   "execution_count": null,
   "id": "812c6de8-6c52-4a74-b57e-cb7916c52f66",
   "metadata": {},
   "outputs": [],
   "source": [
    "# signal_matrix = "
   ]
  },
  {
   "cell_type": "code",
   "execution_count": null,
   "id": "ddb85b11",
   "metadata": {},
   "outputs": [],
   "source": []
  },
  {
   "cell_type": "code",
   "execution_count": null,
   "id": "80797d29-6f0a-4650-bbd8-3a02905e9057",
   "metadata": {},
   "outputs": [],
   "source": [
    "# segment_df"
   ]
  },
  {
   "cell_type": "code",
   "execution_count": null,
   "id": "f3009839",
   "metadata": {},
   "outputs": [],
   "source": [
    "# \n"
   ]
  },
  {
   "cell_type": "code",
   "execution_count": null,
   "id": "ead6acc4",
   "metadata": {},
   "outputs": [],
   "source": []
  },
  {
   "cell_type": "code",
   "execution_count": null,
   "id": "14c3b382",
   "metadata": {},
   "outputs": [],
   "source": []
  },
  {
   "cell_type": "code",
   "execution_count": null,
   "id": "ee8b9f1e",
   "metadata": {},
   "outputs": [],
   "source": []
  }
 ],
 "metadata": {
  "kernelspec": {
   "display_name": "Python 3 (ipykernel)",
   "language": "python",
   "name": "python3"
  },
  "language_info": {
   "codemirror_mode": {
    "name": "ipython",
    "version": 3
   },
   "file_extension": ".py",
   "mimetype": "text/x-python",
   "name": "python",
   "nbconvert_exporter": "python",
   "pygments_lexer": "ipython3",
   "version": "3.8.11"
  }
 },
 "nbformat": 4,
 "nbformat_minor": 5
}
