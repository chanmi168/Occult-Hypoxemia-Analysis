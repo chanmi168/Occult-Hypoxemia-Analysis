{
 "cells": [
  {
   "cell_type": "markdown",
   "id": "25793c03",
   "metadata": {},
   "source": [
    "# Iterating through all patients in all years to find peep>5"
   ]
  },
  {
   "cell_type": "code",
   "execution_count": 1,
   "id": "1ac6bba4",
   "metadata": {},
   "outputs": [],
   "source": [
    "import pandas as pd\n",
    "from datetime import datetime\n",
    "import os\n",
    "import pickle\n",
    "from datetime import timedelta\n",
    "from datetime import datetime\n",
    "from datetime import date\n",
    "from datetime import time\n",
    "from dateutil.relativedelta import relativedelta\n",
    "\n",
    "import pandas as pd\n",
    "import numpy as np\n",
    "import os\n",
    "\n",
    "import json\n",
    "\n",
    "import sys\n",
    "from scipy.io import loadmat\n",
    "\n",
    "import matplotlib\n",
    "import matplotlib.pyplot as plt\n",
    "plt.style.use('seaborn-white')\n",
    "matplotlib.rc( 'savefig', facecolor = 'white' )\n",
    "from matplotlib import pyplot\n",
    "import matplotlib.ticker as plticker\n",
    "\n",
    "import seaborn as sns\n",
    "from matplotlib.cm import ScalarMappable\n",
    "\n",
    "\n",
    "import sys\n",
    "sys.path.append('../') # add this line so Data and data are visible in this file\n",
    "sys.path.append('../../') # add this line so Data and data are visible in this file\n",
    "sys.path.append('../PhysioMC/') # add this line so Data and data are visible in this file\n",
    "\n",
    "# from PatchWand import *\n",
    "from filters import *\n",
    "from setting import *\n",
    "# from preprocessing import *\n",
    "from ECG_module import *\n",
    "from dataIO import *\n",
    "from evaluate import *\n",
    "from stage1_PPG_analysis import *\n",
    "from plotting_tools import *\n",
    "\n",
    "from importlib import reload\n",
    "%load_ext autoreload\n",
    "%autoreload 2"
   ]
  },
  {
   "cell_type": "code",
   "execution_count": null,
   "id": "76124baf-3971-451b-b49f-66c4909ff768",
   "metadata": {},
   "outputs": [],
   "source": []
  },
  {
   "cell_type": "code",
   "execution_count": null,
   "id": "daa98f2f-2a31-41fc-8260-6257748b44fa",
   "metadata": {},
   "outputs": [],
   "source": [
    "# import torch\n",
    "# from torch.utils.data import Dataset, DataLoader\n",
    "# import torch.nn as nn\n",
    "# import torch.nn.functional as F\n",
    "# import torchvision\n",
    "# from torchvision import transforms, datasets, models\n",
    "# # from torchsummary import summary\n",
    "# torch.manual_seed(0)\n",
    "\n",
    "# print(torch.version.cuda)\n",
    "# print(torch.cuda.is_available())"
   ]
  },
  {
   "cell_type": "code",
   "execution_count": null,
   "id": "1900e03c-4685-4a3d-bc4c-7c9e1cbdf2c6",
   "metadata": {},
   "outputs": [],
   "source": []
  },
  {
   "cell_type": "code",
   "execution_count": 2,
   "id": "b3ed2501",
   "metadata": {},
   "outputs": [],
   "source": [
    "# selected_id = 10"
   ]
  },
  {
   "cell_type": "code",
   "execution_count": 3,
   "id": "8c93df87",
   "metadata": {
    "tags": []
   },
   "outputs": [
    {
     "data": {
      "text/plain": [
       "'/labs/kamaleswaranlab/Sepsis3_062321/mchan_analysis/disparities_O2/repo/stage3_DL_RepLearn'"
      ]
     },
     "execution_count": 3,
     "metadata": {},
     "output_type": "execute_result"
    }
   ],
   "source": [
    "%pwd"
   ]
  },
  {
   "cell_type": "code",
   "execution_count": 4,
   "id": "95c122e7-2bd1-4ae2-a8b2-ea73d6004231",
   "metadata": {},
   "outputs": [],
   "source": [
    "# %pip install statannot\n"
   ]
  },
  {
   "cell_type": "code",
   "execution_count": 5,
   "id": "c1082f8d-abe1-4ed3-b4bd-7042f6111d0d",
   "metadata": {},
   "outputs": [],
   "source": [
    "# from statannot import add_stat_annotation\n"
   ]
  },
  {
   "cell_type": "code",
   "execution_count": 6,
   "id": "98a2f827-f4a2-4361-8f48-f88749291d85",
   "metadata": {},
   "outputs": [],
   "source": [
    "inputdir = '../../data/stage1/waveform/'\n",
    "\n",
    "\n",
    "outputdir = '../../data/stage3_DL_RepLearn/'\n",
    "if not os.path.exists(outputdir):\n",
    "    os.makedirs(outputdir)"
   ]
  },
  {
   "cell_type": "code",
   "execution_count": null,
   "id": "6e79f596-092b-4bcc-9362-0cede3a8b5f0",
   "metadata": {},
   "outputs": [],
   "source": []
  },
  {
   "cell_type": "code",
   "execution_count": 7,
   "id": "cdd359f6-834e-41aa-89c6-01e3cd1f220d",
   "metadata": {},
   "outputs": [
    {
     "data": {
      "text/html": [
       "<div>\n",
       "<style scoped>\n",
       "    .dataframe tbody tr th:only-of-type {\n",
       "        vertical-align: middle;\n",
       "    }\n",
       "\n",
       "    .dataframe tbody tr th {\n",
       "        vertical-align: top;\n",
       "    }\n",
       "\n",
       "    .dataframe thead th {\n",
       "        text-align: right;\n",
       "    }\n",
       "</style>\n",
       "<table border=\"1\" class=\"dataframe\">\n",
       "  <thead>\n",
       "    <tr style=\"text-align: right;\">\n",
       "      <th></th>\n",
       "      <th>deBedTime</th>\n",
       "      <th>DateStart</th>\n",
       "      <th>DateEnd</th>\n",
       "      <th>PAT_ID</th>\n",
       "      <th>BED_LOCATION_START</th>\n",
       "      <th>BED_LOCATION_END</th>\n",
       "      <th>White</th>\n",
       "      <th>Black</th>\n",
       "      <th>Race String</th>\n",
       "      <th>Time Difference</th>\n",
       "      <th>Time Found</th>\n",
       "      <th>True Time Found</th>\n",
       "      <th>CSN Exist Flag</th>\n",
       "      <th>CSN</th>\n",
       "      <th>BED Time Difference</th>\n",
       "      <th>spo2</th>\n",
       "      <th>sao2</th>\n",
       "      <th>times</th>\n",
       "      <th>waveform_dir</th>\n",
       "      <th>index</th>\n",
       "    </tr>\n",
       "  </thead>\n",
       "  <tbody>\n",
       "    <tr>\n",
       "      <th>0</th>\n",
       "      <td>A140-0515603029</td>\n",
       "      <td>2018-01-10 16:50:29</td>\n",
       "      <td>2018-01-10 19:03:47</td>\n",
       "      <td>94166433.0</td>\n",
       "      <td>2018-01-10 16:50:12</td>\n",
       "      <td>2018-01-18 21:15:32</td>\n",
       "      <td>True</td>\n",
       "      <td>False</td>\n",
       "      <td>Caucasian or White</td>\n",
       "      <td>-1531.0</td>\n",
       "      <td>2018-01-10 17:16:00</td>\n",
       "      <td>2017-12-18 21:16:00</td>\n",
       "      <td>True</td>\n",
       "      <td>4.991014e+10</td>\n",
       "      <td>7998.0</td>\n",
       "      <td>96.0</td>\n",
       "      <td>92.4</td>\n",
       "      <td>2018-01-10 18:16:00</td>\n",
       "      <td>../../data/stage1/waveform/df_waveform_A140-05...</td>\n",
       "      <td>1</td>\n",
       "    </tr>\n",
       "    <tr>\n",
       "      <th>1</th>\n",
       "      <td>A140-0515620983</td>\n",
       "      <td>2018-01-10 21:49:43</td>\n",
       "      <td>2018-01-21 21:51:58</td>\n",
       "      <td>94166433.0</td>\n",
       "      <td>2018-01-10 16:50:12</td>\n",
       "      <td>2018-01-18 21:15:32</td>\n",
       "      <td>True</td>\n",
       "      <td>False</td>\n",
       "      <td>Caucasian or White</td>\n",
       "      <td>-1577.0</td>\n",
       "      <td>2018-01-10 22:16:00</td>\n",
       "      <td>2017-12-18 21:16:00</td>\n",
       "      <td>True</td>\n",
       "      <td>4.991014e+10</td>\n",
       "      <td>950535.0</td>\n",
       "      <td>95.0</td>\n",
       "      <td>93.9</td>\n",
       "      <td>2018-01-10 22:16:00</td>\n",
       "      <td>../../data/stage1/waveform/df_waveform_A140-05...</td>\n",
       "      <td>2</td>\n",
       "    </tr>\n",
       "    <tr>\n",
       "      <th>2</th>\n",
       "      <td>A140-0515620983</td>\n",
       "      <td>2018-01-10 21:49:43</td>\n",
       "      <td>2018-01-21 21:51:58</td>\n",
       "      <td>94166433.0</td>\n",
       "      <td>2018-01-10 16:50:12</td>\n",
       "      <td>2018-01-18 21:15:32</td>\n",
       "      <td>True</td>\n",
       "      <td>False</td>\n",
       "      <td>Caucasian or White</td>\n",
       "      <td>-1577.0</td>\n",
       "      <td>2018-01-10 22:16:00</td>\n",
       "      <td>2017-12-18 21:16:00</td>\n",
       "      <td>True</td>\n",
       "      <td>4.991014e+10</td>\n",
       "      <td>950535.0</td>\n",
       "      <td>94.0</td>\n",
       "      <td>93.9</td>\n",
       "      <td>2018-01-10 23:16:00</td>\n",
       "      <td>../../data/stage1/waveform/df_waveform_A140-05...</td>\n",
       "      <td>3</td>\n",
       "    </tr>\n",
       "    <tr>\n",
       "      <th>3</th>\n",
       "      <td>A140-0515620983</td>\n",
       "      <td>2018-01-10 21:49:43</td>\n",
       "      <td>2018-01-21 21:51:58</td>\n",
       "      <td>94166433.0</td>\n",
       "      <td>2018-01-10 16:50:12</td>\n",
       "      <td>2018-01-18 21:15:32</td>\n",
       "      <td>True</td>\n",
       "      <td>False</td>\n",
       "      <td>Caucasian or White</td>\n",
       "      <td>-1577.0</td>\n",
       "      <td>2018-01-10 22:16:00</td>\n",
       "      <td>2017-12-18 21:16:00</td>\n",
       "      <td>True</td>\n",
       "      <td>4.991014e+10</td>\n",
       "      <td>950535.0</td>\n",
       "      <td>93.5</td>\n",
       "      <td>93.9</td>\n",
       "      <td>2018-01-11 00:16:00</td>\n",
       "      <td>../../data/stage1/waveform/df_waveform_A140-05...</td>\n",
       "      <td>4</td>\n",
       "    </tr>\n",
       "    <tr>\n",
       "      <th>4</th>\n",
       "      <td>A140-0515620983</td>\n",
       "      <td>2018-01-10 21:49:43</td>\n",
       "      <td>2018-01-21 21:51:58</td>\n",
       "      <td>94166433.0</td>\n",
       "      <td>2018-01-10 16:50:12</td>\n",
       "      <td>2018-01-18 21:15:32</td>\n",
       "      <td>True</td>\n",
       "      <td>False</td>\n",
       "      <td>Caucasian or White</td>\n",
       "      <td>-1577.0</td>\n",
       "      <td>2018-01-10 22:16:00</td>\n",
       "      <td>2017-12-18 21:16:00</td>\n",
       "      <td>True</td>\n",
       "      <td>4.991014e+10</td>\n",
       "      <td>950535.0</td>\n",
       "      <td>92.0</td>\n",
       "      <td>93.9</td>\n",
       "      <td>2018-01-11 01:16:00</td>\n",
       "      <td>../../data/stage1/waveform/df_waveform_A140-05...</td>\n",
       "      <td>5</td>\n",
       "    </tr>\n",
       "    <tr>\n",
       "      <th>...</th>\n",
       "      <td>...</td>\n",
       "      <td>...</td>\n",
       "      <td>...</td>\n",
       "      <td>...</td>\n",
       "      <td>...</td>\n",
       "      <td>...</td>\n",
       "      <td>...</td>\n",
       "      <td>...</td>\n",
       "      <td>...</td>\n",
       "      <td>...</td>\n",
       "      <td>...</td>\n",
       "      <td>...</td>\n",
       "      <td>...</td>\n",
       "      <td>...</td>\n",
       "      <td>...</td>\n",
       "      <td>...</td>\n",
       "      <td>...</td>\n",
       "      <td>...</td>\n",
       "      <td>...</td>\n",
       "      <td>...</td>\n",
       "    </tr>\n",
       "    <tr>\n",
       "      <th>4863</th>\n",
       "      <td>A028-0516988524</td>\n",
       "      <td>2018-01-26 17:42:04</td>\n",
       "      <td>2018-02-03 20:36:01</td>\n",
       "      <td>99524428.0</td>\n",
       "      <td>2018-01-26 12:55:17</td>\n",
       "      <td>2018-02-18 13:17:42</td>\n",
       "      <td>False</td>\n",
       "      <td>True</td>\n",
       "      <td>African American  or Black</td>\n",
       "      <td>-56.0</td>\n",
       "      <td>2018-01-26 17:43:00</td>\n",
       "      <td>2018-01-14 20:43:00</td>\n",
       "      <td>True</td>\n",
       "      <td>5.749926e+10</td>\n",
       "      <td>701637.0</td>\n",
       "      <td>100.0</td>\n",
       "      <td>95.5</td>\n",
       "      <td>2018-02-02 22:43:00</td>\n",
       "      <td>../../data/stage1/waveform/df_waveform_A028-05...</td>\n",
       "      <td>7577</td>\n",
       "    </tr>\n",
       "    <tr>\n",
       "      <th>4864</th>\n",
       "      <td>A035-0519626285</td>\n",
       "      <td>2018-02-26 06:24:45</td>\n",
       "      <td>2018-03-01 21:51:57</td>\n",
       "      <td>99524428.0</td>\n",
       "      <td>2018-02-26 01:27:28</td>\n",
       "      <td>2018-03-01 16:41:10</td>\n",
       "      <td>False</td>\n",
       "      <td>True</td>\n",
       "      <td>African American  or Black</td>\n",
       "      <td>-1095.0</td>\n",
       "      <td>2018-02-26 06:43:00</td>\n",
       "      <td>2018-01-14 20:43:00</td>\n",
       "      <td>True</td>\n",
       "      <td>5.749926e+10</td>\n",
       "      <td>314832.0</td>\n",
       "      <td>98.0</td>\n",
       "      <td>96.1</td>\n",
       "      <td>2018-02-26 06:43:00</td>\n",
       "      <td>../../data/stage1/waveform/df_waveform_A035-05...</td>\n",
       "      <td>7578</td>\n",
       "    </tr>\n",
       "    <tr>\n",
       "      <th>4865</th>\n",
       "      <td>A035-0519626285</td>\n",
       "      <td>2018-02-26 06:24:45</td>\n",
       "      <td>2018-03-01 21:51:57</td>\n",
       "      <td>99524428.0</td>\n",
       "      <td>2018-02-26 01:27:28</td>\n",
       "      <td>2018-03-01 16:41:10</td>\n",
       "      <td>False</td>\n",
       "      <td>True</td>\n",
       "      <td>African American  or Black</td>\n",
       "      <td>-1095.0</td>\n",
       "      <td>2018-02-26 06:43:00</td>\n",
       "      <td>2018-01-14 20:43:00</td>\n",
       "      <td>True</td>\n",
       "      <td>5.749926e+10</td>\n",
       "      <td>314832.0</td>\n",
       "      <td>99.0</td>\n",
       "      <td>96.1</td>\n",
       "      <td>2018-02-26 07:43:00</td>\n",
       "      <td>../../data/stage1/waveform/df_waveform_A035-05...</td>\n",
       "      <td>7579</td>\n",
       "    </tr>\n",
       "    <tr>\n",
       "      <th>4866</th>\n",
       "      <td>A035-0519626285</td>\n",
       "      <td>2018-02-26 06:24:45</td>\n",
       "      <td>2018-03-01 21:51:57</td>\n",
       "      <td>99524428.0</td>\n",
       "      <td>2018-02-26 01:27:28</td>\n",
       "      <td>2018-03-01 16:41:10</td>\n",
       "      <td>False</td>\n",
       "      <td>True</td>\n",
       "      <td>African American  or Black</td>\n",
       "      <td>-1095.0</td>\n",
       "      <td>2018-02-26 06:43:00</td>\n",
       "      <td>2018-01-14 20:43:00</td>\n",
       "      <td>True</td>\n",
       "      <td>5.749926e+10</td>\n",
       "      <td>314832.0</td>\n",
       "      <td>97.0</td>\n",
       "      <td>96.1</td>\n",
       "      <td>2018-02-26 08:43:00</td>\n",
       "      <td>../../data/stage1/waveform/df_waveform_A035-05...</td>\n",
       "      <td>7580</td>\n",
       "    </tr>\n",
       "    <tr>\n",
       "      <th>4867</th>\n",
       "      <td>A035-0519626285</td>\n",
       "      <td>2018-02-26 06:24:45</td>\n",
       "      <td>2018-03-01 21:51:57</td>\n",
       "      <td>99524428.0</td>\n",
       "      <td>2018-02-26 01:27:28</td>\n",
       "      <td>2018-03-01 16:41:10</td>\n",
       "      <td>False</td>\n",
       "      <td>True</td>\n",
       "      <td>African American  or Black</td>\n",
       "      <td>-1095.0</td>\n",
       "      <td>2018-02-26 06:43:00</td>\n",
       "      <td>2018-01-14 20:43:00</td>\n",
       "      <td>True</td>\n",
       "      <td>5.749926e+10</td>\n",
       "      <td>314832.0</td>\n",
       "      <td>97.0</td>\n",
       "      <td>96.1</td>\n",
       "      <td>2018-02-26 09:43:00</td>\n",
       "      <td>../../data/stage1/waveform/df_waveform_A035-05...</td>\n",
       "      <td>7581</td>\n",
       "    </tr>\n",
       "  </tbody>\n",
       "</table>\n",
       "<p>4868 rows × 20 columns</p>\n",
       "</div>"
      ],
      "text/plain": [
       "            deBedTime            DateStart              DateEnd      PAT_ID  \\\n",
       "0     A140-0515603029  2018-01-10 16:50:29  2018-01-10 19:03:47  94166433.0   \n",
       "1     A140-0515620983  2018-01-10 21:49:43  2018-01-21 21:51:58  94166433.0   \n",
       "2     A140-0515620983  2018-01-10 21:49:43  2018-01-21 21:51:58  94166433.0   \n",
       "3     A140-0515620983  2018-01-10 21:49:43  2018-01-21 21:51:58  94166433.0   \n",
       "4     A140-0515620983  2018-01-10 21:49:43  2018-01-21 21:51:58  94166433.0   \n",
       "...               ...                  ...                  ...         ...   \n",
       "4863  A028-0516988524  2018-01-26 17:42:04  2018-02-03 20:36:01  99524428.0   \n",
       "4864  A035-0519626285  2018-02-26 06:24:45  2018-03-01 21:51:57  99524428.0   \n",
       "4865  A035-0519626285  2018-02-26 06:24:45  2018-03-01 21:51:57  99524428.0   \n",
       "4866  A035-0519626285  2018-02-26 06:24:45  2018-03-01 21:51:57  99524428.0   \n",
       "4867  A035-0519626285  2018-02-26 06:24:45  2018-03-01 21:51:57  99524428.0   \n",
       "\n",
       "       BED_LOCATION_START     BED_LOCATION_END  White  Black  \\\n",
       "0     2018-01-10 16:50:12  2018-01-18 21:15:32   True  False   \n",
       "1     2018-01-10 16:50:12  2018-01-18 21:15:32   True  False   \n",
       "2     2018-01-10 16:50:12  2018-01-18 21:15:32   True  False   \n",
       "3     2018-01-10 16:50:12  2018-01-18 21:15:32   True  False   \n",
       "4     2018-01-10 16:50:12  2018-01-18 21:15:32   True  False   \n",
       "...                   ...                  ...    ...    ...   \n",
       "4863  2018-01-26 12:55:17  2018-02-18 13:17:42  False   True   \n",
       "4864  2018-02-26 01:27:28  2018-03-01 16:41:10  False   True   \n",
       "4865  2018-02-26 01:27:28  2018-03-01 16:41:10  False   True   \n",
       "4866  2018-02-26 01:27:28  2018-03-01 16:41:10  False   True   \n",
       "4867  2018-02-26 01:27:28  2018-03-01 16:41:10  False   True   \n",
       "\n",
       "                     Race String  Time Difference           Time Found  \\\n",
       "0             Caucasian or White          -1531.0  2018-01-10 17:16:00   \n",
       "1             Caucasian or White          -1577.0  2018-01-10 22:16:00   \n",
       "2             Caucasian or White          -1577.0  2018-01-10 22:16:00   \n",
       "3             Caucasian or White          -1577.0  2018-01-10 22:16:00   \n",
       "4             Caucasian or White          -1577.0  2018-01-10 22:16:00   \n",
       "...                          ...              ...                  ...   \n",
       "4863  African American  or Black            -56.0  2018-01-26 17:43:00   \n",
       "4864  African American  or Black          -1095.0  2018-02-26 06:43:00   \n",
       "4865  African American  or Black          -1095.0  2018-02-26 06:43:00   \n",
       "4866  African American  or Black          -1095.0  2018-02-26 06:43:00   \n",
       "4867  African American  or Black          -1095.0  2018-02-26 06:43:00   \n",
       "\n",
       "          True Time Found  CSN Exist Flag           CSN  BED Time Difference  \\\n",
       "0     2017-12-18 21:16:00            True  4.991014e+10               7998.0   \n",
       "1     2017-12-18 21:16:00            True  4.991014e+10             950535.0   \n",
       "2     2017-12-18 21:16:00            True  4.991014e+10             950535.0   \n",
       "3     2017-12-18 21:16:00            True  4.991014e+10             950535.0   \n",
       "4     2017-12-18 21:16:00            True  4.991014e+10             950535.0   \n",
       "...                   ...             ...           ...                  ...   \n",
       "4863  2018-01-14 20:43:00            True  5.749926e+10             701637.0   \n",
       "4864  2018-01-14 20:43:00            True  5.749926e+10             314832.0   \n",
       "4865  2018-01-14 20:43:00            True  5.749926e+10             314832.0   \n",
       "4866  2018-01-14 20:43:00            True  5.749926e+10             314832.0   \n",
       "4867  2018-01-14 20:43:00            True  5.749926e+10             314832.0   \n",
       "\n",
       "       spo2  sao2                times  \\\n",
       "0      96.0  92.4  2018-01-10 18:16:00   \n",
       "1      95.0  93.9  2018-01-10 22:16:00   \n",
       "2      94.0  93.9  2018-01-10 23:16:00   \n",
       "3      93.5  93.9  2018-01-11 00:16:00   \n",
       "4      92.0  93.9  2018-01-11 01:16:00   \n",
       "...     ...   ...                  ...   \n",
       "4863  100.0  95.5  2018-02-02 22:43:00   \n",
       "4864   98.0  96.1  2018-02-26 06:43:00   \n",
       "4865   99.0  96.1  2018-02-26 07:43:00   \n",
       "4866   97.0  96.1  2018-02-26 08:43:00   \n",
       "4867   97.0  96.1  2018-02-26 09:43:00   \n",
       "\n",
       "                                           waveform_dir  index  \n",
       "0     ../../data/stage1/waveform/df_waveform_A140-05...      1  \n",
       "1     ../../data/stage1/waveform/df_waveform_A140-05...      2  \n",
       "2     ../../data/stage1/waveform/df_waveform_A140-05...      3  \n",
       "3     ../../data/stage1/waveform/df_waveform_A140-05...      4  \n",
       "4     ../../data/stage1/waveform/df_waveform_A140-05...      5  \n",
       "...                                                 ...    ...  \n",
       "4863  ../../data/stage1/waveform/df_waveform_A028-05...   7577  \n",
       "4864  ../../data/stage1/waveform/df_waveform_A035-05...   7578  \n",
       "4865  ../../data/stage1/waveform/df_waveform_A035-05...   7579  \n",
       "4866  ../../data/stage1/waveform/df_waveform_A035-05...   7580  \n",
       "4867  ../../data/stage1/waveform/df_waveform_A035-05...   7581  \n",
       "\n",
       "[4868 rows x 20 columns]"
      ]
     },
     "execution_count": 7,
     "metadata": {},
     "output_type": "execute_result"
    }
   ],
   "source": [
    "df_demographic_processed = pd.read_csv(inputdir+'df_demographic_processed.csv.gz')  \n",
    "df_demographic_processed"
   ]
  },
  {
   "cell_type": "code",
   "execution_count": null,
   "id": "f4945a7c-66a9-4a22-a8d2-44b56f989049",
   "metadata": {},
   "outputs": [],
   "source": []
  },
  {
   "cell_type": "code",
   "execution_count": null,
   "id": "5f455688-88bb-4034-9f0a-efcef96063d7",
   "metadata": {},
   "outputs": [],
   "source": []
  },
  {
   "cell_type": "code",
   "execution_count": 8,
   "id": "bd482255-c466-48cf-a2e6-6183abfd1f33",
   "metadata": {},
   "outputs": [],
   "source": [
    "for index, row in df_demographic_processed.iterrows():\n",
    "    continue"
   ]
  },
  {
   "cell_type": "code",
   "execution_count": 9,
   "id": "2341cbdb-3222-422f-9990-65c5bc183b9c",
   "metadata": {},
   "outputs": [],
   "source": [
    "waveform_dir = row['waveform_dir']"
   ]
  },
  {
   "cell_type": "code",
   "execution_count": 10,
   "id": "6ab36714-7df9-45e8-a16f-36770bf818e8",
   "metadata": {},
   "outputs": [],
   "source": [
    "df_bed = pd.read_csv(waveform_dir)  \n"
   ]
  },
  {
   "cell_type": "code",
   "execution_count": 11,
   "id": "1786cb7c-2f72-411f-989c-400f40d7d140",
   "metadata": {},
   "outputs": [
    {
     "data": {
      "text/html": [
       "<div>\n",
       "<style scoped>\n",
       "    .dataframe tbody tr th:only-of-type {\n",
       "        vertical-align: middle;\n",
       "    }\n",
       "\n",
       "    .dataframe tbody tr th {\n",
       "        vertical-align: top;\n",
       "    }\n",
       "\n",
       "    .dataframe thead th {\n",
       "        text-align: right;\n",
       "    }\n",
       "</style>\n",
       "<table border=\"1\" class=\"dataframe\">\n",
       "  <thead>\n",
       "    <tr style=\"text-align: right;\">\n",
       "      <th></th>\n",
       "      <th>I</th>\n",
       "      <th>SPO2</th>\n",
       "      <th>time</th>\n",
       "    </tr>\n",
       "  </thead>\n",
       "  <tbody>\n",
       "    <tr>\n",
       "      <th>0</th>\n",
       "      <td>0.00732</td>\n",
       "      <td>3.755</td>\n",
       "      <td>11775.000000</td>\n",
       "    </tr>\n",
       "    <tr>\n",
       "      <th>1</th>\n",
       "      <td>0.00976</td>\n",
       "      <td>3.745</td>\n",
       "      <td>11775.004167</td>\n",
       "    </tr>\n",
       "    <tr>\n",
       "      <th>2</th>\n",
       "      <td>0.01708</td>\n",
       "      <td>3.745</td>\n",
       "      <td>11775.008333</td>\n",
       "    </tr>\n",
       "    <tr>\n",
       "      <th>3</th>\n",
       "      <td>0.02196</td>\n",
       "      <td>3.735</td>\n",
       "      <td>11775.012500</td>\n",
       "    </tr>\n",
       "    <tr>\n",
       "      <th>4</th>\n",
       "      <td>0.02440</td>\n",
       "      <td>3.735</td>\n",
       "      <td>11775.016667</td>\n",
       "    </tr>\n",
       "    <tr>\n",
       "      <th>...</th>\n",
       "      <td>...</td>\n",
       "      <td>...</td>\n",
       "      <td>...</td>\n",
       "    </tr>\n",
       "    <tr>\n",
       "      <th>57595</th>\n",
       "      <td>-0.03904</td>\n",
       "      <td>4.180</td>\n",
       "      <td>12014.979167</td>\n",
       "    </tr>\n",
       "    <tr>\n",
       "      <th>57596</th>\n",
       "      <td>-0.01708</td>\n",
       "      <td>4.160</td>\n",
       "      <td>12014.983333</td>\n",
       "    </tr>\n",
       "    <tr>\n",
       "      <th>57597</th>\n",
       "      <td>-0.00732</td>\n",
       "      <td>4.140</td>\n",
       "      <td>12014.987500</td>\n",
       "    </tr>\n",
       "    <tr>\n",
       "      <th>57598</th>\n",
       "      <td>-0.00488</td>\n",
       "      <td>4.140</td>\n",
       "      <td>12014.991667</td>\n",
       "    </tr>\n",
       "    <tr>\n",
       "      <th>57599</th>\n",
       "      <td>-0.00488</td>\n",
       "      <td>4.125</td>\n",
       "      <td>12014.995833</td>\n",
       "    </tr>\n",
       "  </tbody>\n",
       "</table>\n",
       "<p>57600 rows × 3 columns</p>\n",
       "</div>"
      ],
      "text/plain": [
       "             I   SPO2          time\n",
       "0      0.00732  3.755  11775.000000\n",
       "1      0.00976  3.745  11775.004167\n",
       "2      0.01708  3.745  11775.008333\n",
       "3      0.02196  3.735  11775.012500\n",
       "4      0.02440  3.735  11775.016667\n",
       "...        ...    ...           ...\n",
       "57595 -0.03904  4.180  12014.979167\n",
       "57596 -0.01708  4.160  12014.983333\n",
       "57597 -0.00732  4.140  12014.987500\n",
       "57598 -0.00488  4.140  12014.991667\n",
       "57599 -0.00488  4.125  12014.995833\n",
       "\n",
       "[57600 rows x 3 columns]"
      ]
     },
     "execution_count": 11,
     "metadata": {},
     "output_type": "execute_result"
    }
   ],
   "source": [
    "df_bed"
   ]
  },
  {
   "cell_type": "code",
   "execution_count": 12,
   "id": "084d5b6b-ef9a-4ee2-a5ed-365c8ab33296",
   "metadata": {},
   "outputs": [
    {
     "ename": "SyntaxError",
     "evalue": "invalid syntax (3678000279.py, line 1)",
     "output_type": "error",
     "traceback": [
      "\u001b[0;36m  Input \u001b[0;32mIn [12]\u001b[0;36m\u001b[0m\n\u001b[0;31m    plt.plot(df_bed['I'][:5000])å\u001b[0m\n\u001b[0m                                ^\u001b[0m\n\u001b[0;31mSyntaxError\u001b[0m\u001b[0;31m:\u001b[0m invalid syntax\n"
     ]
    }
   ],
   "source": [
    "plt.plot(df_bed['I'][:5000])å"
   ]
  },
  {
   "cell_type": "code",
   "execution_count": null,
   "id": "26294eff",
   "metadata": {},
   "outputs": [],
   "source": []
  },
  {
   "cell_type": "code",
   "execution_count": null,
   "id": "7a079245-1b97-4b12-978a-6cd54c9f2048",
   "metadata": {},
   "outputs": [],
   "source": []
  },
  {
   "cell_type": "code",
   "execution_count": 45,
   "id": "e6c2c936-12d8-45cf-b2bf-97617921f699",
   "metadata": {},
   "outputs": [],
   "source": [
    "# /plt.plot(df_bed['SPO2'].values)"
   ]
  },
  {
   "cell_type": "code",
   "execution_count": 50,
   "id": "6d7ba89d-ae66-4f25-9a24-9866b2e12510",
   "metadata": {},
   "outputs": [],
   "source": []
  },
  {
   "cell_type": "code",
   "execution_count": null,
   "id": "37fc6422-970d-4d54-9c55-b6b1cb7d4048",
   "metadata": {},
   "outputs": [],
   "source": []
  },
  {
   "cell_type": "code",
   "execution_count": 53,
   "id": "3747a396-cda7-4bfc-aabd-04e500a39308",
   "metadata": {},
   "outputs": [
    {
     "data": {
      "text/plain": [
       "'../../data/stage1/waveform/df_waveform_A035-0519626285_0000_7581.csv.gz'"
      ]
     },
     "execution_count": 53,
     "metadata": {},
     "output_type": "execute_result"
    }
   ],
   "source": [
    "waveform_dir"
   ]
  },
  {
   "cell_type": "code",
   "execution_count": 51,
   "id": "e3db60d4-433e-4327-924f-0ed13304caa9",
   "metadata": {},
   "outputs": [],
   "source": [
    "sig_segments = df_bed2PPGmatrix(df_bed)\n"
   ]
  },
  {
   "cell_type": "code",
   "execution_count": 54,
   "id": "73507762-eae2-403e-aa96-bf4678882c0f",
   "metadata": {},
   "outputs": [],
   "source": [
    "\n",
    "\n",
    "data_saver(sig_segments, 'sig_segment_A035-0519626285_0000_7581', '../../data/stage1/waveform/')\n"
   ]
  },
  {
   "cell_type": "code",
   "execution_count": 55,
   "id": "cf23f070-bfff-4769-a11b-739b190490ff",
   "metadata": {},
   "outputs": [],
   "source": [
    "data_saver(sig_segments, 'sig_segment_A035-0519626285_0000_7581', '../../data/stage1/waveform/')\n",
    "sig_segments = data_loader('sig_segment_A035-0519626285_0000_7581', '../../data/stage1/waveform/')\n"
   ]
  },
  {
   "cell_type": "code",
   "execution_count": 49,
   "id": "10f85bce-94b4-469a-9b88-4ea866c5b1b1",
   "metadata": {},
   "outputs": [],
   "source": []
  },
  {
   "cell_type": "code",
   "execution_count": 56,
   "id": "330ab721-fa80-4b1e-a4a8-781f067731f1",
   "metadata": {},
   "outputs": [
    {
     "data": {
      "text/plain": [
       "[<matplotlib.lines.Line2D at 0x7f5a9f9978b0>]"
      ]
     },
     "execution_count": 56,
     "metadata": {},
     "output_type": "execute_result"
    },
    {
     "data": {
      "image/png": "[encoded data removed]",
      "text/plain": [
       "<Figure size 432x288 with 1 Axes>"
      ]
     },
     "metadata": {},
     "output_type": "display_data"
    }
   ],
   "source": [
    "plt.plot(sig_segments[:,0])"
   ]
  },
  {
   "cell_type": "code",
   "execution_count": null,
   "id": "4657744d-ee23-4ae8-bb21-6672d3123659",
   "metadata": {},
   "outputs": [],
   "source": []
  },
  {
   "cell_type": "code",
   "execution_count": 35,
   "id": "4d497889-4fce-40bb-8f90-e05905e017a9",
   "metadata": {},
   "outputs": [
    {
     "data": {
      "text/plain": [
       "[<matplotlib.lines.Line2D at 0x7f5aa1daa4c0>]"
      ]
     },
     "execution_count": 35,
     "metadata": {},
     "output_type": "execute_result"
    },
    {
     "data": {
      "image/png": "[encoded data removed]",
      "text/plain": [
       "<Figure size 432x288 with 1 Axes>"
      ]
     },
     "metadata": {},
     "output_type": "display_data"
    }
   ],
   "source": [
    "plt.plot(sig_segments[:,1])"
   ]
  },
  {
   "cell_type": "code",
   "execution_count": 36,
   "id": "81279bae-30af-436d-bc7d-8846e6f930fe",
   "metadata": {},
   "outputs": [
    {
     "data": {
      "text/plain": [
       "0.2754776426869847"
      ]
     },
     "execution_count": 36,
     "metadata": {},
     "output_type": "execute_result"
    }
   ],
   "source": [
    "sig_segments[:,0].std()"
   ]
  },
  {
   "cell_type": "code",
   "execution_count": null,
   "id": "3820eaf3-af1f-4f31-b1d2-8cf057cedad0",
   "metadata": {},
   "outputs": [],
   "source": []
  },
  {
   "cell_type": "code",
   "execution_count": null,
   "id": "e2c51002-c91b-4ed9-8e54-5a6afb5a5424",
   "metadata": {},
   "outputs": [],
   "source": []
  },
  {
   "cell_type": "code",
   "execution_count": null,
   "id": "ce5ae4ab-557e-433b-a084-e113baf442ed",
   "metadata": {},
   "outputs": [],
   "source": []
  },
  {
   "cell_type": "code",
   "execution_count": null,
   "id": "f9e00360-7350-4dc1-a34a-225711ac8b18",
   "metadata": {},
   "outputs": [],
   "source": []
  },
  {
   "cell_type": "code",
   "execution_count": null,
   "id": "48f137cb",
   "metadata": {},
   "outputs": [],
   "source": [
    "df = get_filt_df(df_bed, Fs)\n",
    "plt.plot(df['SPO2'].values[-5000:])"
   ]
  },
  {
   "cell_type": "code",
   "execution_count": null,
   "id": "3337f31a-8ed2-4e5b-94a9-a527b7946d51",
   "metadata": {},
   "outputs": [],
   "source": [
    "# df['SPO2'].values.std()"
   ]
  },
  {
   "cell_type": "code",
   "execution_count": null,
   "id": "812c6de8-6c52-4a74-b57e-cb7916c52f66",
   "metadata": {},
   "outputs": [],
   "source": [
    "# signal_matrix = "
   ]
  },
  {
   "cell_type": "code",
   "execution_count": null,
   "id": "ddb85b11",
   "metadata": {},
   "outputs": [],
   "source": []
  },
  {
   "cell_type": "code",
   "execution_count": null,
   "id": "80797d29-6f0a-4650-bbd8-3a02905e9057",
   "metadata": {},
   "outputs": [],
   "source": [
    "# segment_df"
   ]
  },
  {
   "cell_type": "code",
   "execution_count": null,
   "id": "f3009839",
   "metadata": {},
   "outputs": [],
   "source": [
    "# \n"
   ]
  },
  {
   "cell_type": "code",
   "execution_count": null,
   "id": "8183887b",
   "metadata": {},
   "outputs": [],
   "source": [
    "\n"
   ]
  },
  {
   "cell_type": "code",
   "execution_count": null,
   "id": "e0da7568",
   "metadata": {},
   "outputs": [],
   "source": []
  },
  {
   "cell_type": "code",
   "execution_count": null,
   "id": "ead6acc4",
   "metadata": {},
   "outputs": [],
   "source": []
  },
  {
   "cell_type": "code",
   "execution_count": null,
   "id": "14c3b382",
   "metadata": {},
   "outputs": [],
   "source": []
  },
  {
   "cell_type": "code",
   "execution_count": null,
   "id": "ee8b9f1e",
   "metadata": {},
   "outputs": [],
   "source": []
  }
 ],
 "metadata": {
  "kernelspec": {
   "display_name": "Python 3 (ipykernel)",
   "language": "python",
   "name": "python3"
  },
  "language_info": {
   "codemirror_mode": {
    "name": "ipython",
    "version": 3
   },
   "file_extension": ".py",
   "mimetype": "text/x-python",
   "name": "python",
   "nbconvert_exporter": "python",
   "pygments_lexer": "ipython3",
   "version": "3.8.11"
  }
 },
 "nbformat": 4,
 "nbformat_minor": 5
}
