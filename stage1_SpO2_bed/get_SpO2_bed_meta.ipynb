{
 "cells": [
  {
   "cell_type": "markdown",
   "id": "25793c03",
   "metadata": {},
   "source": [
    "# this notebook use df_merged as the indexer to read through all the bed data and compute some high level stats\n"
   ]
  },
  {
   "cell_type": "code",
   "execution_count": 1,
   "id": "1ac6bba4",
   "metadata": {},
   "outputs": [],
   "source": [
    "import pandas as pd\n",
    "from datetime import datetime\n",
    "import os\n",
    "import pickle\n",
    "from datetime import timedelta\n",
    "from datetime import datetime\n",
    "from datetime import date\n",
    "from datetime import time\n",
    "from dateutil.relativedelta import relativedelta\n",
    "\n",
    "from os.path import exists\n",
    "\n",
    "\n",
    "import pandas as pd\n",
    "import numpy as np\n",
    "import os\n",
    "\n",
    "import time\n",
    "\n",
    "\n",
    "import json\n",
    "\n",
    "import sys\n",
    "from scipy.io import loadmat\n",
    "\n",
    "import matplotlib\n",
    "import matplotlib.pyplot as plt\n",
    "plt.style.use('seaborn-white')\n",
    "matplotlib.rc( 'savefig', facecolor = 'white' )\n",
    "from matplotlib import pyplot\n",
    "import matplotlib.ticker as plticker\n",
    "\n",
    "import seaborn as sns\n",
    "\n",
    "\n",
    "import sys\n",
    "sys.path.append('../') # add this line so Data and data are visible in this file\n",
    "sys.path.append('../../') # add this line so Data and data are visible in this file\n",
    "sys.path.append('../PhysioMC/') # add this line so Data and data are visible in this file\n",
    "\n",
    "# from PatchWand import *\n",
    "from filters import *\n",
    "from setting import *\n",
    "# from preprocessing import *\n",
    "from ECG_module import *\n",
    "from dataIO import *\n",
    "from stage1_PPG_analysis import *\n",
    "\n",
    "from importlib import reload\n",
    "%load_ext autoreload\n",
    "%autoreload 2"
   ]
  },
  {
   "cell_type": "code",
   "execution_count": 2,
   "id": "b3ed2501",
   "metadata": {},
   "outputs": [],
   "source": [
    "vital_window = 5 #min\n",
    "min_threshold = 5 #min"
   ]
  },
  {
   "cell_type": "code",
   "execution_count": 3,
   "id": "8c93df87",
   "metadata": {
    "tags": []
   },
   "outputs": [
    {
     "data": {
      "text/plain": [
       "'/labs/kamaleswaranlab/Sepsis3_062321/mchan_analysis/disparities_O2/repo/stage1_SpO2_bed'"
      ]
     },
     "execution_count": 3,
     "metadata": {},
     "output_type": "execute_result"
    }
   ],
   "source": [
    "%pwd"
   ]
  },
  {
   "cell_type": "code",
   "execution_count": 4,
   "id": "98a2f827-f4a2-4361-8f48-f88749291d85",
   "metadata": {},
   "outputs": [],
   "source": [
    "outputdir = '../../data/stage1_SpO2_bed/'\n",
    "if not os.path.exists(outputdir):\n",
    "    os.makedirs(outputdir)"
   ]
  },
  {
   "cell_type": "code",
   "execution_count": 5,
   "id": "a1f2ff38-fee3-4129-877c-4f51a5bdf9c2",
   "metadata": {},
   "outputs": [],
   "source": [
    "inputdir = '/labs/kamaleswaranlab/Sepsis3_062321/Files_cp_sftp_6_30_21/Files_cp_6_30_21/'"
   ]
  },
  {
   "cell_type": "code",
   "execution_count": 6,
   "id": "25b5acdf-9cbf-422d-96ee-3d6ac69aff45",
   "metadata": {},
   "outputs": [],
   "source": [
    "David_inputdir = '/home/mchan82/kamaleswaranlab/Sepsis3_062321/dlin_analysis/'"
   ]
  },
  {
   "cell_type": "code",
   "execution_count": null,
   "id": "0ec82c73-21e7-487b-a8eb-30d4b85553c9",
   "metadata": {},
   "outputs": [],
   "source": []
  },
  {
   "cell_type": "code",
   "execution_count": null,
   "id": "ad56af1f-8159-4d38-8fa4-d4c46374c437",
   "metadata": {},
   "outputs": [],
   "source": []
  },
  {
   "cell_type": "code",
   "execution_count": null,
   "id": "2798d22e-e341-4647-9118-a399ea50c211",
   "metadata": {},
   "outputs": [],
   "source": [
    "# check all folders in inputdir\n",
    "# look for 0n (header file for vital data\n",
    "# "
   ]
  },
  {
   "cell_type": "code",
   "execution_count": 7,
   "id": "cb0427c5-ff26-4d5b-971d-a25069c8ebf8",
   "metadata": {},
   "outputs": [],
   "source": [
    "list_rec_ids = os.listdir(inputdir)"
   ]
  },
  {
   "cell_type": "code",
   "execution_count": null,
   "id": "190088ce-71e6-43c7-8f45-d9125ef79eb6",
   "metadata": {},
   "outputs": [
    {
     "name": "stdout",
     "output_type": "stream",
     "text": [
      "0th rec_id\n",
      "1000th rec_id\n",
      "2000th rec_id\n",
      "3000th rec_id\n",
      "4000th rec_id\n",
      "5000th rec_id\n",
      "6000th rec_id\n"
     ]
    }
   ],
   "source": [
    "df_bed_meta = pd.DataFrame()\n",
    "header_id = '0n'\n",
    "verbose = False\n",
    "\n",
    "for i, rec_id in enumerate(list_rec_ids):\n",
    "    \n",
    "    \n",
    "\n",
    "    if i % 1000 == 0:\n",
    "        print('{}th rec_id'.format(i))\n",
    "        \n",
    "    # get header_dict for this rec_id abd header_id\n",
    "    inputdir_rec = inputdir + rec_id + '/'\n",
    "    if exists(inputdir_rec)==False:\n",
    "        if verbose:\n",
    "            print('\\t\\t[DNE] bed data folder does not exist')\n",
    "\n",
    "        bed_dict = {}\n",
    "        bed_dict['merged_message'] = '[DNE] bed'\n",
    "        df_bed_meta = pd.concat([df_bed_meta,df], axis=0)\n",
    "        continue\n",
    "\n",
    "    headerdir = inputdir_rec + rec_id + '_' + header_id + '.hea'\n",
    "\n",
    "    if exists(headerdir)==False:\n",
    "        if verbose:\n",
    "            print('\\t\\t[DNE] vital sign data headerdir does not exist')\n",
    "\n",
    "        bed_dict = {}\n",
    "        bed_dict['merged_message'] = '[DNE] vital'\n",
    "        df = pd.DataFrame(bed_dict,  index=[0]) \n",
    "        df_bed_meta = pd.concat([df_bed_meta,df], axis=0)\n",
    "\n",
    "        # df_merged_appended = pd.concat([df_merged_appended,df_BedTime.T], axis=1)\n",
    "        continue\n",
    "\n",
    "    # load header file\n",
    "    with open(headerdir, 'r') as f:\n",
    "        header = f.readlines()\n",
    "        \n",
    "        \n",
    "    if len(header[0].split(' ')) < 6:\n",
    "        if verbose:\n",
    "            print('\\t\\t[DNE] vital sign data broken')\n",
    "\n",
    "        bed_dict = {}\n",
    "        bed_dict['merged_message'] = '[DNE] vital data broken'\n",
    "        df = pd.DataFrame(bed_dict,  index=[0]) \n",
    "        df_bed_meta = pd.concat([df_bed_meta,df], axis=0)\n",
    "\n",
    "        # df_merged_appended = pd.concat([df_merged_appended,df_BedTime.T], axis=1)\n",
    "        continue\n",
    "\n",
    "    header_dict = header_extract(header)\n",
    "\n",
    "    # correct for 30yr off\n",
    "    header_dict['DateStart_header'] = header_dict['date']+' '+header_dict['start_time']\n",
    "    header_dict['DateStart_header'] = datetime.strptime(header_dict['DateStart_header'], '%d/%m/%Y %H:%M:%S.%f') + relativedelta(years=vital_yearoff)\n",
    "    header_dict['DateEnd_header'] = header_dict['DateStart_header'] + relativedelta(hours=header_dict['t_dur(hr)'])\n",
    "    \n",
    "    header_dict['vital_names'] = ' '.join(list(header_dict['unit_dict'].keys()))\n",
    "    \n",
    "    # get file size\n",
    "    vitaldir = inputdir+rec_id+'/' +rec_id+'_'+header_id+'.mat'\n",
    "    vital_in_bytes = os.stat(vitaldir).st_size\n",
    "    header_dict['vital_in_bytes'] = vital_in_bytes\n",
    "    \n",
    "    header_dict['rec_id'] = rec_id\n",
    "    \n",
    "    list_keys = ['rec_id', 'DateStart_header', 'DateEnd_header', 't_dur(hr)', 'vital_names', 'vital_in_bytes']\n",
    "   \n",
    "    bed_dict = { kept_key: header_dict[kept_key] for kept_key in list_keys }\n",
    "    bed_dict['merged_message'] = '[perfecto]'\n",
    "\n",
    "    df = pd.DataFrame(bed_dict,  index=[0]) \n",
    "    df_bed_meta = pd.concat([df_bed_meta,df], axis=0)\n",
    "\n",
    "    # sys.exit()"
   ]
  },
  {
   "cell_type": "code",
   "execution_count": 87,
   "id": "c2b44d9f-83d5-4181-a06e-78f7b1378e9f",
   "metadata": {},
   "outputs": [],
   "source": [
    "df_bed_meta = df_bed_meta.reset_index(drop=True)"
   ]
  },
  {
   "cell_type": "code",
   "execution_count": null,
   "id": "6b652c62-bcb1-4fb0-8044-a11330d451b4",
   "metadata": {},
   "outputs": [],
   "source": [
    "df_bed_meta['contains_SPO2-%'] = df_bed_meta['vital_names'].str.contains('SPO2-%')"
   ]
  },
  {
   "cell_type": "code",
   "execution_count": 155,
   "id": "1ec3f510-eaa2-469b-ab2f-a40a2e2c6a71",
   "metadata": {},
   "outputs": [
    {
     "data": {
      "text/html": [
       "<div>\n",
       "<style scoped>\n",
       "    .dataframe tbody tr th:only-of-type {\n",
       "        vertical-align: middle;\n",
       "    }\n",
       "\n",
       "    .dataframe tbody tr th {\n",
       "        vertical-align: top;\n",
       "    }\n",
       "\n",
       "    .dataframe thead th {\n",
       "        text-align: right;\n",
       "    }\n",
       "</style>\n",
       "<table border=\"1\" class=\"dataframe\">\n",
       "  <thead>\n",
       "    <tr style=\"text-align: right;\">\n",
       "      <th></th>\n",
       "      <th>rec_id</th>\n",
       "      <th>DateStart_header</th>\n",
       "      <th>DateEnd_header</th>\n",
       "      <th>t_dur(hr)</th>\n",
       "      <th>vital_names</th>\n",
       "      <th>vital_in_bytes</th>\n",
       "      <th>merged_message</th>\n",
       "      <th>contains_SPO2-%</th>\n",
       "    </tr>\n",
       "  </thead>\n",
       "  <tbody>\n",
       "    <tr>\n",
       "      <th>0</th>\n",
       "      <td>A071-0512777549</td>\n",
       "      <td>2017-12-08 23:59:09</td>\n",
       "      <td>2017-12-12 10:01:09</td>\n",
       "      <td>82.033333</td>\n",
       "      <td>CUFF HR PVC ST-II ST-I ST-V ST-III ST-AVR ST-A...</td>\n",
       "      <td>6792384.0</td>\n",
       "      <td>[perfecto]</td>\n",
       "      <td>True</td>\n",
       "    </tr>\n",
       "    <tr>\n",
       "      <th>1</th>\n",
       "      <td>A010-0497919330</td>\n",
       "      <td>2017-06-20 00:42:10</td>\n",
       "      <td>2017-07-20 17:02:04</td>\n",
       "      <td>736.331667</td>\n",
       "      <td>HR PVC ST-II ST-I ST-V ST-III ST-AVR ST-AVF ST...</td>\n",
       "      <td>82174638.0</td>\n",
       "      <td>[perfecto]</td>\n",
       "      <td>True</td>\n",
       "    </tr>\n",
       "    <tr>\n",
       "      <th>2</th>\n",
       "      <td>A095-0512234849</td>\n",
       "      <td>2017-12-02 17:14:09</td>\n",
       "      <td>2017-12-06 09:08:59</td>\n",
       "      <td>87.913889</td>\n",
       "      <td>HR PVC ST-I SPO2-% SPO2-R RESP ST-II ST-III ST...</td>\n",
       "      <td>9178234.0</td>\n",
       "      <td>[perfecto]</td>\n",
       "      <td>True</td>\n",
       "    </tr>\n",
       "    <tr>\n",
       "      <th>3</th>\n",
       "      <td>A063-0482186017</td>\n",
       "      <td>2016-12-19 22:20:17</td>\n",
       "      <td>2017-02-21 22:20:17</td>\n",
       "      <td>1536.000000</td>\n",
       "      <td>HR PVC SPO2-% NBP-S NBP-D NBP-M ST-II ST-I ST-...</td>\n",
       "      <td>132710424.0</td>\n",
       "      <td>[perfecto]</td>\n",
       "      <td>True</td>\n",
       "    </tr>\n",
       "    <tr>\n",
       "      <th>4</th>\n",
       "      <td>A113-0520303111</td>\n",
       "      <td>2018-03-06 02:25:11</td>\n",
       "      <td>2018-03-22 21:06:17</td>\n",
       "      <td>402.685000</td>\n",
       "      <td>HR PVC SPO2-% SPO2-R ST-II ST-I ST-V ST-III ST...</td>\n",
       "      <td>36241674.0</td>\n",
       "      <td>[perfecto]</td>\n",
       "      <td>True</td>\n",
       "    </tr>\n",
       "    <tr>\n",
       "      <th>...</th>\n",
       "      <td>...</td>\n",
       "      <td>...</td>\n",
       "      <td>...</td>\n",
       "      <td>...</td>\n",
       "      <td>...</td>\n",
       "      <td>...</td>\n",
       "      <td>...</td>\n",
       "      <td>...</td>\n",
       "    </tr>\n",
       "    <tr>\n",
       "      <th>12603</th>\n",
       "      <td>NaN</td>\n",
       "      <td>NaT</td>\n",
       "      <td>NaT</td>\n",
       "      <td>NaN</td>\n",
       "      <td>NaN</td>\n",
       "      <td>NaN</td>\n",
       "      <td>[DNE] vital</td>\n",
       "      <td>NaN</td>\n",
       "    </tr>\n",
       "    <tr>\n",
       "      <th>12604</th>\n",
       "      <td>NaN</td>\n",
       "      <td>NaT</td>\n",
       "      <td>NaT</td>\n",
       "      <td>NaN</td>\n",
       "      <td>NaN</td>\n",
       "      <td>NaN</td>\n",
       "      <td>[DNE] vital</td>\n",
       "      <td>NaN</td>\n",
       "    </tr>\n",
       "    <tr>\n",
       "      <th>12605</th>\n",
       "      <td>NaN</td>\n",
       "      <td>NaT</td>\n",
       "      <td>NaT</td>\n",
       "      <td>NaN</td>\n",
       "      <td>NaN</td>\n",
       "      <td>NaN</td>\n",
       "      <td>[DNE] vital</td>\n",
       "      <td>NaN</td>\n",
       "    </tr>\n",
       "    <tr>\n",
       "      <th>12606</th>\n",
       "      <td>NaN</td>\n",
       "      <td>NaT</td>\n",
       "      <td>NaT</td>\n",
       "      <td>NaN</td>\n",
       "      <td>NaN</td>\n",
       "      <td>NaN</td>\n",
       "      <td>[DNE] vital</td>\n",
       "      <td>NaN</td>\n",
       "    </tr>\n",
       "    <tr>\n",
       "      <th>12607</th>\n",
       "      <td>NaN</td>\n",
       "      <td>NaT</td>\n",
       "      <td>NaT</td>\n",
       "      <td>NaN</td>\n",
       "      <td>NaN</td>\n",
       "      <td>NaN</td>\n",
       "      <td>[DNE] vital</td>\n",
       "      <td>NaN</td>\n",
       "    </tr>\n",
       "  </tbody>\n",
       "</table>\n",
       "<p>12608 rows × 8 columns</p>\n",
       "</div>"
      ],
      "text/plain": [
       "                rec_id    DateStart_header      DateEnd_header    t_dur(hr)  \\\n",
       "0      A071-0512777549 2017-12-08 23:59:09 2017-12-12 10:01:09    82.033333   \n",
       "1      A010-0497919330 2017-06-20 00:42:10 2017-07-20 17:02:04   736.331667   \n",
       "2      A095-0512234849 2017-12-02 17:14:09 2017-12-06 09:08:59    87.913889   \n",
       "3      A063-0482186017 2016-12-19 22:20:17 2017-02-21 22:20:17  1536.000000   \n",
       "4      A113-0520303111 2018-03-06 02:25:11 2018-03-22 21:06:17   402.685000   \n",
       "...                ...                 ...                 ...          ...   \n",
       "12603              NaN                 NaT                 NaT          NaN   \n",
       "12604              NaN                 NaT                 NaT          NaN   \n",
       "12605              NaN                 NaT                 NaT          NaN   \n",
       "12606              NaN                 NaT                 NaT          NaN   \n",
       "12607              NaN                 NaT                 NaT          NaN   \n",
       "\n",
       "                                             vital_names  vital_in_bytes  \\\n",
       "0      CUFF HR PVC ST-II ST-I ST-V ST-III ST-AVR ST-A...       6792384.0   \n",
       "1      HR PVC ST-II ST-I ST-V ST-III ST-AVR ST-AVF ST...      82174638.0   \n",
       "2      HR PVC ST-I SPO2-% SPO2-R RESP ST-II ST-III ST...       9178234.0   \n",
       "3      HR PVC SPO2-% NBP-S NBP-D NBP-M ST-II ST-I ST-...     132710424.0   \n",
       "4      HR PVC SPO2-% SPO2-R ST-II ST-I ST-V ST-III ST...      36241674.0   \n",
       "...                                                  ...             ...   \n",
       "12603                                                NaN             NaN   \n",
       "12604                                                NaN             NaN   \n",
       "12605                                                NaN             NaN   \n",
       "12606                                                NaN             NaN   \n",
       "12607                                                NaN             NaN   \n",
       "\n",
       "      merged_message contains_SPO2-%  \n",
       "0         [perfecto]            True  \n",
       "1         [perfecto]            True  \n",
       "2         [perfecto]            True  \n",
       "3         [perfecto]            True  \n",
       "4         [perfecto]            True  \n",
       "...              ...             ...  \n",
       "12603    [DNE] vital             NaN  \n",
       "12604    [DNE] vital             NaN  \n",
       "12605    [DNE] vital             NaN  \n",
       "12606    [DNE] vital             NaN  \n",
       "12607    [DNE] vital             NaN  \n",
       "\n",
       "[12608 rows x 8 columns]"
      ]
     },
     "execution_count": 155,
     "metadata": {},
     "output_type": "execute_result"
    }
   ],
   "source": [
    "df_bed_meta"
   ]
  },
  {
   "cell_type": "code",
   "execution_count": 157,
   "id": "73bf454e-4e1a-435b-bb82-0fbe415524b1",
   "metadata": {},
   "outputs": [],
   "source": [
    "df_bed_meta.to_csv(outputdir+'df_bed_meta.csv.gz', index=False, compression='gzip')\n"
   ]
  },
  {
   "cell_type": "code",
   "execution_count": null,
   "id": "84355c46-c944-478b-8240-79fc38050549",
   "metadata": {},
   "outputs": [],
   "source": []
  },
  {
   "cell_type": "code",
   "execution_count": 8,
   "id": "4cf3f908-c6eb-4e7d-8c94-b045566b52ea",
   "metadata": {},
   "outputs": [],
   "source": [
    "df_bed_meta = pd.read_csv(outputdir+'df_bed_meta.csv.gz')\n"
   ]
  },
  {
   "cell_type": "code",
   "execution_count": 9,
   "id": "ef80e636-4c99-4793-910f-a2f9cb4d44bf",
   "metadata": {},
   "outputs": [
    {
     "data": {
      "text/plain": [
       "12608"
      ]
     },
     "execution_count": 9,
     "metadata": {},
     "output_type": "execute_result"
    }
   ],
   "source": [
    "df_bed_meta.shape[0]"
   ]
  },
  {
   "cell_type": "code",
   "execution_count": 10,
   "id": "88aa5eaf-5db1-4d80-bdd9-174317a6586a",
   "metadata": {},
   "outputs": [
    {
     "name": "stdout",
     "output_type": "stream",
     "text": [
      "total total_vital_in_bytes: 1403.10 GB\n"
     ]
    }
   ],
   "source": [
    "\n",
    "total_vital_in_bytes = df_bed_meta['vital_in_bytes'].sum() * (9.31 * 10e-10)\n",
    "\n",
    "print('total total_vital_in_bytes: {:.2f} GB'.format(total_vital_in_bytes) )"
   ]
  },
  {
   "cell_type": "code",
   "execution_count": null,
   "id": "fdd7a8d5-7882-4a39-a552-1047bb1b9e9b",
   "metadata": {},
   "outputs": [],
   "source": []
  },
  {
   "cell_type": "code",
   "execution_count": null,
   "id": "f50adced-7f00-4652-855a-38b7321916fd",
   "metadata": {},
   "outputs": [],
   "source": []
  },
  {
   "cell_type": "code",
   "execution_count": null,
   "id": "3a2004c0-e735-4595-b77c-886705f9b32e",
   "metadata": {},
   "outputs": [],
   "source": []
  },
  {
   "cell_type": "code",
   "execution_count": null,
   "id": "babb8be8-3868-454f-b971-aa33675c8149",
   "metadata": {},
   "outputs": [],
   "source": []
  },
  {
   "cell_type": "code",
   "execution_count": 11,
   "id": "b1eda431-6fec-4d0c-8b62-5245ca06dc38",
   "metadata": {},
   "outputs": [],
   "source": [
    "df_bed_meta_SPO2only = df_bed_meta[df_bed_meta['contains_SPO2-%']==True].copy()"
   ]
  },
  {
   "cell_type": "code",
   "execution_count": null,
   "id": "2240f0e0-2bd2-476e-9a44-6b161f248f16",
   "metadata": {},
   "outputs": [],
   "source": []
  },
  {
   "cell_type": "code",
   "execution_count": 12,
   "id": "abd4da94-889c-4e1e-bb18-0d9c2f8e8cf1",
   "metadata": {},
   "outputs": [],
   "source": [
    "def get_N_vitals(string):\n",
    "    return len(string.split(' '))\n",
    "\n",
    "df_bed_meta_SPO2only.loc[:, 'N_vitals'] =  df_bed_meta_SPO2only['vital_names'].apply(get_N_vitals)"
   ]
  },
  {
   "cell_type": "code",
   "execution_count": 13,
   "id": "1a1473c9-a006-4d7f-b684-e1cf58bb6da5",
   "metadata": {},
   "outputs": [],
   "source": [
    "df_bed_meta_SPO2only['SPO2_in_bytes'] = df_bed_meta_SPO2only['vital_in_bytes'] / df_bed_meta_SPO2only['N_vitals']"
   ]
  },
  {
   "cell_type": "code",
   "execution_count": null,
   "id": "bd64521f-4ee8-4784-8498-e5a4d0a542de",
   "metadata": {},
   "outputs": [],
   "source": []
  },
  {
   "cell_type": "code",
   "execution_count": null,
   "id": "6fa21360-0cba-4967-9e7e-a814510d8240",
   "metadata": {},
   "outputs": [],
   "source": []
  },
  {
   "cell_type": "code",
   "execution_count": 14,
   "id": "9261820c-3156-41fb-9414-1e4b3e93bc27",
   "metadata": {},
   "outputs": [
    {
     "data": {
      "text/plain": [
       "('2013-09-10 00:48:53', '2018-12-12 18:41:04')"
      ]
     },
     "execution_count": 14,
     "metadata": {},
     "output_type": "execute_result"
    }
   ],
   "source": [
    "df_bed_meta_SPO2only['DateStart_header'].min(), df_bed_meta_SPO2only['DateStart_header'].max()"
   ]
  },
  {
   "cell_type": "code",
   "execution_count": 15,
   "id": "86696e81-b4d5-4624-aab9-819f8e0a89ef",
   "metadata": {
    "scrolled": true,
    "tags": []
   },
   "outputs": [
    {
     "data": {
      "text/plain": [
       "('2013-09-14 17:26:03', '2018-12-13 11:37:50')"
      ]
     },
     "execution_count": 15,
     "metadata": {},
     "output_type": "execute_result"
    }
   ],
   "source": [
    "df_bed_meta_SPO2only['DateEnd_header'].min(), df_bed_meta_SPO2only['DateEnd_header'].max()"
   ]
  },
  {
   "cell_type": "code",
   "execution_count": 153,
   "id": "6b140b59-94f6-48dc-aaff-2421365c9396",
   "metadata": {},
   "outputs": [
    {
     "data": {
      "text/plain": [
       "142.66"
      ]
     },
     "execution_count": 153,
     "metadata": {},
     "output_type": "execute_result"
    }
   ],
   "source": [
    "40.76*3.5"
   ]
  },
  {
   "cell_type": "code",
   "execution_count": 149,
   "id": "81335ebc-d4be-4e64-8e36-62cf2c9985a1",
   "metadata": {},
   "outputs": [
    {
     "name": "stdout",
     "output_type": "stream",
     "text": [
      "total total_SPO2_in_bytes: 40.76 GB in 2017\n"
     ]
    }
   ],
   "source": [
    "year = 2017\n",
    "total_SPO2_in_bytes = df_bed_meta_SPO2only[df_bed_meta_SPO2only[\"DateStart_header\"].dt.year==year]['SPO2_in_bytes'].sum() * (9.31 * 10e-10)\n",
    "\n",
    "print('total total_SPO2_in_bytes: {:.2f} GB in {}'.format(total_SPO2_in_bytes*2, year) )"
   ]
  },
  {
   "cell_type": "code",
   "execution_count": 146,
   "id": "8e94c24c-c276-45da-b78b-55851d03f2e6",
   "metadata": {},
   "outputs": [
    {
     "data": {
      "text/plain": [
       "<matplotlib.axes._subplots.AxesSubplot at 0x7f05933f5ee0>"
      ]
     },
     "execution_count": 146,
     "metadata": {},
     "output_type": "execute_result"
    },
    {
     "data": {
      "image/png": "[encoded data removed]",
      "text/plain": [
       "<Figure size 432x288 with 1 Axes>"
      ]
     },
     "metadata": {},
     "output_type": "display_data"
    }
   ],
   "source": [
    "df_bed_meta_SPO2only.groupby(df_bed_meta_SPO2only[\"DateStart_header\"].dt.year)['contains_SPO2-%'].count().plot(kind=\"bar\")\n"
   ]
  },
  {
   "cell_type": "code",
   "execution_count": null,
   "id": "717464c8-79ac-4dc5-ad42-fbfa15c38675",
   "metadata": {},
   "outputs": [],
   "source": []
  },
  {
   "cell_type": "code",
   "execution_count": null,
   "id": "82fbef7e-5c99-467d-a9af-98bb1a70cdba",
   "metadata": {},
   "outputs": [],
   "source": []
  },
  {
   "cell_type": "code",
   "execution_count": 122,
   "id": "d0f3fcac-0f5f-4b88-8187-c171c11d0d91",
   "metadata": {},
   "outputs": [],
   "source": [
    "df.groupby(df[\"date\"].dt.month).count().plot(kind=\"bar\")\n"
   ]
  },
  {
   "cell_type": "code",
   "execution_count": null,
   "id": "76aec07f-0a1c-4f99-8119-e0890e618d77",
   "metadata": {},
   "outputs": [],
   "source": []
  },
  {
   "cell_type": "code",
   "execution_count": null,
   "id": "ff72667f-7e6a-4dbd-bd3d-a3231c8b8e97",
   "metadata": {},
   "outputs": [],
   "source": []
  },
  {
   "cell_type": "code",
   "execution_count": null,
   "id": "c7234426-4148-4233-a21b-9503e301ee29",
   "metadata": {},
   "outputs": [],
   "source": []
  },
  {
   "cell_type": "code",
   "execution_count": null,
   "id": "65561d44-b6da-4dd0-bbc9-7f300424b037",
   "metadata": {},
   "outputs": [],
   "source": []
  },
  {
   "cell_type": "code",
   "execution_count": null,
   "id": "d7c5b181-e212-4972-a745-367d6d7dbb14",
   "metadata": {},
   "outputs": [],
   "source": []
  },
  {
   "cell_type": "code",
   "execution_count": null,
   "id": "54408e60-f7e5-41aa-8528-dde6f5378c95",
   "metadata": {},
   "outputs": [],
   "source": []
  },
  {
   "cell_type": "code",
   "execution_count": 82,
   "id": "3e266002-8b61-4206-bf51-1f24dfa4023d",
   "metadata": {},
   "outputs": [
    {
     "data": {
      "text/plain": [
       "(11155, (12608,), 0.8939733931719827)"
      ]
     },
     "execution_count": 82,
     "metadata": {},
     "output_type": "execute_result"
    }
   ],
   "source": []
  },
  {
   "cell_type": "code",
   "execution_count": null,
   "id": "58ae6ce9-ca89-4bb5-9f69-22ceaa4c0ec1",
   "metadata": {},
   "outputs": [],
   "source": []
  },
  {
   "cell_type": "code",
   "execution_count": null,
   "id": "40e5d7d8-a824-4314-ace5-af664945c20c",
   "metadata": {},
   "outputs": [],
   "source": []
  },
  {
   "cell_type": "code",
   "execution_count": 80,
   "id": "834c217b-8df6-4954-b124-56fce5977e60",
   "metadata": {},
   "outputs": [
    {
     "data": {
      "text/plain": [
       "0.8847557106598984"
      ]
     },
     "execution_count": 80,
     "metadata": {},
     "output_type": "execute_result"
    }
   ],
   "source": [
    "11155/12608"
   ]
  },
  {
   "cell_type": "code",
   "execution_count": 74,
   "id": "c8875bf1-8d61-4adf-9a56-a22f4e1645da",
   "metadata": {},
   "outputs": [
    {
     "data": {
      "text/html": [
       "<div>\n",
       "<style scoped>\n",
       "    .dataframe tbody tr th:only-of-type {\n",
       "        vertical-align: middle;\n",
       "    }\n",
       "\n",
       "    .dataframe tbody tr th {\n",
       "        vertical-align: top;\n",
       "    }\n",
       "\n",
       "    .dataframe thead th {\n",
       "        text-align: right;\n",
       "    }\n",
       "</style>\n",
       "<table border=\"1\" class=\"dataframe\">\n",
       "  <thead>\n",
       "    <tr style=\"text-align: right;\">\n",
       "      <th></th>\n",
       "      <th>rec_id</th>\n",
       "      <th>DateStart_header</th>\n",
       "      <th>DateEnd_header</th>\n",
       "      <th>t_dur(hr)</th>\n",
       "      <th>vital_names</th>\n",
       "      <th>vital_in_bytes</th>\n",
       "      <th>merged_message</th>\n",
       "    </tr>\n",
       "  </thead>\n",
       "  <tbody>\n",
       "    <tr>\n",
       "      <th>0</th>\n",
       "      <td>A071-0512777549</td>\n",
       "      <td>2017-12-08 23:59:09</td>\n",
       "      <td>2017-12-12 10:01:09</td>\n",
       "      <td>82.033333</td>\n",
       "      <td>CUFF HR PVC ST-II ST-I ST-V ST-III ST-AVR ST-A...</td>\n",
       "      <td>6792384.0</td>\n",
       "      <td>[perfecto]</td>\n",
       "    </tr>\n",
       "    <tr>\n",
       "      <th>0</th>\n",
       "      <td>A010-0497919330</td>\n",
       "      <td>2017-06-20 00:42:10</td>\n",
       "      <td>2017-07-20 17:02:04</td>\n",
       "      <td>736.331667</td>\n",
       "      <td>HR PVC ST-II ST-I ST-V ST-III ST-AVR ST-AVF ST...</td>\n",
       "      <td>82174638.0</td>\n",
       "      <td>[perfecto]</td>\n",
       "    </tr>\n",
       "    <tr>\n",
       "      <th>0</th>\n",
       "      <td>A095-0512234849</td>\n",
       "      <td>2017-12-02 17:14:09</td>\n",
       "      <td>2017-12-06 09:08:59</td>\n",
       "      <td>87.913889</td>\n",
       "      <td>HR PVC ST-I SPO2-% SPO2-R RESP ST-II ST-III ST...</td>\n",
       "      <td>9178234.0</td>\n",
       "      <td>[perfecto]</td>\n",
       "    </tr>\n",
       "    <tr>\n",
       "      <th>0</th>\n",
       "      <td>A063-0482186017</td>\n",
       "      <td>2016-12-19 22:20:17</td>\n",
       "      <td>2017-02-21 22:20:17</td>\n",
       "      <td>1536.000000</td>\n",
       "      <td>HR PVC SPO2-% NBP-S NBP-D NBP-M ST-II ST-I ST-...</td>\n",
       "      <td>132710424.0</td>\n",
       "      <td>[perfecto]</td>\n",
       "    </tr>\n",
       "    <tr>\n",
       "      <th>0</th>\n",
       "      <td>A113-0520303111</td>\n",
       "      <td>2018-03-06 02:25:11</td>\n",
       "      <td>2018-03-22 21:06:17</td>\n",
       "      <td>402.685000</td>\n",
       "      <td>HR PVC SPO2-% SPO2-R ST-II ST-I ST-V ST-III ST...</td>\n",
       "      <td>36241674.0</td>\n",
       "      <td>[perfecto]</td>\n",
       "    </tr>\n",
       "    <tr>\n",
       "      <th>...</th>\n",
       "      <td>...</td>\n",
       "      <td>...</td>\n",
       "      <td>...</td>\n",
       "      <td>...</td>\n",
       "      <td>...</td>\n",
       "      <td>...</td>\n",
       "      <td>...</td>\n",
       "    </tr>\n",
       "    <tr>\n",
       "      <th>0</th>\n",
       "      <td>NaN</td>\n",
       "      <td>NaT</td>\n",
       "      <td>NaT</td>\n",
       "      <td>NaN</td>\n",
       "      <td>NaN</td>\n",
       "      <td>NaN</td>\n",
       "      <td>[DNE] vital</td>\n",
       "    </tr>\n",
       "    <tr>\n",
       "      <th>0</th>\n",
       "      <td>NaN</td>\n",
       "      <td>NaT</td>\n",
       "      <td>NaT</td>\n",
       "      <td>NaN</td>\n",
       "      <td>NaN</td>\n",
       "      <td>NaN</td>\n",
       "      <td>[DNE] vital</td>\n",
       "    </tr>\n",
       "    <tr>\n",
       "      <th>0</th>\n",
       "      <td>NaN</td>\n",
       "      <td>NaT</td>\n",
       "      <td>NaT</td>\n",
       "      <td>NaN</td>\n",
       "      <td>NaN</td>\n",
       "      <td>NaN</td>\n",
       "      <td>[DNE] vital</td>\n",
       "    </tr>\n",
       "    <tr>\n",
       "      <th>0</th>\n",
       "      <td>NaN</td>\n",
       "      <td>NaT</td>\n",
       "      <td>NaT</td>\n",
       "      <td>NaN</td>\n",
       "      <td>NaN</td>\n",
       "      <td>NaN</td>\n",
       "      <td>[DNE] vital</td>\n",
       "    </tr>\n",
       "    <tr>\n",
       "      <th>0</th>\n",
       "      <td>NaN</td>\n",
       "      <td>NaT</td>\n",
       "      <td>NaT</td>\n",
       "      <td>NaN</td>\n",
       "      <td>NaN</td>\n",
       "      <td>NaN</td>\n",
       "      <td>[DNE] vital</td>\n",
       "    </tr>\n",
       "  </tbody>\n",
       "</table>\n",
       "<p>12608 rows × 7 columns</p>\n",
       "</div>"
      ],
      "text/plain": [
       "             rec_id    DateStart_header      DateEnd_header    t_dur(hr)  \\\n",
       "0   A071-0512777549 2017-12-08 23:59:09 2017-12-12 10:01:09    82.033333   \n",
       "0   A010-0497919330 2017-06-20 00:42:10 2017-07-20 17:02:04   736.331667   \n",
       "0   A095-0512234849 2017-12-02 17:14:09 2017-12-06 09:08:59    87.913889   \n",
       "0   A063-0482186017 2016-12-19 22:20:17 2017-02-21 22:20:17  1536.000000   \n",
       "0   A113-0520303111 2018-03-06 02:25:11 2018-03-22 21:06:17   402.685000   \n",
       "..              ...                 ...                 ...          ...   \n",
       "0               NaN                 NaT                 NaT          NaN   \n",
       "0               NaN                 NaT                 NaT          NaN   \n",
       "0               NaN                 NaT                 NaT          NaN   \n",
       "0               NaN                 NaT                 NaT          NaN   \n",
       "0               NaN                 NaT                 NaT          NaN   \n",
       "\n",
       "                                          vital_names  vital_in_bytes  \\\n",
       "0   CUFF HR PVC ST-II ST-I ST-V ST-III ST-AVR ST-A...       6792384.0   \n",
       "0   HR PVC ST-II ST-I ST-V ST-III ST-AVR ST-AVF ST...      82174638.0   \n",
       "0   HR PVC ST-I SPO2-% SPO2-R RESP ST-II ST-III ST...       9178234.0   \n",
       "0   HR PVC SPO2-% NBP-S NBP-D NBP-M ST-II ST-I ST-...     132710424.0   \n",
       "0   HR PVC SPO2-% SPO2-R ST-II ST-I ST-V ST-III ST...      36241674.0   \n",
       "..                                                ...             ...   \n",
       "0                                                 NaN             NaN   \n",
       "0                                                 NaN             NaN   \n",
       "0                                                 NaN             NaN   \n",
       "0                                                 NaN             NaN   \n",
       "0                                                 NaN             NaN   \n",
       "\n",
       "   merged_message  \n",
       "0      [perfecto]  \n",
       "0      [perfecto]  \n",
       "0      [perfecto]  \n",
       "0      [perfecto]  \n",
       "0      [perfecto]  \n",
       "..            ...  \n",
       "0     [DNE] vital  \n",
       "0     [DNE] vital  \n",
       "0     [DNE] vital  \n",
       "0     [DNE] vital  \n",
       "0     [DNE] vital  \n",
       "\n",
       "[12608 rows x 7 columns]"
      ]
     },
     "execution_count": 74,
     "metadata": {},
     "output_type": "execute_result"
    }
   ],
   "source": [
    "df_bed_meta['SPO2_in_bytes']"
   ]
  },
  {
   "cell_type": "code",
   "execution_count": null,
   "id": "68fffeaf-31f5-4ed4-ac36-25f074e58f25",
   "metadata": {},
   "outputs": [],
   "source": []
  },
  {
   "cell_type": "code",
   "execution_count": 68,
   "id": "17c68942-62de-43ad-bd84-306f28f1457c",
   "metadata": {},
   "outputs": [
    {
     "data": {
      "text/html": [
       "<div>\n",
       "<style scoped>\n",
       "    .dataframe tbody tr th:only-of-type {\n",
       "        vertical-align: middle;\n",
       "    }\n",
       "\n",
       "    .dataframe tbody tr th {\n",
       "        vertical-align: top;\n",
       "    }\n",
       "\n",
       "    .dataframe thead th {\n",
       "        text-align: right;\n",
       "    }\n",
       "</style>\n",
       "<table border=\"1\" class=\"dataframe\">\n",
       "  <thead>\n",
       "    <tr style=\"text-align: right;\">\n",
       "      <th></th>\n",
       "      <th>rec_id</th>\n",
       "      <th>DateStart_header</th>\n",
       "      <th>DateEnd_header</th>\n",
       "      <th>t_dur(hr)</th>\n",
       "      <th>vital_names</th>\n",
       "      <th>vital_in_bytes</th>\n",
       "      <th>merged_message</th>\n",
       "    </tr>\n",
       "  </thead>\n",
       "  <tbody>\n",
       "    <tr>\n",
       "      <th>12598</th>\n",
       "      <td>A143-0520883771</td>\n",
       "      <td>2018-03-12 19:42:51</td>\n",
       "      <td>2018-03-16 16:13:55</td>\n",
       "      <td>92.517778</td>\n",
       "      <td>NBP-S NBP-D NBP-M SPO2-% SPO2-R HR CUFF PVC ST...</td>\n",
       "      <td>5662112.0</td>\n",
       "      <td>[perfecto]</td>\n",
       "    </tr>\n",
       "    <tr>\n",
       "      <th>12599</th>\n",
       "      <td>A143-0521227268</td>\n",
       "      <td>2018-03-16 19:07:48</td>\n",
       "      <td>2018-03-18 18:46:22</td>\n",
       "      <td>47.642778</td>\n",
       "      <td>CUFF CO2-EX CO2-IN NBP-S NBP-D NBP-M SPO2-% SP...</td>\n",
       "      <td>3258790.0</td>\n",
       "      <td>[perfecto]</td>\n",
       "    </tr>\n",
       "    <tr>\n",
       "      <th>12600</th>\n",
       "      <td>A143-0521400449</td>\n",
       "      <td>2018-03-18 19:14:09</td>\n",
       "      <td>2018-03-18 21:35:41</td>\n",
       "      <td>2.358889</td>\n",
       "      <td>NBP-S NBP-D NBP-M HR PVC ST-II ST-I ST-V ST-II...</td>\n",
       "      <td>144388.0</td>\n",
       "      <td>[perfecto]</td>\n",
       "    </tr>\n",
       "    <tr>\n",
       "      <th>12601</th>\n",
       "      <td>A143-0521589122</td>\n",
       "      <td>2018-03-20 23:38:42</td>\n",
       "      <td>2018-03-27 11:06:10</td>\n",
       "      <td>155.457778</td>\n",
       "      <td>HR SPO2-% SPO2-R PVC ST-II ST-I ST-V ST-III ST...</td>\n",
       "      <td>11752632.0</td>\n",
       "      <td>[perfecto]</td>\n",
       "    </tr>\n",
       "    <tr>\n",
       "      <th>12602</th>\n",
       "      <td>Aunfound-0519928954</td>\n",
       "      <td>2018-03-01 18:29:14</td>\n",
       "      <td>2018-03-01 18:41:36</td>\n",
       "      <td>0.206111</td>\n",
       "      <td>PVC HR ST-II ST-I ST-V ST-III ST-AVR ST-AVF ST...</td>\n",
       "      <td>7444.0</td>\n",
       "      <td>[perfecto]</td>\n",
       "    </tr>\n",
       "    <tr>\n",
       "      <th>12603</th>\n",
       "      <td>NaN</td>\n",
       "      <td>NaT</td>\n",
       "      <td>NaT</td>\n",
       "      <td>NaN</td>\n",
       "      <td>NaN</td>\n",
       "      <td>NaN</td>\n",
       "      <td>[DNE] vital</td>\n",
       "    </tr>\n",
       "    <tr>\n",
       "      <th>12604</th>\n",
       "      <td>NaN</td>\n",
       "      <td>NaT</td>\n",
       "      <td>NaT</td>\n",
       "      <td>NaN</td>\n",
       "      <td>NaN</td>\n",
       "      <td>NaN</td>\n",
       "      <td>[DNE] vital</td>\n",
       "    </tr>\n",
       "    <tr>\n",
       "      <th>12605</th>\n",
       "      <td>NaN</td>\n",
       "      <td>NaT</td>\n",
       "      <td>NaT</td>\n",
       "      <td>NaN</td>\n",
       "      <td>NaN</td>\n",
       "      <td>NaN</td>\n",
       "      <td>[DNE] vital</td>\n",
       "    </tr>\n",
       "    <tr>\n",
       "      <th>12606</th>\n",
       "      <td>NaN</td>\n",
       "      <td>NaT</td>\n",
       "      <td>NaT</td>\n",
       "      <td>NaN</td>\n",
       "      <td>NaN</td>\n",
       "      <td>NaN</td>\n",
       "      <td>[DNE] vital</td>\n",
       "    </tr>\n",
       "    <tr>\n",
       "      <th>12607</th>\n",
       "      <td>NaN</td>\n",
       "      <td>NaT</td>\n",
       "      <td>NaT</td>\n",
       "      <td>NaN</td>\n",
       "      <td>NaN</td>\n",
       "      <td>NaN</td>\n",
       "      <td>[DNE] vital</td>\n",
       "    </tr>\n",
       "  </tbody>\n",
       "</table>\n",
       "</div>"
      ],
      "text/plain": [
       "                    rec_id    DateStart_header      DateEnd_header  \\\n",
       "12598      A143-0520883771 2018-03-12 19:42:51 2018-03-16 16:13:55   \n",
       "12599      A143-0521227268 2018-03-16 19:07:48 2018-03-18 18:46:22   \n",
       "12600      A143-0521400449 2018-03-18 19:14:09 2018-03-18 21:35:41   \n",
       "12601      A143-0521589122 2018-03-20 23:38:42 2018-03-27 11:06:10   \n",
       "12602  Aunfound-0519928954 2018-03-01 18:29:14 2018-03-01 18:41:36   \n",
       "12603                  NaN                 NaT                 NaT   \n",
       "12604                  NaN                 NaT                 NaT   \n",
       "12605                  NaN                 NaT                 NaT   \n",
       "12606                  NaN                 NaT                 NaT   \n",
       "12607                  NaN                 NaT                 NaT   \n",
       "\n",
       "        t_dur(hr)                                        vital_names  \\\n",
       "12598   92.517778  NBP-S NBP-D NBP-M SPO2-% SPO2-R HR CUFF PVC ST...   \n",
       "12599   47.642778  CUFF CO2-EX CO2-IN NBP-S NBP-D NBP-M SPO2-% SP...   \n",
       "12600    2.358889  NBP-S NBP-D NBP-M HR PVC ST-II ST-I ST-V ST-II...   \n",
       "12601  155.457778  HR SPO2-% SPO2-R PVC ST-II ST-I ST-V ST-III ST...   \n",
       "12602    0.206111  PVC HR ST-II ST-I ST-V ST-III ST-AVR ST-AVF ST...   \n",
       "12603         NaN                                                NaN   \n",
       "12604         NaN                                                NaN   \n",
       "12605         NaN                                                NaN   \n",
       "12606         NaN                                                NaN   \n",
       "12607         NaN                                                NaN   \n",
       "\n",
       "       vital_in_bytes merged_message  \n",
       "12598       5662112.0     [perfecto]  \n",
       "12599       3258790.0     [perfecto]  \n",
       "12600        144388.0     [perfecto]  \n",
       "12601      11752632.0     [perfecto]  \n",
       "12602          7444.0     [perfecto]  \n",
       "12603             NaN    [DNE] vital  \n",
       "12604             NaN    [DNE] vital  \n",
       "12605             NaN    [DNE] vital  \n",
       "12606             NaN    [DNE] vital  \n",
       "12607             NaN    [DNE] vital  "
      ]
     },
     "execution_count": 68,
     "metadata": {},
     "output_type": "execute_result"
    }
   ],
   "source": []
  },
  {
   "cell_type": "code",
   "execution_count": 72,
   "id": "7d9c9fde-8486-41dc-80ca-23654d760e11",
   "metadata": {},
   "outputs": [
    {
     "data": {
      "text/plain": [
       "[perfecto]                 12478\n",
       "[DNE] vital                  118\n",
       "[DNE] vital data broken       12\n",
       "Name: merged_message, dtype: int64"
      ]
     },
     "execution_count": 72,
     "metadata": {},
     "output_type": "execute_result"
    }
   ],
   "source": [
    "df_bed_meta['merged_message'].value_counts()\n",
    "# df_bed_meta.describe()"
   ]
  },
  {
   "cell_type": "code",
   "execution_count": null,
   "id": "0bc99bf3-b21f-4b76-8b89-e714ad78f7f6",
   "metadata": {},
   "outputs": [],
   "source": []
  },
  {
   "cell_type": "code",
   "execution_count": null,
   "id": "60866bfe-56ca-4c3d-aff8-06758ff1a6e1",
   "metadata": {},
   "outputs": [],
   "source": []
  }
 ],
 "metadata": {
  "kernelspec": {
   "display_name": "Python 3 (ipykernel)",
   "language": "python",
   "name": "python3"
  },
  "language_info": {
   "codemirror_mode": {
    "name": "ipython",
    "version": 3
   },
   "file_extension": ".py",
   "mimetype": "text/x-python",
   "name": "python",
   "nbconvert_exporter": "python",
   "pygments_lexer": "ipython3",
   "version": "3.8.6"
  }
 },
 "nbformat": 4,
 "nbformat_minor": 5
}
