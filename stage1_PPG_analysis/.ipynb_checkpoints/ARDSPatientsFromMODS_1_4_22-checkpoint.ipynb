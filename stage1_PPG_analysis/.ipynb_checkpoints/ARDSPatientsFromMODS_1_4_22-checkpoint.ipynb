{
 "cells": [
  {
   "cell_type": "markdown",
   "id": "b039222f",
   "metadata": {},
   "source": [
    "# Iterating through all patients in all years to find peep>5"
   ]
  },
  {
   "cell_type": "code",
   "execution_count": 1,
   "id": "fe1b3452",
   "metadata": {},
   "outputs": [],
   "source": [
    "import pandas as pd\n",
    "from datetime import datetime\n",
    "import os\n",
    "import pickle\n",
    "from datetime import timedelta\n",
    "from datetime import datetime\n",
    "from datetime import date\n",
    "from datetime import time\n",
    "from dateutil.relativedelta import relativedelta\n",
    "\n"
   ]
  },
  {
   "cell_type": "code",
   "execution_count": null,
   "id": "0f59fba9-e037-448e-9901-fed99dd291e0",
   "metadata": {},
   "outputs": [],
   "source": []
  },
  {
   "cell_type": "code",
   "execution_count": null,
   "id": "515002e0-e607-4ddb-b330-6353cd265380",
   "metadata": {},
   "outputs": [],
   "source": []
  },
  {
   "cell_type": "code",
   "execution_count": null,
   "id": "cd009f39-1e51-4b5d-9e1f-f10414fe6565",
   "metadata": {},
   "outputs": [],
   "source": []
  },
  {
   "cell_type": "code",
   "execution_count": null,
   "id": "2ac2e919-9029-465a-be27-e44ecbfb8f88",
   "metadata": {},
   "outputs": [],
   "source": []
  },
  {
   "cell_type": "code",
   "execution_count": null,
   "id": "5865b77a-1c6a-41ef-87b6-72d207e5df34",
   "metadata": {},
   "outputs": [],
   "source": []
  },
  {
   "cell_type": "code",
   "execution_count": null,
   "id": "76a61d25-d3d7-479b-8227-8257a10f51e2",
   "metadata": {},
   "outputs": [],
   "source": []
  },
  {
   "cell_type": "code",
   "execution_count": null,
   "id": "a9c5ab83-1302-457b-9759-dfdfd00c55e0",
   "metadata": {},
   "outputs": [],
   "source": []
  },
  {
   "cell_type": "code",
   "execution_count": null,
   "id": "c929f909-8f33-4c68-85d6-3d72b3b1d712",
   "metadata": {},
   "outputs": [],
   "source": []
  },
  {
   "cell_type": "code",
   "execution_count": null,
   "id": "0cc47713-5b50-4df2-ad1a-4efe701ecdac",
   "metadata": {},
   "outputs": [],
   "source": []
  },
  {
   "cell_type": "code",
   "execution_count": null,
   "id": "55f44e43-ead3-4991-829e-15fdf16bfc74",
   "metadata": {},
   "outputs": [],
   "source": []
  },
  {
   "cell_type": "code",
   "execution_count": null,
   "id": "5a807bb7-718c-444b-a281-85a4770704e8",
   "metadata": {},
   "outputs": [],
   "source": []
  },
  {
   "cell_type": "code",
   "execution_count": null,
   "id": "eccd0977-c98d-4bd9-a2b7-de558085e100",
   "metadata": {},
   "outputs": [],
   "source": []
  },
  {
   "cell_type": "code",
   "execution_count": 2,
   "id": "2ac40a62",
   "metadata": {},
   "outputs": [
    {
     "name": "stderr",
     "output_type": "stream",
     "text": [
      "/opt/rh/rh-python36/root/usr/lib/python3.6/site-packages/IPython/core/interactiveshell.py:2785: DtypeWarning: Columns (9) have mixed types.Specify dtype option on import or set low_memory=False.\n",
      "  interactivity=interactivity, compiler=compiler, result=result)\n",
      "/opt/rh/rh-python36/root/usr/lib/python3.6/site-packages/ipykernel_launcher.py:21: SettingWithCopyWarning: \n",
      "A value is trying to be set on a copy of a slice from a DataFrame.\n",
      "Try using .loc[row_indexer,col_indexer] = value instead\n",
      "\n",
      "See the caveats in the documentation: https://pandas.pydata.org/pandas-docs/stable/user_guide/indexing.html#returning-a-view-versus-a-copy\n",
      "/opt/rh/rh-python36/root/usr/lib/python3.6/site-packages/IPython/core/interactiveshell.py:2785: DtypeWarning: Columns (7,8,10) have mixed types.Specify dtype option on import or set low_memory=False.\n",
      "  interactivity=interactivity, compiler=compiler, result=result)\n",
      "/opt/rh/rh-python36/root/usr/lib/python3.6/site-packages/ipykernel_launcher.py:21: SettingWithCopyWarning: \n",
      "A value is trying to be set on a copy of a slice from a DataFrame.\n",
      "Try using .loc[row_indexer,col_indexer] = value instead\n",
      "\n",
      "See the caveats in the documentation: https://pandas.pydata.org/pandas-docs/stable/user_guide/indexing.html#returning-a-view-versus-a-copy\n",
      "/opt/rh/rh-python36/root/usr/lib/python3.6/site-packages/IPython/core/interactiveshell.py:2785: DtypeWarning: Columns (7,8,9,10,11) have mixed types.Specify dtype option on import or set low_memory=False.\n",
      "  interactivity=interactivity, compiler=compiler, result=result)\n",
      "/opt/rh/rh-python36/root/usr/lib/python3.6/site-packages/ipykernel_launcher.py:21: SettingWithCopyWarning: \n",
      "A value is trying to be set on a copy of a slice from a DataFrame.\n",
      "Try using .loc[row_indexer,col_indexer] = value instead\n",
      "\n",
      "See the caveats in the documentation: https://pandas.pydata.org/pandas-docs/stable/user_guide/indexing.html#returning-a-view-versus-a-copy\n",
      "/opt/rh/rh-python36/root/usr/lib/python3.6/site-packages/ipykernel_launcher.py:21: SettingWithCopyWarning: \n",
      "A value is trying to be set on a copy of a slice from a DataFrame.\n",
      "Try using .loc[row_indexer,col_indexer] = value instead\n",
      "\n",
      "See the caveats in the documentation: https://pandas.pydata.org/pandas-docs/stable/user_guide/indexing.html#returning-a-view-versus-a-copy\n",
      "/opt/rh/rh-python36/root/usr/lib/python3.6/site-packages/IPython/core/interactiveshell.py:2785: DtypeWarning: Columns (7,8,9,10) have mixed types.Specify dtype option on import or set low_memory=False.\n",
      "  interactivity=interactivity, compiler=compiler, result=result)\n",
      "/opt/rh/rh-python36/root/usr/lib/python3.6/site-packages/ipykernel_launcher.py:21: SettingWithCopyWarning: \n",
      "A value is trying to be set on a copy of a slice from a DataFrame.\n",
      "Try using .loc[row_indexer,col_indexer] = value instead\n",
      "\n",
      "See the caveats in the documentation: https://pandas.pydata.org/pandas-docs/stable/user_guide/indexing.html#returning-a-view-versus-a-copy\n",
      "/opt/rh/rh-python36/root/usr/lib/python3.6/site-packages/ipykernel_launcher.py:21: SettingWithCopyWarning: \n",
      "A value is trying to be set on a copy of a slice from a DataFrame.\n",
      "Try using .loc[row_indexer,col_indexer] = value instead\n",
      "\n",
      "See the caveats in the documentation: https://pandas.pydata.org/pandas-docs/stable/user_guide/indexing.html#returning-a-view-versus-a-copy\n",
      "/opt/rh/rh-python36/root/usr/lib/python3.6/site-packages/IPython/core/interactiveshell.py:2785: DtypeWarning: Columns (8,9,10,11) have mixed types.Specify dtype option on import or set low_memory=False.\n",
      "  interactivity=interactivity, compiler=compiler, result=result)\n",
      "/opt/rh/rh-python36/root/usr/lib/python3.6/site-packages/ipykernel_launcher.py:21: SettingWithCopyWarning: \n",
      "A value is trying to be set on a copy of a slice from a DataFrame.\n",
      "Try using .loc[row_indexer,col_indexer] = value instead\n",
      "\n",
      "See the caveats in the documentation: https://pandas.pydata.org/pandas-docs/stable/user_guide/indexing.html#returning-a-view-versus-a-copy\n"
     ]
    }
   ],
   "source": [
    "years = ['2014', '2015', '2016', '2017', '2018', '2019', '2020']\n",
    "peepMerged = pd.DataFrame()\n",
    "Sep_Vent_Pat_dur_Merged = pd.DataFrame()\n",
    "Sep_Pat_file = pd.read_csv('/labs/kamaleswaranlab/MODS/cemars4/ARDS/Sep_Loc_Pat_ID_1_5_22.csv')\n",
    "Sep_Pat_file['pat_id'] = Sep_Pat_file['PAT_ID']\n",
    "count=0\n",
    "for year in years:\n",
    "    ventFilePath = '/labs/kamaleswaranlab/MODS/Data/Emory_Data/em_data/'+str(year)+'/CJSEPSIS_VENT_'+str(year)+'.dsv'\n",
    "    if not os.path.isfile(ventFilePath):\n",
    "        print(f\"Not in the path: {ventFilePath}\")\n",
    "        break\n",
    "    else:\n",
    "#         print(f\"found {ventFilePath}\")\n",
    "        \n",
    "        VentPat = pd.read_csv(ventFilePath, sep='|').dropna().reset_index()\n",
    "        #count+=len(list(pd.unique(peepFiltered['csn'])))\n",
    "        \n",
    "        Sep_Vent_Pat = Sep_Pat_file.merge(VentPat,on='pat_id')\n",
    "        Sep_Vent_Pat_af = Sep_Vent_Pat[Sep_Vent_Pat['BED_LOCATION_START']<=Sep_Vent_Pat['recorded_time']]\n",
    "        Sep_Vent_Pat_dur = Sep_Vent_Pat_af[Sep_Vent_Pat_af['BED_LOCATION_END']>=Sep_Vent_Pat_af['recorded_time']]\n",
    "        Sep_Vent_Pat_dur['year'] = year\n",
    "        Sep_Vent_Pat_dur_Merged = pd.concat([Sep_Vent_Pat_dur_Merged, Sep_Vent_Pat_dur], axis=0)\n",
    "        #peepFiltered['peep'] = pd.to_numeric(peepFiltered['peep'], errors='coerce')\n",
    "        #peepFiltered = peepFiltered[pd.to_numeric(peepFiltered['peep'])>=5][['pat_id', 'csn','peep', 'recorded_time', 'fio2']]\n",
    "        #peepFiltered['year'] = year\n",
    "        #peepMerged = pd.concat([peepMerged, peepFiltered], axis=0)\n",
    "        \n",
    "#print(f'No of total encounters in the vent files={count}')        \n"
   ]
  },
  {
   "cell_type": "markdown",
   "id": "d50a7cb8",
   "metadata": {
    "tags": []
   },
   "source": [
    "# Extracting data for all patients with peep>5 and p/f<300 or s/f<315:"
   ]
  },
  {
   "cell_type": "code",
   "execution_count": 4,
   "id": "10e372e0",
   "metadata": {},
   "outputs": [
    {
     "name": "stdout",
     "output_type": "stream",
     "text": [
      "Number of patients/beds with Sepsis = 2804\n"
     ]
    },
    {
     "ename": "NameError",
     "evalue": "name 'sys' is not defined",
     "output_type": "error",
     "traceback": [
      "\u001b[0;31m---------------------------------------------------------------------------\u001b[0m",
      "\u001b[0;31mNameError\u001b[0m                                 Traceback (most recent call last)",
      "\u001b[0;32m<ipython-input-4-e7399d97461a>\u001b[0m in \u001b[0;36m<module>\u001b[0;34m()\u001b[0m\n\u001b[1;32m     18\u001b[0m         \u001b[0;32mwith\u001b[0m \u001b[0mopen\u001b[0m\u001b[0;34m(\u001b[0m\u001b[0mpkl_path\u001b[0m\u001b[0;34m,\u001b[0m \u001b[0;34m'rb'\u001b[0m\u001b[0;34m)\u001b[0m \u001b[0;32mas\u001b[0m \u001b[0mpf\u001b[0m\u001b[0;34m:\u001b[0m\u001b[0;34m\u001b[0m\u001b[0;34m\u001b[0m\u001b[0m\n\u001b[1;32m     19\u001b[0m             \u001b[0mpatient_enc_dict\u001b[0m \u001b[0;34m=\u001b[0m \u001b[0mpickle\u001b[0m\u001b[0;34m.\u001b[0m\u001b[0mload\u001b[0m\u001b[0;34m(\u001b[0m\u001b[0mpf\u001b[0m\u001b[0;34m)\u001b[0m\u001b[0;34m\u001b[0m\u001b[0;34m\u001b[0m\u001b[0m\n\u001b[0;32m---> 20\u001b[0;31m         \u001b[0msys\u001b[0m\u001b[0;34m.\u001b[0m\u001b[0mexit\u001b[0m\u001b[0;34m(\u001b[0m\u001b[0;34m)\u001b[0m\u001b[0;34m\u001b[0m\u001b[0;34m\u001b[0m\u001b[0m\n\u001b[0m\u001b[1;32m     21\u001b[0m         \u001b[0msuper_table\u001b[0m \u001b[0;34m=\u001b[0m \u001b[0mpatient_enc_dict\u001b[0m\u001b[0;34m[\u001b[0m\u001b[0;34m'super_table'\u001b[0m\u001b[0;34m]\u001b[0m\u001b[0;34m\u001b[0m\u001b[0;34m\u001b[0m\u001b[0m\n\u001b[1;32m     22\u001b[0m         \u001b[0;32mif\u001b[0m \u001b[0mlen\u001b[0m\u001b[0;34m(\u001b[0m\u001b[0msuper_table\u001b[0m\u001b[0;34m[\u001b[0m\u001b[0msuper_table\u001b[0m\u001b[0;34m[\u001b[0m\u001b[0;34m'pf_pa'\u001b[0m\u001b[0;34m]\u001b[0m\u001b[0;34m<=\u001b[0m\u001b[0;36m300\u001b[0m\u001b[0;34m]\u001b[0m\u001b[0;34m)\u001b[0m\u001b[0;34m>\u001b[0m\u001b[0;36m0\u001b[0m\u001b[0;34m:\u001b[0m\u001b[0;34m\u001b[0m\u001b[0;34m\u001b[0m\u001b[0m\n",
      "\u001b[0;31mNameError\u001b[0m: name 'sys' is not defined"
     ]
    }
   ],
   "source": [
    "csns = list(pd.unique(Sep_Vent_Pat_dur_Merged['csn']))\n",
    "print(f'Number of patients/beds with Sepsis = {len(csns)}')\n",
    "count=0\n",
    "countARDS=0\n",
    "merged2 = pd.DataFrame()\n",
    "ARDS_TS = pd.DataFrame(columns=['csn','ARDS_TS'])\n",
    "for csn in csns:\n",
    "    year = pd.unique(Sep_Vent_Pat_dur_Merged[Sep_Vent_Pat_dur_Merged['csn']==csn]['year'].values[0])[0]\n",
    "    pkl_path = '/labs/kamaleswaranlab/MODS/Encounter_Pickles/em/'+year+'/'+str(csn)+'.pickle'\n",
    "    # print(pkl_path)\n",
    "    if not os.path.isfile(pkl_path):\n",
    "#         print(f\"Not in the path: {pkl_path}\")\n",
    "        count+=1\n",
    "#         break\n",
    "    else:\n",
    "        # print(f\"found {pkl_path}\")\n",
    "    \n",
    "        with open(pkl_path, 'rb') as pf:\n",
    "            patient_enc_dict = pickle.load(pf)\n",
    "        sys.exit()\n",
    "        super_table = patient_enc_dict['super_table']\n",
    "        if len(super_table[super_table['pf_pa']<=300])>0:\n",
    "            countARDS+=1\n",
    "            ARDS_ts = super_table[super_table['pf_pa']<=300].index[0].strftime(\"%m/%d/%Y, %H:%M:%S\")\n",
    "            ARDS_TS=ARDS_TS.append({'csn': csn,'ARDS_TS':ARDS_ts}, ignore_index=True)\n",
    "        #super_table1 = super_table[super_table['pf_pa']<300]\n",
    "        #super_table1.index[0]\n",
    "        # print(patient_enc_dict.keys())\n",
    "        # print(patient_enc_dict['abx_order_time'])\n",
    "        # # # print(patient_enc_dict['static_features']['age'])\n",
    "        # # # print(patient_enc_dict['labs_staging'])\n",
    "        # # print(patient_enc_dict['vitals_staging'][['temperature','map_line','map_cuff','pulse','unassisted_resp_rate', 'spo2', 'end_tidal_co2', 'o2_flow_rate']])\n",
    "        # import sys\n",
    "        # sys.exit()\n",
    "        \n",
    "        #icd10=patient_enc_dict['diagnosis_PerCSN']['dx_code_icd10'].values\n",
    "        #icd9=patient_enc_dict['diagnosis_PerCSN']['dx_code_icd9'].values\n",
    "\n",
    "        #if any('518' in code for code in icd9) or 'J80' in icd10:\n",
    "            #super_table = patient_enc_dict['super_table']\n",
    "            #super_table1 = super_table[super_table['pf_pa']<300]\n",
    "            #super_table2=super_table[super_table['pf_sp']<=315]\n",
    "            #super_table = pd.concat([super_table1, super_table2], axis=0)\n",
    "            #super_table = super_table.drop_duplicates()\n",
    "            #super_table['csn'] = csn\n",
    "            \n",
    "            # super_table = pd.concat([super_table, patient_enc_dict['vent_status']], axis=1)\n",
    "            # print(super_table)\n",
    "            # import sys\n",
    "            # sys.exit()\n",
    "            # labs = patient_enc_dict['labs_staging'][['anion_gap','lactate_dehydrogenase','bicarb_(hco3)','blood_urea_nitrogen_(bun)','glucose','hematocrit','albumin','bilirubin_direct','fio2', 'partial_pressure_of_carbon_dioxide_(paco2)','partial_pressure_of_oxygen_(pao2)', 'ph','saturation_of_oxygen_(sao2)','bilirubin_total', 'calcium', 'calcium_adjusted','calcium_ionized', 'chloride','phosphorus', 'potassium', 'sodium','hemoglobin','white_blood_cell_count', 'carboxy_hgb','creatinine']]\n",
    "            # vitals = patient_enc_dict['vitals_staging'][['temperature','map_line','map_cuff','sbp_line','sbp_cuff','pulse','unassisted_resp_rate', 'spo2', 'end_tidal_co2', 'o2_flow_rate']]\n",
    "            \n",
    "            # all_measures = pd.concat([labs, vitals], axis=1)\n",
    "            #merged2 = pd.concat([merged2, super_table], axis = 0)\n",
    "        #else:\n",
    "            #continue\n",
    "        \n",
    "#print(merged2)\n",
    "\n",
    "#merged2.to_csv('eARDSData.csv')\n",
    "\n",
    "#print(f'Number of patients with s/f<=315 and p/f<300 = {len(list(pd.unique(merged2[\"csn\"])))}')\n",
    "#print(f'Number of encounters not found in the encounter pickles: {count}')\n",
    "\n"
   ]
  },
  {
   "cell_type": "code",
   "execution_count": 3,
   "id": "3e07c609-d477-4628-ac6f-9d161f321c8c",
   "metadata": {},
   "outputs": [
    {
     "ename": "NameError",
     "evalue": "name 'countARDS' is not defined",
     "output_type": "error",
     "traceback": [
      "\u001b[0;31m---------------------------------------------------------------------------\u001b[0m",
      "\u001b[0;31mNameError\u001b[0m                                 Traceback (most recent call last)",
      "\u001b[0;32m<ipython-input-3-fc51c351ac43>\u001b[0m in \u001b[0;36m<module>\u001b[0;34m()\u001b[0m\n\u001b[0;32m----> 1\u001b[0;31m \u001b[0mcountARDS\u001b[0m\u001b[0;34m\u001b[0m\u001b[0;34m\u001b[0m\u001b[0m\n\u001b[0m",
      "\u001b[0;31mNameError\u001b[0m: name 'countARDS' is not defined"
     ]
    }
   ],
   "source": [
    "countARDS"
   ]
  },
  {
   "cell_type": "code",
   "execution_count": 6,
   "id": "7c9765ed-53cb-4e10-901d-c461441333ca",
   "metadata": {},
   "outputs": [
    {
     "data": {
      "text/plain": [
       "'07/29/2019, 00:12:04'"
      ]
     },
     "execution_count": 6,
     "metadata": {},
     "output_type": "execute_result"
    }
   ],
   "source": [
    "ARDS_ts"
   ]
  },
  {
   "cell_type": "code",
   "execution_count": 5,
   "id": "c1e56d46-a7c3-4b41-bf75-409201b670c9",
   "metadata": {},
   "outputs": [
    {
     "data": {
      "text/html": [
       "<div>\n",
       "<style scoped>\n",
       "    .dataframe tbody tr th:only-of-type {\n",
       "        vertical-align: middle;\n",
       "    }\n",
       "\n",
       "    .dataframe tbody tr th {\n",
       "        vertical-align: top;\n",
       "    }\n",
       "\n",
       "    .dataframe thead th {\n",
       "        text-align: right;\n",
       "    }\n",
       "</style>\n",
       "<table border=\"1\" class=\"dataframe\">\n",
       "  <thead>\n",
       "    <tr style=\"text-align: right;\">\n",
       "      <th></th>\n",
       "      <th>csn</th>\n",
       "      <th>ARDS_TS</th>\n",
       "    </tr>\n",
       "  </thead>\n",
       "  <tbody>\n",
       "    <tr>\n",
       "      <th>0</th>\n",
       "      <td>3507474226</td>\n",
       "      <td>08/27/2014, 10:47:00</td>\n",
       "    </tr>\n",
       "    <tr>\n",
       "      <th>1</th>\n",
       "      <td>4038504074</td>\n",
       "      <td>03/15/2014, 20:13:10</td>\n",
       "    </tr>\n",
       "    <tr>\n",
       "      <th>2</th>\n",
       "      <td>45660724103</td>\n",
       "      <td>06/07/2014, 21:52:00</td>\n",
       "    </tr>\n",
       "    <tr>\n",
       "      <th>3</th>\n",
       "      <td>7683234230</td>\n",
       "      <td>09/16/2014, 16:19:00</td>\n",
       "    </tr>\n",
       "    <tr>\n",
       "      <th>4</th>\n",
       "      <td>4387424019</td>\n",
       "      <td>01/20/2014, 00:21:05</td>\n",
       "    </tr>\n",
       "    <tr>\n",
       "      <th>...</th>\n",
       "      <td>...</td>\n",
       "      <td>...</td>\n",
       "    </tr>\n",
       "    <tr>\n",
       "      <th>2088</th>\n",
       "      <td>57735529284</td>\n",
       "      <td>10/11/2019, 20:52:00</td>\n",
       "    </tr>\n",
       "    <tr>\n",
       "      <th>2089</th>\n",
       "      <td>57751399297</td>\n",
       "      <td>10/24/2019, 13:09:04</td>\n",
       "    </tr>\n",
       "    <tr>\n",
       "      <th>2090</th>\n",
       "      <td>57845139057</td>\n",
       "      <td>03/06/2019, 04:33:54</td>\n",
       "    </tr>\n",
       "    <tr>\n",
       "      <th>2091</th>\n",
       "      <td>57982189346</td>\n",
       "      <td>12/23/2019, 10:59:00</td>\n",
       "    </tr>\n",
       "    <tr>\n",
       "      <th>2092</th>\n",
       "      <td>58091659209</td>\n",
       "      <td>07/29/2019, 00:12:04</td>\n",
       "    </tr>\n",
       "  </tbody>\n",
       "</table>\n",
       "<p>2093 rows × 2 columns</p>\n",
       "</div>"
      ],
      "text/plain": [
       "              csn               ARDS_TS\n",
       "0      3507474226  08/27/2014, 10:47:00\n",
       "1      4038504074  03/15/2014, 20:13:10\n",
       "2     45660724103  06/07/2014, 21:52:00\n",
       "3      7683234230  09/16/2014, 16:19:00\n",
       "4      4387424019  01/20/2014, 00:21:05\n",
       "...           ...                   ...\n",
       "2088  57735529284  10/11/2019, 20:52:00\n",
       "2089  57751399297  10/24/2019, 13:09:04\n",
       "2090  57845139057  03/06/2019, 04:33:54\n",
       "2091  57982189346  12/23/2019, 10:59:00\n",
       "2092  58091659209  07/29/2019, 00:12:04\n",
       "\n",
       "[2093 rows x 2 columns]"
      ]
     },
     "execution_count": 5,
     "metadata": {},
     "output_type": "execute_result"
    }
   ],
   "source": [
    "ARDS_TS"
   ]
  },
  {
   "cell_type": "code",
   "execution_count": 7,
   "id": "df039a3c-4867-482f-8bea-b6334062db14",
   "metadata": {},
   "outputs": [
    {
     "data": {
      "text/plain": [
       "Index(['PAT_ID', 'BED_LOCATION_START', 'BED_LOCATION_END', 'TSEPSIS',\n",
       "       'deBedTime', 'pat_id'],\n",
       "      dtype='object')"
      ]
     },
     "execution_count": 7,
     "metadata": {},
     "output_type": "execute_result"
    }
   ],
   "source": [
    "Sep_Pat_file.columns"
   ]
  },
  {
   "cell_type": "code",
   "execution_count": 8,
   "id": "fed6438e-39b2-47cc-af22-dac8c8363511",
   "metadata": {},
   "outputs": [
    {
     "data": {
      "text/plain": [
       "Index(['PAT_ID', 'BED_LOCATION_START', 'BED_LOCATION_END', 'TSEPSIS',\n",
       "       'deBedTime', 'pat_id', 'index', 'csn', 'recorded_time',\n",
       "       'vent_start_time', 'vent_stop_time', 'vent_type', 'vent_mode',\n",
       "       'vent_rate_set', 'vent_tidal_rate_set', 'vent_tidal_rate_exhaled',\n",
       "       'peep', 'fio2', 'year'],\n",
       "      dtype='object')"
      ]
     },
     "execution_count": 8,
     "metadata": {},
     "output_type": "execute_result"
    }
   ],
   "source": [
    "Sep_Vent_Pat_dur.columns"
   ]
  },
  {
   "cell_type": "code",
   "execution_count": 9,
   "id": "c6ea16dc-0bcb-4897-ba20-60a872c2957e",
   "metadata": {},
   "outputs": [
    {
     "data": {
      "text/html": [
       "<div>\n",
       "<style scoped>\n",
       "    .dataframe tbody tr th:only-of-type {\n",
       "        vertical-align: middle;\n",
       "    }\n",
       "\n",
       "    .dataframe tbody tr th {\n",
       "        vertical-align: top;\n",
       "    }\n",
       "\n",
       "    .dataframe thead th {\n",
       "        text-align: right;\n",
       "    }\n",
       "</style>\n",
       "<table border=\"1\" class=\"dataframe\">\n",
       "  <thead>\n",
       "    <tr style=\"text-align: right;\">\n",
       "      <th></th>\n",
       "      <th>PAT_ID</th>\n",
       "      <th>BED_LOCATION_START</th>\n",
       "      <th>BED_LOCATION_END</th>\n",
       "      <th>TSEPSIS</th>\n",
       "      <th>deBedTime</th>\n",
       "      <th>pat_id</th>\n",
       "      <th>index</th>\n",
       "      <th>csn</th>\n",
       "      <th>recorded_time</th>\n",
       "      <th>vent_start_time</th>\n",
       "      <th>vent_stop_time</th>\n",
       "      <th>vent_type</th>\n",
       "      <th>vent_mode</th>\n",
       "      <th>vent_rate_set</th>\n",
       "      <th>vent_tidal_rate_set</th>\n",
       "      <th>vent_tidal_rate_exhaled</th>\n",
       "      <th>peep</th>\n",
       "      <th>fio2</th>\n",
       "      <th>year</th>\n",
       "    </tr>\n",
       "  </thead>\n",
       "  <tbody>\n",
       "    <tr>\n",
       "      <th>469</th>\n",
       "      <td>100242766</td>\n",
       "      <td>03/03/2020 20:46:08</td>\n",
       "      <td>03/08/2020 15:09:01</td>\n",
       "      <td>2010-03-30 16:45:00</td>\n",
       "      <td>A140-0583286241</td>\n",
       "      <td>100242766</td>\n",
       "      <td>152166</td>\n",
       "      <td>58483030054</td>\n",
       "      <td>03/03/2020 21:50:00</td>\n",
       "      <td>03/03/2020 21:50:00</td>\n",
       "      <td>03/08/2020 20:37:00</td>\n",
       "      <td>Hamilton C3</td>\n",
       "      <td>AC/CMV Volume</td>\n",
       "      <td>24</td>\n",
       "      <td>410</td>\n",
       "      <td>438</td>\n",
       "      <td>6</td>\n",
       "      <td>1.0</td>\n",
       "      <td>2020</td>\n",
       "    </tr>\n",
       "    <tr>\n",
       "      <th>470</th>\n",
       "      <td>100242766</td>\n",
       "      <td>03/03/2020 20:46:08</td>\n",
       "      <td>03/08/2020 15:09:01</td>\n",
       "      <td>2010-03-30 16:45:00</td>\n",
       "      <td>A140-0583286241</td>\n",
       "      <td>100242766</td>\n",
       "      <td>152169</td>\n",
       "      <td>58483030054</td>\n",
       "      <td>03/04/2020 00:57:00</td>\n",
       "      <td>03/03/2020 21:50:00</td>\n",
       "      <td>03/08/2020 20:37:00</td>\n",
       "      <td>Hamilton C3</td>\n",
       "      <td>AC/CMV Volume</td>\n",
       "      <td>35</td>\n",
       "      <td>410</td>\n",
       "      <td>400</td>\n",
       "      <td>12</td>\n",
       "      <td>0.80</td>\n",
       "      <td>2020</td>\n",
       "    </tr>\n",
       "    <tr>\n",
       "      <th>471</th>\n",
       "      <td>100242766</td>\n",
       "      <td>03/03/2020 20:46:08</td>\n",
       "      <td>03/08/2020 15:09:01</td>\n",
       "      <td>2010-03-30 16:45:00</td>\n",
       "      <td>A140-0583286241</td>\n",
       "      <td>100242766</td>\n",
       "      <td>152172</td>\n",
       "      <td>58483030054</td>\n",
       "      <td>03/04/2020 04:11:00</td>\n",
       "      <td>03/03/2020 21:50:00</td>\n",
       "      <td>03/08/2020 20:37:00</td>\n",
       "      <td>Hamilton C3</td>\n",
       "      <td>AC/CMV Volume</td>\n",
       "      <td>35</td>\n",
       "      <td>410</td>\n",
       "      <td>400</td>\n",
       "      <td>12</td>\n",
       "      <td>0.75</td>\n",
       "      <td>2020</td>\n",
       "    </tr>\n",
       "    <tr>\n",
       "      <th>472</th>\n",
       "      <td>100242766</td>\n",
       "      <td>03/03/2020 20:46:08</td>\n",
       "      <td>03/08/2020 15:09:01</td>\n",
       "      <td>2010-03-30 16:45:00</td>\n",
       "      <td>A140-0583286241</td>\n",
       "      <td>100242766</td>\n",
       "      <td>152174</td>\n",
       "      <td>58483030054</td>\n",
       "      <td>03/04/2020 08:08:00</td>\n",
       "      <td>03/03/2020 21:50:00</td>\n",
       "      <td>03/08/2020 20:37:00</td>\n",
       "      <td>Hamilton C3</td>\n",
       "      <td>AC/CMV Volume</td>\n",
       "      <td>35</td>\n",
       "      <td>450</td>\n",
       "      <td>434</td>\n",
       "      <td>12</td>\n",
       "      <td>0.7</td>\n",
       "      <td>2020</td>\n",
       "    </tr>\n",
       "    <tr>\n",
       "      <th>473</th>\n",
       "      <td>100242766</td>\n",
       "      <td>03/03/2020 20:46:08</td>\n",
       "      <td>03/08/2020 15:09:01</td>\n",
       "      <td>2010-03-30 16:45:00</td>\n",
       "      <td>A140-0583286241</td>\n",
       "      <td>100242766</td>\n",
       "      <td>152175</td>\n",
       "      <td>58483030054</td>\n",
       "      <td>03/04/2020 11:38:00</td>\n",
       "      <td>03/03/2020 21:50:00</td>\n",
       "      <td>03/08/2020 20:37:00</td>\n",
       "      <td>Hamilton C3</td>\n",
       "      <td>AC/CMV Volume</td>\n",
       "      <td>35</td>\n",
       "      <td>450</td>\n",
       "      <td>436</td>\n",
       "      <td>12</td>\n",
       "      <td>0.7</td>\n",
       "      <td>2020</td>\n",
       "    </tr>\n",
       "  </tbody>\n",
       "</table>\n",
       "</div>"
      ],
      "text/plain": [
       "        PAT_ID   BED_LOCATION_START     BED_LOCATION_END              TSEPSIS  \\\n",
       "469  100242766  03/03/2020 20:46:08  03/08/2020 15:09:01  2010-03-30 16:45:00   \n",
       "470  100242766  03/03/2020 20:46:08  03/08/2020 15:09:01  2010-03-30 16:45:00   \n",
       "471  100242766  03/03/2020 20:46:08  03/08/2020 15:09:01  2010-03-30 16:45:00   \n",
       "472  100242766  03/03/2020 20:46:08  03/08/2020 15:09:01  2010-03-30 16:45:00   \n",
       "473  100242766  03/03/2020 20:46:08  03/08/2020 15:09:01  2010-03-30 16:45:00   \n",
       "\n",
       "           deBedTime     pat_id   index          csn        recorded_time  \\\n",
       "469  A140-0583286241  100242766  152166  58483030054  03/03/2020 21:50:00   \n",
       "470  A140-0583286241  100242766  152169  58483030054  03/04/2020 00:57:00   \n",
       "471  A140-0583286241  100242766  152172  58483030054  03/04/2020 04:11:00   \n",
       "472  A140-0583286241  100242766  152174  58483030054  03/04/2020 08:08:00   \n",
       "473  A140-0583286241  100242766  152175  58483030054  03/04/2020 11:38:00   \n",
       "\n",
       "         vent_start_time       vent_stop_time    vent_type      vent_mode  \\\n",
       "469  03/03/2020 21:50:00  03/08/2020 20:37:00  Hamilton C3  AC/CMV Volume   \n",
       "470  03/03/2020 21:50:00  03/08/2020 20:37:00  Hamilton C3  AC/CMV Volume   \n",
       "471  03/03/2020 21:50:00  03/08/2020 20:37:00  Hamilton C3  AC/CMV Volume   \n",
       "472  03/03/2020 21:50:00  03/08/2020 20:37:00  Hamilton C3  AC/CMV Volume   \n",
       "473  03/03/2020 21:50:00  03/08/2020 20:37:00  Hamilton C3  AC/CMV Volume   \n",
       "\n",
       "    vent_rate_set vent_tidal_rate_set vent_tidal_rate_exhaled peep  fio2  year  \n",
       "469            24                 410                     438    6   1.0  2020  \n",
       "470            35                 410                     400   12  0.80  2020  \n",
       "471            35                 410                     400   12  0.75  2020  \n",
       "472            35                 450                     434   12   0.7  2020  \n",
       "473            35                 450                     436   12   0.7  2020  "
      ]
     },
     "execution_count": 9,
     "metadata": {},
     "output_type": "execute_result"
    }
   ],
   "source": [
    "Sep_Vent_Pat_dur.head()"
   ]
  },
  {
   "cell_type": "code",
   "execution_count": 10,
   "id": "ee3d2d7a-52d0-4007-8649-4647111e730e",
   "metadata": {},
   "outputs": [
    {
     "data": {
      "text/html": [
       "<div>\n",
       "<style scoped>\n",
       "    .dataframe tbody tr th:only-of-type {\n",
       "        vertical-align: middle;\n",
       "    }\n",
       "\n",
       "    .dataframe tbody tr th {\n",
       "        vertical-align: top;\n",
       "    }\n",
       "\n",
       "    .dataframe thead th {\n",
       "        text-align: right;\n",
       "    }\n",
       "</style>\n",
       "<table border=\"1\" class=\"dataframe\">\n",
       "  <thead>\n",
       "    <tr style=\"text-align: right;\">\n",
       "      <th></th>\n",
       "      <th>deBedTime</th>\n",
       "      <th>BED_LOCATION_START</th>\n",
       "      <th>BED_LOCATION_END</th>\n",
       "      <th>TSEPSIS</th>\n",
       "      <th>ARDS_TS</th>\n",
       "      <th>vent_start_time</th>\n",
       "    </tr>\n",
       "  </thead>\n",
       "  <tbody>\n",
       "    <tr>\n",
       "      <th>10</th>\n",
       "      <td>A050-0394924561</td>\n",
       "      <td>03/15/2014 19:00:00</td>\n",
       "      <td>03/19/2014 15:00:21</td>\n",
       "      <td>2004-04-11 06:16:00</td>\n",
       "      <td>03/15/2014, 20:13:10</td>\n",
       "      <td>03/15/2014 21:10:00</td>\n",
       "    </tr>\n",
       "    <tr>\n",
       "      <th>18</th>\n",
       "      <td>A091-0409349409</td>\n",
       "      <td>09/16/2014 16:22:25</td>\n",
       "      <td>09/17/2014 04:21:00</td>\n",
       "      <td>2004-10-12 20:16:00</td>\n",
       "      <td>09/16/2014, 16:19:00</td>\n",
       "      <td>08/29/2014 18:15:00</td>\n",
       "    </tr>\n",
       "    <tr>\n",
       "      <th>19</th>\n",
       "      <td>A014-0410899065</td>\n",
       "      <td>09/16/2014 16:22:25</td>\n",
       "      <td>09/17/2014 04:21:00</td>\n",
       "      <td>2004-10-12 20:16:00</td>\n",
       "      <td>09/16/2014, 16:19:00</td>\n",
       "      <td>08/29/2014 18:15:00</td>\n",
       "    </tr>\n",
       "    <tr>\n",
       "      <th>21</th>\n",
       "      <td>A050-0390197026</td>\n",
       "      <td>01/20/2014 00:49:18</td>\n",
       "      <td>01/23/2014 18:21:48</td>\n",
       "      <td>2004-02-18 06:26:00</td>\n",
       "      <td>01/20/2014, 00:21:05</td>\n",
       "      <td>01/19/2014 23:38:00</td>\n",
       "    </tr>\n",
       "    <tr>\n",
       "      <th>46</th>\n",
       "      <td>A014-0407529610</td>\n",
       "      <td>08/08/2014 16:27:24</td>\n",
       "      <td>08/11/2014 15:36:00</td>\n",
       "      <td>2004-09-03 16:30:00</td>\n",
       "      <td>08/08/2014, 16:48:33</td>\n",
       "      <td>08/08/2014 16:30:00</td>\n",
       "    </tr>\n",
       "    <tr>\n",
       "      <th>...</th>\n",
       "      <td>...</td>\n",
       "      <td>...</td>\n",
       "      <td>...</td>\n",
       "      <td>...</td>\n",
       "      <td>...</td>\n",
       "      <td>...</td>\n",
       "    </tr>\n",
       "    <tr>\n",
       "      <th>90533</th>\n",
       "      <td>A090-0551197615</td>\n",
       "      <td>03/06/2019 00:57:48</td>\n",
       "      <td>03/18/2019 16:45:00</td>\n",
       "      <td>2009-04-02 15:01:00</td>\n",
       "      <td>03/06/2019, 04:33:54</td>\n",
       "      <td>03/07/2019 17:00:00</td>\n",
       "    </tr>\n",
       "    <tr>\n",
       "      <th>90576</th>\n",
       "      <td>A062-0551851966</td>\n",
       "      <td>03/06/2019 00:57:48</td>\n",
       "      <td>03/18/2019 16:45:00</td>\n",
       "      <td>2009-04-02 15:01:00</td>\n",
       "      <td>03/06/2019, 04:33:54</td>\n",
       "      <td>03/07/2019 17:00:00</td>\n",
       "    </tr>\n",
       "    <tr>\n",
       "      <th>90622</th>\n",
       "      <td>A138-0577157125</td>\n",
       "      <td>12/23/2019 23:47:26</td>\n",
       "      <td>12/30/2019 16:55:31</td>\n",
       "      <td>2010-01-18 14:13:00</td>\n",
       "      <td>12/23/2019, 10:59:00</td>\n",
       "      <td>12/23/2019 12:25:00</td>\n",
       "    </tr>\n",
       "    <tr>\n",
       "      <th>90650</th>\n",
       "      <td>A006-0564362063</td>\n",
       "      <td>07/28/2019 21:03:41</td>\n",
       "      <td>08/31/2019 01:44:59</td>\n",
       "      <td>2009-08-24 01:32:00</td>\n",
       "      <td>07/29/2019, 00:12:04</td>\n",
       "      <td>07/28/2019 20:40:00</td>\n",
       "    </tr>\n",
       "    <tr>\n",
       "      <th>90653</th>\n",
       "      <td>A006-0564438302</td>\n",
       "      <td>07/28/2019 21:03:41</td>\n",
       "      <td>08/31/2019 01:44:59</td>\n",
       "      <td>2009-08-24 01:32:00</td>\n",
       "      <td>07/29/2019, 00:12:04</td>\n",
       "      <td>07/28/2019 20:40:00</td>\n",
       "    </tr>\n",
       "  </tbody>\n",
       "</table>\n",
       "<p>2703 rows × 6 columns</p>\n",
       "</div>"
      ],
      "text/plain": [
       "             deBedTime   BED_LOCATION_START     BED_LOCATION_END  \\\n",
       "10     A050-0394924561  03/15/2014 19:00:00  03/19/2014 15:00:21   \n",
       "18     A091-0409349409  09/16/2014 16:22:25  09/17/2014 04:21:00   \n",
       "19     A014-0410899065  09/16/2014 16:22:25  09/17/2014 04:21:00   \n",
       "21     A050-0390197026  01/20/2014 00:49:18  01/23/2014 18:21:48   \n",
       "46     A014-0407529610  08/08/2014 16:27:24  08/11/2014 15:36:00   \n",
       "...                ...                  ...                  ...   \n",
       "90533  A090-0551197615  03/06/2019 00:57:48  03/18/2019 16:45:00   \n",
       "90576  A062-0551851966  03/06/2019 00:57:48  03/18/2019 16:45:00   \n",
       "90622  A138-0577157125  12/23/2019 23:47:26  12/30/2019 16:55:31   \n",
       "90650  A006-0564362063  07/28/2019 21:03:41  08/31/2019 01:44:59   \n",
       "90653  A006-0564438302  07/28/2019 21:03:41  08/31/2019 01:44:59   \n",
       "\n",
       "                   TSEPSIS               ARDS_TS      vent_start_time  \n",
       "10     2004-04-11 06:16:00  03/15/2014, 20:13:10  03/15/2014 21:10:00  \n",
       "18     2004-10-12 20:16:00  09/16/2014, 16:19:00  08/29/2014 18:15:00  \n",
       "19     2004-10-12 20:16:00  09/16/2014, 16:19:00  08/29/2014 18:15:00  \n",
       "21     2004-02-18 06:26:00  01/20/2014, 00:21:05  01/19/2014 23:38:00  \n",
       "46     2004-09-03 16:30:00  08/08/2014, 16:48:33  08/08/2014 16:30:00  \n",
       "...                    ...                   ...                  ...  \n",
       "90533  2009-04-02 15:01:00  03/06/2019, 04:33:54  03/07/2019 17:00:00  \n",
       "90576  2009-04-02 15:01:00  03/06/2019, 04:33:54  03/07/2019 17:00:00  \n",
       "90622  2010-01-18 14:13:00  12/23/2019, 10:59:00  12/23/2019 12:25:00  \n",
       "90650  2009-08-24 01:32:00  07/29/2019, 00:12:04  07/28/2019 20:40:00  \n",
       "90653  2009-08-24 01:32:00  07/29/2019, 00:12:04  07/28/2019 20:40:00  \n",
       "\n",
       "[2703 rows x 6 columns]"
      ]
     },
     "execution_count": 10,
     "metadata": {},
     "output_type": "execute_result"
    }
   ],
   "source": [
    "Sep_ARDS_deBedTime = ARDS_TS.merge(Sep_Vent_Pat_dur_Merged,on='csn')\n",
    "Sep_ARDS_deBedTime1 = Sep_ARDS_deBedTime[Sep_ARDS_deBedTime['BED_LOCATION_START']<=Sep_ARDS_deBedTime['ARDS_TS']]\n",
    "Sep_ARDS_deBedTime2 = Sep_ARDS_deBedTime1[Sep_ARDS_deBedTime1['BED_LOCATION_END']>=Sep_ARDS_deBedTime1['ARDS_TS']]\n",
    "Sep_ARDS_deBedTime3 = Sep_ARDS_deBedTime2[['deBedTime','BED_LOCATION_START','BED_LOCATION_END','TSEPSIS','ARDS_TS','vent_start_time']]\n",
    "Sep_ARDS_deBedTime4 = Sep_ARDS_deBedTime3.drop_duplicates()\n",
    "Sep_ARDS_deBedTime4"
   ]
  },
  {
   "cell_type": "code",
   "execution_count": 12,
   "id": "304faecc-87c8-46b2-a17b-8acdd266e46b",
   "metadata": {},
   "outputs": [
    {
     "name": "stdout",
     "output_type": "stream",
     "text": [
      "485\n"
     ]
    }
   ],
   "source": [
    "print(len(Sep_ARDS_deBedTime4[(pd.to_datetime(Sep_ARDS_deBedTime4['ARDS_TS']) - timedelta(hours=6))>=pd.to_datetime(Sep_ARDS_deBedTime4['vent_start_time'])]))"
   ]
  },
  {
   "cell_type": "code",
   "execution_count": 34,
   "id": "f45a5fe1-78b2-499c-b37b-6e0e57986abd",
   "metadata": {},
   "outputs": [
    {
     "data": {
      "text/plain": [
       "10      2014-03-16 02:13:10\n",
       "18      2014-09-16 22:19:00\n",
       "19      2014-09-16 22:19:00\n",
       "21      2014-01-20 06:21:05\n",
       "46      2014-08-08 22:48:33\n",
       "                ...        \n",
       "90533   2019-03-06 10:33:54\n",
       "90576   2019-03-06 10:33:54\n",
       "90622   2019-12-23 16:59:00\n",
       "90650   2019-07-29 06:12:04\n",
       "90653   2019-07-29 06:12:04\n",
       "Name: ARDS_TS, Length: 2703, dtype: datetime64[ns]"
      ]
     },
     "execution_count": 34,
     "metadata": {},
     "output_type": "execute_result"
    }
   ],
   "source": [
    "pd.to_datetime(Sep_ARDS_deBedTime4['ARDS_TS']) + timedelta(hours=6)"
   ]
  },
  {
   "cell_type": "code",
   "execution_count": 9,
   "id": "2f97aef7-3c6f-4bd9-9231-c7a942797ff3",
   "metadata": {},
   "outputs": [
    {
     "data": {
      "text/plain": [
       "Index(['PAT_ID', 'BED_LOCATION_START', 'BED_LOCATION_END', 'TSEPSIS',\n",
       "       'deBedTime', 'pat_id', 'index', 'csn', 'recorded_time',\n",
       "       'vent_start_time', 'vent_stop_time', 'vent_type', 'vent_mode',\n",
       "       'vent_rate_set', 'vent_tidal_rate_set', 'vent_tidal_rate_exhaled',\n",
       "       'peep', 'fio2'],\n",
       "      dtype='object')"
      ]
     },
     "execution_count": 9,
     "metadata": {},
     "output_type": "execute_result"
    }
   ],
   "source": [
    "Sep_Vent_Pat_dur_Merged.columns"
   ]
  },
  {
   "cell_type": "code",
   "execution_count": 14,
   "id": "c8416ddb-e58f-4bf6-aa05-902fb7d44ff8",
   "metadata": {},
   "outputs": [
    {
     "ename": "AttributeError",
     "evalue": "'dict' object has no attribute 'columns'",
     "output_type": "error",
     "traceback": [
      "\u001b[0;31m---------------------------------------------------------------------------\u001b[0m",
      "\u001b[0;31mAttributeError\u001b[0m                            Traceback (most recent call last)",
      "\u001b[0;32m<ipython-input-14-94a444a46aeb>\u001b[0m in \u001b[0;36m<module>\u001b[0;34m()\u001b[0m\n\u001b[0;32m----> 1\u001b[0;31m \u001b[0mpatient_enc_dict\u001b[0m\u001b[0;34m.\u001b[0m\u001b[0mcolumns\u001b[0m\u001b[0;34m\u001b[0m\u001b[0;34m\u001b[0m\u001b[0m\n\u001b[0m",
      "\u001b[0;31mAttributeError\u001b[0m: 'dict' object has no attribute 'columns'"
     ]
    }
   ],
   "source": [
    "patient_enc_dict.columns"
   ]
  },
  {
   "cell_type": "code",
   "execution_count": 8,
   "id": "0cf1541a-9a45-4aeb-90de-80bb42df41f6",
   "metadata": {},
   "outputs": [
    {
     "name": "stdout",
     "output_type": "stream",
     "text": [
      "1941\n"
     ]
    },
    {
     "data": {
      "text/plain": [
       "2019-07-28 20:12:04      NaN\n",
       "2019-07-28 21:12:04      NaN\n",
       "2019-07-28 22:12:04      NaN\n",
       "2019-07-28 23:12:04      NaN\n",
       "2019-07-29 00:12:04    256.0\n",
       "                       ...  \n",
       "2019-10-17 12:12:04      NaN\n",
       "2019-10-17 13:12:04      NaN\n",
       "2019-10-17 14:12:04      NaN\n",
       "2019-10-17 15:12:04      NaN\n",
       "2019-10-17 16:12:04      NaN\n",
       "Freq: H, Name: pf_pa, Length: 1941, dtype: float64"
      ]
     },
     "execution_count": 8,
     "metadata": {},
     "output_type": "execute_result"
    }
   ],
   "source": [
    "print(len(super_table))\n",
    "super_table['pf_pa']"
   ]
  },
  {
   "cell_type": "code",
   "execution_count": 10,
   "id": "b3f20ff9-3668-4871-8a6a-f6f3fcb77db8",
   "metadata": {},
   "outputs": [
    {
     "data": {
      "text/plain": [
       "2019-07-29 00:12:04    256.0\n",
       "2019-07-29 01:12:04    256.0\n",
       "2019-07-29 02:12:04    256.0\n",
       "2019-07-29 03:12:04    256.0\n",
       "2019-07-29 04:12:04    256.0\n",
       "Name: pf_pa, dtype: float64"
      ]
     },
     "execution_count": 10,
     "metadata": {},
     "output_type": "execute_result"
    }
   ],
   "source": [
    "super_table1['pf_pa'][0:5]"
   ]
  },
  {
   "cell_type": "code",
   "execution_count": 14,
   "id": "86824ffe-59ae-497b-a90e-d15f8bad21a7",
   "metadata": {},
   "outputs": [
    {
     "data": {
      "text/plain": [
       "Timestamp('2019-07-29 00:12:04')"
      ]
     },
     "execution_count": 14,
     "metadata": {},
     "output_type": "execute_result"
    }
   ],
   "source": [
    "super_table1.index[0]"
   ]
  },
  {
   "cell_type": "code",
   "execution_count": 18,
   "id": "30a94a0b-05d9-4aa1-a8dd-a4c1d40871e5",
   "metadata": {},
   "outputs": [
    {
     "data": {
      "text/plain": [
       "'07/29/2019, 00:12:04'"
      ]
     },
     "execution_count": 18,
     "metadata": {},
     "output_type": "execute_result"
    }
   ],
   "source": [
    "super_table[super_table['pf_pa']<=300].index[0].strftime(\"%m/%d/%Y, %H:%M:%S\")"
   ]
  },
  {
   "cell_type": "code",
   "execution_count": 21,
   "id": "8aee34fa-3f5c-41f7-8fb8-cfc458864af0",
   "metadata": {},
   "outputs": [
    {
     "data": {
      "text/plain": [
       "0"
      ]
     },
     "execution_count": 21,
     "metadata": {},
     "output_type": "execute_result"
    }
   ],
   "source": [
    "len(super_table[super_table['pf_pa']<=300])"
   ]
  },
  {
   "cell_type": "code",
   "execution_count": null,
   "id": "1e4d871f-6eae-4ce2-841d-a4afc8d51d9c",
   "metadata": {},
   "outputs": [],
   "source": []
  }
 ],
 "metadata": {
  "kernelspec": {
   "display_name": "Python 3",
   "language": "python",
   "name": "python3"
  },
  "language_info": {
   "codemirror_mode": {
    "name": "ipython",
    "version": 3
   },
   "file_extension": ".py",
   "mimetype": "text/x-python",
   "name": "python",
   "nbconvert_exporter": "python",
   "pygments_lexer": "ipython3",
   "version": "3.6.12"
  }
 },
 "nbformat": 4,
 "nbformat_minor": 5
}
