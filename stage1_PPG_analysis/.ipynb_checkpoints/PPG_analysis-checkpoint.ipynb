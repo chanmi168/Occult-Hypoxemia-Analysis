{
 "cells": [
  {
   "cell_type": "markdown",
   "id": "25793c03",
   "metadata": {},
   "source": [
    "# Iterating through all patients in all years to find peep>5"
   ]
  },
  {
   "cell_type": "code",
   "execution_count": 1,
   "id": "1ac6bba4",
   "metadata": {},
   "outputs": [],
   "source": [
    "import pandas as pd\n",
    "from datetime import datetime\n",
    "import os\n",
    "import pickle\n",
    "from datetime import timedelta\n",
    "from datetime import datetime\n",
    "from datetime import date\n",
    "from datetime import time\n",
    "from dateutil.relativedelta import relativedelta\n",
    "\n",
    "import pandas as pd\n",
    "import numpy as np\n",
    "import os\n",
    "\n",
    "import json\n",
    "\n",
    "import sys\n",
    "from scipy.io import loadmat\n",
    "\n",
    "import matplotlib\n",
    "import matplotlib.pyplot as plt\n",
    "plt.style.use('seaborn-white')\n",
    "matplotlib.rc( 'savefig', facecolor = 'white' )\n",
    "from matplotlib import pyplot\n",
    "import matplotlib.ticker as plticker\n",
    "\n",
    "import seaborn as sns\n",
    "\n",
    "\n",
    "import sys\n",
    "sys.path.append('../') # add this line so Data and data are visible in this file\n",
    "sys.path.append('../../') # add this line so Data and data are visible in this file\n",
    "sys.path.append('../PhysioMC/') # add this line so Data and data are visible in this file\n",
    "\n",
    "# from PatchWand import *\n",
    "from filters import *\n",
    "from setting import *\n",
    "# from preprocessing import *\n",
    "from ECG_module import *\n",
    "from dataIO import *\n",
    "from stage1_PPG_analysis import *\n",
    "\n",
    "from importlib import reload\n",
    "%load_ext autoreload\n",
    "%autoreload 2"
   ]
  },
  {
   "cell_type": "code",
   "execution_count": null,
   "id": "b3ed2501",
   "metadata": {},
   "outputs": [],
   "source": [
    "selected_id = 10"
   ]
  },
  {
   "cell_type": "code",
   "execution_count": 3,
   "id": "8c93df87",
   "metadata": {},
   "outputs": [
    {
     "data": {
      "text/plain": [
       "'/labs/kamaleswaranlab/Sepsis3_062321/mchan_analysis/disparities_O2/repo/stage1_PPG_analysis'"
      ]
     },
     "execution_count": 3,
     "metadata": {},
     "output_type": "execute_result"
    }
   ],
   "source": [
    "%pwd"
   ]
  },
  {
   "cell_type": "markdown",
   "id": "1b1dd3aa",
   "metadata": {
    "tags": []
   },
   "source": [
    "# get PPG data"
   ]
  },
  {
   "cell_type": "code",
   "execution_count": null,
   "id": "22d6c738",
   "metadata": {},
   "outputs": [],
   "source": []
  },
  {
   "cell_type": "markdown",
   "id": "1b56cc91-7bab-4a75-afac-8fe5cf34525c",
   "metadata": {
    "tags": []
   },
   "source": [
    "## os.listdir(inputdir) = \n",
    "## ['A071-0512777549',\n",
    "## 'A063-0482186017',\n",
    "## 'A113-0520303111', ...]"
   ]
  },
  {
   "cell_type": "code",
   "execution_count": null,
   "id": "f34e9e2c-ac66-4592-b4e1-3c6402164dcb",
   "metadata": {},
   "outputs": [],
   "source": []
  },
  {
   "cell_type": "markdown",
   "id": "5b3c5fb1-53dd-4d67-9315-fca38a9af525",
   "metadata": {},
   "source": [
    "## os.listdir(inputdir_rec) = \n",
    "## ['A058-0502749430_0028d.mat',\n",
    "##  'A058-0502749430.almth',\n",
    "##  'A058-0502749430_0013.mat',\n",
    "##  'A058-0502749430_0013.hea',...]"
   ]
  },
  {
   "cell_type": "code",
   "execution_count": 4,
   "id": "b2cac334-f7cf-4427-8ca1-0a9185e92402",
   "metadata": {},
   "outputs": [],
   "source": [
    "outputdir = '../../data/stage1/'\n",
    "if not os.path.exists(outputdir):\n",
    "    os.makedirs(outputdir)"
   ]
  },
  {
   "cell_type": "code",
   "execution_count": 5,
   "id": "3dcd3667-4140-4aba-bbfc-3a530da5da2e",
   "metadata": {},
   "outputs": [],
   "source": [
    "with open('recording_lookup.json') as json_file:\n",
    "    recording_lookup = json.load(json_file)\n"
   ]
  },
  {
   "cell_type": "code",
   "execution_count": 6,
   "id": "cc0bb372-2e53-4792-84a8-e3eecaaf7b0c",
   "metadata": {},
   "outputs": [],
   "source": [
    "\n",
    "homedir = os.path.expanduser('~')+'/'\n",
    "\n",
    "# inputdir = homedir+'kamaleswaranlab/Sepsis3_062321/Files_cp_sftp_6_30_21/Files_cp_6_30_21/'\n",
    "# this is where all waveform data are stored\n",
    "inputdir = '/labs/kamaleswaranlab/Sepsis3_062321/Files_cp_sftp_6_30_21/Files_cp_6_30_21/'\n",
    "\n",
    "# yes\n",
    "# rec_id = 'A058-0502749430'\n",
    "\n",
    "# no\n",
    "# rec_id = 'A030-0497283634'\n",
    "# rec_id = 'A097-0427935662'\n",
    "# rec_id = 'A085-0500344504'\n",
    "\n",
    "\n",
    "# # check the header files in here\n",
    "# for rec_file in os.listdir(inputdir+rec_id):\n",
    "#     if 'hea' in rec_file:\n",
    "#         print(rec_file)"
   ]
  },
  {
   "cell_type": "markdown",
   "id": "5a5e0974-af4c-4f12-b3e4-af0d5baea0a5",
   "metadata": {
    "tags": []
   },
   "source": [
    "# get the header file"
   ]
  },
  {
   "cell_type": "code",
   "execution_count": 7,
   "id": "3558b5f1-72ab-49c7-8d13-7a68664587ab",
   "metadata": {},
   "outputs": [],
   "source": [
    "def header_extract(header):\n",
    "    Fs = int(header[0].split(' ')[2])\n",
    "    N_sigs = int(header[0].split(' ')[1])\n",
    "    start_time = header[0].split(' ')[4]\n",
    "    date =  header[0].split(' ')[5].split('\\n')[0] # TODO: check if this is birthday\n",
    "    N_samples = int(header[0].split(' ')[3])\n",
    "    t_dur = N_samples/Fs/60/60 # hr\n",
    "    \n",
    "    # sig_names = []\n",
    "    unit_dict = {}\n",
    "    gain_dict = {}\n",
    "    for h in header[1:]:\n",
    "        sig_name = h.split(' ')[-1].split('\\n')[0]\n",
    "        \n",
    "        unit = h.split(' ')[2].split('/')[1]\n",
    "        if unit == '':\n",
    "            unit = 'a.u.'\n",
    "        unit_dict[sig_name] = unit\n",
    "        \n",
    "        gain = h.split(' ')[2].split('/')[0]\n",
    "        gain_dict[sig_name] = float(gain)\n",
    "        # sig_names.append( h.split(' ')[-1].split('\\n')[0] )\n",
    "        \n",
    "    \n",
    "    header_dict = {\n",
    "        'Fs': Fs,\n",
    "        'N_sigs': N_sigs,\n",
    "        'start_time': start_time,\n",
    "        'date': date,\n",
    "        'N_samples': N_samples,\n",
    "        't_dur(hr)': t_dur,\n",
    "        'unit_dict': unit_dict,\n",
    "        'gain_dict': gain_dict,\n",
    "    }\n",
    "    return header_dict"
   ]
  },
  {
   "cell_type": "code",
   "execution_count": 8,
   "id": "af0d6c2d",
   "metadata": {},
   "outputs": [
    {
     "name": "stdout",
     "output_type": "stream",
     "text": [
      "/labs/kamaleswaranlab/Sepsis3_062321/Files_cp_sftp_6_30_21/Files_cp_6_30_21/A026-0516390836/A026-0516390836_0004.hea\n"
     ]
    },
    {
     "data": {
      "text/plain": [
       "{'Fs': 240,\n",
       " 'N_sigs': 8,\n",
       " 'start_time': '03:40:36.000',\n",
       " 'date': '21/01/1988',\n",
       " 'N_samples': 6912000,\n",
       " 't_dur(hr)': 8.0,\n",
       " 'unit_dict': {'I': 'mV',\n",
       "  'II': 'mV',\n",
       "  'III': 'mV',\n",
       "  'V': 'mV',\n",
       "  'AR1': 'mmHg',\n",
       "  'SPO2': 'a.u.',\n",
       "  'CO2': 'mmHg',\n",
       "  'RR': 'a.u.'},\n",
       " 'gain_dict': {'I': 409.836,\n",
       "  'II': 409.836,\n",
       "  'III': 409.836,\n",
       "  'V': 409.836,\n",
       "  'AR1': 5.0,\n",
       "  'SPO2': 200.0,\n",
       "  'CO2': 4.0,\n",
       "  'RR': 200.0}}"
      ]
     },
     "execution_count": 8,
     "metadata": {},
     "output_type": "execute_result"
    }
   ],
   "source": [
    "\n",
    "rec_id = list(recording_lookup.keys())[selected_id]\n",
    "\n",
    "bed_id = rec_id.split('-')[0]\n",
    "subject_id = rec_id.split('-')[1]\n",
    "\n",
    "header_id = recording_lookup[rec_id]\n",
    "header_name = rec_id+'_{}.hea'.format(header_id)\n",
    "\n",
    "# get recording directory\n",
    "inputdir_rec = inputdir + rec_id + '/'\n",
    "# print(os.listdir(inputdir_rec))\n",
    "\n",
    "\n",
    "# get header file directory\n",
    "headerdir = inputdir_rec + header_name\n",
    "print(headerdir)\n",
    "\n",
    "# load header file\n",
    "with open(headerdir, 'r') as f:\n",
    "    header = f.readlines()\n",
    "\n",
    "    \n",
    "header_dict = header_extract(header)\n",
    "header_dict"
   ]
  },
  {
   "cell_type": "code",
   "execution_count": 9,
   "id": "ec257165-bf50-4f15-bd41-10bfb8007209",
   "metadata": {},
   "outputs": [
    {
     "data": {
      "text/plain": [
       "['A026-0516390836_0004 8 240 6912000 03:40:36.000 21/01/1988\\n',\n",
       " 'A026-0516390836_0004.mat 16+24 409.836/mV 16 0 -19 0 0 I\\n',\n",
       " 'A026-0516390836_0004.mat 16+24 409.836/mV 16 0 -37 0 0 II\\n',\n",
       " 'A026-0516390836_0004.mat 16+24 409.836/mV 16 0 -23 0 0 III\\n',\n",
       " 'A026-0516390836_0004.mat 16+24 409.836/mV 16 0 59 0 0 V\\n',\n",
       " 'A026-0516390836_0004.mat 16+24 5/mmHg 16 0 302 0 0 AR1\\n',\n",
       " 'A026-0516390836_0004.mat 16+24 200/ 16 0 836 0 0 SPO2\\n',\n",
       " 'A026-0516390836_0004.mat 16+24 4/mmHg 16 0 0 0 0 CO2\\n',\n",
       " 'A026-0516390836_0004.mat 16+24 200/ 16 0 -10 0 0 RR\\n']"
      ]
     },
     "execution_count": 9,
     "metadata": {},
     "output_type": "execute_result"
    }
   ],
   "source": [
    "header"
   ]
  },
  {
   "cell_type": "code",
   "execution_count": 10,
   "id": "8f16835c",
   "metadata": {},
   "outputs": [],
   "source": [
    "# recording_lookup"
   ]
  },
  {
   "cell_type": "code",
   "execution_count": null,
   "id": "fbd7a627",
   "metadata": {},
   "outputs": [],
   "source": []
  },
  {
   "cell_type": "code",
   "execution_count": null,
   "id": "dc1055d8",
   "metadata": {},
   "outputs": [],
   "source": []
  },
  {
   "cell_type": "code",
   "execution_count": null,
   "id": "bd8d0929",
   "metadata": {},
   "outputs": [],
   "source": []
  },
  {
   "cell_type": "markdown",
   "id": "81e78d47",
   "metadata": {},
   "source": [
    "# get raw waveform data"
   ]
  },
  {
   "cell_type": "code",
   "execution_count": 11,
   "id": "125cc670",
   "metadata": {},
   "outputs": [],
   "source": [
    "# for rec_file in os.listdir(inputdir+rec_id):\n",
    "#     if 'mat' in rec_file:\n",
    "#         print(rec_file)"
   ]
  },
  {
   "cell_type": "code",
   "execution_count": 12,
   "id": "d1fc57be",
   "metadata": {},
   "outputs": [],
   "source": [
    "# for rec_file in os.listdir(inputdir+rec_id):\n",
    "#     if 'd.mat' in rec_file:\n",
    "#         if '0nd.mat' in rec_file:\n",
    "#             continue\n",
    "#         # print(sub_file)\n",
    "#         keep_file = rec_file"
   ]
  },
  {
   "cell_type": "code",
   "execution_count": 13,
   "id": "6ec4e95f",
   "metadata": {},
   "outputs": [],
   "source": [
    "# rec_file"
   ]
  },
  {
   "cell_type": "markdown",
   "id": "fc216fe9",
   "metadata": {},
   "source": [
    "# choose a sub_id, and choose one of his/her 8hr segments"
   ]
  },
  {
   "cell_type": "code",
   "execution_count": 14,
   "id": "33d9ee93",
   "metadata": {},
   "outputs": [],
   "source": [
    "# # keep_file = sub_id+'_0001d.mat'\n",
    "# keep_file = rec_id+'_0004d.mat' # 0004d has all info, 0004 only has waveforms (matrix)\n",
    "\n",
    "# # sub_id"
   ]
  },
  {
   "cell_type": "code",
   "execution_count": 15,
   "id": "4b2753bd-e9da-488d-bd69-92c32dca616e",
   "metadata": {},
   "outputs": [],
   "source": [
    "recording_name = rec_id+'_'+header_id\n",
    "\n"
   ]
  },
  {
   "cell_type": "code",
   "execution_count": 16,
   "id": "61318e98",
   "metadata": {},
   "outputs": [],
   "source": [
    "waveformdir = inputdir+rec_id+'/' +rec_id+'_'+header_id+'.mat'\n",
    "data = loadmat(waveformdir)['val']\n"
   ]
  },
  {
   "cell_type": "code",
   "execution_count": 17,
   "id": "e6fd1c42",
   "metadata": {},
   "outputs": [],
   "source": [
    "# # file_d_name = keep_file\n",
    "\n",
    "# # file_d_dir = inputdir_rec+file_d_name\n",
    "\n",
    "# waveformdir = inputdir+rec_id+'/' +rec_id+'_'+header_id+'d.mat'\n",
    "\n",
    "# data_d = loadmat(waveformdir)\n",
    "# print(data_d['wlabel'])\n",
    "# wlabel = data_d['wlabel']\n",
    "\n",
    "# sig_names = []\n",
    "# for label in wlabel:\n",
    "#     sig_names.append(label.split(' ')[0])\n",
    "\n",
    "# data_d"
   ]
  },
  {
   "cell_type": "code",
   "execution_count": 18,
   "id": "9dc412c6",
   "metadata": {},
   "outputs": [],
   "source": [
    "# plt.plot(data_d['val'][0,:5000])"
   ]
  },
  {
   "cell_type": "code",
   "execution_count": null,
   "id": "6729d9f9",
   "metadata": {},
   "outputs": [],
   "source": []
  },
  {
   "cell_type": "code",
   "execution_count": null,
   "id": "f87ff4f8",
   "metadata": {},
   "outputs": [],
   "source": []
  },
  {
   "cell_type": "code",
   "execution_count": 19,
   "id": "dd8bff2a",
   "metadata": {},
   "outputs": [],
   "source": [
    "# file_name = file_d_name.replace(\"d.mat\", \".mat\")\n",
    "# # file_name = 'A071-0512777549_0000.mat'\n",
    "\n",
    "# file_dir = inputdir_rec+file_name\n",
    "\n",
    "# data = loadmat(file_dir)['val']\n"
   ]
  },
  {
   "cell_type": "code",
   "execution_count": 20,
   "id": "f8a307bf",
   "metadata": {},
   "outputs": [],
   "source": [
    "# data.shape, wgain.squeeze()"
   ]
  },
  {
   "cell_type": "markdown",
   "id": "8071bbf7",
   "metadata": {},
   "source": [
    "# store the data in dataframe"
   ]
  },
  {
   "cell_type": "code",
   "execution_count": 21,
   "id": "347279f1-5563-4e2a-a260-33fa44a637c8",
   "metadata": {},
   "outputs": [],
   "source": [
    "unit_dict = header_dict['unit_dict']\n",
    "gain_dict = header_dict['gain_dict']\n",
    "\n",
    "Fs = header_dict['Fs']"
   ]
  },
  {
   "cell_type": "code",
   "execution_count": 22,
   "id": "45f82e9a-7b96-455d-8dfb-6337acd61a2c",
   "metadata": {},
   "outputs": [
    {
     "data": {
      "text/plain": [
       "{'Fs': 240,\n",
       " 'N_sigs': 8,\n",
       " 'start_time': '03:40:36.000',\n",
       " 'date': '21/01/1988',\n",
       " 'N_samples': 6912000,\n",
       " 't_dur(hr)': 8.0,\n",
       " 'unit_dict': {'I': 'mV',\n",
       "  'II': 'mV',\n",
       "  'III': 'mV',\n",
       "  'V': 'mV',\n",
       "  'AR1': 'mmHg',\n",
       "  'SPO2': 'a.u.',\n",
       "  'CO2': 'mmHg',\n",
       "  'RR': 'a.u.'},\n",
       " 'gain_dict': {'I': 409.836,\n",
       "  'II': 409.836,\n",
       "  'III': 409.836,\n",
       "  'V': 409.836,\n",
       "  'AR1': 5.0,\n",
       "  'SPO2': 200.0,\n",
       "  'CO2': 4.0,\n",
       "  'RR': 200.0}}"
      ]
     },
     "execution_count": 22,
     "metadata": {},
     "output_type": "execute_result"
    }
   ],
   "source": [
    "header_dict"
   ]
  },
  {
   "cell_type": "code",
   "execution_count": 23,
   "id": "de7287ae",
   "metadata": {},
   "outputs": [],
   "source": [
    "raw_dict = {}\n",
    "# wgain = data_d['wgain'].squeeze()\n",
    "\n",
    "for i, sig_name in enumerate(gain_dict.keys()):\n",
    "    raw_dict[sig_name] = data[i, :]/gain_dict[sig_name]"
   ]
  },
  {
   "cell_type": "code",
   "execution_count": 24,
   "id": "e04bfdb9",
   "metadata": {},
   "outputs": [],
   "source": [
    "\n",
    "df = pd.DataFrame(raw_dict)"
   ]
  },
  {
   "cell_type": "code",
   "execution_count": 25,
   "id": "b6b9b6c6",
   "metadata": {},
   "outputs": [
    {
     "data": {
      "text/html": [
       "<div>\n",
       "<style scoped>\n",
       "    .dataframe tbody tr th:only-of-type {\n",
       "        vertical-align: middle;\n",
       "    }\n",
       "\n",
       "    .dataframe tbody tr th {\n",
       "        vertical-align: top;\n",
       "    }\n",
       "\n",
       "    .dataframe thead th {\n",
       "        text-align: right;\n",
       "    }\n",
       "</style>\n",
       "<table border=\"1\" class=\"dataframe\">\n",
       "  <thead>\n",
       "    <tr style=\"text-align: right;\">\n",
       "      <th></th>\n",
       "      <th>I</th>\n",
       "      <th>II</th>\n",
       "      <th>III</th>\n",
       "      <th>V</th>\n",
       "      <th>AR1</th>\n",
       "      <th>SPO2</th>\n",
       "      <th>CO2</th>\n",
       "      <th>RR</th>\n",
       "    </tr>\n",
       "  </thead>\n",
       "  <tbody>\n",
       "    <tr>\n",
       "      <th>0</th>\n",
       "      <td>-0.04636</td>\n",
       "      <td>-0.09028</td>\n",
       "      <td>-0.05612</td>\n",
       "      <td>0.14396</td>\n",
       "      <td>60.4</td>\n",
       "      <td>4.180</td>\n",
       "      <td>0.0</td>\n",
       "      <td>-0.050</td>\n",
       "    </tr>\n",
       "    <tr>\n",
       "      <th>1</th>\n",
       "      <td>-0.04392</td>\n",
       "      <td>-0.08540</td>\n",
       "      <td>-0.06344</td>\n",
       "      <td>0.14396</td>\n",
       "      <td>60.4</td>\n",
       "      <td>4.180</td>\n",
       "      <td>0.0</td>\n",
       "      <td>-0.050</td>\n",
       "    </tr>\n",
       "    <tr>\n",
       "      <th>2</th>\n",
       "      <td>-0.04392</td>\n",
       "      <td>-0.09028</td>\n",
       "      <td>-0.08296</td>\n",
       "      <td>0.14152</td>\n",
       "      <td>60.4</td>\n",
       "      <td>4.180</td>\n",
       "      <td>0.0</td>\n",
       "      <td>-0.050</td>\n",
       "    </tr>\n",
       "    <tr>\n",
       "      <th>3</th>\n",
       "      <td>-0.03904</td>\n",
       "      <td>-0.10492</td>\n",
       "      <td>-0.11468</td>\n",
       "      <td>0.14396</td>\n",
       "      <td>60.4</td>\n",
       "      <td>4.180</td>\n",
       "      <td>0.0</td>\n",
       "      <td>-0.050</td>\n",
       "    </tr>\n",
       "    <tr>\n",
       "      <th>4</th>\n",
       "      <td>-0.03904</td>\n",
       "      <td>-0.13664</td>\n",
       "      <td>-0.15128</td>\n",
       "      <td>0.14640</td>\n",
       "      <td>60.2</td>\n",
       "      <td>4.170</td>\n",
       "      <td>0.0</td>\n",
       "      <td>-0.025</td>\n",
       "    </tr>\n",
       "    <tr>\n",
       "      <th>...</th>\n",
       "      <td>...</td>\n",
       "      <td>...</td>\n",
       "      <td>...</td>\n",
       "      <td>...</td>\n",
       "      <td>...</td>\n",
       "      <td>...</td>\n",
       "      <td>...</td>\n",
       "      <td>...</td>\n",
       "    </tr>\n",
       "    <tr>\n",
       "      <th>6911995</th>\n",
       "      <td>0.01464</td>\n",
       "      <td>0.18544</td>\n",
       "      <td>0.13420</td>\n",
       "      <td>-0.04392</td>\n",
       "      <td>72.2</td>\n",
       "      <td>4.150</td>\n",
       "      <td>0.0</td>\n",
       "      <td>-1.205</td>\n",
       "    </tr>\n",
       "    <tr>\n",
       "      <th>6911996</th>\n",
       "      <td>0.00000</td>\n",
       "      <td>0.17568</td>\n",
       "      <td>0.13664</td>\n",
       "      <td>-0.03416</td>\n",
       "      <td>72.8</td>\n",
       "      <td>4.175</td>\n",
       "      <td>0.0</td>\n",
       "      <td>-1.175</td>\n",
       "    </tr>\n",
       "    <tr>\n",
       "      <th>6911997</th>\n",
       "      <td>-0.02440</td>\n",
       "      <td>0.16836</td>\n",
       "      <td>0.15616</td>\n",
       "      <td>-0.01464</td>\n",
       "      <td>73.4</td>\n",
       "      <td>4.205</td>\n",
       "      <td>0.0</td>\n",
       "      <td>-1.175</td>\n",
       "    </tr>\n",
       "    <tr>\n",
       "      <th>6911998</th>\n",
       "      <td>-0.03416</td>\n",
       "      <td>0.16592</td>\n",
       "      <td>0.17568</td>\n",
       "      <td>0.00000</td>\n",
       "      <td>74.6</td>\n",
       "      <td>4.205</td>\n",
       "      <td>0.0</td>\n",
       "      <td>-1.175</td>\n",
       "    </tr>\n",
       "    <tr>\n",
       "      <th>6911999</th>\n",
       "      <td>-0.03172</td>\n",
       "      <td>0.17324</td>\n",
       "      <td>0.18788</td>\n",
       "      <td>0.00976</td>\n",
       "      <td>75.8</td>\n",
       "      <td>4.235</td>\n",
       "      <td>0.0</td>\n",
       "      <td>-1.175</td>\n",
       "    </tr>\n",
       "  </tbody>\n",
       "</table>\n",
       "<p>6912000 rows × 8 columns</p>\n",
       "</div>"
      ],
      "text/plain": [
       "               I       II      III        V   AR1   SPO2  CO2     RR\n",
       "0       -0.04636 -0.09028 -0.05612  0.14396  60.4  4.180  0.0 -0.050\n",
       "1       -0.04392 -0.08540 -0.06344  0.14396  60.4  4.180  0.0 -0.050\n",
       "2       -0.04392 -0.09028 -0.08296  0.14152  60.4  4.180  0.0 -0.050\n",
       "3       -0.03904 -0.10492 -0.11468  0.14396  60.4  4.180  0.0 -0.050\n",
       "4       -0.03904 -0.13664 -0.15128  0.14640  60.2  4.170  0.0 -0.025\n",
       "...          ...      ...      ...      ...   ...    ...  ...    ...\n",
       "6911995  0.01464  0.18544  0.13420 -0.04392  72.2  4.150  0.0 -1.205\n",
       "6911996  0.00000  0.17568  0.13664 -0.03416  72.8  4.175  0.0 -1.175\n",
       "6911997 -0.02440  0.16836  0.15616 -0.01464  73.4  4.205  0.0 -1.175\n",
       "6911998 -0.03416  0.16592  0.17568  0.00000  74.6  4.205  0.0 -1.175\n",
       "6911999 -0.03172  0.17324  0.18788  0.00976  75.8  4.235  0.0 -1.175\n",
       "\n",
       "[6912000 rows x 8 columns]"
      ]
     },
     "execution_count": 25,
     "metadata": {},
     "output_type": "execute_result"
    }
   ],
   "source": [
    "df"
   ]
  },
  {
   "cell_type": "code",
   "execution_count": null,
   "id": "0285f62f",
   "metadata": {},
   "outputs": [],
   "source": []
  },
  {
   "cell_type": "code",
   "execution_count": null,
   "id": "f01fc243",
   "metadata": {},
   "outputs": [],
   "source": []
  },
  {
   "cell_type": "code",
   "execution_count": 26,
   "id": "c5b6a051",
   "metadata": {},
   "outputs": [
    {
     "name": "stdout",
     "output_type": "stream",
     "text": [
      "t_dur: 28800.00s\n"
     ]
    }
   ],
   "source": [
    "t_arr = np.arange(df.shape[0])/Fs\n",
    "\n",
    "df['time'] = t_arr\n",
    "df['time'] = df['time']-df['time'].values[0]\n",
    "\n",
    "t_dur = df.shape[0]/Fs\n",
    "print('t_dur: {:.2f}s'.format(t_dur))"
   ]
  },
  {
   "cell_type": "code",
   "execution_count": null,
   "id": "052ec243",
   "metadata": {},
   "outputs": [],
   "source": []
  },
  {
   "cell_type": "code",
   "execution_count": null,
   "id": "9db480bc",
   "metadata": {},
   "outputs": [],
   "source": []
  },
  {
   "cell_type": "code",
   "execution_count": null,
   "id": "e5f43797",
   "metadata": {},
   "outputs": [],
   "source": []
  },
  {
   "cell_type": "code",
   "execution_count": null,
   "id": "b106c9c4",
   "metadata": {},
   "outputs": [],
   "source": []
  },
  {
   "cell_type": "code",
   "execution_count": 27,
   "id": "b579a6ff",
   "metadata": {},
   "outputs": [],
   "source": [
    "# '{}'.format(unit_dict[sig_name])"
   ]
  },
  {
   "cell_type": "code",
   "execution_count": 28,
   "id": "68a489be",
   "metadata": {},
   "outputs": [],
   "source": [
    "# plotted_sigs\n",
    "# sig_name.split(' ')[0]"
   ]
  },
  {
   "cell_type": "code",
   "execution_count": null,
   "id": "5b814471",
   "metadata": {},
   "outputs": [],
   "source": []
  },
  {
   "cell_type": "code",
   "execution_count": null,
   "id": "1a4c5d05",
   "metadata": {},
   "outputs": [],
   "source": []
  },
  {
   "cell_type": "code",
   "execution_count": 29,
   "id": "760a0e4a",
   "metadata": {},
   "outputs": [
    {
     "name": "stdout",
     "output_type": "stream",
     "text": [
      "I ECG (lead I)\n",
      "(mV)\n",
      "II ECG (lead II)\n",
      "(mV)\n",
      "III ECG (lead III)\n",
      "(mV)\n",
      "V ECG (lead V)\n",
      "(mV)\n",
      "AR1 AR1\n",
      "(mmHg)\n",
      "SPO2 PPG\n",
      "(a.u.)\n",
      "CO2 CO2\n",
      "(mmHg)\n",
      "RR RR\n",
      "(a.u.)\n"
     ]
    }
   ],
   "source": [
    "plotted_sigs = list(unit_dict.keys())\n",
    "\n",
    "for sig_name in plotted_sigs:\n",
    "    \n",
    "    if 'I' == sig_name or 'II' == sig_name or 'III' == sig_name or 'V' == sig_name:\n",
    "        sig_title = 'ECG (lead {})'.format(sig_name)+ '\\n({})'.format(unit_dict[sig_name])\n",
    "    elif 'RR' == sig_name:\n",
    "        sig_title = 'RR'+ '\\n({})'.format('a.u.')\n",
    "    elif 'SPO2' == sig_name:\n",
    "        sig_title = 'PPG'+ '\\n({})'.format('a.u.')\n",
    "    elif 'AR1' == sig_name:\n",
    "        sig_title = 'AR1'+ '\\n({})'.format(unit_dict[sig_name])\n",
    "    elif 'CVP3' == sig_name:\n",
    "        sig_title = 'CVP3'+ '\\n({})'.format(unit_dict[sig_name])\n",
    "    elif 'CO2' == sig_name:\n",
    "        sig_title = 'CO2'+ '\\n({})'.format(unit_dict[sig_name])\n",
    "    else:\n",
    "        sig_title = 'a.u.'\n",
    "        \n",
    "    print(sig_name, sig_title)"
   ]
  },
  {
   "cell_type": "code",
   "execution_count": null,
   "id": "10951e72",
   "metadata": {},
   "outputs": [],
   "source": []
  },
  {
   "cell_type": "code",
   "execution_count": null,
   "id": "eb749e6c",
   "metadata": {},
   "outputs": [],
   "source": []
  },
  {
   "cell_type": "code",
   "execution_count": 30,
   "id": "63b1df5a",
   "metadata": {},
   "outputs": [],
   "source": [
    "# def plot_all_sync(df, subject_id, plotted_sigs, plt_scale=0.3, fig_name=None, outputdir=None, show_plot=False):\n",
    "\n",
    "#     # if plotted_sigs is None:\n",
    "#     #     plotted_sigs = PLOTTED_SIGS\n",
    "\n",
    "#     #     subject_id = df['subject_id'].unique()[0]\n",
    "\n",
    "#     t_start = 100\n",
    "#     t_end = 200\n",
    "\n",
    "#     df_seg = df[(df['time']>=t_start) & (df['time']<=t_end)].copy()\n",
    "\n",
    "#     t_arr = df_seg['time'].values\n",
    "#     #     t_arr = t_arr - t_arr[0]\n",
    "\n",
    "#     t_start = t_arr[0]\n",
    "#     t_end = t_arr[-1]\n",
    "\n",
    "#     t_dur = t_arr[-1] - t_arr[0]\n",
    "#     plt_scale = 0.5\n",
    "\n",
    "#     fig, axes = plt.subplots(len(plotted_sigs), 1, figsize=(25,len(plotted_sigs)), gridspec_kw = {'wspace':0, 'hspace':0}, dpi=80)\n",
    "\n",
    "#     # TODO: make a plot dict\n",
    "#     fontsize = 20*plt_scale\n",
    "#     linewidth = 2\n",
    "#     alpha = 0.8\n",
    "\n",
    "#     for i, ax in enumerate(axes):\n",
    "#         # condition grid\n",
    "#         ax.grid('on', linestyle='--')\n",
    "#         # no x ticks except for the bottom ax\n",
    "#         if i<len(axes)-1:\n",
    "#             ax.set_xticklabels([])\n",
    "#         # add y ticks to all axes\n",
    "#         ax.tick_params(axis='y', which='both', labelsize=20)\n",
    "\n",
    "#         sig_name = plotted_sigs[i]\n",
    "#         sig_plt = df_seg[sig_name].values\n",
    "\n",
    "#         # if sig_name in sync_color_dict.keys():\n",
    "#         #     color = color_dict[sync_color_dict[sig_name]]\n",
    "#         # else:\n",
    "#         #     color = random_colors[i]\n",
    "#         ax.plot(t_arr, sig_plt, alpha=alpha ,zorder=1, linewidth=linewidth)\n",
    "#         ax.set_xlim(t_start, t_end) # remove the weird white space at the beg and end of the plot\n",
    "\n",
    "\n",
    "#     #     # remove some borders (top and right)\n",
    "#     #     ax.spines['right'].set_visible(False)\n",
    "#     #     if i==0:\n",
    "#     #         ax.spines['top'].set_visible(False)\n",
    "\n",
    "#     #     # add y label, indicate their unit\n",
    "#         if 'I' == sig_name or 'II' == sig_name or 'III' == sig_name or 'V' == sig_name:\n",
    "#             sig_title = 'ECG (lead {})'.format(sig_name)+ '\\n({})'.format(unit_dict[sig_name])\n",
    "#         elif 'RR' == sig_name:\n",
    "#             sig_title = 'RR'+ '\\n({})'.format('a.u.')\n",
    "#         elif 'SPO2' == sig_name:\n",
    "#             sig_title = 'PPG'+ '\\n({})'.format('a.u.')\n",
    "#         elif 'AR1' == sig_name:\n",
    "#             sig_title = 'AR1'+ '\\n({})'.format(unit_dict[sig_name])\n",
    "#         elif 'CVP3' == sig_name:\n",
    "#             sig_title = 'CVP3'+ '\\n({})'.format(unit_dict[sig_name])\n",
    "#         elif 'CO2' == sig_name:\n",
    "#             sig_title = 'CO2'+ '\\n({})'.format(unit_dict[sig_name])\n",
    "#         else:\n",
    "#             sig_title = 'a.u.'\n",
    "\n",
    "\n",
    "\n",
    "#         ax.set_ylabel(sig_title, fontsize=fontsize,rotation = 0,  va='center', ha='center',  labelpad=100)\n",
    "\n",
    "#         # set tick font size\n",
    "#         ax.tick_params(axis='both', which='major', labelsize=fontsize*0.8)\n",
    "\n",
    "\n",
    "#     #     # do this so there's no weird white space on top and bottom of each ax\n",
    "#     #     y_min, y_max = ax.get_ylim()\n",
    "#     #     ax.set_ylim(y_min, y_max)\n",
    "\n",
    "\n",
    "\n",
    "\n",
    "#     # ax.set_xlabel('time (sec)', fontsize=fontsize)\n",
    "#     # fig.subplots_adjust(wspace=0, hspace=0)\n",
    "    \n",
    "#     fig.tight_layout()\n",
    "\n",
    "#     if fig_name is None:\n",
    "#         fig_name = 'All_sub{}'.format(subject_id)\n",
    "#     else:\n",
    "#         fig_name = fig_name + '_sub{}'.format(subject_id)\n",
    "\n",
    "#     if outputdir is not None:\n",
    "#         if not os.path.exists(outputdir):\n",
    "#             os.makedirs(outputdir)\n",
    "#         fig.savefig(outputdir + fig_name, bbox_inches='tight', transparent=False)\n",
    "\n",
    "#     if show_plot == False:\n",
    "#         plt.close(fig)\n",
    "#         pyplot.close(fig)\n",
    "#         plt.close('all')"
   ]
  },
  {
   "cell_type": "code",
   "execution_count": 31,
   "id": "15008f5e",
   "metadata": {},
   "outputs": [
    {
     "data": {
      "image/png": "[encoded data removed]",
      "text/plain": [
       "<Figure size 2000x640 with 8 Axes>"
      ]
     },
     "metadata": {},
     "output_type": "display_data"
    }
   ],
   "source": [
    "plot_all_sync(df, subject_id, plotted_sigs, unit_dict, fig_name=None, outputdir=None, show_plot=True)\n"
   ]
  },
  {
   "cell_type": "code",
   "execution_count": null,
   "id": "086ed4ce-eccf-490f-91d7-4ec754fae666",
   "metadata": {},
   "outputs": [],
   "source": []
  },
  {
   "cell_type": "code",
   "execution_count": null,
   "id": "5ee45629-8866-4bbe-b178-e50561a5f1e6",
   "metadata": {},
   "outputs": [],
   "source": []
  },
  {
   "cell_type": "code",
   "execution_count": null,
   "id": "15fcadd7-1e9a-46a6-b5ca-325c4d8efe94",
   "metadata": {},
   "outputs": [],
   "source": []
  },
  {
   "cell_type": "code",
   "execution_count": null,
   "id": "6fd9e68e-b843-45c5-a877-2295b29c4493",
   "metadata": {},
   "outputs": [],
   "source": []
  },
  {
   "cell_type": "code",
   "execution_count": null,
   "id": "6d7256a4-0a5f-4529-a9fb-7b7a892c0e6c",
   "metadata": {},
   "outputs": [],
   "source": []
  },
  {
   "cell_type": "markdown",
   "id": "891c0c07-fc9c-4a23-8d6b-557320940abc",
   "metadata": {},
   "source": [
    "# signal level functions"
   ]
  },
  {
   "cell_type": "code",
   "execution_count": null,
   "id": "b6df3552-9416-4990-965c-d89a0438b928",
   "metadata": {},
   "outputs": [],
   "source": [
    "def get_ecg_IP_norm(ecg1, ecg2):\n",
    "    return (ecg1 @ ecg2) / ((ecg1 @ ecg1)**0.5 * (ecg2 @ ecg2)**0.5)\n",
    "\n"
   ]
  },
  {
   "cell_type": "markdown",
   "id": "ec1d4572-9c61-459e-883a-02847968b498",
   "metadata": {},
   "source": [
    "# signal to beats"
   ]
  },
  {
   "cell_type": "code",
   "execution_count": null,
   "id": "8db804c3-7075-48e3-90c3-c026ba4f95c6",
   "metadata": {},
   "outputs": [],
   "source": [
    "def segment_df(df_seg, QRS_detector_dict, Fs):\n",
    "    \n",
    "    df = get_filt_df(df_seg, Fs).copy()\n",
    "    \n",
    "    \n",
    "    ecg_dict = QRS_detector_dict['ecg_dict']\n",
    "    i_R_peaks = QRS_detector_dict['i_R_peaks']\n",
    "#     i_R_peaks = QRS_detector_dict['i_R_peaks']\n",
    "    # end_offset = QRS_detector_dict['end_offset']\n",
    "    end_offset = int(1*Fs)\n",
    "    # print(end_offset)\n",
    "    # sys.exit()\n",
    "    \n",
    "    beats_dict = {}\n",
    "    \n",
    "\n",
    "    for sig_name in df.columns:\n",
    "        if sig_name =='time':\n",
    "            continue\n",
    "        if sig_name =='RR':\n",
    "            continue\n",
    "        sig_beats, i_R_peaks_used = beat_segmentation(df[sig_name].values, i_R_peaks, start_offset=0, end_offset=end_offset)\n",
    "        beats_dict[sig_name] = sig_beats\n",
    "        \n",
    "        \n",
    "    sig_beats, i_R_peaks_used = beat_segmentation(df_seg['SPO2'].values, i_R_peaks, start_offset=0, end_offset=end_offset)\n",
    "    beats_dict['PPG_DC'] = sig_beats\n",
    "\n",
    "    beats_dict['i_R_peaks'] = i_R_peaks_used\n",
    "    \n",
    "    return beats_dict"
   ]
  },
  {
   "cell_type": "markdown",
   "id": "f6a5297c-2622-4793-8354-166d4935b31b",
   "metadata": {},
   "source": [
    "# feature level functions"
   ]
  },
  {
   "cell_type": "code",
   "execution_count": null,
   "id": "9e6643c0-9113-432f-be4a-2bff8b22f8e3",
   "metadata": {},
   "outputs": [],
   "source": [
    "def get_B2C(sig,beat_deriv1, beat_deriv2, Fs):\n",
    "    N_window = int(0.15*Fs)\n",
    "    i_min, i_derivmax, i_foot, data_derivmax, data_min = PPG_argfoot(sig, fs=Fs)\n",
    "    # np.argmin(np.abs(beat_deriv1[i_min-N_window:i_min+N_window]))\n",
    "    # i_foot = i_max-N_window\n",
    "\n",
    "    i_min = i_min[0]\n",
    "\n",
    "    i_A = np.argmax(beat_deriv2[i_min:i_min+int(0.1*Fs)])\n",
    "    i_A += i_min\n",
    "\n",
    "    i_B = np.argmin(beat_deriv2[i_A:i_A+int(0.2*Fs)])\n",
    "    i_B += i_A\n",
    "\n",
    "    i_C = np.argmax(beat_deriv2[i_B:i_B+int(0.2*Fs)])\n",
    "    i_C += i_B\n",
    "\n",
    "    i_D = np.argmin(beat_deriv2[i_C:i_C+int(0.2*Fs)])\n",
    "    i_D += i_C\n",
    "\n",
    "    amplitude_A = np.abs(beat_deriv2[i_A])\n",
    "    amplitude_B = np.abs(beat_deriv2[i_B])\n",
    "    amplitude_C = np.abs(beat_deriv2[i_C])\n",
    "    amplitude_D = np.abs(beat_deriv2[i_D])\n",
    "\n",
    "\n",
    "    feature_B2C = amplitude_B/amplitude_C\n",
    "    \n",
    "    output_dict = {\n",
    "    'i_min': i_min,\n",
    "    'i_A': i_A,\n",
    "    'i_B': i_B,\n",
    "    'i_C': i_C,\n",
    "    'i_D': i_D,\n",
    "    'amplitude_A': amplitude_A,\n",
    "    'amplitude_B': amplitude_B,\n",
    "    'amplitude_C': amplitude_C,\n",
    "    'amplitude_D': amplitude_D,\n",
    "    'feature_B2C': feature_B2C,\n",
    "    }\n",
    "    \n",
    "    return output_dict\n",
    "\n",
    "def debug_B2C(beats_PPG, Fs):\n",
    "    k = 20\n",
    "    sig= beats_PPG[:,[k]]\n",
    "    dx = 1/Fs\n",
    "\n",
    "    beat_deriv1 = np.gradient(sig.squeeze(), dx)\n",
    "    beat_deriv2 = np.gradient(np.gradient(sig.squeeze(), dx), dx)\n",
    "\n",
    "    output_dict = get_B2C(sig, beat_deriv1, beat_deriv2, Fs)\n",
    "\n",
    "    fig, (ax1, ax2, ax3) = plt.subplots(3, 1, figsize=(8,5), dpi=100)\n",
    "\n",
    "    ax1.plot(t_beat, beats[:,k], color='gray', alpha=1)\n",
    "    ax1.set_ylabel('PPG')\n",
    "    ax2.plot(t_beat, beat_deriv1, color='gray', alpha=1)\n",
    "    ax2.set_ylabel('PPG 1st derivative')\n",
    "\n",
    "    ax3.plot(t_beat, beat_deriv2, color='gray', alpha=1)\n",
    "\n",
    "    ax3.scatter(output_dict['i_min']/Fs, beat_deriv2[output_dict['i_min']])\n",
    "    ax3.scatter(output_dict['i_A']/Fs, beat_deriv2[output_dict['i_A']], color='r')\n",
    "    ax3.scatter(output_dict['i_B']/Fs, beat_deriv2[output_dict['i_B']], color='g')\n",
    "    ax3.scatter(output_dict['i_C']/Fs, beat_deriv2[output_dict['i_C']], color='k')\n",
    "    ax3.scatter(output_dict['i_D']/Fs, beat_deriv2[output_dict['i_D']], color='y')\n",
    "    ax3.set_ylabel('PPG 2nd derivative')\n",
    "\n",
    "    \n",
    "def get_max2min(sig):\n",
    "\n",
    "    feature_max2min = sig.max()-sig.min()\n",
    "\n",
    "    output_dict = {\n",
    "        'feature_max2min': feature_max2min\n",
    "    }\n",
    "\n",
    "    return output_dict\n",
    "\n",
    "def get_PI(feature_max2min, sig_DC):\n",
    "    \n",
    "    featrue_PI = feature_max2min/sig_DC.mean()\n",
    "    \n",
    "    output_dict = {\n",
    "        'featrue_PI': featrue_PI\n",
    "    }\n",
    "    \n",
    "    return output_dict\n",
    "\n",
    "\n",
    "def get_std(sig):\n",
    "    return np.std(sig)\n",
    "\n",
    "def get_skewness(sig):\n",
    "    return scipy.stats.skew(sig)[0]\n",
    "\n",
    "def get_kurtosis(sig):\n",
    "    return scipy.stats.kurtosis(sig)[0]\n",
    "\n",
    "def get_energy(sig):\n",
    "    return np.sum((sig-sig.mean())**2)\n",
    "\n",
    "def get_rms(sig):\n",
    "    return np.sqrt(np.mean(sig**2))\n",
    "\n",
    "def get_mean(sig_DC):\n",
    "    return np.mean(sig_DC)\n"
   ]
  },
  {
   "cell_type": "markdown",
   "id": "726ccb16-163d-47aa-a657-6b38146b4156",
   "metadata": {},
   "source": [
    "# master beat2features function"
   ]
  },
  {
   "cell_type": "code",
   "execution_count": null,
   "id": "16f1bdae-7ce3-436d-9af0-eb4bbd881a86",
   "metadata": {},
   "outputs": [],
   "source": [
    "def beat2features(beats_dict, Fs):\n",
    "\n",
    "    beats_PPG = beats_dict['SPO2']\n",
    "    beats_PPG_DC = beats_dict['PPG_DC']\n",
    "    i_R_peaks = beats_dict['i_R_peaks']\n",
    "    dx = 1/Fs\n",
    "\n",
    "    df_features = pd.DataFrame()\n",
    "\n",
    "    for k in range(beats_PPG.shape[1]):\n",
    "        # print(k)\n",
    "        sig = beats_PPG[:,[k]]\n",
    "        sig_DC = beats_PPG_DC[:,[k]]\n",
    "        i_R_peak = i_R_peaks[k]\n",
    "\n",
    "        beat_deriv1 = np.gradient(sig.squeeze(), dx)\n",
    "        beat_deriv2 = np.gradient(np.gradient(sig.squeeze(), dx), dx)\n",
    "\n",
    "        feature_B2C = get_B2C(sig, beat_deriv1, beat_deriv2, Fs)['feature_B2C']\n",
    "        feature_max2min = get_max2min(sig)['feature_max2min']\n",
    "        featrue_PI = get_PI(feature_max2min, sig_DC)['featrue_PI']\n",
    "\n",
    "\n",
    "\n",
    "        # features that use cardiac PPG (filtered between 0.8-4Hz)\n",
    "        feature_std = get_std(sig)\n",
    "        feature_skewness = get_skewness(sig)\n",
    "        feature_kurtosis = get_kurtosis(sig)\n",
    "        feature_rms = get_rms(sig)\n",
    "        feature_energy = get_energy(sig)\n",
    "\n",
    "\n",
    "        # features that use raw PPG\n",
    "        feature_mean = get_mean(sig_DC)\n",
    "\n",
    "\n",
    "        df_beat = pd.DataFrame({\n",
    "            'i_R_peak': [i_R_peak],\n",
    "            'B2C': [feature_B2C],\n",
    "            'max2min': [feature_max2min],\n",
    "            'PI': [featrue_PI],\n",
    "            'std': [feature_std],\n",
    "            'skewness': [feature_skewness],\n",
    "            'kurtosis': [feature_kurtosis],\n",
    "            'rms': [feature_rms],\n",
    "            'energy': [feature_energy],\n",
    "            'mean': [feature_mean],\n",
    "        })\n",
    "\n",
    "        df_features = pd.concat([df_features, df_beat])\n",
    "\n",
    "        # df_features = df_features.append(df_beat)\n",
    "\n",
    "    return df_features\n"
   ]
  },
  {
   "cell_type": "code",
   "execution_count": null,
   "id": "51b7dcaa-bc20-4531-8d2f-d45cdfa7eaaa",
   "metadata": {},
   "outputs": [],
   "source": [
    "def get_FQI_dict(data):\n",
    "\n",
    "    data_median = medfilt(data, k=9)\n",
    "\n",
    "    data_deviation = np.abs(data - data_median)\n",
    "\n",
    "    mask_feature = data_deviation < data_deviation.std()*3\n",
    "\n",
    "    data_deviation_normed = (data_deviation-data_deviation.min()) / (data_deviation.max()-data_deviation.min())\n",
    "\n",
    "    FQI = np.exp(-0.5*data_deviation_normed)\n",
    "\n",
    "    FQI_dict = {\n",
    "        'data_deviation': data_deviation,\n",
    "        'mask_feature': mask_feature,\n",
    "        'FQI': FQI,\n",
    "    }\n",
    "    return FQI_dict"
   ]
  },
  {
   "cell_type": "markdown",
   "id": "d965d3df-39ae-4b2a-ae99-5073627b9f55",
   "metadata": {},
   "source": [
    "# feature level qaulity assessment"
   ]
  },
  {
   "cell_type": "code",
   "execution_count": null,
   "id": "be8878dc-4f83-460d-b907-6d9f9e03975a",
   "metadata": {},
   "outputs": [],
   "source": []
  },
  {
   "cell_type": "code",
   "execution_count": null,
   "id": "f82716a5-a23f-4f71-871f-ad9978431f46",
   "metadata": {},
   "outputs": [],
   "source": [
    "def get_mask_all(df_features):\n",
    "\n",
    "    mask_feature_list = []\n",
    "    for feature_name in df_features.columns:\n",
    "        if feature_name == 'i_R_peak':\n",
    "            continue\n",
    "\n",
    "        FQI_dict = get_FQI_dict(df_features['B2C'].values)\n",
    "        mask_feature = FQI_dict['mask_feature']\n",
    "        mask_feature_list.append(mask_feature)\n",
    "        # print(feature_name)\n",
    "\n",
    "    mask_feature_list = np.stack(mask_feature_list).T\n",
    "    mask_feature_list = np.prod(mask_feature_list, axis=1)\n",
    "    mask_feature_list = mask_feature_list==1\n",
    "    return mask_feature_list"
   ]
  },
  {
   "cell_type": "code",
   "execution_count": null,
   "id": "decc0439-cb3b-4ff4-b934-b027b9b042d3",
   "metadata": {},
   "outputs": [],
   "source": [
    "def masking_beats_dict(beats_dict, mask):\n",
    "\n",
    "    # print(beats_dict['AR1'].shape)\n",
    "    for beat_name in beats_dict.keys():\n",
    "        if beat_name == 'i_R_peaks':\n",
    "            beats_dict[beat_name] = beats_dict[beat_name][mask]\n",
    "        else:\n",
    "            beats_dict[beat_name] = beats_dict[beat_name][:, mask]\n",
    "\n",
    "    # print(beats_dict['AR1'].shape)\n",
    "\n",
    "    return beats_dict"
   ]
  },
  {
   "cell_type": "code",
   "execution_count": null,
   "id": "101b03c3-6d58-4710-b914-f0e9d3706ff1",
   "metadata": {},
   "outputs": [],
   "source": []
  },
  {
   "cell_type": "code",
   "execution_count": null,
   "id": "7cecffd4-ac3f-4bae-93c1-e143ce7e99f6",
   "metadata": {},
   "outputs": [],
   "source": []
  },
  {
   "cell_type": "code",
   "execution_count": null,
   "id": "8588cf8c-ea5d-4bf8-bc41-0b28caa20b61",
   "metadata": {},
   "outputs": [],
   "source": []
  },
  {
   "cell_type": "code",
   "execution_count": null,
   "id": "08ff24e8-915b-487f-9e31-34ab31ad2da2",
   "metadata": {},
   "outputs": [],
   "source": []
  },
  {
   "cell_type": "code",
   "execution_count": null,
   "id": "1ac6e62d-f487-45fb-82f2-72a83f27263f",
   "metadata": {},
   "outputs": [],
   "source": []
  },
  {
   "cell_type": "code",
   "execution_count": null,
   "id": "6cbdbf14-cb76-4a15-93ea-913376dfcc88",
   "metadata": {},
   "outputs": [],
   "source": []
  },
  {
   "cell_type": "code",
   "execution_count": null,
   "id": "d6bf27e6-679b-47ac-8975-3c8075d31669",
   "metadata": {},
   "outputs": [],
   "source": []
  },
  {
   "cell_type": "code",
   "execution_count": null,
   "id": "24049a53-ba00-4354-9272-09d050cc9e0e",
   "metadata": {},
   "outputs": [],
   "source": [
    "\n",
    "# seg_duration = 1 * 60 * 60 # seconds\n",
    "seg_duration = 30 * 60 # seconds\n",
    "print('seg_duration is {} sec'.format(seg_duration))\n",
    "N_segs = int((df.shape[0]/Fs)//seg_duration)\n",
    "\n",
    "df_features_sub = pd.DataFrame()\n",
    "\n",
    "for i_seg in range(N_segs):\n",
    "    \n",
    "    print('i_seg: ', i_seg)\n",
    "\n",
    "    # if i_seg != 5:\n",
    "    #     continue\n",
    "    i_start = i_seg*seg_duration*Fs\n",
    "    i_end = (i_seg+1)*seg_duration*Fs\n",
    "\n",
    "    df_seg = df[i_start:i_end]\n",
    "    \n",
    "    if df_seg.shape[0]==0:\n",
    "        continue\n",
    "    \n",
    "    norm1 = np.abs(get_ecg_IP_norm(df_seg['I'].values, df_seg['II']))\n",
    "    norm2 = np.abs(get_ecg_IP_norm(df_seg['I'].values, df_seg['III']))\n",
    "    norm3 = np.abs(get_ecg_IP_norm(df_seg['I'].values, df_seg['V']))\n",
    "\n",
    "    if (norm1 < 0.3) or (norm2 < 0.3) or (norm3 < 0.3):\n",
    "        print('\\tbad ECG')\n",
    "        continue\n",
    "    \n",
    "\n",
    "    sig_name = 'I'\n",
    "    ECG = df_seg[sig_name].values\n",
    "    \n",
    "    \n",
    "    # ECG = df[sig_name].values\n",
    "\n",
    "    fig_name = 'ECG_diagnostics_'+sig_name\n",
    "    # QRS_detector_dict = task_HR_detector(ECG, Fs, fig_name=fig_name, outputdir=None, show_plot=True)\n",
    "    QRS_detector_dict = task_HR_detector(ECG, Fs, fig_name=fig_name, outputdir=None, show_plot=False)\n",
    "\n",
    "#     t_ecg = np.arange(ECG.shape[0])/Fs\n",
    "#     hr_interp = np.interp(t_ecg, QRS_detector_dict['ts_hr'], QRS_detector_dict['hr'])\n",
    "\n",
    "\n",
    "    # segment the beats\n",
    "    beats_dict = segment_df(df_seg, QRS_detector_dict, Fs)\n",
    "    mask_ppg, ol_rate = clean_PPG(beats_dict['SPO2'], beats_dict['SPO2'].mean(axis=1), Fs)\n",
    "    beats_dict = masking_beats_dict(beats_dict, mask_ppg)\n",
    "\n",
    "    if ol_rate > 0.1:\n",
    "        print('\\tbad PPG')\n",
    "        continue\n",
    "    print('\\t\\tPPG outlier rate: {:.2f}%'.format( ol_rate*100) )\n",
    "    # sys.exit()\n",
    "        \n",
    "\n",
    "    # sys.exit()\n",
    "    \n",
    "    print('\\t\\tpass ECG and PPG SQI tests...')\n",
    "\n",
    "    \n",
    "    beats_dict['i_R_peaks'] = beats_dict['i_R_peaks'] + i_start    \n",
    "\n",
    "    # ensemble the beats (N=4)\n",
    "    use_ensemble = True\n",
    "    \n",
    "    if use_ensemble:\n",
    "        for key in beats_dict:\n",
    "            if 'ppg' not in key:\n",
    "                continue\n",
    "            sig_beats = beats_dict[key]\n",
    "            beats_dict[key] = get_ensemble_beats(sig_beats, N_enBeats=4, use_woody=False)\n",
    "            \n",
    "            \n",
    "    df_features = beat2features(beats_dict, Fs)\n",
    "    \n",
    "    # reject unnecessary features\n",
    "    mask_all = get_mask_all(df_features)\n",
    "    # sys.exit()\n",
    "    print('\\t\\tfaeture rejection rate: {:.2f}%'.format( 100-mask_all.mean()*100) )\n",
    "    df_features = df_features.loc[mask_all, :].copy()\n",
    "    \n",
    "    df_features_sub = pd.concat([df_features_sub, df_features])\n",
    "\n",
    "print('done')"
   ]
  },
  {
   "cell_type": "code",
   "execution_count": null,
   "id": "9361ba1f-e9b3-4333-a9fa-55b6334750f1",
   "metadata": {},
   "outputs": [],
   "source": []
  },
  {
   "cell_type": "code",
   "execution_count": null,
   "id": "a6aff734-116d-48e0-83c8-e3e5f38b5872",
   "metadata": {},
   "outputs": [],
   "source": [
    "if df_features_sub.shape[0]!=0:\n",
    "    \n",
    "    outputdir_recording = outputdir+recording_name+'/'\n",
    "    if not os.path.exists(outputdir_recording):\n",
    "        os.makedirs(outputdir_recording)\n",
    "        \n",
    "\n",
    "    df_features_sub.to_csv(outputdir_recording+'df_features_sub.csv.gz', index=False, compression='gzip')\n",
    "    df = pd.read_csv(outputdir_recording+'df_features_sub.csv.gz', compression='gzip')\n",
    "    print(df)"
   ]
  },
  {
   "cell_type": "code",
   "execution_count": null,
   "id": "087d2601-4be2-48dc-8650-42e6b24b7cb3",
   "metadata": {},
   "outputs": [],
   "source": []
  },
  {
   "cell_type": "code",
   "execution_count": null,
   "id": "64c6528b-f573-4cdc-aea7-f0e2d593ebca",
   "metadata": {},
   "outputs": [],
   "source": []
  },
  {
   "cell_type": "code",
   "execution_count": null,
   "id": "d4b0ca06-6c55-43e2-9103-8fdb91e347ed",
   "metadata": {},
   "outputs": [],
   "source": []
  },
  {
   "cell_type": "code",
   "execution_count": null,
   "id": "0c81e261-b3d9-4f46-9669-1d810837c32f",
   "metadata": {},
   "outputs": [],
   "source": [
    "sys.exit()"
   ]
  },
  {
   "cell_type": "code",
   "execution_count": null,
   "id": "8af8f09f-41b8-46a6-be9d-a3589f3d7801",
   "metadata": {},
   "outputs": [],
   "source": []
  },
  {
   "cell_type": "code",
   "execution_count": null,
   "id": "4dd5fda3-a538-4afa-aa16-5c5204c3c9bf",
   "metadata": {},
   "outputs": [],
   "source": [
    "beats = beats_dict['SPO2']\n",
    "\n",
    "plt.plot(beats, color='gray', alpha=0.1)\n",
    "plt.plot(beats.mean(axis=1), color='red', alpha=0.7)\n",
    "# plt.ylim(-1,1)\n",
    "plt.show()\n",
    "\n",
    "beats = beats_dict['SPO2'][:, mask_all]\n",
    "\n",
    "plt.plot(beats, color='gray', alpha=0.1)\n",
    "plt.plot(beats.mean(axis=1), color='red', alpha=0.7)\n",
    "# plt.ylim(-1,1)\n",
    "plt.show()"
   ]
  },
  {
   "cell_type": "code",
   "execution_count": null,
   "id": "50162c51-844a-4bdc-a031-bce1c1c514ee",
   "metadata": {},
   "outputs": [],
   "source": []
  },
  {
   "cell_type": "code",
   "execution_count": null,
   "id": "008311c0-bb8d-43f0-8116-4e8eb8554658",
   "metadata": {},
   "outputs": [],
   "source": []
  },
  {
   "cell_type": "code",
   "execution_count": null,
   "id": "ba97e9b4-4355-4b90-b793-a6b14b3f82d9",
   "metadata": {},
   "outputs": [],
   "source": [
    "feature_names = list(df_features_sub.keys())\n",
    "feature_names.remove('i_R_peak')\n",
    "\n",
    "\n",
    "# feature_names"
   ]
  },
  {
   "cell_type": "code",
   "execution_count": null,
   "id": "b48bbb29-617c-479f-8c8c-df5ac3f30127",
   "metadata": {},
   "outputs": [],
   "source": [
    "# sns.set_theme(style=\"whitegrid\")\n",
    "# tips = sns.load_dataset(\"tips\")\n",
    "\n",
    "fig, axes = plt.subplots(len(feature_names),1, figsize=(5,20), dpi=80)\n",
    "\n",
    "for ax, feature_name in zip(axes, feature_names):\n",
    "# sns.violinplot(x=df_features[\"B2C\"], ax=axes[0], orient='v')\n",
    "# sns.violinplot(x=df_features[\"PI\"], ax=axes[1], orient='v')\n",
    "\n",
    "    sns.violinplot(data=df_features_sub, y=feature_name, ax=ax)\n",
    "# sns.violinplot(data=df_features_sub, y=\"PI\", ax=axes[1])\n"
   ]
  },
  {
   "cell_type": "code",
   "execution_count": null,
   "id": "8130426a-0e71-442e-8e7f-2d19cea08739",
   "metadata": {},
   "outputs": [],
   "source": [
    "df_features_sub.keys()"
   ]
  },
  {
   "cell_type": "code",
   "execution_count": null,
   "id": "9ca9b8b7-b5c4-4fa5-89ae-9c8bbad9dfb7",
   "metadata": {},
   "outputs": [],
   "source": [
    "plt.plot(df_features_sub['rms'].values)"
   ]
  },
  {
   "cell_type": "code",
   "execution_count": null,
   "id": "ae6eb36a-574d-40f6-9cf8-e6ef7893c4c3",
   "metadata": {},
   "outputs": [],
   "source": [
    "np.median(df_features_sub['max2min'].values)"
   ]
  },
  {
   "cell_type": "code",
   "execution_count": null,
   "id": "72cf3152-71b2-47d4-8b9b-785489e097bf",
   "metadata": {},
   "outputs": [],
   "source": []
  },
  {
   "cell_type": "code",
   "execution_count": null,
   "id": "d45c0210-c3ae-4101-bea3-cac69d4922e4",
   "metadata": {},
   "outputs": [],
   "source": []
  },
  {
   "cell_type": "code",
   "execution_count": null,
   "id": "a6819f02-55a8-44f4-832a-6de3c2c7a550",
   "metadata": {},
   "outputs": [],
   "source": []
  },
  {
   "cell_type": "code",
   "execution_count": null,
   "id": "f7fa4c07-7fd3-4fd6-b781-9970fcc9c44b",
   "metadata": {},
   "outputs": [],
   "source": []
  },
  {
   "cell_type": "code",
   "execution_count": null,
   "id": "9fec5b34-6130-4c99-a710-c8e7fddb9b78",
   "metadata": {},
   "outputs": [],
   "source": []
  },
  {
   "cell_type": "code",
   "execution_count": null,
   "id": "b1de4743-9d51-445b-afa1-c34e94b2cbc9",
   "metadata": {},
   "outputs": [],
   "source": [
    "\n",
    "# np.prod(mask_feature_list, axis=1)"
   ]
  },
  {
   "cell_type": "code",
   "execution_count": null,
   "id": "da2169cf-54b7-4049-99a6-8d09e48351da",
   "metadata": {},
   "outputs": [],
   "source": []
  },
  {
   "cell_type": "code",
   "execution_count": null,
   "id": "ca2b1dc2-8649-463c-808d-e83a9e0c9259",
   "metadata": {},
   "outputs": [],
   "source": [
    "mask_feature_list.shape"
   ]
  },
  {
   "cell_type": "code",
   "execution_count": null,
   "id": "bd8e118a-a0e8-48d4-9559-3531d482e24f",
   "metadata": {},
   "outputs": [],
   "source": [
    "aaa = np.asarray([[ True,  True,  True, True],\n",
    "       [ True,  False,  True, True],\n",
    "       [ True,  True,  True, True]])\n",
    "\n",
    "aaa"
   ]
  },
  {
   "cell_type": "code",
   "execution_count": null,
   "id": "a857978d-b5a6-4ceb-bd65-80a5ffc8c9c2",
   "metadata": {},
   "outputs": [],
   "source": [
    "np.prod(aaa, axis=1)"
   ]
  },
  {
   "cell_type": "code",
   "execution_count": null,
   "id": "0178d951-20d6-49b5-a7d4-b2efcefc38ff",
   "metadata": {},
   "outputs": [],
   "source": [
    "mask_feature_list.shape"
   ]
  },
  {
   "cell_type": "code",
   "execution_count": null,
   "id": "81a32fa1-8c9e-4d09-9fd1-aa519be380fe",
   "metadata": {},
   "outputs": [],
   "source": [
    "# np.stack(mask_feature_list).T\n",
    "# aaa = np.asarray([[1.,2.],[3.,4.]])\n",
    "# np.prod(aaa, axis=0), aaa"
   ]
  },
  {
   "cell_type": "code",
   "execution_count": null,
   "id": "52d5ee75-19db-41aa-8e39-e36a414cb303",
   "metadata": {},
   "outputs": [],
   "source": [
    "FQI_dict"
   ]
  },
  {
   "cell_type": "code",
   "execution_count": null,
   "id": "5b010f7c-3a8c-4d3a-998f-fe57e413a250",
   "metadata": {},
   "outputs": [],
   "source": [
    "FQI_dict = get_FQI_dict(df_features['B2C'].values)\n",
    "plt.plot(FQI_dict['FQI'])"
   ]
  },
  {
   "cell_type": "code",
   "execution_count": null,
   "id": "f5a79d1b-2dfc-4ac4-9c36-fbfe21ec8c09",
   "metadata": {},
   "outputs": [],
   "source": []
  },
  {
   "cell_type": "code",
   "execution_count": null,
   "id": "ac7f1538-c082-4e96-a8d1-2407307257e1",
   "metadata": {},
   "outputs": [],
   "source": []
  },
  {
   "cell_type": "code",
   "execution_count": null,
   "id": "7901661a-54af-4cd1-98de-85be31e21b51",
   "metadata": {},
   "outputs": [],
   "source": []
  },
  {
   "cell_type": "code",
   "execution_count": null,
   "id": "6f4ab725-5f70-401b-8c9e-c6a92d796e2c",
   "metadata": {},
   "outputs": [],
   "source": []
  },
  {
   "cell_type": "code",
   "execution_count": null,
   "id": "c509a3de-f46c-4435-808c-60cd2ee2b394",
   "metadata": {},
   "outputs": [],
   "source": [
    "plt.plot(ECG)\n",
    "plt.xlim(0,1000)"
   ]
  },
  {
   "cell_type": "code",
   "execution_count": null,
   "id": "ca2f8820-490c-4c69-8aab-3b946aecb541",
   "metadata": {},
   "outputs": [],
   "source": [
    "t_ecg = np.arange(ECG.shape[0])/Fs\n",
    "hr_interp = np.interp(t_ecg, QRS_detector_dict['ts_hr'], QRS_detector_dict['hr'])\n",
    "\n",
    "# plt.plot(t_ecg, hr_interp)\n",
    "plt.plot(QRS_detector_dict['ts_hr'], QRS_detector_dict['hr'])\n",
    "plt.xlim(0, 100)"
   ]
  },
  {
   "cell_type": "code",
   "execution_count": null,
   "id": "b7335933-591b-42f5-afb7-3c3f69f48fa6",
   "metadata": {},
   "outputs": [],
   "source": [
    "# plt.plot(t_ecg, ECG)\n",
    "# plt.xlim(0, 500)"
   ]
  },
  {
   "cell_type": "code",
   "execution_count": null,
   "id": "28791672-1780-489e-ad1a-8ae9c0af3f67",
   "metadata": {},
   "outputs": [],
   "source": [
    "# plt.plot(t_ecg, ECG)\n",
    "# plt.xlim(300, 350)"
   ]
  },
  {
   "cell_type": "code",
   "execution_count": null,
   "id": "e2d72931-fe8b-405b-8a0d-d2724c527896",
   "metadata": {},
   "outputs": [],
   "source": []
  },
  {
   "cell_type": "code",
   "execution_count": null,
   "id": "98f6220e-0bed-4b82-b0e9-7fffac2d296f",
   "metadata": {},
   "outputs": [],
   "source": []
  },
  {
   "cell_type": "code",
   "execution_count": null,
   "id": "b2eaeb15-0cd8-4cf3-99d2-bb88c897e8e5",
   "metadata": {},
   "outputs": [],
   "source": []
  },
  {
   "cell_type": "code",
   "execution_count": null,
   "id": "2746bdac-f067-4a1e-b9db-34bedba6c22f",
   "metadata": {},
   "outputs": [],
   "source": []
  },
  {
   "cell_type": "code",
   "execution_count": null,
   "id": "0793119c",
   "metadata": {},
   "outputs": [],
   "source": []
  },
  {
   "cell_type": "code",
   "execution_count": null,
   "id": "bbe0174d",
   "metadata": {},
   "outputs": [],
   "source": [
    "# plt.plot(t_ecg[::10], hr_interp[::10])\n",
    "# plt.xlim(0, 1000)"
   ]
  },
  {
   "cell_type": "code",
   "execution_count": null,
   "id": "411b9180",
   "metadata": {},
   "outputs": [],
   "source": [
    "# def get_filt_df(df_sync, Fs):\n",
    "#     df = df_sync.copy()\n",
    "\n",
    "#     for sig_name in df.columns:\n",
    "#         if 'I' == sig_name or 'II' == sig_name or 'III' == sig_name or 'V' == sig_name:\n",
    "#             df[sig_name] = get_padded_filt(df[sig_name].values, filter_padded=1, lowcutoff=FILT_ECG[0], highcutoff=FILT_ECG[1], Fs=Fs)\n",
    "#         elif 'RR' == sig_name:\n",
    "#             df[sig_name] = get_padded_filt_DSwrapper(df[sig_name].values, filter_padded=1, lowcutoff=FILT_RESP[0], highcutoff=FILT_RESP[1], Fs=Fs)\n",
    "#         elif 'SPO2' == sig_name:\n",
    "#             df[sig_name] = get_padded_filt(df[sig_name].values, filter_padded=1, lowcutoff=FILT_PPG[0], highcutoff=FILT_PPG[1], Fs=Fs)\n",
    "#         else:\n",
    "#             pass\n",
    "\n",
    "#     return df\n"
   ]
  },
  {
   "cell_type": "code",
   "execution_count": null,
   "id": "3f3d0a87",
   "metadata": {},
   "outputs": [],
   "source": []
  },
  {
   "cell_type": "code",
   "execution_count": null,
   "id": "054d1fce",
   "metadata": {},
   "outputs": [],
   "source": []
  },
  {
   "cell_type": "code",
   "execution_count": null,
   "id": "6058959a",
   "metadata": {},
   "outputs": [],
   "source": []
  },
  {
   "cell_type": "code",
   "execution_count": null,
   "id": "59b4fdba",
   "metadata": {},
   "outputs": [],
   "source": [
    "\n",
    "# beats_dict = segment_df(df_seg, QRS_detector_dict, Fs)\n",
    "# use_ensemble = True\n"
   ]
  },
  {
   "cell_type": "code",
   "execution_count": null,
   "id": "8aff6bcb",
   "metadata": {},
   "outputs": [],
   "source": []
  },
  {
   "cell_type": "code",
   "execution_count": null,
   "id": "5b5ea448",
   "metadata": {},
   "outputs": [],
   "source": [
    "# if use_ensemble:\n",
    "#     for key in beats_dict:\n",
    "#         if 'ppg' not in key:\n",
    "#             continue\n",
    "#         sig_beats = beats_dict[key]\n",
    "#         beats_dict[key] = get_ensemble_beats(sig_beats, N_enBeats=4, use_woody=False)"
   ]
  },
  {
   "cell_type": "code",
   "execution_count": null,
   "id": "eca33305",
   "metadata": {},
   "outputs": [],
   "source": []
  },
  {
   "cell_type": "code",
   "execution_count": null,
   "id": "f70cf61a",
   "metadata": {},
   "outputs": [],
   "source": [
    "beats_dict.keys()"
   ]
  },
  {
   "cell_type": "code",
   "execution_count": null,
   "id": "3b989a5d",
   "metadata": {},
   "outputs": [],
   "source": []
  },
  {
   "cell_type": "code",
   "execution_count": null,
   "id": "1c7e179c",
   "metadata": {},
   "outputs": [],
   "source": []
  },
  {
   "cell_type": "code",
   "execution_count": null,
   "id": "23fca3fb",
   "metadata": {},
   "outputs": [],
   "source": [
    "beats_id = [1,2,3,4,5,6]\n",
    "beats_names = ['I', 'II', 'III', 'V', 'SPO2', 'PPG_DC']\n",
    "unit_dict['PPG_DC'] = ''\n",
    "\n",
    "def plot_ALL_beats(beats_dict, beats_id, subject_id, Fs, show_good=None, fig_name=None, outputdir=None, show_plot=False):\n",
    "\n",
    "    t_beat = np.arange(beats_dict['I'].shape[0])/Fs\n",
    "\n",
    "    fig = plt.figure(figsize=(16, 10), dpi=80)\n",
    "    fontsize = 20\n",
    "    alpha = 0.03\n",
    "\n",
    "\n",
    "    # for (beat_name, beat_i) in zip(beats_dict, beats_id):\n",
    "    for (beat_name, beat_i) in zip(beats_names, beats_id):\n",
    "\n",
    "        beats = beats_dict[beat_name]\n",
    "\n",
    "        ax = fig.add_subplot(3, 4, beat_i)\n",
    "        ax.set_title(beat_name+'\\n', fontsize=fontsize)\n",
    "\n",
    "        show_good = True\n",
    "        if show_good is not None:\n",
    "\n",
    "\n",
    "            template = beats_dict[beat_name].mean(axis=1)\n",
    "            if beat_name=='SPO2':\n",
    "                mask_all, ol_rate = clean_PPG(beats, template, Fs)\n",
    "                ax.set_title(beat_name+'\\nacception_rate:{:.2f}'.format(1-ol_rate), fontsize=fontsize)\n",
    "\n",
    "            # if 'ppg' in beat_name:\n",
    "\n",
    "    #             # if beat_name[-1]=='1':\n",
    "    #                 template = beats_dict['ppg_r_1'].mean(axis=1)\n",
    "    #             elif beat_name[-1]=='2':\n",
    "    #                 template = beats_dict['ppg_r_1'].mean(axis=1)\n",
    "\n",
    "    #             mask_all, ol_rate = clean_PPG(beats, template, Fs)\n",
    "    #             if show_good==False:\n",
    "    #                 beats = beats[:, ~mask_all]\n",
    "    # #                     print(beat_name, ol_rate)\n",
    "    #                 ax.set_title(beat_name+'\\nrejection_rate:{:.2f}'.format(ol_rate), fontsize=fontsize)\n",
    "    #             else:\n",
    "    #                 beats = beats[:, mask_all]\n",
    "    # #                     print(beat_name, ol_rate)\n",
    "    #                 ax.set_title(beat_name+'\\nacception_rate:{:.2f}'.format(1-ol_rate), fontsize=fontsize)\n",
    "\n",
    "\n",
    "\n",
    "        ax.plot(t_beat, beats, color='gray', alpha=alpha)\n",
    "        ax.plot(t_beat, np.mean(beats,axis=1), color='firebrick', linewidth=3)\n",
    "\n",
    "        if 'SPO2' in beat_name or 'I' == beat_name or 'II' == beat_name or 'III' == beat_name or 'V' == beat_name:\n",
    "            beats_mean = np.mean(beats,axis=1)\n",
    "\n",
    "            ymin = beats_mean.mean() - beats_mean.std()*5\n",
    "            ymax = beats_mean.mean() + beats_mean.std()*5\n",
    "            ax.set_ylim(ymin, ymax)\n",
    "\n",
    "        ax.tick_params(axis='both', which='major', labelsize=13)\n",
    "        ax.set_ylabel(unit_dict[beat_name], fontsize=fontsize-3)\n",
    "        ax.set_xlabel('time (sec)', fontsize=fontsize)\n",
    "\n",
    "\n",
    "\n",
    "    fig.tight_layout()\n",
    "\n",
    "    # if outputdir is not None:\n",
    "\n",
    "    #     if fig_name is None:\n",
    "    #         fig_name = 'beats_ensemble_sub{}'.format(subject_id)\n",
    "\n",
    "    #     if not os.path.exists(outputdir):\n",
    "    #         os.makedirs(outputdir)\n",
    "    #     fig.savefig(outputdir + fig_name+'.png', transparent=False)\n",
    "\n",
    "    # if show_plot == False:\n",
    "    #     plt.close(fig)\n",
    "    #     pyplot.close(fig)\n",
    "    #     plt.close('all')\n",
    "\n",
    "\n",
    "    # #     if log_wandb:\n",
    "    # #         wandb.log({fig_name: wandb.Image(fig)})\n",
    "\n"
   ]
  },
  {
   "cell_type": "code",
   "execution_count": null,
   "id": "519b7553",
   "metadata": {},
   "outputs": [],
   "source": []
  },
  {
   "cell_type": "code",
   "execution_count": null,
   "id": "f1451aea",
   "metadata": {},
   "outputs": [],
   "source": []
  },
  {
   "cell_type": "code",
   "execution_count": null,
   "id": "5d5884b3",
   "metadata": {},
   "outputs": [],
   "source": []
  },
  {
   "cell_type": "code",
   "execution_count": null,
   "id": "5680fb9a",
   "metadata": {},
   "outputs": [],
   "source": [
    "\n"
   ]
  },
  {
   "cell_type": "code",
   "execution_count": null,
   "id": "93447d3c",
   "metadata": {},
   "outputs": [],
   "source": []
  },
  {
   "cell_type": "code",
   "execution_count": null,
   "id": "ac6ac4a9",
   "metadata": {},
   "outputs": [],
   "source": []
  },
  {
   "cell_type": "code",
   "execution_count": null,
   "id": "3b3dd1b2",
   "metadata": {},
   "outputs": [],
   "source": []
  },
  {
   "cell_type": "code",
   "execution_count": null,
   "id": "07900acf",
   "metadata": {},
   "outputs": [],
   "source": []
  },
  {
   "cell_type": "code",
   "execution_count": null,
   "id": "1b252593",
   "metadata": {},
   "outputs": [],
   "source": []
  },
  {
   "cell_type": "code",
   "execution_count": null,
   "id": "c65aaa89",
   "metadata": {},
   "outputs": [],
   "source": []
  },
  {
   "cell_type": "code",
   "execution_count": null,
   "id": "4fc7839b-0e2a-4d81-a41d-276a7fbad7d0",
   "metadata": {},
   "outputs": [],
   "source": []
  },
  {
   "cell_type": "code",
   "execution_count": null,
   "id": "35330d2a-4433-467d-a6c8-4387e8435c74",
   "metadata": {},
   "outputs": [],
   "source": []
  },
  {
   "cell_type": "code",
   "execution_count": null,
   "id": "9db7b20c",
   "metadata": {},
   "outputs": [],
   "source": []
  },
  {
   "cell_type": "code",
   "execution_count": null,
   "id": "5e883f78-1fe6-49a8-be19-86dbdd3f8402",
   "metadata": {},
   "outputs": [],
   "source": []
  },
  {
   "cell_type": "code",
   "execution_count": null,
   "id": "bb916ff8-f081-44a8-a4d7-83024e371b21",
   "metadata": {},
   "outputs": [],
   "source": [
    "df_features"
   ]
  },
  {
   "cell_type": "code",
   "execution_count": null,
   "id": "01982e0b-ecf3-4283-9baa-7150cc08b85c",
   "metadata": {},
   "outputs": [],
   "source": []
  },
  {
   "cell_type": "code",
   "execution_count": null,
   "id": "db96fa7f-e59c-4428-afe4-920dfaca3654",
   "metadata": {},
   "outputs": [],
   "source": []
  },
  {
   "cell_type": "code",
   "execution_count": null,
   "id": "3bab8d29-11fd-4f78-8a77-97e51d3e8431",
   "metadata": {},
   "outputs": [],
   "source": []
  },
  {
   "cell_type": "code",
   "execution_count": null,
   "id": "79829627",
   "metadata": {},
   "outputs": [],
   "source": [
    "plt.plot(df_features['PI'].values)"
   ]
  },
  {
   "cell_type": "code",
   "execution_count": null,
   "id": "d13e3ea0",
   "metadata": {},
   "outputs": [],
   "source": [
    "debug_B2C(beats_PPG, Fs)\n"
   ]
  },
  {
   "cell_type": "code",
   "execution_count": null,
   "id": "f0105059",
   "metadata": {},
   "outputs": [],
   "source": []
  },
  {
   "cell_type": "code",
   "execution_count": null,
   "id": "9105ce1c",
   "metadata": {},
   "outputs": [],
   "source": [
    "data = df_features['B2C'].values\n",
    "FQI_dict = get_FQI_dict(data)\n",
    "plt.plot(FQI_dict['FQI'])"
   ]
  },
  {
   "cell_type": "code",
   "execution_count": null,
   "id": "087e64b8",
   "metadata": {},
   "outputs": [],
   "source": [
    "df_features"
   ]
  },
  {
   "cell_type": "code",
   "execution_count": null,
   "id": "8ac333ba",
   "metadata": {},
   "outputs": [],
   "source": [
    "data = df_features['PI'].values\n",
    "FQI_dict = get_FQI_dict(data)\n",
    "plt.plot(FQI_dict['FQI'])"
   ]
  },
  {
   "cell_type": "code",
   "execution_count": null,
   "id": "b353976e",
   "metadata": {},
   "outputs": [],
   "source": [
    "data = df_features['max2min'].values\n",
    "FQI_dict = get_FQI_dict(data)\n",
    "plt.plot(FQI_dict['FQI'])"
   ]
  },
  {
   "cell_type": "code",
   "execution_count": null,
   "id": "5842c813",
   "metadata": {},
   "outputs": [],
   "source": []
  },
  {
   "cell_type": "code",
   "execution_count": null,
   "id": "4631879b",
   "metadata": {},
   "outputs": [],
   "source": []
  },
  {
   "cell_type": "code",
   "execution_count": null,
   "id": "83eede5e",
   "metadata": {},
   "outputs": [],
   "source": []
  },
  {
   "cell_type": "code",
   "execution_count": null,
   "id": "1af57406",
   "metadata": {},
   "outputs": [],
   "source": [
    "feature_names!='i_R_peak'"
   ]
  },
  {
   "cell_type": "code",
   "execution_count": null,
   "id": "5d1ad768",
   "metadata": {},
   "outputs": [],
   "source": [
    "feature_names"
   ]
  },
  {
   "cell_type": "code",
   "execution_count": null,
   "id": "429f4636",
   "metadata": {},
   "outputs": [],
   "source": [
    "feature_names = df_features.columns\n",
    "feature_names = feature_names[feature_names!='i_R_peak']\n",
    "N_feature = feature_names.shape[0]"
   ]
  },
  {
   "cell_type": "code",
   "execution_count": null,
   "id": "2ff5a3d3",
   "metadata": {},
   "outputs": [],
   "source": [
    "df_seg"
   ]
  },
  {
   "cell_type": "code",
   "execution_count": null,
   "id": "f52d87d8",
   "metadata": {},
   "outputs": [],
   "source": [
    "fig, (axes) = plt.subplots(N_feature+2, 1, figsize=(20,8), dpi=100)\n",
    "\n",
    "t_sig = df_seg['time'].values\n",
    "t_sig = t_sig-t_sig[0]\n",
    "\n",
    "ax1= axes[0]\n",
    "ax1.plot(t_sig, df_seg['SPO2'].values)\n",
    "ax1.set_ylabel('PPG')\n",
    "\n",
    "ax2= axes[1]\n",
    "ax2.plot(t_sig, df_seg['RR'].values)\n",
    "ax2.set_ylabel('RR')\n",
    "\n",
    "for i, feature_name in enumerate(feature_names):\n",
    "    ax = axes[i+2]\n",
    "    # ax2.scatter(beats_dict['i_R_peaks'][mask_feature], features_B2C[mask_feature])\n",
    "    data = df_features[feature_name].values\n",
    "    FQI_dict = get_FQI_dict(data)\n",
    "    mask_feature = FQI_dict['mask_feature']\n",
    "    ax.plot(df_features['i_R_peak'][mask_feature&mask_all]/Fs, df_features[feature_name][mask_feature&mask_all])\n",
    "    ax.scatter(df_features['i_R_peak'][mask_feature&mask_all]/Fs, df_features[feature_name][mask_feature&mask_all])\n",
    "    ax.set_ylabel(feature_name)\n",
    "\n",
    "ax.set_xlabel('time (s)')\n",
    "fig.tight_layout()\n"
   ]
  },
  {
   "cell_type": "code",
   "execution_count": null,
   "id": "b96e7300",
   "metadata": {},
   "outputs": [],
   "source": []
  },
  {
   "cell_type": "code",
   "execution_count": null,
   "id": "7a38e9b7",
   "metadata": {},
   "outputs": [],
   "source": []
  },
  {
   "cell_type": "code",
   "execution_count": null,
   "id": "a668fc21",
   "metadata": {},
   "outputs": [],
   "source": []
  },
  {
   "cell_type": "code",
   "execution_count": null,
   "id": "d8d24449",
   "metadata": {},
   "outputs": [],
   "source": []
  },
  {
   "cell_type": "code",
   "execution_count": null,
   "id": "274dc3be",
   "metadata": {},
   "outputs": [],
   "source": []
  },
  {
   "cell_type": "code",
   "execution_count": null,
   "id": "265b7714",
   "metadata": {},
   "outputs": [],
   "source": [
    "beats_dict['i_R_peaks'].shape, features_B2C.shape"
   ]
  },
  {
   "cell_type": "code",
   "execution_count": null,
   "id": "c3e4dcc3",
   "metadata": {},
   "outputs": [],
   "source": []
  },
  {
   "cell_type": "code",
   "execution_count": null,
   "id": "894ce89c",
   "metadata": {},
   "outputs": [],
   "source": []
  },
  {
   "cell_type": "code",
   "execution_count": null,
   "id": "99c2890d",
   "metadata": {},
   "outputs": [],
   "source": []
  },
  {
   "cell_type": "code",
   "execution_count": null,
   "id": "5b63ab78",
   "metadata": {},
   "outputs": [],
   "source": []
  },
  {
   "cell_type": "code",
   "execution_count": null,
   "id": "93e1f8d3",
   "metadata": {},
   "outputs": [],
   "source": []
  },
  {
   "cell_type": "code",
   "execution_count": null,
   "id": "435ea5fc",
   "metadata": {},
   "outputs": [],
   "source": [
    "sig_plt"
   ]
  },
  {
   "cell_type": "code",
   "execution_count": null,
   "id": "adb4fd51",
   "metadata": {},
   "outputs": [],
   "source": [
    "t_start = 1100\n",
    "t_end = 1150\n",
    "\n",
    "df_seg = df[(df['time']>=t_start) & (df['time']<=t_end)].copy()\n",
    "\n",
    "t_arr = df_seg['time'].values\n",
    "#     t_arr = t_arr - t_arr[0]\n",
    "\n",
    "t_start = t_arr[0]\n",
    "t_end = t_arr[-1]\n",
    "\n",
    "sig_name = 'SPO2'\n",
    "sig_plt = df_seg[sig_name].values\n",
    "\n",
    "\n",
    "sig_plt = get_padded_filt(sig_plt, filter_padded=5, lowcutoff=1, highcutoff=4, Fs=Fs)\n",
    "\n",
    "# t_arr = df_seg['time'].values\n",
    "alpha=0.5\n",
    "fig, ax = plt.subplots(1, 1, figsize=(25,10), gridspec_kw = {'wspace':0, 'hspace':0}, dpi=80)\n",
    "ax.plot(t_arr, sig_plt, alpha=alpha ,zorder=1, linewidth=linewidth)\n",
    "# ax.set_ylim(-5,5)"
   ]
  },
  {
   "cell_type": "code",
   "execution_count": null,
   "id": "717b313e",
   "metadata": {},
   "outputs": [],
   "source": [
    "unit_dict"
   ]
  },
  {
   "cell_type": "code",
   "execution_count": null,
   "id": "f21414b5",
   "metadata": {},
   "outputs": [],
   "source": []
  },
  {
   "cell_type": "code",
   "execution_count": null,
   "id": "a3f13064",
   "metadata": {},
   "outputs": [],
   "source": []
  },
  {
   "cell_type": "code",
   "execution_count": null,
   "id": "eeb89db0",
   "metadata": {},
   "outputs": [],
   "source": []
  },
  {
   "cell_type": "code",
   "execution_count": null,
   "id": "89128a61",
   "metadata": {},
   "outputs": [],
   "source": []
  },
  {
   "cell_type": "code",
   "execution_count": null,
   "id": "5ef198e4",
   "metadata": {},
   "outputs": [],
   "source": []
  },
  {
   "cell_type": "code",
   "execution_count": null,
   "id": "8325b7cd",
   "metadata": {},
   "outputs": [],
   "source": []
  },
  {
   "cell_type": "code",
   "execution_count": null,
   "id": "100ed96e",
   "metadata": {},
   "outputs": [],
   "source": []
  },
  {
   "cell_type": "code",
   "execution_count": null,
   "id": "02a0c357",
   "metadata": {},
   "outputs": [],
   "source": []
  },
  {
   "cell_type": "code",
   "execution_count": null,
   "id": "8615dccb",
   "metadata": {},
   "outputs": [],
   "source": []
  },
  {
   "cell_type": "code",
   "execution_count": null,
   "id": "8f5e9281",
   "metadata": {},
   "outputs": [],
   "source": []
  },
  {
   "cell_type": "code",
   "execution_count": null,
   "id": "d1ebbe58",
   "metadata": {},
   "outputs": [],
   "source": []
  },
  {
   "cell_type": "code",
   "execution_count": null,
   "id": "2971df0e",
   "metadata": {},
   "outputs": [],
   "source": []
  },
  {
   "cell_type": "code",
   "execution_count": null,
   "id": "3734917a",
   "metadata": {},
   "outputs": [],
   "source": []
  },
  {
   "cell_type": "code",
   "execution_count": null,
   "id": "9fd9f874",
   "metadata": {},
   "outputs": [],
   "source": []
  },
  {
   "cell_type": "code",
   "execution_count": null,
   "id": "8c262945",
   "metadata": {},
   "outputs": [],
   "source": []
  },
  {
   "cell_type": "code",
   "execution_count": null,
   "id": "84f25573",
   "metadata": {},
   "outputs": [],
   "source": []
  },
  {
   "cell_type": "code",
   "execution_count": null,
   "id": "06e7200f",
   "metadata": {},
   "outputs": [],
   "source": []
  },
  {
   "cell_type": "code",
   "execution_count": null,
   "id": "c90dd671",
   "metadata": {},
   "outputs": [],
   "source": []
  },
  {
   "cell_type": "code",
   "execution_count": null,
   "id": "bf534c24",
   "metadata": {},
   "outputs": [],
   "source": []
  },
  {
   "cell_type": "code",
   "execution_count": null,
   "id": "86f29d03",
   "metadata": {},
   "outputs": [],
   "source": []
  },
  {
   "cell_type": "code",
   "execution_count": null,
   "id": "f1b4d6f6",
   "metadata": {},
   "outputs": [],
   "source": []
  },
  {
   "cell_type": "code",
   "execution_count": null,
   "id": "8b586383",
   "metadata": {},
   "outputs": [],
   "source": []
  },
  {
   "cell_type": "code",
   "execution_count": null,
   "id": "853a55ff",
   "metadata": {},
   "outputs": [],
   "source": [
    "homedir = os.path.expanduser('~')+'/'"
   ]
  },
  {
   "cell_type": "code",
   "execution_count": null,
   "id": "d21e49df",
   "metadata": {},
   "outputs": [],
   "source": [
    "inputdir = homedir+'kamaleswaranlab/Sepsis3_062321/Files_cp_sftp_6_30_21/Files_cp_6_30_21/'"
   ]
  },
  {
   "cell_type": "code",
   "execution_count": null,
   "id": "5c6959dc",
   "metadata": {},
   "outputs": [],
   "source": [
    "for sub_file in os.listdir(inputdir):\n",
    "    # print(sub_file)\n",
    "    pass"
   ]
  },
  {
   "cell_type": "code",
   "execution_count": null,
   "id": "07034e57",
   "metadata": {},
   "outputs": [],
   "source": [
    "sub_id = 'A071-0512777549'"
   ]
  },
  {
   "cell_type": "code",
   "execution_count": null,
   "id": "e5456231",
   "metadata": {},
   "outputs": [],
   "source": [
    "for sub_file in os.listdir(inputdir+sub_id):\n",
    "    if 'hea' in sub_file:\n",
    "        print(sub_file)"
   ]
  },
  {
   "cell_type": "code",
   "execution_count": null,
   "id": "862c64dc",
   "metadata": {},
   "outputs": [],
   "source": []
  },
  {
   "cell_type": "code",
   "execution_count": null,
   "id": "888afd9c",
   "metadata": {},
   "outputs": [],
   "source": []
  },
  {
   "cell_type": "code",
   "execution_count": null,
   "id": "f0eb92fe",
   "metadata": {},
   "outputs": [],
   "source": []
  },
  {
   "cell_type": "code",
   "execution_count": null,
   "id": "f1f3c3ee",
   "metadata": {},
   "outputs": [],
   "source": []
  },
  {
   "cell_type": "code",
   "execution_count": null,
   "id": "11428bc6",
   "metadata": {},
   "outputs": [],
   "source": []
  },
  {
   "cell_type": "code",
   "execution_count": null,
   "id": "42904911",
   "metadata": {},
   "outputs": [],
   "source": []
  },
  {
   "cell_type": "code",
   "execution_count": null,
   "id": "6a4dadf8",
   "metadata": {},
   "outputs": [],
   "source": []
  },
  {
   "cell_type": "code",
   "execution_count": null,
   "id": "26294eff",
   "metadata": {},
   "outputs": [],
   "source": []
  },
  {
   "cell_type": "code",
   "execution_count": null,
   "id": "48f137cb",
   "metadata": {},
   "outputs": [],
   "source": []
  },
  {
   "cell_type": "code",
   "execution_count": null,
   "id": "ddb85b11",
   "metadata": {},
   "outputs": [],
   "source": []
  },
  {
   "cell_type": "code",
   "execution_count": null,
   "id": "f3009839",
   "metadata": {},
   "outputs": [],
   "source": []
  },
  {
   "cell_type": "code",
   "execution_count": null,
   "id": "8183887b",
   "metadata": {},
   "outputs": [],
   "source": []
  },
  {
   "cell_type": "code",
   "execution_count": null,
   "id": "e0da7568",
   "metadata": {},
   "outputs": [],
   "source": []
  },
  {
   "cell_type": "code",
   "execution_count": null,
   "id": "ead6acc4",
   "metadata": {},
   "outputs": [],
   "source": []
  },
  {
   "cell_type": "code",
   "execution_count": null,
   "id": "14c3b382",
   "metadata": {},
   "outputs": [],
   "source": []
  },
  {
   "cell_type": "code",
   "execution_count": null,
   "id": "ee8b9f1e",
   "metadata": {},
   "outputs": [],
   "source": []
  }
 ],
 "metadata": {
  "kernelspec": {
   "display_name": "Python 3 (ipykernel)",
   "language": "python",
   "name": "python3"
  },
  "language_info": {
   "codemirror_mode": {
    "name": "ipython",
    "version": 3
   },
   "file_extension": ".py",
   "mimetype": "text/x-python",
   "name": "python",
   "nbconvert_exporter": "python",
   "pygments_lexer": "ipython3",
   "version": "3.8.11"
  }
 },
 "nbformat": 4,
 "nbformat_minor": 5
}
