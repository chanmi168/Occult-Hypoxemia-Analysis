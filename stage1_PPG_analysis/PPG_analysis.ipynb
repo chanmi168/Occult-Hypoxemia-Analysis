{
 "cells": [
  {
   "cell_type": "markdown",
   "id": "25793c03",
   "metadata": {},
   "source": [
    "# This note book shows how to load header file and waveform data and plot it."
   ]
  },
  {
   "cell_type": "code",
   "execution_count": null,
   "id": "1ac6bba4",
   "metadata": {},
   "outputs": [],
   "source": [
    "import pandas as pd\n",
    "from datetime import datetime\n",
    "import os\n",
    "import pickle\n",
    "from datetime import timedelta\n",
    "from datetime import datetime\n",
    "from datetime import date\n",
    "from datetime import time\n",
    "from dateutil.relativedelta import relativedelta\n",
    "\n",
    "import pandas as pd\n",
    "import numpy as np\n",
    "import os\n",
    "\n",
    "import json\n",
    "\n",
    "import sys\n",
    "from scipy.io import loadmat\n",
    "\n",
    "import matplotlib\n",
    "import matplotlib.pyplot as plt\n",
    "plt.style.use('seaborn-white')\n",
    "matplotlib.rc( 'savefig', facecolor = 'white' )\n",
    "from matplotlib import pyplot\n",
    "import matplotlib.ticker as plticker\n",
    "\n",
    "import seaborn as sns\n",
    "\n",
    "\n",
    "import sys\n",
    "sys.path.append('../') # add this line so Data and data are visible in this file\n",
    "sys.path.append('../../') # add this line so Data and data are visible in this file\n",
    "sys.path.append('../PhysioMC/') # add this line so Data and data are visible in this file\n",
    "\n",
    "# from PatchWand import *\n",
    "from filters import *\n",
    "from setting import *\n",
    "# from preprocessing import *\n",
    "from ECG_module import *\n",
    "from dataIO import *\n",
    "from stage1_PPG_analysis import *\n",
    "\n",
    "from importlib import reload\n",
    "%load_ext autoreload\n",
    "%autoreload 2"
   ]
  },
  {
   "cell_type": "code",
   "execution_count": null,
   "id": "7f5cc5bf-0ee3-48a4-a0b2-43b3a5797d00",
   "metadata": {},
   "outputs": [],
   "source": [
    "# %pip install feather-format"
   ]
  },
  {
   "cell_type": "code",
   "execution_count": null,
   "id": "1a37827d-eeb3-4d25-a9bf-70050c0acffc",
   "metadata": {},
   "outputs": [],
   "source": []
  },
  {
   "cell_type": "code",
   "execution_count": null,
   "id": "d8220004-d4ff-4368-93e7-7618f5495060",
   "metadata": {},
   "outputs": [],
   "source": [
    "# %pip install parfor"
   ]
  },
  {
   "cell_type": "code",
   "execution_count": null,
   "id": "63ffecac-b74a-40db-9bca-a66565e98448",
   "metadata": {},
   "outputs": [],
   "source": []
  },
  {
   "cell_type": "code",
   "execution_count": null,
   "id": "b3ed2501",
   "metadata": {},
   "outputs": [],
   "source": [
    "selected_id = 5"
   ]
  },
  {
   "cell_type": "code",
   "execution_count": null,
   "id": "8c93df87",
   "metadata": {},
   "outputs": [],
   "source": [
    "%pwd"
   ]
  },
  {
   "cell_type": "code",
   "execution_count": null,
   "id": "8c5ab529-705b-48a5-acdc-720139521123",
   "metadata": {},
   "outputs": [],
   "source": []
  },
  {
   "cell_type": "markdown",
   "id": "c2a8c7f8-33de-4649-8626-6e5728200e7a",
   "metadata": {
    "tags": []
   },
   "source": [
    "# load csv files David prepared"
   ]
  },
  {
   "cell_type": "markdown",
   "id": "2379e4fe-cb36-4b91-88b1-aa9eaa1910c3",
   "metadata": {},
   "source": [
    "## load the demographic data, only look at black or white subjects for now"
   ]
  },
  {
   "cell_type": "code",
   "execution_count": null,
   "id": "e63c8b96-05d8-4c9e-a350-4340a4da4e92",
   "metadata": {},
   "outputs": [],
   "source": [
    "demographic_filedir = '/home/mchan82/kamaleswaranlab/Sepsis3_062321/dlin_analysis/Pat_BedTime_List_some_on_BMI_2_6_22_dem.csv'\n",
    "df_demographic = pd.read_csv(demographic_filedir, index_col=0)  \n",
    "\n",
    "# mask out subjects who are not black and white\n",
    "mask = (df_demographic['Race String']=='African American  or Black') | (df_demographic['Race String']=='Caucasian or White')\n",
    "\n",
    "print('only {:.2f}% is black or white'.format(mask.mean()*100))\n",
    "df_demographic = df_demographic[mask]"
   ]
  },
  {
   "cell_type": "code",
   "execution_count": null,
   "id": "830bcbc2-bf99-498e-a073-063a54d4e281",
   "metadata": {},
   "outputs": [],
   "source": [
    "df_demographic"
   ]
  },
  {
   "cell_type": "code",
   "execution_count": null,
   "id": "ce96965a-7d13-40ea-a8e7-b059aac5db27",
   "metadata": {},
   "outputs": [],
   "source": []
  },
  {
   "cell_type": "markdown",
   "id": "c3d1e662-76b4-49a0-bed2-d3a0e75e13af",
   "metadata": {},
   "source": [
    "## load the oxygen saturation data\n",
    "### TODO: need to add FiO2 and PaO2 data"
   ]
  },
  {
   "cell_type": "code",
   "execution_count": null,
   "id": "9a9b18ad-d6b3-4799-8644-3cef722ef262",
   "metadata": {},
   "outputs": [],
   "source": [
    "# FiO2 and PaO2? (PaO2 / FiO2 < 400 indicates respiratory problem)\n",
    "oxygen_sat_filedir = '/home/mchan82/kamaleswaranlab/Sepsis3_062321/dlin_analysis/Pat_BedTime_List_some_on_BMI_2_6_22_spo2_sao2.csv'\n",
    "df_oxygen_sat = pd.read_csv(oxygen_sat_filedir, index_col=0)  "
   ]
  },
  {
   "cell_type": "code",
   "execution_count": null,
   "id": "388c29e8-1955-4dcf-ae37-4117cf41e06c",
   "metadata": {},
   "outputs": [],
   "source": [
    "mask = (df_oxygen_sat['Black']==1) | (df_oxygen_sat['White']==1)\n",
    "df_oxygen_sat = df_oxygen_sat[mask]"
   ]
  },
  {
   "cell_type": "code",
   "execution_count": null,
   "id": "3adf92e5-2b4e-4ae9-ad9f-d32352bf50fc",
   "metadata": {},
   "outputs": [],
   "source": [
    "df_oxygen_sat['times'] =  pd.to_datetime(df_oxygen_sat['times'], format=\"%Y-%m-%d %H:%M:%S\")\n"
   ]
  },
  {
   "cell_type": "code",
   "execution_count": null,
   "id": "051c6b02-634d-445d-a018-fc4b1dfab2ca",
   "metadata": {},
   "outputs": [],
   "source": [
    "df_oxygen_sat = df_oxygen_sat.rename(columns = {'pat_id':'PAT_ID', 'csn':'CSN'})\n",
    "df_oxygen_sat"
   ]
  },
  {
   "cell_type": "code",
   "execution_count": null,
   "id": "76b4f4bc-f3c5-4212-adfd-840c7b4d1fba",
   "metadata": {},
   "outputs": [],
   "source": []
  },
  {
   "cell_type": "code",
   "execution_count": null,
   "id": "09cb0ebc-5f51-4c53-bf63-0d837c9a8e5f",
   "metadata": {},
   "outputs": [],
   "source": [
    "df_oxygen_sat.describe()"
   ]
  },
  {
   "cell_type": "code",
   "execution_count": null,
   "id": "98340678-0d2c-471b-9e58-d9973b1bfea5",
   "metadata": {},
   "outputs": [],
   "source": [
    "df_oxygen_sat['CSN'].unique().shape"
   ]
  },
  {
   "cell_type": "code",
   "execution_count": null,
   "id": "c8f3797f-da05-421f-8e1f-34c53d373b0d",
   "metadata": {},
   "outputs": [],
   "source": []
  },
  {
   "cell_type": "code",
   "execution_count": null,
   "id": "eaf2cedd-6355-48bd-9924-9636c2922f05",
   "metadata": {},
   "outputs": [],
   "source": []
  },
  {
   "cell_type": "markdown",
   "id": "f9ea1a4f-ba66-4175-a909-8409174c7b5d",
   "metadata": {
    "tags": []
   },
   "source": [
    "## load the ind csv\n",
    "### compute BED Time Diff (to show that we have much more bed data)\n",
    "### show the median the time diffs"
   ]
  },
  {
   "cell_type": "code",
   "execution_count": null,
   "id": "3ec349fa-ef97-474e-b6c9-c081ad1a3db9",
   "metadata": {},
   "outputs": [],
   "source": [
    "ind_filedir = '/home/mchan82/kamaleswaranlab/Sepsis3_062321/dlin_analysis/Pat_BedTime_List_some_on_BMI_2_6_22_ind.csv'\n",
    "df_ind = pd.read_csv(ind_filedir, index_col=0)  \n",
    "\n",
    "mask = (df_ind['Race String']=='African American  or Black') | (df_ind['Race String']=='Caucasian or White')\n",
    "df_ind = df_ind[mask]"
   ]
  },
  {
   "cell_type": "code",
   "execution_count": null,
   "id": "bb426580-3f27-48c1-93cc-6b1a76149173",
   "metadata": {},
   "outputs": [],
   "source": [
    "df_ind['DateStart'] = pd.to_datetime(df_ind['DateStart'], format=\"%Y-%m-%d %H:%M:%S\")\n",
    "df_ind['DateEnd'] = pd.to_datetime(df_ind['DateEnd'], format=\"%Y-%m-%d %H:%M:%S\")"
   ]
  },
  {
   "cell_type": "markdown",
   "id": "1e3c0717-7e03-433b-87e7-50a3a63e70e1",
   "metadata": {},
   "source": [
    "## TODO: change BED Time Difference"
   ]
  },
  {
   "cell_type": "code",
   "execution_count": null,
   "id": "a38459ca-ac21-4ceb-9a91-a52d37ec4bef",
   "metadata": {},
   "outputs": [],
   "source": [
    "BED_LOCATION_START = pd.to_datetime(df_ind['BED_LOCATION_START'], format=\"%Y-%m-%d %H:%M:%S\")\n",
    "BED_LOCATION_END = pd.to_datetime(df_ind['BED_LOCATION_END'], format=\"%m/%d/%Y %H:%M:%S\")\n",
    "\n",
    "df_ind['BED_LOCATION_START'] = BED_LOCATION_START\n",
    "df_ind['BED_LOCATION_END'] = BED_LOCATION_END\n"
   ]
  },
  {
   "cell_type": "code",
   "execution_count": null,
   "id": "9c421a20-3a9d-4364-b139-5c046735d70f",
   "metadata": {},
   "outputs": [],
   "source": [
    "DateStart = pd.to_datetime(df_ind['DateStart'], format=\"%Y-%m-%d %H:%M:%S\")\n",
    "DateEnd = pd.to_datetime(df_ind['DateEnd'], format=\"%m/%d/%Y %H:%M:%S\")\n",
    "\n",
    "df_ind['DateStart'] = DateStart\n",
    "df_ind['DateEnd'] = DateEnd\n",
    "\n",
    "df_ind['BED Time Difference'] = (DateEnd-DateStart).dt.total_seconds()"
   ]
  },
  {
   "cell_type": "code",
   "execution_count": null,
   "id": "0757b238-ec67-408c-83fb-e82766ae3878",
   "metadata": {
    "tags": []
   },
   "outputs": [],
   "source": [
    "print('EHR time diff: {:.2f}hr'.format(df_ind['Time Difference'].median()/60/60))\n",
    "print('Waveform time diff: {:.2f}hr'.format(df_ind['BED Time Difference'].median()/60/60))"
   ]
  },
  {
   "cell_type": "code",
   "execution_count": null,
   "id": "7b011c7b-cd68-4a5b-980e-c734ed28b315",
   "metadata": {},
   "outputs": [],
   "source": [
    "df_ind"
   ]
  },
  {
   "cell_type": "code",
   "execution_count": null,
   "id": "08df7ae6-ca5f-4a5d-9b08-fdaaaa4047b8",
   "metadata": {},
   "outputs": [],
   "source": []
  },
  {
   "cell_type": "code",
   "execution_count": null,
   "id": "6e433a07-35bb-4045-92c6-b4181c06fdbb",
   "metadata": {},
   "outputs": [],
   "source": []
  },
  {
   "cell_type": "code",
   "execution_count": null,
   "id": "3febffc6-ab0f-4c41-846d-de8c07016bce",
   "metadata": {},
   "outputs": [],
   "source": []
  },
  {
   "cell_type": "code",
   "execution_count": null,
   "id": "c76a2606-01c8-4ab3-a486-8ab7ef185bc6",
   "metadata": {},
   "outputs": [],
   "source": [
    "df_ind['CSN'].unique().shape"
   ]
  },
  {
   "cell_type": "code",
   "execution_count": null,
   "id": "c16a12e7-360e-45ef-824f-90a664e5fe87",
   "metadata": {},
   "outputs": [],
   "source": []
  },
  {
   "cell_type": "code",
   "execution_count": null,
   "id": "6386524e-6648-41e4-9700-a061b99f8d01",
   "metadata": {},
   "outputs": [],
   "source": [
    "df_ind['Time Difference']"
   ]
  },
  {
   "cell_type": "markdown",
   "id": "69cc8bf2-6872-470d-bed5-57ad15e08939",
   "metadata": {},
   "source": [
    "# merge df_ind with df_oxygen_sat so I can get deBedTime, DateStart, DateEnd, PAT_ID, White\tBlack, CSN, SaO2, SpO2, oxy sat. times in one column\n",
    "\n",
    "## TODO: merge using the CSN instead "
   ]
  },
  {
   "cell_type": "code",
   "execution_count": null,
   "id": "adab5fa4-26bd-4f62-b417-16db0f1e4707",
   "metadata": {},
   "outputs": [],
   "source": [
    "df_merged = df_ind.merge(df_oxygen_sat[['spo2', 'sao2', 'times', 'PAT_ID', 'CSN']], on=['CSN', 'PAT_ID'], how='outer')\n",
    "df_merged"
   ]
  },
  {
   "cell_type": "code",
   "execution_count": null,
   "id": "f9e72bfc-56b7-4f5f-aca0-4d95c163fa76",
   "metadata": {},
   "outputs": [],
   "source": [
    "(df_merged['DateEnd']=='1969-12-31 23:59:58').mean()"
   ]
  },
  {
   "cell_type": "code",
   "execution_count": null,
   "id": "53f53afb-0255-4321-993d-e1f835d192c5",
   "metadata": {},
   "outputs": [],
   "source": [
    "(df_merged['DateEnd']>'1970-12-31 23:59:58').mean()"
   ]
  },
  {
   "cell_type": "code",
   "execution_count": null,
   "id": "acafa7e4-c826-447c-8961-5b799583feb5",
   "metadata": {},
   "outputs": [],
   "source": [
    "\n"
   ]
  },
  {
   "cell_type": "code",
   "execution_count": null,
   "id": "826010e7-9389-4e61-9d65-62027e168e71",
   "metadata": {},
   "outputs": [],
   "source": [
    "\n"
   ]
  },
  {
   "cell_type": "code",
   "execution_count": null,
   "id": "b88297f9-1bdd-4d68-8b7a-42dce9bc77b7",
   "metadata": {},
   "outputs": [],
   "source": [
    "# df_merged[(df_merged['PAT_ID']==PAT_ID) & (df_merged['deBedTime']=='A140-0515603029')]"
   ]
  },
  {
   "cell_type": "markdown",
   "id": "35d47562-76c6-4499-a2e5-78364903c0cd",
   "metadata": {
    "tags": []
   },
   "source": [
    "# But simply merging them using PAT_ID is not ideal: same PAT_ID may have several deBedTime\n",
    "## need to filter out rows incorrectly align by checking the timing\n",
    "## only associate the demographic data to the ox sat. data when the timing match"
   ]
  },
  {
   "cell_type": "code",
   "execution_count": null,
   "id": "5bb0d2c9-201e-40a6-b0d2-52d39092bdf7",
   "metadata": {},
   "outputs": [],
   "source": [
    "DateStart = pd.to_datetime(df_merged['DateStart'], format=\"%Y-%m-%d %H:%M:%S\") # str to datetime\n",
    "DateEnd = pd.to_datetime(df_merged['DateEnd'], format=\"%Y-%m-%d %H:%M:%S\")\n",
    "times = pd.to_datetime(df_merged['times'], format=\"%Y-%m-%d %H:%M:%S\")"
   ]
  },
  {
   "cell_type": "code",
   "execution_count": null,
   "id": "8a44473b-768e-48a7-b219-f81b5e96569d",
   "metadata": {},
   "outputs": [],
   "source": [
    "# timedelta: int to datetime\n",
    "mask = (times-timedelta(minutes=min_threshold) >= DateStart) & (times+timedelta(minutes=min_threshold) <= DateEnd)\n",
    "df_merged = df_merged[mask]"
   ]
  },
  {
   "cell_type": "code",
   "execution_count": null,
   "id": "480990a3-1281-4cf8-a4f5-4144ac23477a",
   "metadata": {},
   "outputs": [],
   "source": [
    "print(mask.mean())"
   ]
  },
  {
   "cell_type": "code",
   "execution_count": null,
   "id": "d656141f-6efa-4705-96be-dfe8b126f6b0",
   "metadata": {},
   "outputs": [],
   "source": [
    "df_merged['CSN'].unique().shape"
   ]
  },
  {
   "cell_type": "code",
   "execution_count": null,
   "id": "75a7ad74-0e08-430b-9497-e3827e2af12b",
   "metadata": {},
   "outputs": [],
   "source": [
    "df_merged['PAT_ID'].unique().shape"
   ]
  },
  {
   "cell_type": "code",
   "execution_count": null,
   "id": "e581b326-db63-44c5-ab07-1bda1c35b4e4",
   "metadata": {},
   "outputs": [],
   "source": [
    "df_merged = df_merged.reset_index(drop=True)\n",
    "df_merged"
   ]
  },
  {
   "cell_type": "code",
   "execution_count": null,
   "id": "a5a9214f-61a2-4a3a-855b-e754ad3103e5",
   "metadata": {},
   "outputs": [],
   "source": [
    "# (24*60*60)/149062"
   ]
  },
  {
   "cell_type": "code",
   "execution_count": null,
   "id": "392f7554-708e-4475-a90b-2d2fc067c4cc",
   "metadata": {},
   "outputs": [],
   "source": []
  },
  {
   "cell_type": "code",
   "execution_count": null,
   "id": "7ef6db97-4f84-4f9c-b15d-e307fb2e6fa9",
   "metadata": {},
   "outputs": [],
   "source": []
  },
  {
   "cell_type": "code",
   "execution_count": null,
   "id": "ed2e20eb-44e4-4ea1-ac39-a721990f688c",
   "metadata": {},
   "outputs": [],
   "source": []
  },
  {
   "cell_type": "code",
   "execution_count": null,
   "id": "58fa3d77-120a-4bda-8d89-85c3cf4ab05a",
   "metadata": {},
   "outputs": [],
   "source": []
  },
  {
   "cell_type": "markdown",
   "id": "1b1dd3aa",
   "metadata": {
    "tags": []
   },
   "source": [
    "# get PPG data"
   ]
  },
  {
   "cell_type": "code",
   "execution_count": null,
   "id": "22d6c738",
   "metadata": {},
   "outputs": [],
   "source": []
  },
  {
   "cell_type": "markdown",
   "id": "1b56cc91-7bab-4a75-afac-8fe5cf34525c",
   "metadata": {
    "tags": []
   },
   "source": [
    "## os.listdir(inputdir) = \n",
    "## ['A071-0512777549',\n",
    "## 'A063-0482186017',\n",
    "## 'A113-0520303111', ...]"
   ]
  },
  {
   "cell_type": "code",
   "execution_count": null,
   "id": "f34e9e2c-ac66-4592-b4e1-3c6402164dcb",
   "metadata": {},
   "outputs": [],
   "source": [
    "# waveform_window"
   ]
  },
  {
   "cell_type": "markdown",
   "id": "5b3c5fb1-53dd-4d67-9315-fca38a9af525",
   "metadata": {},
   "source": [
    "## os.listdir(inputdir_rec) = \n",
    "## ['A058-0502749430_0028d.mat',\n",
    "##  'A058-0502749430.almth',\n",
    "##  'A058-0502749430_0013.mat',\n",
    "##  'A058-0502749430_0013.hea',...]"
   ]
  },
  {
   "cell_type": "code",
   "execution_count": null,
   "id": "b2cac334-f7cf-4427-8ca1-0a9185e92402",
   "metadata": {},
   "outputs": [],
   "source": [
    "outputdir = '../../data/stage1/'\n",
    "if not os.path.exists(outputdir):\n",
    "    os.makedirs(outputdir)"
   ]
  },
  {
   "cell_type": "code",
   "execution_count": null,
   "id": "3dcd3667-4140-4aba-bbfc-3a530da5da2e",
   "metadata": {},
   "outputs": [],
   "source": [
    "with open('recording_lookup.json') as json_file:\n",
    "    recording_lookup = json.load(json_file)\n"
   ]
  },
  {
   "cell_type": "code",
   "execution_count": null,
   "id": "cc0bb372-2e53-4792-84a8-e3eecaaf7b0c",
   "metadata": {},
   "outputs": [],
   "source": [
    "homedir = os.path.expanduser('~')+'/'\n",
    "\n",
    "# this is where all waveform data are stored\n",
    "inputdir = '/labs/kamaleswaranlab/Sepsis3_062321/Files_cp_sftp_6_30_21/Files_cp_6_30_21/'\n",
    "\n",
    "# yes\n",
    "# rec_id = 'A058-0502749430'\n",
    "\n",
    "# no\n",
    "# rec_id = 'A030-0497283634'\n",
    "# rec_id = 'A097-0427935662'\n",
    "# rec_id = 'A085-0500344504'\n",
    "\n",
    "\n",
    "# # check the header files in here\n",
    "# for rec_file in os.listdir(inputdir+rec_id):\n",
    "#     if 'hea' in rec_file:\n",
    "#         print(rec_file)"
   ]
  },
  {
   "cell_type": "code",
   "execution_count": null,
   "id": "8d3427a1-a098-4b52-bf93-5997815a110c",
   "metadata": {},
   "outputs": [],
   "source": [
    "# TODO: move to dataIO.py, modularize it\n",
    "def get_header_valid_waveform(inputdir_rec, row):\n",
    "\n",
    "    # header_list = []\n",
    "    for header_name in sorted(os.listdir(inputdir_rec)):\n",
    "        \n",
    "        if '.hea' not in header_name:\n",
    "            continue\n",
    "        if '_' not in header_name:\n",
    "            continue\n",
    "        if '_0n' in header_name:\n",
    "            continue\n",
    "        if '_1n' in header_name:\n",
    "            continue\n",
    "        if 'layout' in header_name:\n",
    "            continue\n",
    "\n",
    "        # print(header_name)\n",
    "        headerdir = inputdir_rec + header_name\n",
    "\n",
    "\n",
    "        header_id = header_name.split('_')[-1].split('.hea')[0]\n",
    "        # print(header_id)\n",
    "        # print(int(header_id))\n",
    "        # sys.exit()\n",
    "\n",
    "        with open(headerdir, 'r') as f:\n",
    "            header = f.readlines()\n",
    "\n",
    "        header_dict = header_extract(header)\n",
    "\n",
    "        # print(header_name)\n",
    "\n",
    "        allheader_hours = int(header_id)*8\n",
    "        currentheader_hours = header_dict['t_dur(hr)']\n",
    "\n",
    "        # waveform_start = row['BED_LOCATION_START'] + timedelta(hours=allheader_hours)\n",
    "        # waveform_end = row['BED_LOCATION_START'] + timedelta(hours=allheader_hours) + timedelta(hours=currentheader_hours)\n",
    "\n",
    "        # using DateStart since it is the start time of the waveform\n",
    "        waveform_start = row['DateStart'] + timedelta(hours=allheader_hours)\n",
    "        waveform_end = row['DateStart'] + timedelta(hours=allheader_hours) + timedelta(hours=currentheader_hours)\n",
    "\n",
    "        header_dict['waveform_start'] = waveform_start\n",
    "        header_dict['waveform_end'] = waveform_end\n",
    "        header_dict['header_name'] = header_name\n",
    "        header_dict['header_id'] = header_id\n",
    "\n",
    "        # header_list.append(header_dict)\n",
    "        \n",
    "    # return header_list\n",
    "        if (waveform_start > row['times']) or (waveform_end < row['times']):\n",
    "            # print('wrong recording')\n",
    "            continue\n",
    "        else:\n",
    "            # print(header_start, header_end, row['times'])\n",
    "            # print('bingo!')\n",
    "            return header_dict\n",
    "\n",
    "\n",
    "        return None\n",
    "        # print('\\t', header_dict['start_time'], header_dict['date'])\n",
    "\n",
    "    # header_id = header_name.split('_')[-1]"
   ]
  },
  {
   "cell_type": "code",
   "execution_count": null,
   "id": "02092d3d-6b01-40cc-8ae6-7f91ff768f93",
   "metadata": {},
   "outputs": [],
   "source": [
    "outputdir_recording = outputdir+'waveform/'\n",
    "if not os.path.exists(outputdir_recording):\n",
    "    os.makedirs(outputdir_recording)\n",
    "    \n"
   ]
  },
  {
   "cell_type": "code",
   "execution_count": null,
   "id": "66358231-64ea-4489-97cd-a7d03d2cc44a",
   "metadata": {},
   "outputs": [],
   "source": []
  },
  {
   "cell_type": "code",
   "execution_count": null,
   "id": "a180afe7-8be7-4c5c-91e2-06dc94bb7f26",
   "metadata": {},
   "outputs": [],
   "source": []
  },
  {
   "cell_type": "code",
   "execution_count": null,
   "id": "b3dfc4a4-2acc-4ff7-ac98-2f11af53c80d",
   "metadata": {},
   "outputs": [],
   "source": [
    "# df_demographic_processed = pd.read_csv(outputdir_recording+'df_demographic_processed.csv.gz').sort_values('index').reset_index(drop=True)\n"
   ]
  },
  {
   "cell_type": "code",
   "execution_count": null,
   "id": "2bc26f18-6cc7-4f26-ae43-72aea0fe1f7d",
   "metadata": {},
   "outputs": [],
   "source": []
  },
  {
   "cell_type": "code",
   "execution_count": null,
   "id": "b566699b-5a76-46f2-aaa3-0fc85cf41ad8",
   "metadata": {},
   "outputs": [],
   "source": [
    "# df_demographic_processed.shape[0]/df_merged.shape[0]"
   ]
  },
  {
   "cell_type": "code",
   "execution_count": null,
   "id": "dcc7d7d8-3875-448c-bb39-f40dab4252c9",
   "metadata": {},
   "outputs": [],
   "source": []
  },
  {
   "cell_type": "code",
   "execution_count": null,
   "id": "2a8aee1d-330f-415f-82db-a0f62181ca61",
   "metadata": {},
   "outputs": [],
   "source": []
  },
  {
   "cell_type": "markdown",
   "id": "9d00d24d-4726-4862-afb7-d5d170ca4fd5",
   "metadata": {},
   "source": [
    "# TODO\n",
    "## 1. filter the signal first (DONE)\n",
    "## 2. apply QRS detector and segment the beats, fix the beat plotting function below (may not need this anymore, check get_sig2beats)\n",
    "## 3. store the PPG (and ECG?) beats in npz (2D matrix) (DONE)\n",
    "## 4. appned a column to df_merged that point to the matrix (file name) (DONE)\n",
    "## 5. parallel computing (DONE)"
   ]
  },
  {
   "cell_type": "code",
   "execution_count": null,
   "id": "cf88efd7-fff8-4f1f-90c9-0deec8e2bfc0",
   "metadata": {},
   "outputs": [],
   "source": [
    "# df_merged.shape"
   ]
  },
  {
   "cell_type": "code",
   "execution_count": null,
   "id": "82c65a9f-b888-49dc-845c-e89e9317a383",
   "metadata": {},
   "outputs": [],
   "source": [
    "def process_row(row, index, inputdir, outputdir_recording):\n",
    "    \n",
    "\n",
    "\n",
    "\n",
    "    # 1. get header_dict\n",
    "    rec_id = row['deBedTime']\n",
    "    debug_message = '[perfecto]'\n",
    "\n",
    "    print('\\n==================  working on rec_id: {} =================='.format(rec_id) )\n",
    "    inputdir_rec = inputdir + rec_id + '/'\n",
    "\n",
    "    \n",
    "    # print(os.listdir(inputdir_rec))\n",
    "    \n",
    "\n",
    "\n",
    "    # continue\n",
    "    # header_dict = get_header_valid(inputdir_rec) # None or some dictionary data\n",
    "    header_dict = get_header_valid_waveform(inputdir_rec, row) # None or some dictionary data\n",
    "\n",
    "\n",
    "    # print(header_dict)\n",
    "\n",
    "    # 2. continue if waveform is not within the header_dict timing range\n",
    "    if header_dict is None:\n",
    "        debug_message = '[DNE] wrong recording'\n",
    "        if verbose:\n",
    "            print(debug_message)\n",
    "            print('\\t', row['deBedTime'], row['spo2'], row['sao2'], row['times'], row['Black'], row['White'])\n",
    "    \n",
    "    else:\n",
    "        if 'SPO2' not in list(header_dict['unit_dict'].keys()):\n",
    "            debug_message = '[DNE] SPO2 channel not in waveform'\n",
    "            if verbose:\n",
    "                print(debug_message)\n",
    "\n",
    "    if 'perfecto' in debug_message:\n",
    "\n",
    "        # 3. get the waveform data\n",
    "        df_bed, _ = get_df_bed(rec_id, inputdir, header_dict['header_id']) # RX limiting factor\n",
    "        df_bed = df_bed[['I', 'SPO2', 'time']]\n",
    "\n",
    "        \n",
    "\n",
    "        \n",
    "        \n",
    "        # 4. get only a small piece of the waveform data\n",
    "        sync_start = row['times'] - timedelta(minutes=waveform_window)\n",
    "        sync_end = row['times'] + timedelta(minutes=waveform_window)\n",
    "\n",
    "        i_sync_start = int((sync_start - header_dict['waveform_start']).total_seconds() * header_dict['Fs'])\n",
    "        i_sync_end = int((sync_end - header_dict['waveform_start']).total_seconds() * header_dict['Fs'])\n",
    "\n",
    "        df_bed = df_bed[i_sync_start:i_sync_end]\n",
    "\n",
    "\n",
    "    \n",
    "        # 5. check on the waveform data. Continue if the signals are off\n",
    "        if df_bed.shape[0] < waveform_window*60*header_dict['Fs']/2:\n",
    "            debug_message = '[Inadequate] data size smaller than {:.1f}s'.format( waveform_window/2 )\n",
    "            if verbose:\n",
    "                print(debug_message)\n",
    "                print('\\t', header_dict['header_name'], header_dict['waveform_start'],header_dict['waveform_end'],header_dict['t_dur(hr)'])\n",
    "                print('\\t', row['DateStart'], row['DateEnd'])\n",
    "                print('\\t', df_bed['time'].max()-df_bed['time'].min() )\n",
    "\n",
    "\n",
    "\n",
    "    \n",
    "    if 'perfecto' in debug_message:\n",
    "        # get the waveform, segment it, store it     \n",
    "        PPGmatrix, ECGmatrix, debug_message = df_bed2PPGmatrix(df_bed) # df_bed will be resampled to FS_RESAMPLE\n",
    "        # print(PPGmatrix.shape, ECGmatrix.shape)\n",
    "        # sys.exit()\n",
    "        \n",
    "        # select one of the window randomly\n",
    "        PPGmatrix = PPGmatrix[:,np.random.randint(PPGmatrix.shape[1])]\n",
    "        ECGmatrix = ECGmatrix[:,np.random.randint(ECGmatrix.shape[1])]\n",
    "        # print(PPGmatrix.shape)\n",
    "\n",
    "        if 'perfecto' not in debug_message:\n",
    "            PPGmatrix_name = 'DNE'\n",
    "            ECGmatrix_name = 'DNE'\n",
    "        else:\n",
    "            PPGmatrix_name = 'PPGmatrix_{}_{}_{}'.format(rec_id, header_dict['header_id'], index)  \n",
    "            data_saver(PPGmatrix, PPGmatrix_name, outputdir_recording)\n",
    "            \n",
    "            ECGmatrix_name = 'ECGmatrix_{}_{}_{}'.format(rec_id, header_dict['header_id'], index)  \n",
    "            data_saver(ECGmatrix, ECGmatrix_name, outputdir_recording)\n",
    "            # data_saver(PPGmatrix, 'data', outputdir_recording)\n",
    "        # PPGmatrix = data_loader('sig_segment_A035-0519626285_0000_7581', '../../data/stage1/waveform/')\n",
    "        # row = pd.concat([row, pd.Series({'matrix_dir': matrix_dir, 'index': index, 'debug_message': debug_message})])\n",
    "\n",
    "    # if 'perfecto' in debug_message:\n",
    "        # row = pd.concat([row, pd.Series({'matrix_dir': matrix_dir, 'index': index, 'debug_message': debug_message})])\n",
    "    else:\n",
    "        PPGmatrix_name = 'DNE'\n",
    "        ECGmatrix_name = 'DNE'\n",
    "        \n",
    "    row = pd.concat([row, pd.Series({'PPGmatrix_name': PPGmatrix_name, 'ECGmatrix_name': ECGmatrix_name, 'index': index, 'debug_message': debug_message})])\n",
    "\n",
    "    row =  pd.DataFrame(row).T\n",
    "    row.to_feather(outputdir_recording+'df_demographic_processed_{}.feather'.format(index))\n",
    "\n",
    "    \n",
    "    return row\n",
    "    # df_demographic_processed = pd.concat([df_demographic_processed, pd.DataFrame(row).T])\n",
    "    # df_demographic_processed.reset_index(drop=True).to_csv(outputdir_recording+'df_demographic_processed.csv.gz', index=False, compression='gzip')\n"
   ]
  },
  {
   "cell_type": "code",
   "execution_count": null,
   "id": "caea0fa4-2ab8-49c2-b185-ff4e4b389096",
   "metadata": {},
   "outputs": [],
   "source": []
  },
  {
   "cell_type": "code",
   "execution_count": null,
   "id": "8342e1f2-dfa9-42b6-b865-4c80df70e57c",
   "metadata": {},
   "outputs": [],
   "source": []
  },
  {
   "cell_type": "code",
   "execution_count": null,
   "id": "dd7e2f33-e24d-4d70-ae2f-acb8fff85a83",
   "metadata": {},
   "outputs": [],
   "source": []
  },
  {
   "cell_type": "code",
   "execution_count": null,
   "id": "4c654e66-73b0-472a-a31e-5e793188265b",
   "metadata": {},
   "outputs": [],
   "source": [
    "df_merged"
   ]
  },
  {
   "cell_type": "code",
   "execution_count": null,
   "id": "4e923c38-267c-4cc0-b409-6b28f4ecd8aa",
   "metadata": {},
   "outputs": [],
   "source": [
    "# df_demographic_processed = pd.read_csv(outputdir_recording+'df_demographic_processed.csv.gz').sort_values('index').reset_index(drop=True)\n",
    "# df_demographic_processed.shape"
   ]
  },
  {
   "cell_type": "markdown",
   "id": "dd193149-f1e0-4d70-ad7f-b8f6333f1db9",
   "metadata": {
    "tags": []
   },
   "source": [
    "# loop for parsing the rows (don't delete)"
   ]
  },
  {
   "cell_type": "code",
   "execution_count": null,
   "id": "a8edbadb-0915-44d1-92bd-6f272a04de35",
   "metadata": {},
   "outputs": [],
   "source": []
  },
  {
   "cell_type": "code",
   "execution_count": null,
   "id": "cdee12ef-a0f0-468b-8216-e32b461320b6",
   "metadata": {},
   "outputs": [],
   "source": [
    "# if ~from_scratch:\n",
    "#     print('hi')"
   ]
  },
  {
   "cell_type": "code",
   "execution_count": null,
   "id": "2a25402a-19c1-4f66-9177-4dfdc44e1085",
   "metadata": {},
   "outputs": [],
   "source": [
    "# ~from_scratch"
   ]
  },
  {
   "cell_type": "code",
   "execution_count": null,
   "id": "d9708a5d-f61f-459d-9cdb-a6a9cae2c3ed",
   "metadata": {},
   "outputs": [],
   "source": []
  },
  {
   "cell_type": "code",
   "execution_count": null,
   "id": "17afee31-d199-4a7c-b718-1924f03dc5c2",
   "metadata": {},
   "outputs": [],
   "source": [
    "files_in_outputdir_recording = os.listdir(outputdir_recording)"
   ]
  },
  {
   "cell_type": "code",
   "execution_count": null,
   "id": "ba94d58b-327d-48fb-89ad-c1fcb80bca29",
   "metadata": {},
   "outputs": [],
   "source": [
    "files_in_outputdir_recording[0]"
   ]
  },
  {
   "cell_type": "code",
   "execution_count": null,
   "id": "bb409d66-a9d3-4e86-86e8-ba9fb466c3d9",
   "metadata": {},
   "outputs": [],
   "source": []
  },
  {
   "cell_type": "code",
   "execution_count": null,
   "id": "2ec07811-d91e-40e4-944c-ebcd8c8c94de",
   "metadata": {},
   "outputs": [],
   "source": []
  },
  {
   "cell_type": "code",
   "execution_count": null,
   "id": "5d26c4e5-dd83-4b41-ab5f-4261622a5a8c",
   "metadata": {},
   "outputs": [],
   "source": []
  },
  {
   "cell_type": "code",
   "execution_count": 48,
   "id": "3e9244d7-1201-4919-95f2-d2819ee07e33",
   "metadata": {},
   "outputs": [
    {
     "ename": "ArrowInvalid",
     "evalue": "Not an Arrow file",
     "output_type": "error",
     "traceback": [
      "\u001b[0;31m---------------------------------------------------------------------------\u001b[0m",
      "\u001b[0;31mArrowInvalid\u001b[0m                              Traceback (most recent call last)",
      "Input \u001b[0;32mIn [48]\u001b[0m, in \u001b[0;36m<cell line: 5>\u001b[0;34m()\u001b[0m\n\u001b[1;32m      6\u001b[0m     df_demographic_processed \u001b[38;5;241m=\u001b[39m pd\u001b[38;5;241m.\u001b[39mDataFrame()\n\u001b[1;32m      7\u001b[0m \u001b[38;5;28;01melse\u001b[39;00m:\n\u001b[1;32m      8\u001b[0m     \u001b[38;5;66;03m# df_demographic_processed = pd.read_csv(outputdir_recording+'df_demographic_processed.csv.gz').sort_values('index').reset_index(drop=True)\u001b[39;00m\n\u001b[0;32m----> 9\u001b[0m     df_demographic_processed \u001b[38;5;241m=\u001b[39m pd\u001b[38;5;241m.\u001b[39mread_feather(outputdir_recording\u001b[38;5;241m+\u001b[39m\u001b[38;5;124m'\u001b[39m\u001b[38;5;124mdf_demographic_processed.feather\u001b[39m\u001b[38;5;124m'\u001b[39m, columns\u001b[38;5;241m=\u001b[39m\u001b[38;5;28;01mNone\u001b[39;00m, use_threads\u001b[38;5;241m=\u001b[39m\u001b[38;5;28;01mTrue\u001b[39;00m)\n\u001b[1;32m     11\u001b[0m     \u001b[38;5;28mprint\u001b[39m(df_demographic_processed\u001b[38;5;241m.\u001b[39mshape)\n\u001b[1;32m     12\u001b[0m \u001b[38;5;66;03m# df_demographic_processed\u001b[39;00m\n",
      "File \u001b[0;32m/opt/rh/rh-python38/root/usr/local/lib64/python3.8/site-packages/pandas/io/feather_format.py:132\u001b[0m, in \u001b[0;36mread_feather\u001b[0;34m(path, columns, use_threads, storage_options)\u001b[0m\n\u001b[1;32m    126\u001b[0m \u001b[38;5;28;01mfrom\u001b[39;00m \u001b[38;5;21;01mpyarrow\u001b[39;00m \u001b[38;5;28;01mimport\u001b[39;00m feather\n\u001b[1;32m    128\u001b[0m \u001b[38;5;28;01mwith\u001b[39;00m get_handle(\n\u001b[1;32m    129\u001b[0m     path, \u001b[38;5;124m\"\u001b[39m\u001b[38;5;124mrb\u001b[39m\u001b[38;5;124m\"\u001b[39m, storage_options\u001b[38;5;241m=\u001b[39mstorage_options, is_text\u001b[38;5;241m=\u001b[39m\u001b[38;5;28;01mFalse\u001b[39;00m\n\u001b[1;32m    130\u001b[0m ) \u001b[38;5;28;01mas\u001b[39;00m handles:\n\u001b[0;32m--> 132\u001b[0m     \u001b[38;5;28;01mreturn\u001b[39;00m \u001b[43mfeather\u001b[49m\u001b[38;5;241;43m.\u001b[39;49m\u001b[43mread_feather\u001b[49m\u001b[43m(\u001b[49m\n\u001b[1;32m    133\u001b[0m \u001b[43m        \u001b[49m\u001b[43mhandles\u001b[49m\u001b[38;5;241;43m.\u001b[39;49m\u001b[43mhandle\u001b[49m\u001b[43m,\u001b[49m\u001b[43m \u001b[49m\u001b[43mcolumns\u001b[49m\u001b[38;5;241;43m=\u001b[39;49m\u001b[43mcolumns\u001b[49m\u001b[43m,\u001b[49m\u001b[43m \u001b[49m\u001b[43muse_threads\u001b[49m\u001b[38;5;241;43m=\u001b[39;49m\u001b[38;5;28;43mbool\u001b[39;49m\u001b[43m(\u001b[49m\u001b[43muse_threads\u001b[49m\u001b[43m)\u001b[49m\n\u001b[1;32m    134\u001b[0m \u001b[43m    \u001b[49m\u001b[43m)\u001b[49m\n",
      "File \u001b[0;32m~/.local/lib/python3.8/site-packages/pyarrow/feather.py:220\u001b[0m, in \u001b[0;36mread_feather\u001b[0;34m(source, columns, use_threads, memory_map)\u001b[0m\n\u001b[1;32m    198\u001b[0m \u001b[38;5;124;03m\"\"\"\u001b[39;00m\n\u001b[1;32m    199\u001b[0m \u001b[38;5;124;03mRead a pandas.DataFrame from Feather format. To read as pyarrow.Table use\u001b[39;00m\n\u001b[1;32m    200\u001b[0m \u001b[38;5;124;03mfeather.read_table.\u001b[39;00m\n\u001b[0;32m   (...)\u001b[0m\n\u001b[1;32m    217\u001b[0m \u001b[38;5;124;03mdf : pandas.DataFrame\u001b[39;00m\n\u001b[1;32m    218\u001b[0m \u001b[38;5;124;03m\"\"\"\u001b[39;00m\n\u001b[1;32m    219\u001b[0m _check_pandas_version()\n\u001b[0;32m--> 220\u001b[0m \u001b[38;5;28;01mreturn\u001b[39;00m (\u001b[43mread_table\u001b[49m\u001b[43m(\u001b[49m\n\u001b[1;32m    221\u001b[0m \u001b[43m    \u001b[49m\u001b[43msource\u001b[49m\u001b[43m,\u001b[49m\u001b[43m \u001b[49m\u001b[43mcolumns\u001b[49m\u001b[38;5;241;43m=\u001b[39;49m\u001b[43mcolumns\u001b[49m\u001b[43m,\u001b[49m\u001b[43m \u001b[49m\u001b[43mmemory_map\u001b[49m\u001b[38;5;241;43m=\u001b[39;49m\u001b[43mmemory_map\u001b[49m\u001b[43m,\u001b[49m\n\u001b[1;32m    222\u001b[0m \u001b[43m    \u001b[49m\u001b[43muse_threads\u001b[49m\u001b[38;5;241;43m=\u001b[39;49m\u001b[43muse_threads\u001b[49m\u001b[43m)\u001b[49m\u001b[38;5;241m.\u001b[39mto_pandas(use_threads\u001b[38;5;241m=\u001b[39muse_threads))\n",
      "File \u001b[0;32m~/.local/lib/python3.8/site-packages/pyarrow/feather.py:244\u001b[0m, in \u001b[0;36mread_table\u001b[0;34m(source, columns, memory_map, use_threads)\u001b[0m\n\u001b[1;32m    225\u001b[0m \u001b[38;5;28;01mdef\u001b[39;00m \u001b[38;5;21mread_table\u001b[39m(source, columns\u001b[38;5;241m=\u001b[39m\u001b[38;5;28;01mNone\u001b[39;00m, memory_map\u001b[38;5;241m=\u001b[39m\u001b[38;5;28;01mTrue\u001b[39;00m, use_threads\u001b[38;5;241m=\u001b[39m\u001b[38;5;28;01mTrue\u001b[39;00m):\n\u001b[1;32m    226\u001b[0m     \u001b[38;5;124;03m\"\"\"\u001b[39;00m\n\u001b[1;32m    227\u001b[0m \u001b[38;5;124;03m    Read a pyarrow.Table from Feather format\u001b[39;00m\n\u001b[1;32m    228\u001b[0m \n\u001b[0;32m   (...)\u001b[0m\n\u001b[1;32m    242\u001b[0m \u001b[38;5;124;03m    table : pyarrow.Table\u001b[39;00m\n\u001b[1;32m    243\u001b[0m \u001b[38;5;124;03m    \"\"\"\u001b[39;00m\n\u001b[0;32m--> 244\u001b[0m     reader \u001b[38;5;241m=\u001b[39m \u001b[43m_feather\u001b[49m\u001b[38;5;241;43m.\u001b[39;49m\u001b[43mFeatherReader\u001b[49m\u001b[43m(\u001b[49m\n\u001b[1;32m    245\u001b[0m \u001b[43m        \u001b[49m\u001b[43msource\u001b[49m\u001b[43m,\u001b[49m\u001b[43m \u001b[49m\u001b[43muse_memory_map\u001b[49m\u001b[38;5;241;43m=\u001b[39;49m\u001b[43mmemory_map\u001b[49m\u001b[43m,\u001b[49m\u001b[43m \u001b[49m\u001b[43muse_threads\u001b[49m\u001b[38;5;241;43m=\u001b[39;49m\u001b[43muse_threads\u001b[49m\u001b[43m)\u001b[49m\n\u001b[1;32m    247\u001b[0m     \u001b[38;5;28;01mif\u001b[39;00m columns \u001b[38;5;129;01mis\u001b[39;00m \u001b[38;5;28;01mNone\u001b[39;00m:\n\u001b[1;32m    248\u001b[0m         \u001b[38;5;28;01mreturn\u001b[39;00m reader\u001b[38;5;241m.\u001b[39mread()\n",
      "File \u001b[0;32m~/.local/lib/python3.8/site-packages/pyarrow/_feather.pyx:79\u001b[0m, in \u001b[0;36mpyarrow._feather.FeatherReader.__cinit__\u001b[0;34m()\u001b[0m\n",
      "File \u001b[0;32m~/.local/lib/python3.8/site-packages/pyarrow/error.pxi:143\u001b[0m, in \u001b[0;36mpyarrow.lib.pyarrow_internal_check_status\u001b[0;34m()\u001b[0m\n",
      "File \u001b[0;32m~/.local/lib/python3.8/site-packages/pyarrow/error.pxi:99\u001b[0m, in \u001b[0;36mpyarrow.lib.check_status\u001b[0;34m()\u001b[0m\n",
      "\u001b[0;31mArrowInvalid\u001b[0m: Not an Arrow file"
     ]
    }
   ],
   "source": [
    "waveform_window = 0.5 # minute,  preceeding and proceeding\n",
    "verbose=False\n",
    "from_scratch = False\n",
    "\n",
    "if from_scratch:\n",
    "    df_demographic_processed = pd.DataFrame()\n",
    "else:\n",
    "    # df_demographic_processed = pd.read_csv(outputdir_recording+'df_demographic_processed.csv.gz').sort_values('index').reset_index(drop=True)\n",
    "    df_demographic_processed = pd.read_feather(outputdir_recording+'df_demographic_processed.feather', columns=None, use_threads=True)\n",
    "\n",
    "    print(df_demographic_processed.shape)\n",
    "# df_demographic_processed\n",
    "\n",
    "\n",
    "\n",
    "for index, row in df_merged.iterrows():\n",
    "    # start = time.time()\n",
    "    \n",
    "    if not from_scratch: # if not from scatch, check if index is in df_demographic_processed['index']\n",
    "        if index in df_demographic_processed['index']:\n",
    "            # print(index)\n",
    "            continue\n",
    "            \n",
    "        if 'df_demographic_processed_{}.feather'.format(index) in files_in_outputdir_recording:\n",
    "            continue\n",
    "            \n",
    "            if os.path.getsize(outputdir_recording+'df_demographic_processed_{}.feather'.format(index))==0:\n",
    "                continue\n",
    "    \n",
    "    row_processed = process_row(row, index, inputdir, outputdir_recording)\n",
    "    \n",
    "    \n",
    "    # df = pd.read_feather(outputdir_recording+'df_demographic_processed_{}.feather'.format(index), columns=None, use_threads=True)\n",
    "\n",
    "    # sys.exit()\n",
    "    \n",
    "    df_demographic_processed = pd.concat([row_processed, df_demographic_processed])\n",
    "    # df_demographic_processed.reset_index(drop=True).to_csv(outputdir_recording+'df_demographic_processed.csv.gz', index=False, compression='gzip')\n",
    "    df_demographic_processed.reset_index(drop=True).to_feather(outputdir_recording+'df_demographic_processed.feather')\n",
    "\n",
    "    \n",
    "    \n",
    "    \n",
    "    \n",
    "    \n",
    "    # sys.exit()\n",
    "\n",
    "    # continue\n",
    "\n",
    "    # end = time.time()\n",
    "    # print(end - start)"
   ]
  },
  {
   "cell_type": "code",
   "execution_count": null,
   "id": "f53f5581-7491-4901-b4d3-a07b41a5080c",
   "metadata": {},
   "outputs": [],
   "source": []
  },
  {
   "cell_type": "code",
   "execution_count": null,
   "id": "9795fe4a-9524-4021-8967-984069f3e6bc",
   "metadata": {},
   "outputs": [],
   "source": [
    "# ==================  working on rec_id: A088-0516752917 ==================\n",
    "# row_processed"
   ]
  },
  {
   "cell_type": "code",
   "execution_count": null,
   "id": "e13c82c4-6c18-45b3-980c-91f03674886e",
   "metadata": {},
   "outputs": [],
   "source": []
  },
  {
   "cell_type": "code",
   "execution_count": null,
   "id": "479834e5-b62e-4b4b-8e40-1b13578c37bc",
   "metadata": {},
   "outputs": [],
   "source": [
    "df_demographic_processed"
   ]
  },
  {
   "cell_type": "code",
   "execution_count": null,
   "id": "2a605f0f-8595-49a1-b1a7-7d7384a4257e",
   "metadata": {},
   "outputs": [],
   "source": []
  },
  {
   "cell_type": "code",
   "execution_count": null,
   "id": "60257484-bcbe-46c8-822c-dcd11140608f",
   "metadata": {},
   "outputs": [],
   "source": [
    "sys.exit()"
   ]
  },
  {
   "cell_type": "code",
   "execution_count": null,
   "id": "a74eca83-5490-47bf-9e67-396b1fdf6db1",
   "metadata": {},
   "outputs": [],
   "source": []
  },
  {
   "cell_type": "code",
   "execution_count": null,
   "id": "b9db3e8d-5141-4339-b6c7-49a24c554820",
   "metadata": {},
   "outputs": [],
   "source": []
  },
  {
   "cell_type": "markdown",
   "id": "df0a1ea6-0806-4019-af37-54bca8001e66",
   "metadata": {},
   "source": [
    "# parallel computing"
   ]
  },
  {
   "cell_type": "code",
   "execution_count": null,
   "id": "17332a30-6a7d-400b-ba7e-3488125dd1ad",
   "metadata": {},
   "outputs": [],
   "source": [
    "from joblib import Parallel, delayed\n",
    "import multiprocessing\n",
    "\n",
    "import time\n",
    "\n",
    "start = time.time()\n",
    "\n",
    "df_demographic_processed = pd.DataFrame()\n",
    "\n",
    "num_cores = multiprocessing.cpu_count()\n",
    "\n",
    "results = Parallel(n_jobs=num_cores)(delayed(process_row)(row, index, inputdir, outputdir_recording) for index, row in df_merged.iterrows())\n",
    "df_demographic_processed = pd.concat(results)\n",
    "df_demographic_processed.reset_index(drop=True).to_csv(outputdir_recording+'df_demographic_processed.csv.gz', index=False, compression='gzip')\n",
    "\n",
    "end = time.time()\n",
    "print(end - start)"
   ]
  },
  {
   "cell_type": "code",
   "execution_count": null,
   "id": "91f2d1eb-dc2e-462b-81d6-62046d0ed792",
   "metadata": {},
   "outputs": [],
   "source": []
  },
  {
   "cell_type": "code",
   "execution_count": null,
   "id": "c6439d87-bde7-4395-8f96-17b92ef4b9a3",
   "metadata": {},
   "outputs": [],
   "source": [
    "df = pd.read_csv(outputdir_recording+'df_demographic_processed.csv.gz')"
   ]
  },
  {
   "cell_type": "code",
   "execution_count": null,
   "id": "62530ac5-9d65-425d-99fc-25a993a35f0b",
   "metadata": {},
   "outputs": [],
   "source": []
  },
  {
   "cell_type": "code",
   "execution_count": null,
   "id": "387f092f-e49e-48fa-af05-c0b88e7d9268",
   "metadata": {},
   "outputs": [],
   "source": []
  },
  {
   "cell_type": "code",
   "execution_count": null,
   "id": "ae54f096-a050-420b-89e0-40a6e9b01218",
   "metadata": {},
   "outputs": [],
   "source": [
    "# results"
   ]
  },
  {
   "cell_type": "code",
   "execution_count": null,
   "id": "6b3533d0-d73f-46c7-8b13-5b225228043a",
   "metadata": {},
   "outputs": [],
   "source": []
  },
  {
   "cell_type": "code",
   "execution_count": null,
   "id": "9e74151e-d905-4dae-9676-d817300798f3",
   "metadata": {},
   "outputs": [],
   "source": []
  },
  {
   "cell_type": "code",
   "execution_count": null,
   "id": "909817be-cff3-464c-b2e1-76d22419cf00",
   "metadata": {},
   "outputs": [],
   "source": [
    "sys.exit()"
   ]
  },
  {
   "cell_type": "code",
   "execution_count": null,
   "id": "90263ea0-571c-4595-984b-b51b41dc33e6",
   "metadata": {},
   "outputs": [],
   "source": []
  },
  {
   "cell_type": "code",
   "execution_count": null,
   "id": "b6fc8b08-df7b-46c7-9c32-8229aa17a19a",
   "metadata": {},
   "outputs": [],
   "source": []
  },
  {
   "cell_type": "code",
   "execution_count": null,
   "id": "e3b8a87b-a948-4564-bd30-989cefeea56b",
   "metadata": {},
   "outputs": [],
   "source": []
  },
  {
   "cell_type": "code",
   "execution_count": null,
   "id": "8d2d23d2-5ad6-4ec3-9b34-178fd849a452",
   "metadata": {},
   "outputs": [],
   "source": []
  },
  {
   "cell_type": "markdown",
   "id": "db774fe3-3bb7-4904-98f6-ecfa69ce289b",
   "metadata": {},
   "source": [
    "# test on one random file"
   ]
  },
  {
   "cell_type": "markdown",
   "id": "5a5e0974-af4c-4f12-b3e4-af0d5baea0a5",
   "metadata": {
    "tags": []
   },
   "source": [
    "# get the header file"
   ]
  },
  {
   "cell_type": "code",
   "execution_count": null,
   "id": "af0d6c2d",
   "metadata": {},
   "outputs": [],
   "source": [
    "rec_id = list(recording_lookup.keys())[selected_id]\n",
    "\n",
    "bed_id = rec_id.split('-')[0]\n",
    "subject_id = rec_id.split('-')[1]\n",
    "\n",
    "header_id = recording_lookup[rec_id]\n",
    "header_name = rec_id+'_{}.hea'.format(header_id)\n",
    "\n",
    "# get recording directory\n",
    "inputdir_rec = inputdir + rec_id + '/'\n",
    "\n",
    "# get header file directory\n",
    "headerdir = inputdir_rec + header_name\n",
    "print(headerdir)\n",
    "\n",
    "# load header file\n",
    "with open(headerdir, 'r') as f:\n",
    "    header = f.readlines()\n",
    "\n",
    "header_dict = header_extract(header)"
   ]
  },
  {
   "cell_type": "code",
   "execution_count": null,
   "id": "266e6e72-cfce-4c8a-bb5b-28587252d468",
   "metadata": {},
   "outputs": [],
   "source": [
    "header_dict['header_id'] = header_id"
   ]
  },
  {
   "cell_type": "code",
   "execution_count": null,
   "id": "ec257165-bf50-4f15-bd41-10bfb8007209",
   "metadata": {},
   "outputs": [],
   "source": [
    "header_dict"
   ]
  },
  {
   "cell_type": "code",
   "execution_count": null,
   "id": "8f16835c",
   "metadata": {},
   "outputs": [],
   "source": [
    "# recording_lookup"
   ]
  },
  {
   "cell_type": "markdown",
   "id": "81e78d47",
   "metadata": {},
   "source": [
    "# get raw waveform data"
   ]
  },
  {
   "cell_type": "code",
   "execution_count": null,
   "id": "125cc670",
   "metadata": {},
   "outputs": [],
   "source": [
    "df_bed, _ = get_df_bed(rec_id, inputdir, header_dict['header_id'])\n",
    "df_bed"
   ]
  },
  {
   "cell_type": "code",
   "execution_count": null,
   "id": "d1fc57be",
   "metadata": {},
   "outputs": [],
   "source": []
  },
  {
   "cell_type": "code",
   "execution_count": null,
   "id": "6ec4e95f",
   "metadata": {},
   "outputs": [],
   "source": []
  },
  {
   "cell_type": "markdown",
   "id": "fe5c5e58-6c6a-4986-8de7-528b6207c538",
   "metadata": {},
   "source": [
    "# duration of data"
   ]
  },
  {
   "cell_type": "code",
   "execution_count": null,
   "id": "c5b6a051",
   "metadata": {},
   "outputs": [],
   "source": [
    "t_arr = np.arange(df_bed.shape[0])/header_dict['Fs']\n",
    "\n",
    "df_bed['time'] = t_arr\n",
    "df_bed['time'] = df_bed['time']-df_bed['time'].values[0]\n",
    "\n",
    "t_dur = df_bed.shape[0]/header_dict['Fs']\n",
    "print('t_dur: {:.2f}s'.format(t_dur))"
   ]
  },
  {
   "cell_type": "code",
   "execution_count": null,
   "id": "052ec243",
   "metadata": {},
   "outputs": [],
   "source": []
  },
  {
   "cell_type": "code",
   "execution_count": null,
   "id": "1a4c5d05",
   "metadata": {},
   "outputs": [],
   "source": []
  },
  {
   "cell_type": "code",
   "execution_count": null,
   "id": "760a0e4a",
   "metadata": {},
   "outputs": [],
   "source": [
    "header_dict['unit_dict']"
   ]
  },
  {
   "cell_type": "code",
   "execution_count": null,
   "id": "10951e72",
   "metadata": {},
   "outputs": [],
   "source": [
    "plot_all_sync(df_bed, rec_id, header_dict, t_start=300, t_end=400, plt_scale=0.3, fig_name=None, outputdir=None, show_plot=True)\n"
   ]
  },
  {
   "cell_type": "code",
   "execution_count": null,
   "id": "eb749e6c",
   "metadata": {},
   "outputs": [],
   "source": []
  },
  {
   "cell_type": "code",
   "execution_count": null,
   "id": "63b1df5a",
   "metadata": {},
   "outputs": [],
   "source": [
    "# extract beat matrix"
   ]
  },
  {
   "cell_type": "code",
   "execution_count": null,
   "id": "15008f5e",
   "metadata": {},
   "outputs": [],
   "source": [
    "seg_duration = 30 * 60 # sec\n",
    "\n",
    "Fs = header_dict['Fs']\n",
    "N_segs = int((df_bed.shape[0]/Fs)//seg_duration)\n",
    "verbose = True\n",
    "\n",
    "df_features_bed = pd.DataFrame()\n",
    "\n",
    "for i_seg in range(N_segs):\n",
    "\n",
    "    if i_seg>3:\n",
    "        continue\n",
    "\n",
    "    if verbose:\n",
    "        print('i_seg: ', i_seg)\n",
    "\n",
    "    i_start = int(i_seg*seg_duration*Fs)\n",
    "    i_end = int((i_seg+1)*seg_duration*Fs)\n",
    "\n",
    "    df_seg = df_bed[i_start:i_end].copy()\n",
    "\n",
    "    if df_seg.shape[0]==0:\n",
    "        continue\n",
    "    if np.mean(np.diff(df_seg['SPO2'])==0)>signal_quite_threshold:\n",
    "        continue\n",
    "    if np.mean(np.diff(df_seg['I'])==0)>signal_quite_threshold:\n",
    "        continue\n",
    "    if np.mean(np.diff(df_seg['II'])==0)>signal_quite_threshold:\n",
    "        continue\n",
    "    if np.mean(np.diff(df_seg['III'])==0)>signal_quite_threshold:\n",
    "        continue\n",
    "    if np.mean(np.diff(df_seg['V'])==0)>signal_quite_threshold:\n",
    "        continue\n",
    "\n",
    "\n",
    "    norm1 = np.abs(get_ecg_IP_norm(df_seg['I'].values, df_seg['II']))\n",
    "    norm2 = np.abs(get_ecg_IP_norm(df_seg['I'].values, df_seg['III']))\n",
    "    norm3 = np.abs(get_ecg_IP_norm(df_seg['I'].values, df_seg['V']))\n",
    "\n",
    "    if (norm1 < 0.3) or (norm2 < 0.3) or (norm3 < 0.3):\n",
    "        if verbose:\n",
    "            print('\\tbad ECG')\n",
    "        continue\n",
    "\n",
    "\n",
    "    sig_name = 'I'\n",
    "    ECG = df_seg[sig_name].values\n",
    "\n",
    "\n",
    "    # ECG = df[sig_name].values\n",
    "\n",
    "    fig_name = 'ECG_diagnostics_'+sig_name\n",
    "    # QRS_detector_dict = task_HR_detector(ECG, Fs, fig_name=fig_name, outputdir=None, show_plot=True)\n",
    "    QRS_detector_dict = task_HR_detector(ECG, Fs, fig_name=fig_name, outputdir=None, show_plot=False)\n",
    "\n",
    "#     t_ecg = np.arange(ECG.shape[0])/Fs\n",
    "#     hr_interp = np.interp(t_ecg, QRS_detector_dict['ts_hr'], QRS_detector_dict['hr'])\n",
    "\n",
    "\n",
    "    # segment the beats\n",
    "    beats_dict = segment_df(df_seg, QRS_detector_dict, Fs)\n",
    "    # mask_ppg, ol_rate = clean_PPG(beats_dict['SPO2'], beats_dict['SPO2'].mean(axis=1), Fs)\n",
    "    # beats_dict = masking_beats_dict(beats_dict, mask_ppg)\n",
    "\n",
    "    sys.exit()"
   ]
  },
  {
   "cell_type": "code",
   "execution_count": null,
   "id": "749ce5df-ca64-4583-adc7-1a711c41fc4e",
   "metadata": {},
   "outputs": [],
   "source": []
  },
  {
   "cell_type": "code",
   "execution_count": null,
   "id": "02c46a20-a72d-4835-b0e6-1ab76153f514",
   "metadata": {},
   "outputs": [],
   "source": [
    "# TODO: check segment_df, validate the beat plotting function again"
   ]
  },
  {
   "cell_type": "code",
   "execution_count": null,
   "id": "9b349f99-53a4-4a7d-89bc-eba46ecb91cb",
   "metadata": {},
   "outputs": [],
   "source": []
  },
  {
   "cell_type": "code",
   "execution_count": null,
   "id": "92ba67ac-0893-43a7-b356-4b3e67d70422",
   "metadata": {},
   "outputs": [],
   "source": [
    "get_filt_df"
   ]
  },
  {
   "cell_type": "code",
   "execution_count": null,
   "id": "156875bd-8103-4e0f-b0c0-1731b4dd44c7",
   "metadata": {},
   "outputs": [],
   "source": [
    "# plt.plot(beats_dict['I'][:50, :], color='gray', alpha=0.5)\n",
    "# plt.show()"
   ]
  },
  {
   "cell_type": "code",
   "execution_count": null,
   "id": "ec83a2b8-86dc-4515-a131-ff710281b1e8",
   "metadata": {},
   "outputs": [],
   "source": [
    "# beats_dict['I'].shape"
   ]
  },
  {
   "cell_type": "code",
   "execution_count": null,
   "id": "d514dd6e-c579-40c5-a25d-7fa0746e2aba",
   "metadata": {},
   "outputs": [],
   "source": [
    "plt.plot(beats_dict['SPO2'][:50, :], color='gray', alpha=0.1)\n",
    "plt.show()"
   ]
  },
  {
   "cell_type": "code",
   "execution_count": null,
   "id": "ead16978-ddd0-4274-ad87-4b708a997ac8",
   "metadata": {},
   "outputs": [],
   "source": [
    "# # create a list\n",
    "# prime_numbers = [2, 3, 5, 7, 9, 11]\n",
    "\n",
    "# # remove 9 from the list\n",
    "# prime_numbers.remove(1)"
   ]
  },
  {
   "cell_type": "code",
   "execution_count": null,
   "id": "b9832d31-4766-4f92-95ac-aac2d9e63ca4",
   "metadata": {},
   "outputs": [],
   "source": [
    "# prime_numbers"
   ]
  },
  {
   "cell_type": "code",
   "execution_count": null,
   "id": "086ed4ce-eccf-490f-91d7-4ec754fae666",
   "metadata": {},
   "outputs": [],
   "source": [
    "plot_all_sync(df_seg, rec_id, header_dict, t_start=300, t_end=400, plt_scale=0.3, fig_name=None, outputdir=None, show_plot=True)\n"
   ]
  },
  {
   "cell_type": "markdown",
   "id": "4d00c806-928b-49ac-a131-85a3ed11d8ed",
   "metadata": {},
   "source": [
    "# # TODO: need to renovate this function so it can work again\n"
   ]
  },
  {
   "cell_type": "code",
   "execution_count": null,
   "id": "5ee45629-8866-4bbe-b178-e50561a5f1e6",
   "metadata": {},
   "outputs": [],
   "source": [
    "def plot_ALL_beats2(beats_dict, beats_id, subject_id, Fs, show_good=None, fig_name=None, outputdir=None, show_plot=False):\n",
    "    beats_id = [1,2,3,4,5,6, 7]\n",
    "    beats_names = ['I', 'II', 'III', 'V', 'SPO2', 'PPG_DC', 'AR2']\n",
    "    unit_dict = header_dict['unit_dict']\n",
    "    unit_dict['PPG_DC'] = ''\n",
    "    t_beat = np.arange(beats_dict['I'].shape[0])/Fs\n",
    "\n",
    "    fig = plt.figure(figsize=(16, 10), dpi=80)\n",
    "    fontsize = 20\n",
    "    alpha = 0.03\n",
    "\n",
    "\n",
    "    # for (beat_name, beat_i) in zip(beats_dict, beats_id):\n",
    "    for (beat_name, beat_i) in zip(beats_names, beats_id):\n",
    "\n",
    "        beats = beats_dict[beat_name]\n",
    "\n",
    "        ax = fig.add_subplot(3, 4, beat_i)\n",
    "        ax.set_title(beat_name+'\\n', fontsize=fontsize)\n",
    "\n",
    "        show_good = True\n",
    "        if show_good is not None:\n",
    "\n",
    "\n",
    "            template = beats_dict[beat_name].mean(axis=1)\n",
    "            if beat_name=='SPO2':\n",
    "                mask_all, ol_rate = clean_PPG(beats, template, Fs)\n",
    "                ax.set_title(beat_name+'\\nacception_rate:{:.2f}'.format(1-ol_rate), fontsize=fontsize)\n",
    "\n",
    "\n",
    "        ax.plot(t_beat, beats, color='gray', alpha=alpha)\n",
    "        ax.plot(t_beat, np.mean(beats,axis=1), color='firebrick', linewidth=3)\n",
    "\n",
    "        if 'SPO2' in beat_name or 'I' == beat_name or 'II' == beat_name or 'III' == beat_name or 'V' == beat_name:\n",
    "            beats_mean = np.mean(beats,axis=1)\n",
    "\n",
    "            ymin = beats_mean.mean() - beats_mean.std()*5\n",
    "            ymax = beats_mean.mean() + beats_mean.std()*5\n",
    "            ax.set_ylim(ymin, ymax)\n",
    "\n",
    "        ax.tick_params(axis='both', which='major', labelsize=13)\n",
    "        ax.set_ylabel(unit_dict[beat_name], fontsize=fontsize-3)\n",
    "        ax.set_xlabel('time (sec)', fontsize=fontsize)\n",
    "\n",
    "\n",
    "\n",
    "    fig.tight_layout()\n",
    "\n",
    "    # if outputdir is not None:\n",
    "\n",
    "    #     if fig_name is None:\n",
    "    #         fig_name = 'beats_ensemble_sub{}'.format(subject_id)\n",
    "\n",
    "    #     if not os.path.exists(outputdir):\n",
    "    #         os.makedirs(outputdir)\n",
    "    #     fig.savefig(outputdir + fig_name+'.png', transparent=False)\n",
    "\n",
    "    # if show_plot == False:\n",
    "    #     plt.close(fig)\n",
    "    #     pyplot.close(fig)\n",
    "    #     plt.close('all')"
   ]
  },
  {
   "cell_type": "code",
   "execution_count": null,
   "id": "08ff24e8-915b-487f-9e31-34ab31ad2da2",
   "metadata": {},
   "outputs": [],
   "source": []
  },
  {
   "cell_type": "code",
   "execution_count": null,
   "id": "1ac6e62d-f487-45fb-82f2-72a83f27263f",
   "metadata": {},
   "outputs": [],
   "source": []
  },
  {
   "cell_type": "code",
   "execution_count": null,
   "id": "6a4dadf8",
   "metadata": {},
   "outputs": [],
   "source": []
  },
  {
   "cell_type": "code",
   "execution_count": null,
   "id": "26294eff",
   "metadata": {},
   "outputs": [],
   "source": []
  },
  {
   "cell_type": "code",
   "execution_count": null,
   "id": "48f137cb",
   "metadata": {},
   "outputs": [],
   "source": []
  },
  {
   "cell_type": "code",
   "execution_count": null,
   "id": "ddb85b11",
   "metadata": {},
   "outputs": [],
   "source": []
  },
  {
   "cell_type": "code",
   "execution_count": null,
   "id": "f3009839",
   "metadata": {},
   "outputs": [],
   "source": []
  },
  {
   "cell_type": "code",
   "execution_count": null,
   "id": "8183887b",
   "metadata": {},
   "outputs": [],
   "source": []
  },
  {
   "cell_type": "code",
   "execution_count": null,
   "id": "e0da7568",
   "metadata": {},
   "outputs": [],
   "source": []
  },
  {
   "cell_type": "code",
   "execution_count": null,
   "id": "ead6acc4",
   "metadata": {},
   "outputs": [],
   "source": []
  },
  {
   "cell_type": "code",
   "execution_count": null,
   "id": "14c3b382",
   "metadata": {},
   "outputs": [],
   "source": []
  },
  {
   "cell_type": "code",
   "execution_count": null,
   "id": "ee8b9f1e",
   "metadata": {},
   "outputs": [],
   "source": []
  }
 ],
 "metadata": {
  "kernelspec": {
   "display_name": "Python 3 (ipykernel)",
   "language": "python",
   "name": "python3"
  },
  "language_info": {
   "codemirror_mode": {
    "name": "ipython",
    "version": 3
   },
   "file_extension": ".py",
   "mimetype": "text/x-python",
   "name": "python",
   "nbconvert_exporter": "python",
   "pygments_lexer": "ipython3",
   "version": "3.8.11"
  }
 },
 "nbformat": 4,
 "nbformat_minor": 5
}
