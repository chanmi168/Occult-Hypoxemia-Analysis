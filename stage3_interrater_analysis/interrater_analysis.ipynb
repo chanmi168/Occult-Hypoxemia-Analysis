{
 "cells": [
  {
   "cell_type": "markdown",
   "id": "25793c03",
   "metadata": {},
   "source": [
    "# Iterating through all patients in all years to find peep>5"
   ]
  },
  {
   "cell_type": "code",
   "execution_count": 102,
   "id": "1ac6bba4",
   "metadata": {},
   "outputs": [
    {
     "name": "stdout",
     "output_type": "stream",
     "text": [
      "The autoreload extension is already loaded. To reload it, use:\n",
      "  %reload_ext autoreload\n"
     ]
    }
   ],
   "source": [
    "import pandas as pd\n",
    "from datetime import datetime\n",
    "import os\n",
    "import pickle\n",
    "from datetime import timedelta\n",
    "from datetime import datetime\n",
    "from datetime import date\n",
    "from datetime import time\n",
    "from dateutil.relativedelta import relativedelta\n",
    "\n",
    "import pandas as pd\n",
    "import numpy as np\n",
    "import os\n",
    "\n",
    "import json\n",
    "\n",
    "import sys\n",
    "from scipy.io import loadmat\n",
    "\n",
    "import matplotlib\n",
    "import matplotlib.pyplot as plt\n",
    "plt.style.use('seaborn-white')\n",
    "matplotlib.rc( 'savefig', facecolor = 'white' )\n",
    "from matplotlib import pyplot\n",
    "import matplotlib.ticker as plticker\n",
    "\n",
    "import seaborn as sns\n",
    "from matplotlib.cm import ScalarMappable\n",
    "\n",
    "\n",
    "import sys\n",
    "sys.path.append('../') # add this line so Data and data are visible in this file\n",
    "sys.path.append('../../') # add this line so Data and data are visible in this file\n",
    "sys.path.append('../PhysioMC/') # add this line so Data and data are visible in this file\n",
    "\n",
    "# from PatchWand import *\n",
    "from filters import *\n",
    "from setting import *\n",
    "# from preprocessing import *\n",
    "from ECG_module import *\n",
    "from dataIO import *\n",
    "from stage1_PPG_analysis import *\n",
    "\n",
    "from importlib import reload\n",
    "%load_ext autoreload\n",
    "%autoreload 2"
   ]
  },
  {
   "cell_type": "code",
   "execution_count": 2,
   "id": "b3ed2501",
   "metadata": {},
   "outputs": [],
   "source": [
    "# selected_id = 10"
   ]
  },
  {
   "cell_type": "code",
   "execution_count": 3,
   "id": "8c93df87",
   "metadata": {
    "tags": []
   },
   "outputs": [
    {
     "data": {
      "text/plain": [
       "'/labs/kamaleswaranlab/Sepsis3_062321/mchan_analysis/disparities_O2/repo/stage3_interrater_analysis'"
      ]
     },
     "execution_count": 3,
     "metadata": {},
     "output_type": "execute_result"
    }
   ],
   "source": [
    "%pwd"
   ]
  },
  {
   "cell_type": "code",
   "execution_count": 4,
   "id": "98a2f827-f4a2-4361-8f48-f88749291d85",
   "metadata": {},
   "outputs": [],
   "source": [
    "outputdir = '../../data/stage3/'\n",
    "if not os.path.exists(outputdir):\n",
    "    os.makedirs(outputdir)"
   ]
  },
  {
   "cell_type": "code",
   "execution_count": 5,
   "id": "a1f2ff38-fee3-4129-877c-4f51a5bdf9c2",
   "metadata": {},
   "outputs": [],
   "source": [
    "inputdir = '/labs/kamaleswaranlab/Sepsis3_062321/Files_cp_sftp_6_30_21/Files_cp_6_30_21/'"
   ]
  },
  {
   "cell_type": "code",
   "execution_count": 6,
   "id": "0bed5727-6dde-46c4-85a3-c28a7c5b190e",
   "metadata": {},
   "outputs": [],
   "source": [
    "demographic_filedir = '../../data/Pat_BedTime_List_some_on_BMI_2_6_22_dem.csv'\n",
    "\n",
    "df_demographic = pd.read_csv(demographic_filedir, index_col=0)  \n"
   ]
  },
  {
   "cell_type": "code",
   "execution_count": 7,
   "id": "03f472a6-d64c-4013-a2a3-ea008ced42c4",
   "metadata": {},
   "outputs": [
    {
     "data": {
      "text/plain": [
       "(6285, 9)"
      ]
     },
     "execution_count": 7,
     "metadata": {},
     "output_type": "execute_result"
    }
   ],
   "source": [
    "df_demographic.shape"
   ]
  },
  {
   "cell_type": "code",
   "execution_count": null,
   "id": "82b499aa-89e5-4d1f-ae79-6b27125b1c13",
   "metadata": {},
   "outputs": [],
   "source": []
  },
  {
   "cell_type": "code",
   "execution_count": null,
   "id": "17836e5a-d4e0-4371-a8b4-e15dd3aecf43",
   "metadata": {},
   "outputs": [],
   "source": []
  },
  {
   "cell_type": "code",
   "execution_count": 8,
   "id": "1e254ff5-4264-4888-a271-c60b995badae",
   "metadata": {},
   "outputs": [],
   "source": [
    "df_demographic_processed = pd.read_csv(outputdir+'df_demographic_processed.csv.gz')  \n"
   ]
  },
  {
   "cell_type": "code",
   "execution_count": 9,
   "id": "0334966f-e4ee-41b4-9de4-d43aa24311dc",
   "metadata": {},
   "outputs": [
    {
     "data": {
      "text/plain": [
       "(179, 19)"
      ]
     },
     "execution_count": 9,
     "metadata": {},
     "output_type": "execute_result"
    }
   ],
   "source": [
    "df_demographic_processed.shape"
   ]
  },
  {
   "cell_type": "code",
   "execution_count": 10,
   "id": "98048ac8-4820-4e19-86f8-f706ca9edfca",
   "metadata": {},
   "outputs": [],
   "source": [
    "df_demographic_processed\n",
    "\n",
    "id_vars = ['deBedTime', 'DateStart', 'DateEnd', 'PAT_ID', 'BED_LOCATION_START', 'BED_LOCATION_END', 'White', 'Black', 'Race String']\n",
    "\n",
    "df2 = pd.melt(df_demographic_processed, id_vars=id_vars, \n",
    "                  var_name=\"feature_name\", value_name=\"feature\")"
   ]
  },
  {
   "cell_type": "code",
   "execution_count": 11,
   "id": "091e31a8-bf51-4a30-a21a-b4287a138083",
   "metadata": {},
   "outputs": [],
   "source": [
    "# df_demographic_processed['White', 'Black']"
   ]
  },
  {
   "cell_type": "code",
   "execution_count": 65,
   "id": "2137e2dd-19b7-41b0-94fc-b4efff20c7ed",
   "metadata": {},
   "outputs": [],
   "source": [
    "X = df_demographic_processed[['B2C', 'max2min', 'PI', 'std', 'skewness', 'kurtosis', 'rms', 'energy', 'mean', 'White', 'Black', 'Race String']].copy()\n"
   ]
  },
  {
   "cell_type": "code",
   "execution_count": 66,
   "id": "a6bf44a5-0b42-42b6-9188-726707111b38",
   "metadata": {},
   "outputs": [
    {
     "data": {
      "text/html": [
       "<div>\n",
       "<style scoped>\n",
       "    .dataframe tbody tr th:only-of-type {\n",
       "        vertical-align: middle;\n",
       "    }\n",
       "\n",
       "    .dataframe tbody tr th {\n",
       "        vertical-align: top;\n",
       "    }\n",
       "\n",
       "    .dataframe thead th {\n",
       "        text-align: right;\n",
       "    }\n",
       "</style>\n",
       "<table border=\"1\" class=\"dataframe\">\n",
       "  <thead>\n",
       "    <tr style=\"text-align: right;\">\n",
       "      <th></th>\n",
       "      <th>B2C</th>\n",
       "      <th>max2min</th>\n",
       "      <th>PI</th>\n",
       "      <th>std</th>\n",
       "      <th>skewness</th>\n",
       "      <th>kurtosis</th>\n",
       "      <th>rms</th>\n",
       "      <th>energy</th>\n",
       "      <th>mean</th>\n",
       "      <th>White</th>\n",
       "      <th>Black</th>\n",
       "      <th>Race String</th>\n",
       "    </tr>\n",
       "  </thead>\n",
       "  <tbody>\n",
       "    <tr>\n",
       "      <th>0</th>\n",
       "      <td>3.705019</td>\n",
       "      <td>3.902952</td>\n",
       "      <td>1.030261</td>\n",
       "      <td>1.170934</td>\n",
       "      <td>0.336743</td>\n",
       "      <td>-0.938273</td>\n",
       "      <td>1.187073</td>\n",
       "      <td>329.060853</td>\n",
       "      <td>3.783615</td>\n",
       "      <td>True</td>\n",
       "      <td>False</td>\n",
       "      <td>Caucasian or White</td>\n",
       "    </tr>\n",
       "    <tr>\n",
       "      <th>1</th>\n",
       "      <td>3.497053</td>\n",
       "      <td>3.354127</td>\n",
       "      <td>0.887997</td>\n",
       "      <td>0.990033</td>\n",
       "      <td>0.239301</td>\n",
       "      <td>-0.956555</td>\n",
       "      <td>1.010432</td>\n",
       "      <td>235.239758</td>\n",
       "      <td>3.811167</td>\n",
       "      <td>True</td>\n",
       "      <td>False</td>\n",
       "      <td>Caucasian or White</td>\n",
       "    </tr>\n",
       "    <tr>\n",
       "      <th>2</th>\n",
       "      <td>3.683347</td>\n",
       "      <td>4.333929</td>\n",
       "      <td>1.125200</td>\n",
       "      <td>1.273415</td>\n",
       "      <td>0.351938</td>\n",
       "      <td>-0.892114</td>\n",
       "      <td>1.280928</td>\n",
       "      <td>389.180788</td>\n",
       "      <td>3.833917</td>\n",
       "      <td>True</td>\n",
       "      <td>False</td>\n",
       "      <td>Caucasian or White</td>\n",
       "    </tr>\n",
       "    <tr>\n",
       "      <th>3</th>\n",
       "      <td>2.963683</td>\n",
       "      <td>4.007279</td>\n",
       "      <td>0.981521</td>\n",
       "      <td>1.178020</td>\n",
       "      <td>-0.044834</td>\n",
       "      <td>-1.068208</td>\n",
       "      <td>1.185622</td>\n",
       "      <td>333.055698</td>\n",
       "      <td>4.115000</td>\n",
       "      <td>True</td>\n",
       "      <td>False</td>\n",
       "      <td>Caucasian or White</td>\n",
       "    </tr>\n",
       "    <tr>\n",
       "      <th>4</th>\n",
       "      <td>2.337624</td>\n",
       "      <td>3.488548</td>\n",
       "      <td>0.918549</td>\n",
       "      <td>0.985555</td>\n",
       "      <td>0.391615</td>\n",
       "      <td>-0.777702</td>\n",
       "      <td>1.003428</td>\n",
       "      <td>233.116580</td>\n",
       "      <td>3.823313</td>\n",
       "      <td>False</td>\n",
       "      <td>True</td>\n",
       "      <td>African American  or Black</td>\n",
       "    </tr>\n",
       "    <tr>\n",
       "      <th>...</th>\n",
       "      <td>...</td>\n",
       "      <td>...</td>\n",
       "      <td>...</td>\n",
       "      <td>...</td>\n",
       "      <td>...</td>\n",
       "      <td>...</td>\n",
       "      <td>...</td>\n",
       "      <td>...</td>\n",
       "      <td>...</td>\n",
       "      <td>...</td>\n",
       "      <td>...</td>\n",
       "      <td>...</td>\n",
       "    </tr>\n",
       "    <tr>\n",
       "      <th>174</th>\n",
       "      <td>2.653142</td>\n",
       "      <td>2.517258</td>\n",
       "      <td>0.643492</td>\n",
       "      <td>0.703985</td>\n",
       "      <td>0.494207</td>\n",
       "      <td>-0.538536</td>\n",
       "      <td>0.709077</td>\n",
       "      <td>118.942800</td>\n",
       "      <td>3.905333</td>\n",
       "      <td>False</td>\n",
       "      <td>True</td>\n",
       "      <td>African American  or Black</td>\n",
       "    </tr>\n",
       "    <tr>\n",
       "      <th>175</th>\n",
       "      <td>2.119064</td>\n",
       "      <td>4.260612</td>\n",
       "      <td>1.113931</td>\n",
       "      <td>1.129950</td>\n",
       "      <td>0.633000</td>\n",
       "      <td>-0.139812</td>\n",
       "      <td>1.146914</td>\n",
       "      <td>306.428751</td>\n",
       "      <td>3.813771</td>\n",
       "      <td>False</td>\n",
       "      <td>True</td>\n",
       "      <td>African American  or Black</td>\n",
       "    </tr>\n",
       "    <tr>\n",
       "      <th>176</th>\n",
       "      <td>3.120565</td>\n",
       "      <td>3.708079</td>\n",
       "      <td>0.897880</td>\n",
       "      <td>1.191670</td>\n",
       "      <td>0.120090</td>\n",
       "      <td>-1.324609</td>\n",
       "      <td>1.194316</td>\n",
       "      <td>340.818722</td>\n",
       "      <td>4.063552</td>\n",
       "      <td>True</td>\n",
       "      <td>False</td>\n",
       "      <td>Caucasian or White</td>\n",
       "    </tr>\n",
       "    <tr>\n",
       "      <th>177</th>\n",
       "      <td>1.402662</td>\n",
       "      <td>2.853640</td>\n",
       "      <td>0.735144</td>\n",
       "      <td>0.773922</td>\n",
       "      <td>0.891757</td>\n",
       "      <td>-0.177011</td>\n",
       "      <td>0.786621</td>\n",
       "      <td>143.749092</td>\n",
       "      <td>3.865875</td>\n",
       "      <td>True</td>\n",
       "      <td>False</td>\n",
       "      <td>Caucasian or White</td>\n",
       "    </tr>\n",
       "    <tr>\n",
       "      <th>178</th>\n",
       "      <td>2.552021</td>\n",
       "      <td>2.626996</td>\n",
       "      <td>0.641081</td>\n",
       "      <td>0.807782</td>\n",
       "      <td>0.144304</td>\n",
       "      <td>-1.191492</td>\n",
       "      <td>0.812084</td>\n",
       "      <td>156.602844</td>\n",
       "      <td>4.096510</td>\n",
       "      <td>False</td>\n",
       "      <td>True</td>\n",
       "      <td>African American  or Black</td>\n",
       "    </tr>\n",
       "  </tbody>\n",
       "</table>\n",
       "<p>179 rows × 12 columns</p>\n",
       "</div>"
      ],
      "text/plain": [
       "          B2C   max2min        PI       std  skewness  kurtosis       rms  \\\n",
       "0    3.705019  3.902952  1.030261  1.170934  0.336743 -0.938273  1.187073   \n",
       "1    3.497053  3.354127  0.887997  0.990033  0.239301 -0.956555  1.010432   \n",
       "2    3.683347  4.333929  1.125200  1.273415  0.351938 -0.892114  1.280928   \n",
       "3    2.963683  4.007279  0.981521  1.178020 -0.044834 -1.068208  1.185622   \n",
       "4    2.337624  3.488548  0.918549  0.985555  0.391615 -0.777702  1.003428   \n",
       "..        ...       ...       ...       ...       ...       ...       ...   \n",
       "174  2.653142  2.517258  0.643492  0.703985  0.494207 -0.538536  0.709077   \n",
       "175  2.119064  4.260612  1.113931  1.129950  0.633000 -0.139812  1.146914   \n",
       "176  3.120565  3.708079  0.897880  1.191670  0.120090 -1.324609  1.194316   \n",
       "177  1.402662  2.853640  0.735144  0.773922  0.891757 -0.177011  0.786621   \n",
       "178  2.552021  2.626996  0.641081  0.807782  0.144304 -1.191492  0.812084   \n",
       "\n",
       "         energy      mean  White  Black                 Race String  \n",
       "0    329.060853  3.783615   True  False          Caucasian or White  \n",
       "1    235.239758  3.811167   True  False          Caucasian or White  \n",
       "2    389.180788  3.833917   True  False          Caucasian or White  \n",
       "3    333.055698  4.115000   True  False          Caucasian or White  \n",
       "4    233.116580  3.823313  False   True  African American  or Black  \n",
       "..          ...       ...    ...    ...                         ...  \n",
       "174  118.942800  3.905333  False   True  African American  or Black  \n",
       "175  306.428751  3.813771  False   True  African American  or Black  \n",
       "176  340.818722  4.063552   True  False          Caucasian or White  \n",
       "177  143.749092  3.865875   True  False          Caucasian or White  \n",
       "178  156.602844  4.096510  False   True  African American  or Black  \n",
       "\n",
       "[179 rows x 12 columns]"
      ]
     },
     "execution_count": 66,
     "metadata": {},
     "output_type": "execute_result"
    }
   ],
   "source": [
    "X"
   ]
  },
  {
   "cell_type": "code",
   "execution_count": null,
   "id": "1f4473a0-d2b1-4dbe-9d5a-0e2b0a50399b",
   "metadata": {},
   "outputs": [],
   "source": []
  },
  {
   "cell_type": "code",
   "execution_count": 67,
   "id": "29a08a5c-05dc-49da-95ad-3f412d8f18a4",
   "metadata": {},
   "outputs": [],
   "source": [
    "from sklearn.decomposition import PCA\n",
    "from sklearn.preprocessing import StandardScaler"
   ]
  },
  {
   "cell_type": "code",
   "execution_count": 68,
   "id": "a4b6c23e-c18f-4bc3-8bb8-04e480e008f1",
   "metadata": {},
   "outputs": [],
   "source": [
    "pca_features = PCA(n_components=3)\n"
   ]
  },
  {
   "cell_type": "code",
   "execution_count": 86,
   "id": "d3610c62-bd1a-4e80-8f58-701dfefc68fe",
   "metadata": {},
   "outputs": [
    {
     "name": "stdout",
     "output_type": "stream",
     "text": [
      "PCA var: [60.3 80.8 91.6]\n"
     ]
    }
   ],
   "source": [
    "var_pca = np.cumsum(np.round(pca_features.explained_variance_ratio_, decimals=3)*100)\n",
    "print('PCA var:', var_pca)\n",
    "explained_var = var_pca[1]"
   ]
  },
  {
   "cell_type": "code",
   "execution_count": 71,
   "id": "1a35de48-0b43-4781-8fa0-9b436a1cc321",
   "metadata": {},
   "outputs": [],
   "source": [
    "features = X.iloc[:, :-3].values"
   ]
  },
  {
   "cell_type": "code",
   "execution_count": 74,
   "id": "f068b15e-159c-4355-9053-66fab37132d4",
   "metadata": {},
   "outputs": [
    {
     "data": {
      "text/plain": [
       "['B2C',\n",
       " 'max2min',\n",
       " 'PI',\n",
       " 'std',\n",
       " 'skewness',\n",
       " 'kurtosis',\n",
       " 'rms',\n",
       " 'energy',\n",
       " 'mean']"
      ]
     },
     "execution_count": 74,
     "metadata": {},
     "output_type": "execute_result"
    }
   ],
   "source": [
    "col_name = list(X.iloc[:, :-3].columns)\n",
    "col_name"
   ]
  },
  {
   "cell_type": "code",
   "execution_count": 75,
   "id": "97798b4f-5953-4dd4-b6bb-88856b86b5b9",
   "metadata": {},
   "outputs": [
    {
     "data": {
      "text/plain": [
       "array([[  3.7050185 ,   3.90295206,   1.03026099, ...,   1.18707329,\n",
       "        329.0608531 ,   3.78361458],\n",
       "       [  3.49705265,   3.3541272 ,   0.88799749, ...,   1.01043159,\n",
       "        235.23975788,   3.81116667],\n",
       "       [  3.68334725,   4.33392893,   1.12520038, ...,   1.28092792,\n",
       "        389.18078756,   3.83391667],\n",
       "       ...,\n",
       "       [  3.12056468,   3.70807889,   0.89787978, ...,   1.19431552,\n",
       "        340.81872217,   4.06355208],\n",
       "       [  1.40266243,   2.85364012,   0.73514409, ...,   0.78662058,\n",
       "        143.74909214,   3.865875  ],\n",
       "       [  2.55202099,   2.62699605,   0.64108107, ...,   0.81208387,\n",
       "        156.6028437 ,   4.09651042]])"
      ]
     },
     "execution_count": 75,
     "metadata": {},
     "output_type": "execute_result"
    }
   ],
   "source": [
    "features"
   ]
  },
  {
   "cell_type": "code",
   "execution_count": 76,
   "id": "8d33cf9f-143f-4655-8ec2-77620a9024ed",
   "metadata": {},
   "outputs": [
    {
     "name": "stdout",
     "output_type": "stream",
     "text": [
      "show standardize mean and std: -2.2604168347427148e-17 1.0\n"
     ]
    }
   ],
   "source": [
    "features = StandardScaler().fit_transform(features) # normalizing the features\n",
    "print('show standardize mean and std:', np.mean(features),np.std(features))\n",
    "\n"
   ]
  },
  {
   "cell_type": "code",
   "execution_count": 77,
   "id": "2a0f0eef-87d3-467d-ba6f-ee1e72ef2b6f",
   "metadata": {},
   "outputs": [],
   "source": [
    "principalComponents_features = pca_features.fit_transform(features)\n"
   ]
  },
  {
   "cell_type": "code",
   "execution_count": null,
   "id": "1a09f87b-a2dc-4f8f-a07a-0b7c3125d367",
   "metadata": {},
   "outputs": [],
   "source": []
  },
  {
   "cell_type": "code",
   "execution_count": null,
   "id": "c413746f-0244-4eb5-b0da-9702d03ee888",
   "metadata": {},
   "outputs": [],
   "source": []
  },
  {
   "cell_type": "code",
   "execution_count": null,
   "id": "5ba54f22-d27b-40ba-8fc4-1a4050683362",
   "metadata": {},
   "outputs": [],
   "source": []
  },
  {
   "cell_type": "code",
   "execution_count": 78,
   "id": "470023cb-3b96-4c26-82cb-3bd7feadd0a8",
   "metadata": {},
   "outputs": [],
   "source": [
    "X.loc[:,'PC1'] = principalComponents_features[:, 0]\n",
    "X.loc[:,'PC2'] = principalComponents_features[:, 1]"
   ]
  },
  {
   "cell_type": "code",
   "execution_count": 84,
   "id": "68b6e6bb-5e9b-48cf-ad59-b71c09a187ee",
   "metadata": {},
   "outputs": [],
   "source": [
    "X.loc[:,'MAE_SpO2'] = np.random.rand(X.shape[0])"
   ]
  },
  {
   "cell_type": "code",
   "execution_count": 93,
   "id": "0523e843-8855-4221-b053-0a8d9c3c4e72",
   "metadata": {},
   "outputs": [],
   "source": [
    "# X.loc[:, 'Race'] = ''"
   ]
  },
  {
   "cell_type": "code",
   "execution_count": 94,
   "id": "655bd8b3-6a54-4bcd-8fb1-ea218da39b0a",
   "metadata": {},
   "outputs": [],
   "source": [
    "# X.loc[:, 'Race'] = ''"
   ]
  },
  {
   "cell_type": "code",
   "execution_count": 91,
   "id": "7e6100a7-8482-4a6f-805f-e7c0c8f18e5c",
   "metadata": {},
   "outputs": [
    {
     "data": {
      "text/plain": [
       "array(['Caucasian or White', 'African American  or Black'], dtype=object)"
      ]
     },
     "execution_count": 91,
     "metadata": {},
     "output_type": "execute_result"
    }
   ],
   "source": [
    "# X['Race String'].unique()"
   ]
  },
  {
   "cell_type": "code",
   "execution_count": 145,
   "id": "4abc152c-1f6c-498c-abd5-d8f31a6be7c2",
   "metadata": {},
   "outputs": [
    {
     "data": {
      "text/plain": [
       "<matplotlib.legend.Legend at 0x7f75daf1e760>"
      ]
     },
     "execution_count": 145,
     "metadata": {},
     "output_type": "execute_result"
    },
    {
     "data": {
      "image/png": "[encoded data removed]",
      "text/plain": [
       "<Figure size 800x800 with 2 Axes>"
      ]
     },
     "metadata": {},
     "output_type": "display_data"
    }
   ],
   "source": [
    "fig, ax = plt.subplots(1,1, figsize=(8,8), dpi=100)\n",
    "\n",
    "ax.set_xlabel('Principal Component - 1',fontsize=12)\n",
    "ax.set_ylabel('Principal Component - 2',fontsize=12)\n",
    "ax.set_title('{}\\n(explained_var: {:.2f}%)'.format(col_name, explained_var),fontsize=15)\n",
    "ax.tick_params(axis='both', which='major', labelsize=12)\n",
    "\n",
    "legend_dict = {\n",
    "    0: 'White',\n",
    "    1: 'Black',\n",
    "}\n",
    "\n",
    "race_color_dict = {\n",
    "    'Caucasian or White': 'firebrick',\n",
    "    'African American  or Black': 'steelblue',\n",
    "}\n",
    "\n",
    "# pt_label = ['']\n",
    "\n",
    "marker = 'o'\n",
    "# colors = 'r'\n",
    "alpha = 0.5\n",
    "\n",
    "mask_White = X['White']==True\n",
    "mask_Black = X['Black']==True\n",
    "\n",
    "markers = {\"Caucasian or White\": \"o\", \"African American  or Black\": \"X\"}\n",
    "# sns.scatterplot(data=tips, x=\"total_bill\", y=\"tip\", style=\"time\", markers=markers)\n",
    "\n",
    "\n",
    "\n",
    "sns.scatterplot(data=X, x=\"PC1\", y=\"PC2\", hue='MAE_SpO2', style=\"Race String\", ax=ax, palette='viridis', hue_norm=(0,1), markers=markers,alpha=alpha)\n",
    "# ax.add_legend()\n",
    "\n",
    "# ax.legend_.remove()\n",
    "# ax.legend([],[], frameon=False)\n",
    "\n",
    "#Colormap for comparison\n",
    "cmap = plt.get_cmap(\"viridis\")\n",
    "norm = plt.Normalize(0,1)\n",
    "sm =  ScalarMappable(norm=norm, cmap=cmap)\n",
    "sm.set_array([])\n",
    "cbar = fig.colorbar(sm, ax=ax)\n",
    "\n",
    "\n",
    "# ax.legend(loc='upper right', prop={'size': 15})\n",
    "# ax.legend(handles=h, labels=['child', 'teen'])\n",
    "handles, labels  =  ax.get_legend_handles_labels()\n",
    "ax.legend(handles=handles[-3:], labels=labels[-3:])\n",
    "ax.legend(bbox_to_anchor= (.01, 1.05), prop={'size': 12})\n"
   ]
  },
  {
   "cell_type": "code",
   "execution_count": 120,
   "id": "c98409a0-c1d0-4291-9318-a9905eeb494c",
   "metadata": {},
   "outputs": [],
   "source": []
  },
  {
   "cell_type": "code",
   "execution_count": 141,
   "id": "cb8a4a68-990b-4c7a-934c-ee496a8bd2d0",
   "metadata": {},
   "outputs": [],
   "source": [
    "# handles, labels[-3:]"
   ]
  },
  {
   "cell_type": "code",
   "execution_count": null,
   "id": "1e9efcab-93a5-4bb7-b5ce-15f660312f26",
   "metadata": {},
   "outputs": [],
   "source": []
  },
  {
   "cell_type": "code",
   "execution_count": null,
   "id": "5ebceceb-241b-4a40-a9b8-8af792e2da29",
   "metadata": {},
   "outputs": [],
   "source": []
  },
  {
   "cell_type": "code",
   "execution_count": null,
   "id": "a6aff734-116d-48e0-83c8-e3e5f38b5872",
   "metadata": {},
   "outputs": [],
   "source": []
  },
  {
   "cell_type": "code",
   "execution_count": null,
   "id": "12fe06ba-fd2f-4251-bbc9-ab3988f7fd8e",
   "metadata": {},
   "outputs": [],
   "source": []
  },
  {
   "cell_type": "code",
   "execution_count": null,
   "id": "8840f9bb-d023-41ed-9aa4-b093c204e88e",
   "metadata": {},
   "outputs": [],
   "source": []
  },
  {
   "cell_type": "code",
   "execution_count": null,
   "id": "ac42850f-0417-4f2c-91b8-ab2598f456b8",
   "metadata": {},
   "outputs": [],
   "source": []
  },
  {
   "cell_type": "code",
   "execution_count": null,
   "id": "e03f55d1-6e0e-4921-9636-5615c41e26c6",
   "metadata": {},
   "outputs": [],
   "source": []
  },
  {
   "cell_type": "code",
   "execution_count": null,
   "id": "269b379b-3830-4848-b02c-ee50e6046272",
   "metadata": {},
   "outputs": [],
   "source": []
  },
  {
   "cell_type": "code",
   "execution_count": null,
   "id": "878e448e-7e17-4c76-adf5-c521fdcca6f3",
   "metadata": {},
   "outputs": [],
   "source": []
  },
  {
   "cell_type": "code",
   "execution_count": null,
   "id": "43dee26f-8982-4271-b865-a2f77f455b83",
   "metadata": {},
   "outputs": [],
   "source": []
  },
  {
   "cell_type": "code",
   "execution_count": null,
   "id": "aeb7d0f5-f05c-4268-8429-7da7d96eb960",
   "metadata": {},
   "outputs": [],
   "source": []
  },
  {
   "cell_type": "code",
   "execution_count": null,
   "id": "475d3711-6a67-4a07-ac06-3ef0190b3735",
   "metadata": {},
   "outputs": [],
   "source": []
  },
  {
   "cell_type": "code",
   "execution_count": null,
   "id": "087d2601-4be2-48dc-8650-42e6b24b7cb3",
   "metadata": {},
   "outputs": [],
   "source": []
  },
  {
   "cell_type": "code",
   "execution_count": null,
   "id": "64c6528b-f573-4cdc-aea7-f0e2d593ebca",
   "metadata": {},
   "outputs": [],
   "source": []
  },
  {
   "cell_type": "code",
   "execution_count": null,
   "id": "d4b0ca06-6c55-43e2-9103-8fdb91e347ed",
   "metadata": {},
   "outputs": [],
   "source": []
  },
  {
   "cell_type": "code",
   "execution_count": null,
   "id": "0c81e261-b3d9-4f46-9669-1d810837c32f",
   "metadata": {},
   "outputs": [],
   "source": [
    "sys.exit()"
   ]
  },
  {
   "cell_type": "code",
   "execution_count": null,
   "id": "8af8f09f-41b8-46a6-be9d-a3589f3d7801",
   "metadata": {},
   "outputs": [],
   "source": []
  },
  {
   "cell_type": "code",
   "execution_count": null,
   "id": "4dd5fda3-a538-4afa-aa16-5c5204c3c9bf",
   "metadata": {},
   "outputs": [],
   "source": [
    "beats = beats_dict['SPO2']\n",
    "\n",
    "plt.plot(beats, color='gray', alpha=0.1)\n",
    "plt.plot(beats.mean(axis=1), color='red', alpha=0.7)\n",
    "# plt.ylim(-1,1)\n",
    "plt.show()\n",
    "\n",
    "beats = beats_dict['SPO2'][:, mask_all]\n",
    "\n",
    "plt.plot(beats, color='gray', alpha=0.1)\n",
    "plt.plot(beats.mean(axis=1), color='red', alpha=0.7)\n",
    "# plt.ylim(-1,1)\n",
    "plt.show()"
   ]
  },
  {
   "cell_type": "code",
   "execution_count": null,
   "id": "50162c51-844a-4bdc-a031-bce1c1c514ee",
   "metadata": {},
   "outputs": [],
   "source": []
  },
  {
   "cell_type": "code",
   "execution_count": null,
   "id": "008311c0-bb8d-43f0-8116-4e8eb8554658",
   "metadata": {},
   "outputs": [],
   "source": []
  },
  {
   "cell_type": "code",
   "execution_count": null,
   "id": "ba97e9b4-4355-4b90-b793-a6b14b3f82d9",
   "metadata": {},
   "outputs": [],
   "source": [
    "feature_names = list(df_features_sub.keys())\n",
    "feature_names.remove('i_R_peak')\n",
    "\n",
    "\n",
    "# feature_names"
   ]
  },
  {
   "cell_type": "code",
   "execution_count": null,
   "id": "b48bbb29-617c-479f-8c8c-df5ac3f30127",
   "metadata": {},
   "outputs": [],
   "source": [
    "# sns.set_theme(style=\"whitegrid\")\n",
    "# tips = sns.load_dataset(\"tips\")\n",
    "\n",
    "fig, axes = plt.subplots(len(feature_names),1, figsize=(5,20), dpi=80)\n",
    "\n",
    "for ax, feature_name in zip(axes, feature_names):\n",
    "# sns.violinplot(x=df_features[\"B2C\"], ax=axes[0], orient='v')\n",
    "# sns.violinplot(x=df_features[\"PI\"], ax=axes[1], orient='v')\n",
    "\n",
    "    sns.violinplot(data=df_features_sub, y=feature_name, ax=ax)\n",
    "# sns.violinplot(data=df_features_sub, y=\"PI\", ax=axes[1])\n"
   ]
  },
  {
   "cell_type": "code",
   "execution_count": null,
   "id": "8130426a-0e71-442e-8e7f-2d19cea08739",
   "metadata": {},
   "outputs": [],
   "source": [
    "df_features_sub.keys()"
   ]
  },
  {
   "cell_type": "code",
   "execution_count": null,
   "id": "9ca9b8b7-b5c4-4fa5-89ae-9c8bbad9dfb7",
   "metadata": {},
   "outputs": [],
   "source": [
    "plt.plot(df_features_sub['rms'].values)"
   ]
  },
  {
   "cell_type": "code",
   "execution_count": null,
   "id": "ae6eb36a-574d-40f6-9cf8-e6ef7893c4c3",
   "metadata": {},
   "outputs": [],
   "source": [
    "np.median(df_features_sub['max2min'].values)"
   ]
  },
  {
   "cell_type": "code",
   "execution_count": null,
   "id": "72cf3152-71b2-47d4-8b9b-785489e097bf",
   "metadata": {},
   "outputs": [],
   "source": []
  },
  {
   "cell_type": "code",
   "execution_count": null,
   "id": "d45c0210-c3ae-4101-bea3-cac69d4922e4",
   "metadata": {},
   "outputs": [],
   "source": []
  },
  {
   "cell_type": "code",
   "execution_count": null,
   "id": "a6819f02-55a8-44f4-832a-6de3c2c7a550",
   "metadata": {},
   "outputs": [],
   "source": []
  },
  {
   "cell_type": "code",
   "execution_count": null,
   "id": "f7fa4c07-7fd3-4fd6-b781-9970fcc9c44b",
   "metadata": {},
   "outputs": [],
   "source": []
  },
  {
   "cell_type": "code",
   "execution_count": null,
   "id": "9fec5b34-6130-4c99-a710-c8e7fddb9b78",
   "metadata": {},
   "outputs": [],
   "source": []
  },
  {
   "cell_type": "code",
   "execution_count": null,
   "id": "b1de4743-9d51-445b-afa1-c34e94b2cbc9",
   "metadata": {},
   "outputs": [],
   "source": [
    "\n",
    "# np.prod(mask_feature_list, axis=1)"
   ]
  },
  {
   "cell_type": "code",
   "execution_count": null,
   "id": "da2169cf-54b7-4049-99a6-8d09e48351da",
   "metadata": {},
   "outputs": [],
   "source": []
  },
  {
   "cell_type": "code",
   "execution_count": null,
   "id": "ca2b1dc2-8649-463c-808d-e83a9e0c9259",
   "metadata": {},
   "outputs": [],
   "source": [
    "mask_feature_list.shape"
   ]
  },
  {
   "cell_type": "code",
   "execution_count": null,
   "id": "bd8e118a-a0e8-48d4-9559-3531d482e24f",
   "metadata": {},
   "outputs": [],
   "source": [
    "aaa = np.asarray([[ True,  True,  True, True],\n",
    "       [ True,  False,  True, True],\n",
    "       [ True,  True,  True, True]])\n",
    "\n",
    "aaa"
   ]
  },
  {
   "cell_type": "code",
   "execution_count": null,
   "id": "a857978d-b5a6-4ceb-bd65-80a5ffc8c9c2",
   "metadata": {},
   "outputs": [],
   "source": [
    "np.prod(aaa, axis=1)"
   ]
  },
  {
   "cell_type": "code",
   "execution_count": null,
   "id": "0178d951-20d6-49b5-a7d4-b2efcefc38ff",
   "metadata": {},
   "outputs": [],
   "source": [
    "mask_feature_list.shape"
   ]
  },
  {
   "cell_type": "code",
   "execution_count": null,
   "id": "81a32fa1-8c9e-4d09-9fd1-aa519be380fe",
   "metadata": {},
   "outputs": [],
   "source": [
    "# np.stack(mask_feature_list).T\n",
    "# aaa = np.asarray([[1.,2.],[3.,4.]])\n",
    "# np.prod(aaa, axis=0), aaa"
   ]
  },
  {
   "cell_type": "code",
   "execution_count": null,
   "id": "52d5ee75-19db-41aa-8e39-e36a414cb303",
   "metadata": {},
   "outputs": [],
   "source": [
    "FQI_dict"
   ]
  },
  {
   "cell_type": "code",
   "execution_count": null,
   "id": "5b010f7c-3a8c-4d3a-998f-fe57e413a250",
   "metadata": {},
   "outputs": [],
   "source": [
    "FQI_dict = get_FQI_dict(df_features['B2C'].values)\n",
    "plt.plot(FQI_dict['FQI'])"
   ]
  },
  {
   "cell_type": "code",
   "execution_count": null,
   "id": "f5a79d1b-2dfc-4ac4-9c36-fbfe21ec8c09",
   "metadata": {},
   "outputs": [],
   "source": []
  },
  {
   "cell_type": "code",
   "execution_count": null,
   "id": "ac7f1538-c082-4e96-a8d1-2407307257e1",
   "metadata": {},
   "outputs": [],
   "source": []
  },
  {
   "cell_type": "code",
   "execution_count": null,
   "id": "7901661a-54af-4cd1-98de-85be31e21b51",
   "metadata": {},
   "outputs": [],
   "source": []
  },
  {
   "cell_type": "code",
   "execution_count": null,
   "id": "6f4ab725-5f70-401b-8c9e-c6a92d796e2c",
   "metadata": {},
   "outputs": [],
   "source": []
  },
  {
   "cell_type": "code",
   "execution_count": null,
   "id": "c509a3de-f46c-4435-808c-60cd2ee2b394",
   "metadata": {},
   "outputs": [],
   "source": [
    "plt.plot(ECG)\n",
    "plt.xlim(0,1000)"
   ]
  },
  {
   "cell_type": "code",
   "execution_count": null,
   "id": "ca2f8820-490c-4c69-8aab-3b946aecb541",
   "metadata": {},
   "outputs": [],
   "source": [
    "t_ecg = np.arange(ECG.shape[0])/Fs\n",
    "hr_interp = np.interp(t_ecg, QRS_detector_dict['ts_hr'], QRS_detector_dict['hr'])\n",
    "\n",
    "# plt.plot(t_ecg, hr_interp)\n",
    "plt.plot(QRS_detector_dict['ts_hr'], QRS_detector_dict['hr'])\n",
    "plt.xlim(0, 100)"
   ]
  },
  {
   "cell_type": "code",
   "execution_count": null,
   "id": "b7335933-591b-42f5-afb7-3c3f69f48fa6",
   "metadata": {},
   "outputs": [],
   "source": [
    "# plt.plot(t_ecg, ECG)\n",
    "# plt.xlim(0, 500)"
   ]
  },
  {
   "cell_type": "code",
   "execution_count": null,
   "id": "28791672-1780-489e-ad1a-8ae9c0af3f67",
   "metadata": {},
   "outputs": [],
   "source": [
    "# plt.plot(t_ecg, ECG)\n",
    "# plt.xlim(300, 350)"
   ]
  },
  {
   "cell_type": "code",
   "execution_count": null,
   "id": "e2d72931-fe8b-405b-8a0d-d2724c527896",
   "metadata": {},
   "outputs": [],
   "source": []
  },
  {
   "cell_type": "code",
   "execution_count": null,
   "id": "98f6220e-0bed-4b82-b0e9-7fffac2d296f",
   "metadata": {},
   "outputs": [],
   "source": []
  },
  {
   "cell_type": "code",
   "execution_count": null,
   "id": "b2eaeb15-0cd8-4cf3-99d2-bb88c897e8e5",
   "metadata": {},
   "outputs": [],
   "source": []
  },
  {
   "cell_type": "code",
   "execution_count": null,
   "id": "2746bdac-f067-4a1e-b9db-34bedba6c22f",
   "metadata": {},
   "outputs": [],
   "source": []
  },
  {
   "cell_type": "code",
   "execution_count": null,
   "id": "0793119c",
   "metadata": {},
   "outputs": [],
   "source": []
  },
  {
   "cell_type": "code",
   "execution_count": null,
   "id": "bbe0174d",
   "metadata": {},
   "outputs": [],
   "source": [
    "# plt.plot(t_ecg[::10], hr_interp[::10])\n",
    "# plt.xlim(0, 1000)"
   ]
  },
  {
   "cell_type": "code",
   "execution_count": null,
   "id": "411b9180",
   "metadata": {},
   "outputs": [],
   "source": [
    "# def get_filt_df(df_sync, Fs):\n",
    "#     df = df_sync.copy()\n",
    "\n",
    "#     for sig_name in df.columns:\n",
    "#         if 'I' == sig_name or 'II' == sig_name or 'III' == sig_name or 'V' == sig_name:\n",
    "#             df[sig_name] = get_padded_filt(df[sig_name].values, filter_padded=1, lowcutoff=FILT_ECG[0], highcutoff=FILT_ECG[1], Fs=Fs)\n",
    "#         elif 'RR' == sig_name:\n",
    "#             df[sig_name] = get_padded_filt_DSwrapper(df[sig_name].values, filter_padded=1, lowcutoff=FILT_RESP[0], highcutoff=FILT_RESP[1], Fs=Fs)\n",
    "#         elif 'SPO2' == sig_name:\n",
    "#             df[sig_name] = get_padded_filt(df[sig_name].values, filter_padded=1, lowcutoff=FILT_PPG[0], highcutoff=FILT_PPG[1], Fs=Fs)\n",
    "#         else:\n",
    "#             pass\n",
    "\n",
    "#     return df\n"
   ]
  },
  {
   "cell_type": "code",
   "execution_count": null,
   "id": "3f3d0a87",
   "metadata": {},
   "outputs": [],
   "source": []
  },
  {
   "cell_type": "code",
   "execution_count": null,
   "id": "054d1fce",
   "metadata": {},
   "outputs": [],
   "source": []
  },
  {
   "cell_type": "code",
   "execution_count": null,
   "id": "6058959a",
   "metadata": {},
   "outputs": [],
   "source": []
  },
  {
   "cell_type": "code",
   "execution_count": null,
   "id": "59b4fdba",
   "metadata": {},
   "outputs": [],
   "source": [
    "\n",
    "# beats_dict = segment_df(df_seg, QRS_detector_dict, Fs)\n",
    "# use_ensemble = True\n"
   ]
  },
  {
   "cell_type": "code",
   "execution_count": null,
   "id": "8aff6bcb",
   "metadata": {},
   "outputs": [],
   "source": []
  },
  {
   "cell_type": "code",
   "execution_count": null,
   "id": "5b5ea448",
   "metadata": {},
   "outputs": [],
   "source": [
    "# if use_ensemble:\n",
    "#     for key in beats_dict:\n",
    "#         if 'ppg' not in key:\n",
    "#             continue\n",
    "#         sig_beats = beats_dict[key]\n",
    "#         beats_dict[key] = get_ensemble_beats(sig_beats, N_enBeats=4, use_woody=False)"
   ]
  },
  {
   "cell_type": "code",
   "execution_count": null,
   "id": "eca33305",
   "metadata": {},
   "outputs": [],
   "source": []
  },
  {
   "cell_type": "code",
   "execution_count": null,
   "id": "f70cf61a",
   "metadata": {},
   "outputs": [],
   "source": [
    "beats_dict.keys()"
   ]
  },
  {
   "cell_type": "code",
   "execution_count": null,
   "id": "3b989a5d",
   "metadata": {},
   "outputs": [],
   "source": []
  },
  {
   "cell_type": "code",
   "execution_count": null,
   "id": "1c7e179c",
   "metadata": {},
   "outputs": [],
   "source": []
  },
  {
   "cell_type": "code",
   "execution_count": null,
   "id": "23fca3fb",
   "metadata": {},
   "outputs": [],
   "source": [
    "beats_id = [1,2,3,4,5,6]\n",
    "beats_names = ['I', 'II', 'III', 'V', 'SPO2', 'PPG_DC']\n",
    "unit_dict['PPG_DC'] = ''\n",
    "\n",
    "def plot_ALL_beats(beats_dict, beats_id, subject_id, Fs, show_good=None, fig_name=None, outputdir=None, show_plot=False):\n",
    "\n",
    "    t_beat = np.arange(beats_dict['I'].shape[0])/Fs\n",
    "\n",
    "    fig = plt.figure(figsize=(16, 10), dpi=80)\n",
    "    fontsize = 20\n",
    "    alpha = 0.03\n",
    "\n",
    "\n",
    "    # for (beat_name, beat_i) in zip(beats_dict, beats_id):\n",
    "    for (beat_name, beat_i) in zip(beats_names, beats_id):\n",
    "\n",
    "        beats = beats_dict[beat_name]\n",
    "\n",
    "        ax = fig.add_subplot(3, 4, beat_i)\n",
    "        ax.set_title(beat_name+'\\n', fontsize=fontsize)\n",
    "\n",
    "        show_good = True\n",
    "        if show_good is not None:\n",
    "\n",
    "\n",
    "            template = beats_dict[beat_name].mean(axis=1)\n",
    "            if beat_name=='SPO2':\n",
    "                mask_all, ol_rate = clean_PPG(beats, template, Fs)\n",
    "                ax.set_title(beat_name+'\\nacception_rate:{:.2f}'.format(1-ol_rate), fontsize=fontsize)\n",
    "\n",
    "            # if 'ppg' in beat_name:\n",
    "\n",
    "    #             # if beat_name[-1]=='1':\n",
    "    #                 template = beats_dict['ppg_r_1'].mean(axis=1)\n",
    "    #             elif beat_name[-1]=='2':\n",
    "    #                 template = beats_dict['ppg_r_1'].mean(axis=1)\n",
    "\n",
    "    #             mask_all, ol_rate = clean_PPG(beats, template, Fs)\n",
    "    #             if show_good==False:\n",
    "    #                 beats = beats[:, ~mask_all]\n",
    "    # #                     print(beat_name, ol_rate)\n",
    "    #                 ax.set_title(beat_name+'\\nrejection_rate:{:.2f}'.format(ol_rate), fontsize=fontsize)\n",
    "    #             else:\n",
    "    #                 beats = beats[:, mask_all]\n",
    "    # #                     print(beat_name, ol_rate)\n",
    "    #                 ax.set_title(beat_name+'\\nacception_rate:{:.2f}'.format(1-ol_rate), fontsize=fontsize)\n",
    "\n",
    "\n",
    "\n",
    "        ax.plot(t_beat, beats, color='gray', alpha=alpha)\n",
    "        ax.plot(t_beat, np.mean(beats,axis=1), color='firebrick', linewidth=3)\n",
    "\n",
    "        if 'SPO2' in beat_name or 'I' == beat_name or 'II' == beat_name or 'III' == beat_name or 'V' == beat_name:\n",
    "            beats_mean = np.mean(beats,axis=1)\n",
    "\n",
    "            ymin = beats_mean.mean() - beats_mean.std()*5\n",
    "            ymax = beats_mean.mean() + beats_mean.std()*5\n",
    "            ax.set_ylim(ymin, ymax)\n",
    "\n",
    "        ax.tick_params(axis='both', which='major', labelsize=13)\n",
    "        ax.set_ylabel(unit_dict[beat_name], fontsize=fontsize-3)\n",
    "        ax.set_xlabel('time (sec)', fontsize=fontsize)\n",
    "\n",
    "\n",
    "\n",
    "    fig.tight_layout()\n",
    "\n",
    "    # if outputdir is not None:\n",
    "\n",
    "    #     if fig_name is None:\n",
    "    #         fig_name = 'beats_ensemble_sub{}'.format(subject_id)\n",
    "\n",
    "    #     if not os.path.exists(outputdir):\n",
    "    #         os.makedirs(outputdir)\n",
    "    #     fig.savefig(outputdir + fig_name+'.png', transparent=False)\n",
    "\n",
    "    # if show_plot == False:\n",
    "    #     plt.close(fig)\n",
    "    #     pyplot.close(fig)\n",
    "    #     plt.close('all')\n",
    "\n",
    "\n",
    "    # #     if log_wandb:\n",
    "    # #         wandb.log({fig_name: wandb.Image(fig)})\n",
    "\n"
   ]
  },
  {
   "cell_type": "code",
   "execution_count": null,
   "id": "519b7553",
   "metadata": {},
   "outputs": [],
   "source": []
  },
  {
   "cell_type": "code",
   "execution_count": null,
   "id": "f1451aea",
   "metadata": {},
   "outputs": [],
   "source": []
  },
  {
   "cell_type": "code",
   "execution_count": null,
   "id": "5d5884b3",
   "metadata": {},
   "outputs": [],
   "source": []
  },
  {
   "cell_type": "code",
   "execution_count": null,
   "id": "5680fb9a",
   "metadata": {},
   "outputs": [],
   "source": [
    "\n"
   ]
  },
  {
   "cell_type": "code",
   "execution_count": null,
   "id": "93447d3c",
   "metadata": {},
   "outputs": [],
   "source": []
  },
  {
   "cell_type": "code",
   "execution_count": null,
   "id": "ac6ac4a9",
   "metadata": {},
   "outputs": [],
   "source": []
  },
  {
   "cell_type": "code",
   "execution_count": null,
   "id": "3b3dd1b2",
   "metadata": {},
   "outputs": [],
   "source": []
  },
  {
   "cell_type": "code",
   "execution_count": null,
   "id": "07900acf",
   "metadata": {},
   "outputs": [],
   "source": []
  },
  {
   "cell_type": "code",
   "execution_count": null,
   "id": "1b252593",
   "metadata": {},
   "outputs": [],
   "source": []
  },
  {
   "cell_type": "code",
   "execution_count": null,
   "id": "c65aaa89",
   "metadata": {},
   "outputs": [],
   "source": []
  },
  {
   "cell_type": "code",
   "execution_count": null,
   "id": "4fc7839b-0e2a-4d81-a41d-276a7fbad7d0",
   "metadata": {},
   "outputs": [],
   "source": []
  },
  {
   "cell_type": "code",
   "execution_count": null,
   "id": "35330d2a-4433-467d-a6c8-4387e8435c74",
   "metadata": {},
   "outputs": [],
   "source": []
  },
  {
   "cell_type": "code",
   "execution_count": null,
   "id": "9db7b20c",
   "metadata": {},
   "outputs": [],
   "source": []
  },
  {
   "cell_type": "code",
   "execution_count": null,
   "id": "5e883f78-1fe6-49a8-be19-86dbdd3f8402",
   "metadata": {},
   "outputs": [],
   "source": []
  },
  {
   "cell_type": "code",
   "execution_count": null,
   "id": "bb916ff8-f081-44a8-a4d7-83024e371b21",
   "metadata": {},
   "outputs": [],
   "source": [
    "df_features"
   ]
  },
  {
   "cell_type": "code",
   "execution_count": null,
   "id": "01982e0b-ecf3-4283-9baa-7150cc08b85c",
   "metadata": {},
   "outputs": [],
   "source": []
  },
  {
   "cell_type": "code",
   "execution_count": null,
   "id": "db96fa7f-e59c-4428-afe4-920dfaca3654",
   "metadata": {},
   "outputs": [],
   "source": []
  },
  {
   "cell_type": "code",
   "execution_count": null,
   "id": "3bab8d29-11fd-4f78-8a77-97e51d3e8431",
   "metadata": {},
   "outputs": [],
   "source": []
  },
  {
   "cell_type": "code",
   "execution_count": null,
   "id": "79829627",
   "metadata": {},
   "outputs": [],
   "source": [
    "plt.plot(df_features['PI'].values)"
   ]
  },
  {
   "cell_type": "code",
   "execution_count": null,
   "id": "d13e3ea0",
   "metadata": {},
   "outputs": [],
   "source": [
    "debug_B2C(beats_PPG, Fs)\n"
   ]
  },
  {
   "cell_type": "code",
   "execution_count": null,
   "id": "f0105059",
   "metadata": {},
   "outputs": [],
   "source": []
  },
  {
   "cell_type": "code",
   "execution_count": null,
   "id": "9105ce1c",
   "metadata": {},
   "outputs": [],
   "source": [
    "data = df_features['B2C'].values\n",
    "FQI_dict = get_FQI_dict(data)\n",
    "plt.plot(FQI_dict['FQI'])"
   ]
  },
  {
   "cell_type": "code",
   "execution_count": null,
   "id": "087e64b8",
   "metadata": {},
   "outputs": [],
   "source": [
    "df_features"
   ]
  },
  {
   "cell_type": "code",
   "execution_count": null,
   "id": "8ac333ba",
   "metadata": {},
   "outputs": [],
   "source": [
    "data = df_features['PI'].values\n",
    "FQI_dict = get_FQI_dict(data)\n",
    "plt.plot(FQI_dict['FQI'])"
   ]
  },
  {
   "cell_type": "code",
   "execution_count": null,
   "id": "b353976e",
   "metadata": {},
   "outputs": [],
   "source": [
    "data = df_features['max2min'].values\n",
    "FQI_dict = get_FQI_dict(data)\n",
    "plt.plot(FQI_dict['FQI'])"
   ]
  },
  {
   "cell_type": "code",
   "execution_count": null,
   "id": "5842c813",
   "metadata": {},
   "outputs": [],
   "source": []
  },
  {
   "cell_type": "code",
   "execution_count": null,
   "id": "4631879b",
   "metadata": {},
   "outputs": [],
   "source": []
  },
  {
   "cell_type": "code",
   "execution_count": null,
   "id": "83eede5e",
   "metadata": {},
   "outputs": [],
   "source": []
  },
  {
   "cell_type": "code",
   "execution_count": null,
   "id": "1af57406",
   "metadata": {},
   "outputs": [],
   "source": [
    "feature_names!='i_R_peak'"
   ]
  },
  {
   "cell_type": "code",
   "execution_count": null,
   "id": "5d1ad768",
   "metadata": {},
   "outputs": [],
   "source": [
    "feature_names"
   ]
  },
  {
   "cell_type": "code",
   "execution_count": null,
   "id": "429f4636",
   "metadata": {},
   "outputs": [],
   "source": [
    "feature_names = df_features.columns\n",
    "feature_names = feature_names[feature_names!='i_R_peak']\n",
    "N_feature = feature_names.shape[0]"
   ]
  },
  {
   "cell_type": "code",
   "execution_count": null,
   "id": "2ff5a3d3",
   "metadata": {},
   "outputs": [],
   "source": [
    "df_seg"
   ]
  },
  {
   "cell_type": "code",
   "execution_count": null,
   "id": "f52d87d8",
   "metadata": {},
   "outputs": [],
   "source": [
    "fig, (axes) = plt.subplots(N_feature+2, 1, figsize=(20,8), dpi=100)\n",
    "\n",
    "t_sig = df_seg['time'].values\n",
    "t_sig = t_sig-t_sig[0]\n",
    "\n",
    "ax1= axes[0]\n",
    "ax1.plot(t_sig, df_seg['SPO2'].values)\n",
    "ax1.set_ylabel('PPG')\n",
    "\n",
    "ax2= axes[1]\n",
    "ax2.plot(t_sig, df_seg['RR'].values)\n",
    "ax2.set_ylabel('RR')\n",
    "\n",
    "for i, feature_name in enumerate(feature_names):\n",
    "    ax = axes[i+2]\n",
    "    # ax2.scatter(beats_dict['i_R_peaks'][mask_feature], features_B2C[mask_feature])\n",
    "    data = df_features[feature_name].values\n",
    "    FQI_dict = get_FQI_dict(data)\n",
    "    mask_feature = FQI_dict['mask_feature']\n",
    "    ax.plot(df_features['i_R_peak'][mask_feature&mask_all]/Fs, df_features[feature_name][mask_feature&mask_all])\n",
    "    ax.scatter(df_features['i_R_peak'][mask_feature&mask_all]/Fs, df_features[feature_name][mask_feature&mask_all])\n",
    "    ax.set_ylabel(feature_name)\n",
    "\n",
    "ax.set_xlabel('time (s)')\n",
    "fig.tight_layout()\n"
   ]
  },
  {
   "cell_type": "code",
   "execution_count": null,
   "id": "b96e7300",
   "metadata": {},
   "outputs": [],
   "source": []
  },
  {
   "cell_type": "code",
   "execution_count": null,
   "id": "7a38e9b7",
   "metadata": {},
   "outputs": [],
   "source": []
  },
  {
   "cell_type": "code",
   "execution_count": null,
   "id": "a668fc21",
   "metadata": {},
   "outputs": [],
   "source": []
  },
  {
   "cell_type": "code",
   "execution_count": null,
   "id": "d8d24449",
   "metadata": {},
   "outputs": [],
   "source": []
  },
  {
   "cell_type": "code",
   "execution_count": null,
   "id": "274dc3be",
   "metadata": {},
   "outputs": [],
   "source": []
  },
  {
   "cell_type": "code",
   "execution_count": null,
   "id": "265b7714",
   "metadata": {},
   "outputs": [],
   "source": [
    "beats_dict['i_R_peaks'].shape, features_B2C.shape"
   ]
  },
  {
   "cell_type": "code",
   "execution_count": null,
   "id": "c3e4dcc3",
   "metadata": {},
   "outputs": [],
   "source": []
  },
  {
   "cell_type": "code",
   "execution_count": null,
   "id": "894ce89c",
   "metadata": {},
   "outputs": [],
   "source": []
  },
  {
   "cell_type": "code",
   "execution_count": null,
   "id": "99c2890d",
   "metadata": {},
   "outputs": [],
   "source": []
  },
  {
   "cell_type": "code",
   "execution_count": null,
   "id": "5b63ab78",
   "metadata": {},
   "outputs": [],
   "source": []
  },
  {
   "cell_type": "code",
   "execution_count": null,
   "id": "93e1f8d3",
   "metadata": {},
   "outputs": [],
   "source": []
  },
  {
   "cell_type": "code",
   "execution_count": null,
   "id": "435ea5fc",
   "metadata": {},
   "outputs": [],
   "source": [
    "sig_plt"
   ]
  },
  {
   "cell_type": "code",
   "execution_count": null,
   "id": "adb4fd51",
   "metadata": {},
   "outputs": [],
   "source": [
    "t_start = 1100\n",
    "t_end = 1150\n",
    "\n",
    "df_seg = df[(df['time']>=t_start) & (df['time']<=t_end)].copy()\n",
    "\n",
    "t_arr = df_seg['time'].values\n",
    "#     t_arr = t_arr - t_arr[0]\n",
    "\n",
    "t_start = t_arr[0]\n",
    "t_end = t_arr[-1]\n",
    "\n",
    "sig_name = 'SPO2'\n",
    "sig_plt = df_seg[sig_name].values\n",
    "\n",
    "\n",
    "sig_plt = get_padded_filt(sig_plt, filter_padded=5, lowcutoff=1, highcutoff=4, Fs=Fs)\n",
    "\n",
    "# t_arr = df_seg['time'].values\n",
    "alpha=0.5\n",
    "fig, ax = plt.subplots(1, 1, figsize=(25,10), gridspec_kw = {'wspace':0, 'hspace':0}, dpi=80)\n",
    "ax.plot(t_arr, sig_plt, alpha=alpha ,zorder=1, linewidth=linewidth)\n",
    "# ax.set_ylim(-5,5)"
   ]
  },
  {
   "cell_type": "code",
   "execution_count": null,
   "id": "717b313e",
   "metadata": {},
   "outputs": [],
   "source": [
    "unit_dict"
   ]
  },
  {
   "cell_type": "code",
   "execution_count": null,
   "id": "f21414b5",
   "metadata": {},
   "outputs": [],
   "source": []
  },
  {
   "cell_type": "code",
   "execution_count": null,
   "id": "a3f13064",
   "metadata": {},
   "outputs": [],
   "source": []
  },
  {
   "cell_type": "code",
   "execution_count": null,
   "id": "eeb89db0",
   "metadata": {},
   "outputs": [],
   "source": []
  },
  {
   "cell_type": "code",
   "execution_count": null,
   "id": "89128a61",
   "metadata": {},
   "outputs": [],
   "source": []
  },
  {
   "cell_type": "code",
   "execution_count": null,
   "id": "5ef198e4",
   "metadata": {},
   "outputs": [],
   "source": []
  },
  {
   "cell_type": "code",
   "execution_count": null,
   "id": "8325b7cd",
   "metadata": {},
   "outputs": [],
   "source": []
  },
  {
   "cell_type": "code",
   "execution_count": null,
   "id": "100ed96e",
   "metadata": {},
   "outputs": [],
   "source": []
  },
  {
   "cell_type": "code",
   "execution_count": null,
   "id": "02a0c357",
   "metadata": {},
   "outputs": [],
   "source": []
  },
  {
   "cell_type": "code",
   "execution_count": null,
   "id": "8615dccb",
   "metadata": {},
   "outputs": [],
   "source": []
  },
  {
   "cell_type": "code",
   "execution_count": null,
   "id": "8f5e9281",
   "metadata": {},
   "outputs": [],
   "source": []
  },
  {
   "cell_type": "code",
   "execution_count": null,
   "id": "d1ebbe58",
   "metadata": {},
   "outputs": [],
   "source": []
  },
  {
   "cell_type": "code",
   "execution_count": null,
   "id": "2971df0e",
   "metadata": {},
   "outputs": [],
   "source": []
  },
  {
   "cell_type": "code",
   "execution_count": null,
   "id": "3734917a",
   "metadata": {},
   "outputs": [],
   "source": []
  },
  {
   "cell_type": "code",
   "execution_count": null,
   "id": "9fd9f874",
   "metadata": {},
   "outputs": [],
   "source": []
  },
  {
   "cell_type": "code",
   "execution_count": null,
   "id": "8c262945",
   "metadata": {},
   "outputs": [],
   "source": []
  },
  {
   "cell_type": "code",
   "execution_count": null,
   "id": "84f25573",
   "metadata": {},
   "outputs": [],
   "source": []
  },
  {
   "cell_type": "code",
   "execution_count": null,
   "id": "06e7200f",
   "metadata": {},
   "outputs": [],
   "source": []
  },
  {
   "cell_type": "code",
   "execution_count": null,
   "id": "c90dd671",
   "metadata": {},
   "outputs": [],
   "source": []
  },
  {
   "cell_type": "code",
   "execution_count": null,
   "id": "bf534c24",
   "metadata": {},
   "outputs": [],
   "source": []
  },
  {
   "cell_type": "code",
   "execution_count": null,
   "id": "86f29d03",
   "metadata": {},
   "outputs": [],
   "source": []
  },
  {
   "cell_type": "code",
   "execution_count": null,
   "id": "f1b4d6f6",
   "metadata": {},
   "outputs": [],
   "source": []
  },
  {
   "cell_type": "code",
   "execution_count": null,
   "id": "8b586383",
   "metadata": {},
   "outputs": [],
   "source": []
  },
  {
   "cell_type": "code",
   "execution_count": null,
   "id": "853a55ff",
   "metadata": {},
   "outputs": [],
   "source": [
    "homedir = os.path.expanduser('~')+'/'"
   ]
  },
  {
   "cell_type": "code",
   "execution_count": null,
   "id": "d21e49df",
   "metadata": {},
   "outputs": [],
   "source": [
    "inputdir = homedir+'kamaleswaranlab/Sepsis3_062321/Files_cp_sftp_6_30_21/Files_cp_6_30_21/'"
   ]
  },
  {
   "cell_type": "code",
   "execution_count": null,
   "id": "5c6959dc",
   "metadata": {},
   "outputs": [],
   "source": [
    "for sub_file in os.listdir(inputdir):\n",
    "    # print(sub_file)\n",
    "    pass"
   ]
  },
  {
   "cell_type": "code",
   "execution_count": null,
   "id": "07034e57",
   "metadata": {},
   "outputs": [],
   "source": [
    "sub_id = 'A071-0512777549'"
   ]
  },
  {
   "cell_type": "code",
   "execution_count": null,
   "id": "e5456231",
   "metadata": {},
   "outputs": [],
   "source": [
    "for sub_file in os.listdir(inputdir+sub_id):\n",
    "    if 'hea' in sub_file:\n",
    "        print(sub_file)"
   ]
  },
  {
   "cell_type": "code",
   "execution_count": null,
   "id": "862c64dc",
   "metadata": {},
   "outputs": [],
   "source": []
  },
  {
   "cell_type": "code",
   "execution_count": null,
   "id": "888afd9c",
   "metadata": {},
   "outputs": [],
   "source": []
  },
  {
   "cell_type": "code",
   "execution_count": null,
   "id": "f0eb92fe",
   "metadata": {},
   "outputs": [],
   "source": []
  },
  {
   "cell_type": "code",
   "execution_count": null,
   "id": "f1f3c3ee",
   "metadata": {},
   "outputs": [],
   "source": []
  },
  {
   "cell_type": "code",
   "execution_count": null,
   "id": "11428bc6",
   "metadata": {},
   "outputs": [],
   "source": []
  },
  {
   "cell_type": "code",
   "execution_count": null,
   "id": "42904911",
   "metadata": {},
   "outputs": [],
   "source": []
  },
  {
   "cell_type": "code",
   "execution_count": null,
   "id": "6a4dadf8",
   "metadata": {},
   "outputs": [],
   "source": []
  },
  {
   "cell_type": "code",
   "execution_count": null,
   "id": "26294eff",
   "metadata": {},
   "outputs": [],
   "source": []
  },
  {
   "cell_type": "code",
   "execution_count": null,
   "id": "48f137cb",
   "metadata": {},
   "outputs": [],
   "source": []
  },
  {
   "cell_type": "code",
   "execution_count": null,
   "id": "ddb85b11",
   "metadata": {},
   "outputs": [],
   "source": []
  },
  {
   "cell_type": "code",
   "execution_count": null,
   "id": "f3009839",
   "metadata": {},
   "outputs": [],
   "source": []
  },
  {
   "cell_type": "code",
   "execution_count": null,
   "id": "8183887b",
   "metadata": {},
   "outputs": [],
   "source": []
  },
  {
   "cell_type": "code",
   "execution_count": null,
   "id": "e0da7568",
   "metadata": {},
   "outputs": [],
   "source": []
  },
  {
   "cell_type": "code",
   "execution_count": null,
   "id": "ead6acc4",
   "metadata": {},
   "outputs": [],
   "source": []
  },
  {
   "cell_type": "code",
   "execution_count": null,
   "id": "14c3b382",
   "metadata": {},
   "outputs": [],
   "source": []
  },
  {
   "cell_type": "code",
   "execution_count": null,
   "id": "ee8b9f1e",
   "metadata": {},
   "outputs": [],
   "source": []
  }
 ],
 "metadata": {
  "kernelspec": {
   "display_name": "Python 3 (ipykernel)",
   "language": "python",
   "name": "python3"
  },
  "language_info": {
   "codemirror_mode": {
    "name": "ipython",
    "version": 3
   },
   "file_extension": ".py",
   "mimetype": "text/x-python",
   "name": "python",
   "nbconvert_exporter": "python",
   "pygments_lexer": "ipython3",
   "version": "3.8.11"
  }
 },
 "nbformat": 4,
 "nbformat_minor": 5
}
