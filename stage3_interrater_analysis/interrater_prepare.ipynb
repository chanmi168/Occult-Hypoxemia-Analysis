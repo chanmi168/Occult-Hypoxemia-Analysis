{
 "cells": [
  {
   "cell_type": "markdown",
   "id": "25793c03",
   "metadata": {},
   "source": [
    "# Iterating through all patients in all years to find peep>5"
   ]
  },
  {
   "cell_type": "code",
   "execution_count": 50,
   "id": "1ac6bba4",
   "metadata": {},
   "outputs": [
    {
     "name": "stdout",
     "output_type": "stream",
     "text": [
      "The autoreload extension is already loaded. To reload it, use:\n",
      "  %reload_ext autoreload\n"
     ]
    }
   ],
   "source": [
    "import pandas as pd\n",
    "from datetime import datetime\n",
    "import os\n",
    "import pickle\n",
    "from datetime import timedelta\n",
    "from datetime import datetime\n",
    "from datetime import date\n",
    "from datetime import time\n",
    "from dateutil.relativedelta import relativedelta\n",
    "\n",
    "import pandas as pd\n",
    "import numpy as np\n",
    "import os\n",
    "\n",
    "import json\n",
    "\n",
    "import sys\n",
    "from scipy.io import loadmat\n",
    "\n",
    "import matplotlib\n",
    "import matplotlib.pyplot as plt\n",
    "plt.style.use('seaborn-white')\n",
    "matplotlib.rc( 'savefig', facecolor = 'white' )\n",
    "from matplotlib import pyplot\n",
    "import matplotlib.ticker as plticker\n",
    "\n",
    "import seaborn as sns\n",
    "\n",
    "\n",
    "import sys\n",
    "sys.path.append('../') # add this line so Data and data are visible in this file\n",
    "sys.path.append('../../') # add this line so Data and data are visible in this file\n",
    "sys.path.append('../PhysioMC/') # add this line so Data and data are visible in this file\n",
    "\n",
    "# from PatchWand import *\n",
    "from filters import *\n",
    "from setting import *\n",
    "# from preprocessing import *\n",
    "from ECG_module import *\n",
    "from dataIO import *\n",
    "from stage1_PPG_analysis import *\n",
    "\n",
    "from importlib import reload\n",
    "%load_ext autoreload\n",
    "%autoreload 2"
   ]
  },
  {
   "cell_type": "code",
   "execution_count": 2,
   "id": "b3ed2501",
   "metadata": {},
   "outputs": [],
   "source": [
    "# min_threshold = 5"
   ]
  },
  {
   "cell_type": "code",
   "execution_count": 3,
   "id": "8c93df87",
   "metadata": {
    "tags": []
   },
   "outputs": [
    {
     "data": {
      "text/plain": [
       "'/labs/kamaleswaranlab/Sepsis3_062321/mchan_analysis/disparities_O2/repo/stage3_interrater_analysis'"
      ]
     },
     "execution_count": 3,
     "metadata": {},
     "output_type": "execute_result"
    }
   ],
   "source": [
    "%pwd"
   ]
  },
  {
   "cell_type": "code",
   "execution_count": 4,
   "id": "98a2f827-f4a2-4361-8f48-f88749291d85",
   "metadata": {},
   "outputs": [],
   "source": [
    "outputdir = '../../data/stage3/'\n",
    "if not os.path.exists(outputdir):\n",
    "    os.makedirs(outputdir)"
   ]
  },
  {
   "cell_type": "code",
   "execution_count": 5,
   "id": "a1f2ff38-fee3-4129-877c-4f51a5bdf9c2",
   "metadata": {},
   "outputs": [],
   "source": [
    "inputdir = '/labs/kamaleswaranlab/Sepsis3_062321/Files_cp_sftp_6_30_21/Files_cp_6_30_21/'"
   ]
  },
  {
   "cell_type": "code",
   "execution_count": null,
   "id": "25b5acdf-9cbf-422d-96ee-3d6ac69aff45",
   "metadata": {},
   "outputs": [],
   "source": []
  },
  {
   "cell_type": "markdown",
   "id": "ebf9fa21-0e18-4b08-b270-119e6ef90a59",
   "metadata": {
    "tags": []
   },
   "source": [
    "# load csv files David prepared"
   ]
  },
  {
   "cell_type": "markdown",
   "id": "8131eda8-62bd-4805-8f0b-01bdc2245283",
   "metadata": {},
   "source": [
    "## load the demographic data, only look at black or white subjects for now"
   ]
  },
  {
   "cell_type": "code",
   "execution_count": 6,
   "id": "0bed5727-6dde-46c4-85a3-c28a7c5b190e",
   "metadata": {},
   "outputs": [
    {
     "name": "stdout",
     "output_type": "stream",
     "text": [
      "only 43.47% is black or white\n"
     ]
    }
   ],
   "source": [
    "# demographic_filedir = '../../data/Pat_BedTime_List_some_on_BMI_2_6_22_dem.csv'\n",
    "demographic_filedir = '/home/mchan82/kamaleswaranlab/Sepsis3_062321/dlin_analysis/Pat_BedTime_List_some_on_BMI_2_6_22_dem.csv'\n",
    "df_demographic = pd.read_csv(demographic_filedir, index_col=0)  \n",
    "\n",
    "# mask out subjects who are not black and white\n",
    "# mask = (df_demographic['Race String']!='0.0')\n",
    "\n",
    "mask = (df_demographic['Race String']=='African American  or Black') | (df_demographic['Race String']=='Caucasian or White')\n",
    "\n",
    "print('only {:.2f}% is black or white'.format(mask.mean()*100))\n",
    "df_demographic = df_demographic[mask]"
   ]
  },
  {
   "cell_type": "code",
   "execution_count": 7,
   "id": "425f8ad1-cca1-4ba7-bf7b-593261c9e15c",
   "metadata": {},
   "outputs": [
    {
     "data": {
      "text/html": [
       "<div>\n",
       "<style scoped>\n",
       "    .dataframe tbody tr th:only-of-type {\n",
       "        vertical-align: middle;\n",
       "    }\n",
       "\n",
       "    .dataframe tbody tr th {\n",
       "        vertical-align: top;\n",
       "    }\n",
       "\n",
       "    .dataframe thead th {\n",
       "        text-align: right;\n",
       "    }\n",
       "</style>\n",
       "<table border=\"1\" class=\"dataframe\">\n",
       "  <thead>\n",
       "    <tr style=\"text-align: right;\">\n",
       "      <th></th>\n",
       "      <th>deBedTime</th>\n",
       "      <th>DateStart</th>\n",
       "      <th>DateEnd</th>\n",
       "      <th>PAT_ID</th>\n",
       "      <th>BED_LOCATION_START</th>\n",
       "      <th>BED_LOCATION_END</th>\n",
       "      <th>White</th>\n",
       "      <th>Black</th>\n",
       "      <th>Race String</th>\n",
       "    </tr>\n",
       "  </thead>\n",
       "  <tbody>\n",
       "    <tr>\n",
       "      <th>0</th>\n",
       "      <td>A118-0520880083</td>\n",
       "      <td>2018-03-12 18:41:23</td>\n",
       "      <td>2018-03-12 23:13:00</td>\n",
       "      <td>18004189.0</td>\n",
       "      <td>2018-03-12 18:41:39</td>\n",
       "      <td>03/14/2018 20:20:00</td>\n",
       "      <td>False</td>\n",
       "      <td>True</td>\n",
       "      <td>African American  or Black</td>\n",
       "    </tr>\n",
       "    <tr>\n",
       "      <th>1</th>\n",
       "      <td>A140-0515603029</td>\n",
       "      <td>2018-01-10 16:50:29</td>\n",
       "      <td>2018-01-10 19:03:47</td>\n",
       "      <td>94166433.0</td>\n",
       "      <td>2018-01-10 16:50:12</td>\n",
       "      <td>01/18/2018 21:15:32</td>\n",
       "      <td>True</td>\n",
       "      <td>False</td>\n",
       "      <td>Caucasian or White</td>\n",
       "    </tr>\n",
       "    <tr>\n",
       "      <th>3</th>\n",
       "      <td>A088-0516735120</td>\n",
       "      <td>2018-01-23 19:18:40</td>\n",
       "      <td>2018-01-23 19:43:15</td>\n",
       "      <td>17395882.0</td>\n",
       "      <td>2018-01-23 19:17:04</td>\n",
       "      <td>01/26/2018 20:42:23</td>\n",
       "      <td>True</td>\n",
       "      <td>False</td>\n",
       "      <td>Caucasian or White</td>\n",
       "    </tr>\n",
       "    <tr>\n",
       "      <th>5</th>\n",
       "      <td>A051-0495488308</td>\n",
       "      <td>2017-05-22 21:25:08</td>\n",
       "      <td>2017-06-02 15:53:25</td>\n",
       "      <td>17655916.0</td>\n",
       "      <td>2017-05-22 21:21:50</td>\n",
       "      <td>06/02/2017 12:51:00</td>\n",
       "      <td>True</td>\n",
       "      <td>False</td>\n",
       "      <td>Caucasian or White</td>\n",
       "    </tr>\n",
       "    <tr>\n",
       "      <th>8</th>\n",
       "      <td>A121-0520783579</td>\n",
       "      <td>2018-03-11 15:52:58</td>\n",
       "      <td>2018-03-11 15:53:14</td>\n",
       "      <td>91393403.0</td>\n",
       "      <td>2018-03-11 15:48:46</td>\n",
       "      <td>03/14/2018 18:44:32</td>\n",
       "      <td>True</td>\n",
       "      <td>False</td>\n",
       "      <td>Caucasian or White</td>\n",
       "    </tr>\n",
       "    <tr>\n",
       "      <th>...</th>\n",
       "      <td>...</td>\n",
       "      <td>...</td>\n",
       "      <td>...</td>\n",
       "      <td>...</td>\n",
       "      <td>...</td>\n",
       "      <td>...</td>\n",
       "      <td>...</td>\n",
       "      <td>...</td>\n",
       "      <td>...</td>\n",
       "    </tr>\n",
       "    <tr>\n",
       "      <th>6266</th>\n",
       "      <td>A134-0515603037</td>\n",
       "      <td>2018-01-10 16:50:37</td>\n",
       "      <td>2018-01-31 04:03:15</td>\n",
       "      <td>49764871.0</td>\n",
       "      <td>2018-01-31 01:58:06</td>\n",
       "      <td>01/31/2018 21:23:39</td>\n",
       "      <td>False</td>\n",
       "      <td>True</td>\n",
       "      <td>African American  or Black</td>\n",
       "    </tr>\n",
       "    <tr>\n",
       "      <th>6268</th>\n",
       "      <td>A119-0515603035</td>\n",
       "      <td>2018-01-10 16:50:35</td>\n",
       "      <td>2018-02-06 19:00:52</td>\n",
       "      <td>92559329.0</td>\n",
       "      <td>2018-02-06 21:53:05</td>\n",
       "      <td>02/07/2018 23:51:17</td>\n",
       "      <td>False</td>\n",
       "      <td>True</td>\n",
       "      <td>African American  or Black</td>\n",
       "    </tr>\n",
       "    <tr>\n",
       "      <th>6269</th>\n",
       "      <td>A113-0515603017</td>\n",
       "      <td>2018-01-10 16:50:16</td>\n",
       "      <td>2018-03-03 01:42:37</td>\n",
       "      <td>96901673.0</td>\n",
       "      <td>2017-12-12 15:59:54</td>\n",
       "      <td>03/02/2018 17:03:03</td>\n",
       "      <td>False</td>\n",
       "      <td>True</td>\n",
       "      <td>African American  or Black</td>\n",
       "    </tr>\n",
       "    <tr>\n",
       "      <th>6270</th>\n",
       "      <td>A020-0509637604</td>\n",
       "      <td>2017-11-02 15:46:44</td>\n",
       "      <td>2017-12-05 20:08:36</td>\n",
       "      <td>98391127.0</td>\n",
       "      <td>2017-12-05 18:12:04</td>\n",
       "      <td>12/11/2017 18:43:14</td>\n",
       "      <td>False</td>\n",
       "      <td>True</td>\n",
       "      <td>African American  or Black</td>\n",
       "    </tr>\n",
       "    <tr>\n",
       "      <th>6284</th>\n",
       "      <td>A052-0519140803</td>\n",
       "      <td>2018-02-20 15:33:22</td>\n",
       "      <td>2018-02-20 15:38:32</td>\n",
       "      <td>99044930.0</td>\n",
       "      <td>2017-10-22 12:42:38</td>\n",
       "      <td>10/28/2017 11:29:40</td>\n",
       "      <td>True</td>\n",
       "      <td>False</td>\n",
       "      <td>Caucasian or White</td>\n",
       "    </tr>\n",
       "  </tbody>\n",
       "</table>\n",
       "<p>2732 rows × 9 columns</p>\n",
       "</div>"
      ],
      "text/plain": [
       "            deBedTime            DateStart              DateEnd      PAT_ID  \\\n",
       "0     A118-0520880083  2018-03-12 18:41:23  2018-03-12 23:13:00  18004189.0   \n",
       "1     A140-0515603029  2018-01-10 16:50:29  2018-01-10 19:03:47  94166433.0   \n",
       "3     A088-0516735120  2018-01-23 19:18:40  2018-01-23 19:43:15  17395882.0   \n",
       "5     A051-0495488308  2017-05-22 21:25:08  2017-06-02 15:53:25  17655916.0   \n",
       "8     A121-0520783579  2018-03-11 15:52:58  2018-03-11 15:53:14  91393403.0   \n",
       "...               ...                  ...                  ...         ...   \n",
       "6266  A134-0515603037  2018-01-10 16:50:37  2018-01-31 04:03:15  49764871.0   \n",
       "6268  A119-0515603035  2018-01-10 16:50:35  2018-02-06 19:00:52  92559329.0   \n",
       "6269  A113-0515603017  2018-01-10 16:50:16  2018-03-03 01:42:37  96901673.0   \n",
       "6270  A020-0509637604  2017-11-02 15:46:44  2017-12-05 20:08:36  98391127.0   \n",
       "6284  A052-0519140803  2018-02-20 15:33:22  2018-02-20 15:38:32  99044930.0   \n",
       "\n",
       "       BED_LOCATION_START     BED_LOCATION_END  White  Black  \\\n",
       "0     2018-03-12 18:41:39  03/14/2018 20:20:00  False   True   \n",
       "1     2018-01-10 16:50:12  01/18/2018 21:15:32   True  False   \n",
       "3     2018-01-23 19:17:04  01/26/2018 20:42:23   True  False   \n",
       "5     2017-05-22 21:21:50  06/02/2017 12:51:00   True  False   \n",
       "8     2018-03-11 15:48:46  03/14/2018 18:44:32   True  False   \n",
       "...                   ...                  ...    ...    ...   \n",
       "6266  2018-01-31 01:58:06  01/31/2018 21:23:39  False   True   \n",
       "6268  2018-02-06 21:53:05  02/07/2018 23:51:17  False   True   \n",
       "6269  2017-12-12 15:59:54  03/02/2018 17:03:03  False   True   \n",
       "6270  2017-12-05 18:12:04  12/11/2017 18:43:14  False   True   \n",
       "6284  2017-10-22 12:42:38  10/28/2017 11:29:40   True  False   \n",
       "\n",
       "                     Race String  \n",
       "0     African American  or Black  \n",
       "1             Caucasian or White  \n",
       "3             Caucasian or White  \n",
       "5             Caucasian or White  \n",
       "8             Caucasian or White  \n",
       "...                          ...  \n",
       "6266  African American  or Black  \n",
       "6268  African American  or Black  \n",
       "6269  African American  or Black  \n",
       "6270  African American  or Black  \n",
       "6284          Caucasian or White  \n",
       "\n",
       "[2732 rows x 9 columns]"
      ]
     },
     "execution_count": 7,
     "metadata": {},
     "output_type": "execute_result"
    }
   ],
   "source": [
    "df_demographic"
   ]
  },
  {
   "cell_type": "code",
   "execution_count": null,
   "id": "65a7c9a7-ba64-4322-839e-89ad469c67dc",
   "metadata": {},
   "outputs": [],
   "source": []
  },
  {
   "cell_type": "markdown",
   "id": "135ff226-0e43-4436-8759-cdf4303e4029",
   "metadata": {},
   "source": [
    "## load the oxygen saturation data\n",
    "### TODO: need to add FiO2 and PaO2 data"
   ]
  },
  {
   "cell_type": "code",
   "execution_count": 8,
   "id": "a352bc74-2cf1-4764-8af3-d6114b014ac0",
   "metadata": {},
   "outputs": [],
   "source": [
    "# FiO2 and PaO2? (PaO2 / FiO2 < 400 indicates respiratory problem)\n",
    "oxygen_sat_filedir = '/home/mchan82/kamaleswaranlab/Sepsis3_062321/dlin_analysis/Pat_BedTime_List_some_on_BMI_2_6_22_spo2_sao2.csv'\n",
    "df_oxygen_sat = pd.read_csv(oxygen_sat_filedir, index_col=0)  "
   ]
  },
  {
   "cell_type": "code",
   "execution_count": 9,
   "id": "0d426a2a-d236-418c-b237-146dc45c51ef",
   "metadata": {},
   "outputs": [],
   "source": [
    "mask = (df_oxygen_sat['Black']==1) | (df_oxygen_sat['White']==1)\n",
    "df_oxygen_sat = df_oxygen_sat[mask]"
   ]
  },
  {
   "cell_type": "code",
   "execution_count": 10,
   "id": "26c10188-3d79-4a14-9ef1-f05e5ab9160f",
   "metadata": {},
   "outputs": [],
   "source": [
    "df_oxygen_sat['times'] =  pd.to_datetime(df_oxygen_sat['times'], format=\"%Y-%m-%d %H:%M:%S\")\n"
   ]
  },
  {
   "cell_type": "code",
   "execution_count": 11,
   "id": "9b364ba4-d4e8-4631-a811-59ad0a37e992",
   "metadata": {},
   "outputs": [
    {
     "data": {
      "text/html": [
       "<div>\n",
       "<style scoped>\n",
       "    .dataframe tbody tr th:only-of-type {\n",
       "        vertical-align: middle;\n",
       "    }\n",
       "\n",
       "    .dataframe tbody tr th {\n",
       "        vertical-align: top;\n",
       "    }\n",
       "\n",
       "    .dataframe thead th {\n",
       "        text-align: right;\n",
       "    }\n",
       "</style>\n",
       "<table border=\"1\" class=\"dataframe\">\n",
       "  <thead>\n",
       "    <tr style=\"text-align: right;\">\n",
       "      <th></th>\n",
       "      <th>index</th>\n",
       "      <th>spo2</th>\n",
       "      <th>sao2</th>\n",
       "      <th>times</th>\n",
       "      <th>Black</th>\n",
       "      <th>White</th>\n",
       "      <th>PAT_ID</th>\n",
       "      <th>CSN</th>\n",
       "      <th>csn_idx</th>\n",
       "    </tr>\n",
       "  </thead>\n",
       "  <tbody>\n",
       "    <tr>\n",
       "      <th>0</th>\n",
       "      <td>4</td>\n",
       "      <td>97.0</td>\n",
       "      <td>96.5</td>\n",
       "      <td>2017-07-17 12:29:03</td>\n",
       "      <td>0.0</td>\n",
       "      <td>1.0</td>\n",
       "      <td>1842529.0</td>\n",
       "      <td>3885207198</td>\n",
       "      <td>45128.0</td>\n",
       "    </tr>\n",
       "    <tr>\n",
       "      <th>1</th>\n",
       "      <td>5</td>\n",
       "      <td>98.0</td>\n",
       "      <td>96.5</td>\n",
       "      <td>2017-07-17 13:29:03</td>\n",
       "      <td>0.0</td>\n",
       "      <td>1.0</td>\n",
       "      <td>1842529.0</td>\n",
       "      <td>3885207198</td>\n",
       "      <td>45128.0</td>\n",
       "    </tr>\n",
       "    <tr>\n",
       "      <th>2</th>\n",
       "      <td>6</td>\n",
       "      <td>95.0</td>\n",
       "      <td>96.5</td>\n",
       "      <td>2017-07-17 14:29:03</td>\n",
       "      <td>0.0</td>\n",
       "      <td>1.0</td>\n",
       "      <td>1842529.0</td>\n",
       "      <td>3885207198</td>\n",
       "      <td>45128.0</td>\n",
       "    </tr>\n",
       "    <tr>\n",
       "      <th>3</th>\n",
       "      <td>7</td>\n",
       "      <td>97.0</td>\n",
       "      <td>96.5</td>\n",
       "      <td>2017-07-17 15:29:03</td>\n",
       "      <td>0.0</td>\n",
       "      <td>1.0</td>\n",
       "      <td>1842529.0</td>\n",
       "      <td>3885207198</td>\n",
       "      <td>45128.0</td>\n",
       "    </tr>\n",
       "    <tr>\n",
       "      <th>4</th>\n",
       "      <td>8</td>\n",
       "      <td>97.0</td>\n",
       "      <td>96.5</td>\n",
       "      <td>2017-07-17 16:29:03</td>\n",
       "      <td>0.0</td>\n",
       "      <td>1.0</td>\n",
       "      <td>1842529.0</td>\n",
       "      <td>3885207198</td>\n",
       "      <td>45128.0</td>\n",
       "    </tr>\n",
       "    <tr>\n",
       "      <th>...</th>\n",
       "      <td>...</td>\n",
       "      <td>...</td>\n",
       "      <td>...</td>\n",
       "      <td>...</td>\n",
       "      <td>...</td>\n",
       "      <td>...</td>\n",
       "      <td>...</td>\n",
       "      <td>...</td>\n",
       "      <td>...</td>\n",
       "    </tr>\n",
       "    <tr>\n",
       "      <th>27</th>\n",
       "      <td>30</td>\n",
       "      <td>100.0</td>\n",
       "      <td>98.9</td>\n",
       "      <td>2018-03-29 08:00:47</td>\n",
       "      <td>1.0</td>\n",
       "      <td>0.0</td>\n",
       "      <td>99962669.0</td>\n",
       "      <td>58104308087</td>\n",
       "      <td>107482.0</td>\n",
       "    </tr>\n",
       "    <tr>\n",
       "      <th>28</th>\n",
       "      <td>31</td>\n",
       "      <td>100.0</td>\n",
       "      <td>98.9</td>\n",
       "      <td>2018-03-29 09:00:47</td>\n",
       "      <td>1.0</td>\n",
       "      <td>0.0</td>\n",
       "      <td>99962669.0</td>\n",
       "      <td>58104308087</td>\n",
       "      <td>107482.0</td>\n",
       "    </tr>\n",
       "    <tr>\n",
       "      <th>29</th>\n",
       "      <td>32</td>\n",
       "      <td>100.0</td>\n",
       "      <td>98.9</td>\n",
       "      <td>2018-03-29 10:00:47</td>\n",
       "      <td>1.0</td>\n",
       "      <td>0.0</td>\n",
       "      <td>99962669.0</td>\n",
       "      <td>58104308087</td>\n",
       "      <td>107482.0</td>\n",
       "    </tr>\n",
       "    <tr>\n",
       "      <th>30</th>\n",
       "      <td>33</td>\n",
       "      <td>98.0</td>\n",
       "      <td>98.9</td>\n",
       "      <td>2018-03-29 11:00:47</td>\n",
       "      <td>1.0</td>\n",
       "      <td>0.0</td>\n",
       "      <td>99962669.0</td>\n",
       "      <td>58104308087</td>\n",
       "      <td>107482.0</td>\n",
       "    </tr>\n",
       "    <tr>\n",
       "      <th>31</th>\n",
       "      <td>34</td>\n",
       "      <td>97.5</td>\n",
       "      <td>98.9</td>\n",
       "      <td>2018-03-29 12:00:47</td>\n",
       "      <td>1.0</td>\n",
       "      <td>0.0</td>\n",
       "      <td>99962669.0</td>\n",
       "      <td>58104308087</td>\n",
       "      <td>107482.0</td>\n",
       "    </tr>\n",
       "  </tbody>\n",
       "</table>\n",
       "<p>200960 rows × 9 columns</p>\n",
       "</div>"
      ],
      "text/plain": [
       "    index   spo2  sao2               times  Black  White      PAT_ID  \\\n",
       "0       4   97.0  96.5 2017-07-17 12:29:03    0.0    1.0   1842529.0   \n",
       "1       5   98.0  96.5 2017-07-17 13:29:03    0.0    1.0   1842529.0   \n",
       "2       6   95.0  96.5 2017-07-17 14:29:03    0.0    1.0   1842529.0   \n",
       "3       7   97.0  96.5 2017-07-17 15:29:03    0.0    1.0   1842529.0   \n",
       "4       8   97.0  96.5 2017-07-17 16:29:03    0.0    1.0   1842529.0   \n",
       "..    ...    ...   ...                 ...    ...    ...         ...   \n",
       "27     30  100.0  98.9 2018-03-29 08:00:47    1.0    0.0  99962669.0   \n",
       "28     31  100.0  98.9 2018-03-29 09:00:47    1.0    0.0  99962669.0   \n",
       "29     32  100.0  98.9 2018-03-29 10:00:47    1.0    0.0  99962669.0   \n",
       "30     33   98.0  98.9 2018-03-29 11:00:47    1.0    0.0  99962669.0   \n",
       "31     34   97.5  98.9 2018-03-29 12:00:47    1.0    0.0  99962669.0   \n",
       "\n",
       "            CSN   csn_idx  \n",
       "0    3885207198   45128.0  \n",
       "1    3885207198   45128.0  \n",
       "2    3885207198   45128.0  \n",
       "3    3885207198   45128.0  \n",
       "4    3885207198   45128.0  \n",
       "..          ...       ...  \n",
       "27  58104308087  107482.0  \n",
       "28  58104308087  107482.0  \n",
       "29  58104308087  107482.0  \n",
       "30  58104308087  107482.0  \n",
       "31  58104308087  107482.0  \n",
       "\n",
       "[200960 rows x 9 columns]"
      ]
     },
     "execution_count": 11,
     "metadata": {},
     "output_type": "execute_result"
    }
   ],
   "source": [
    "df_oxygen_sat = df_oxygen_sat.rename(columns = {'pat_id':'PAT_ID', 'csn':'CSN'})\n",
    "df_oxygen_sat"
   ]
  },
  {
   "cell_type": "code",
   "execution_count": null,
   "id": "84945cc5-3849-4161-9437-9cfcee91b23b",
   "metadata": {},
   "outputs": [],
   "source": []
  },
  {
   "cell_type": "code",
   "execution_count": 12,
   "id": "299f61c2-5d59-4db2-a7b0-7a0eedd8cb05",
   "metadata": {},
   "outputs": [
    {
     "data": {
      "text/html": [
       "<div>\n",
       "<style scoped>\n",
       "    .dataframe tbody tr th:only-of-type {\n",
       "        vertical-align: middle;\n",
       "    }\n",
       "\n",
       "    .dataframe tbody tr th {\n",
       "        vertical-align: top;\n",
       "    }\n",
       "\n",
       "    .dataframe thead th {\n",
       "        text-align: right;\n",
       "    }\n",
       "</style>\n",
       "<table border=\"1\" class=\"dataframe\">\n",
       "  <thead>\n",
       "    <tr style=\"text-align: right;\">\n",
       "      <th></th>\n",
       "      <th>index</th>\n",
       "      <th>spo2</th>\n",
       "      <th>sao2</th>\n",
       "      <th>Black</th>\n",
       "      <th>White</th>\n",
       "      <th>PAT_ID</th>\n",
       "      <th>CSN</th>\n",
       "      <th>csn_idx</th>\n",
       "    </tr>\n",
       "  </thead>\n",
       "  <tbody>\n",
       "    <tr>\n",
       "      <th>count</th>\n",
       "      <td>200960.000000</td>\n",
       "      <td>200960.000000</td>\n",
       "      <td>200960.000000</td>\n",
       "      <td>200960.000000</td>\n",
       "      <td>200960.000000</td>\n",
       "      <td>2.009600e+05</td>\n",
       "      <td>2.009600e+05</td>\n",
       "      <td>200960.000000</td>\n",
       "    </tr>\n",
       "    <tr>\n",
       "      <th>mean</th>\n",
       "      <td>269.355608</td>\n",
       "      <td>97.045106</td>\n",
       "      <td>96.870626</td>\n",
       "      <td>0.408360</td>\n",
       "      <td>0.591640</td>\n",
       "      <td>6.553404e+07</td>\n",
       "      <td>3.652402e+10</td>\n",
       "      <td>48579.365013</td>\n",
       "    </tr>\n",
       "    <tr>\n",
       "      <th>std</th>\n",
       "      <td>361.627686</td>\n",
       "      <td>4.305423</td>\n",
       "      <td>3.633344</td>\n",
       "      <td>0.491532</td>\n",
       "      <td>0.491532</td>\n",
       "      <td>3.403954e+07</td>\n",
       "      <td>2.047750e+10</td>\n",
       "      <td>29484.596870</td>\n",
       "    </tr>\n",
       "    <tr>\n",
       "      <th>min</th>\n",
       "      <td>0.000000</td>\n",
       "      <td>0.000000</td>\n",
       "      <td>26.550000</td>\n",
       "      <td>0.000000</td>\n",
       "      <td>0.000000</td>\n",
       "      <td>1.842529e+06</td>\n",
       "      <td>6.669707e+07</td>\n",
       "      <td>73.000000</td>\n",
       "    </tr>\n",
       "    <tr>\n",
       "      <th>25%</th>\n",
       "      <td>45.000000</td>\n",
       "      <td>96.000000</td>\n",
       "      <td>96.200000</td>\n",
       "      <td>0.000000</td>\n",
       "      <td>0.000000</td>\n",
       "      <td>2.485274e+07</td>\n",
       "      <td>1.352412e+10</td>\n",
       "      <td>22993.000000</td>\n",
       "    </tr>\n",
       "    <tr>\n",
       "      <th>50%</th>\n",
       "      <td>136.000000</td>\n",
       "      <td>98.000000</td>\n",
       "      <td>97.900000</td>\n",
       "      <td>0.000000</td>\n",
       "      <td>1.000000</td>\n",
       "      <td>8.832823e+07</td>\n",
       "      <td>4.666620e+10</td>\n",
       "      <td>46759.000000</td>\n",
       "    </tr>\n",
       "    <tr>\n",
       "      <th>75%</th>\n",
       "      <td>350.000000</td>\n",
       "      <td>100.000000</td>\n",
       "      <td>98.800000</td>\n",
       "      <td>1.000000</td>\n",
       "      <td>1.000000</td>\n",
       "      <td>9.786810e+07</td>\n",
       "      <td>5.546849e+10</td>\n",
       "      <td>70885.000000</td>\n",
       "    </tr>\n",
       "    <tr>\n",
       "      <th>max</th>\n",
       "      <td>4426.000000</td>\n",
       "      <td>100.000000</td>\n",
       "      <td>100.750000</td>\n",
       "      <td>1.000000</td>\n",
       "      <td>1.000000</td>\n",
       "      <td>9.996267e+07</td>\n",
       "      <td>5.811763e+10</td>\n",
       "      <td>142522.000000</td>\n",
       "    </tr>\n",
       "  </tbody>\n",
       "</table>\n",
       "</div>"
      ],
      "text/plain": [
       "               index           spo2           sao2          Black  \\\n",
       "count  200960.000000  200960.000000  200960.000000  200960.000000   \n",
       "mean      269.355608      97.045106      96.870626       0.408360   \n",
       "std       361.627686       4.305423       3.633344       0.491532   \n",
       "min         0.000000       0.000000      26.550000       0.000000   \n",
       "25%        45.000000      96.000000      96.200000       0.000000   \n",
       "50%       136.000000      98.000000      97.900000       0.000000   \n",
       "75%       350.000000     100.000000      98.800000       1.000000   \n",
       "max      4426.000000     100.000000     100.750000       1.000000   \n",
       "\n",
       "               White        PAT_ID           CSN        csn_idx  \n",
       "count  200960.000000  2.009600e+05  2.009600e+05  200960.000000  \n",
       "mean        0.591640  6.553404e+07  3.652402e+10   48579.365013  \n",
       "std         0.491532  3.403954e+07  2.047750e+10   29484.596870  \n",
       "min         0.000000  1.842529e+06  6.669707e+07      73.000000  \n",
       "25%         0.000000  2.485274e+07  1.352412e+10   22993.000000  \n",
       "50%         1.000000  8.832823e+07  4.666620e+10   46759.000000  \n",
       "75%         1.000000  9.786810e+07  5.546849e+10   70885.000000  \n",
       "max         1.000000  9.996267e+07  5.811763e+10  142522.000000  "
      ]
     },
     "execution_count": 12,
     "metadata": {},
     "output_type": "execute_result"
    }
   ],
   "source": [
    "df_oxygen_sat.describe()"
   ]
  },
  {
   "cell_type": "code",
   "execution_count": 13,
   "id": "1767a155-8fb2-4b5a-b87f-3d423adcbbe3",
   "metadata": {},
   "outputs": [
    {
     "data": {
      "text/plain": [
       "(2290,)"
      ]
     },
     "execution_count": 13,
     "metadata": {},
     "output_type": "execute_result"
    }
   ],
   "source": [
    "df_oxygen_sat['CSN'].unique().shape"
   ]
  },
  {
   "cell_type": "markdown",
   "id": "a252fb4d-bb49-4bdd-89f1-cab1f91266ab",
   "metadata": {},
   "source": [
    "# load SpO2 and PaO2 csv"
   ]
  },
  {
   "cell_type": "code",
   "execution_count": 14,
   "id": "14a63ea7-5582-458c-ad5c-a85bab146d38",
   "metadata": {},
   "outputs": [
    {
     "data": {
      "text/html": [
       "<div>\n",
       "<style scoped>\n",
       "    .dataframe tbody tr th:only-of-type {\n",
       "        vertical-align: middle;\n",
       "    }\n",
       "\n",
       "    .dataframe tbody tr th {\n",
       "        vertical-align: top;\n",
       "    }\n",
       "\n",
       "    .dataframe thead th {\n",
       "        text-align: right;\n",
       "    }\n",
       "</style>\n",
       "<table border=\"1\" class=\"dataframe\">\n",
       "  <thead>\n",
       "    <tr style=\"text-align: right;\">\n",
       "      <th></th>\n",
       "      <th>index</th>\n",
       "      <th>spo2</th>\n",
       "      <th>pao2</th>\n",
       "      <th>times</th>\n",
       "      <th>Black</th>\n",
       "      <th>White</th>\n",
       "      <th>PAT_ID</th>\n",
       "      <th>CSN</th>\n",
       "      <th>csn_idx</th>\n",
       "    </tr>\n",
       "  </thead>\n",
       "  <tbody>\n",
       "    <tr>\n",
       "      <th>0</th>\n",
       "      <td>4</td>\n",
       "      <td>97.0</td>\n",
       "      <td>80.0</td>\n",
       "      <td>2017-07-17 12:29:03</td>\n",
       "      <td>0.0</td>\n",
       "      <td>1.0</td>\n",
       "      <td>1842529.0</td>\n",
       "      <td>3885207198</td>\n",
       "      <td>45128.0</td>\n",
       "    </tr>\n",
       "    <tr>\n",
       "      <th>1</th>\n",
       "      <td>5</td>\n",
       "      <td>98.0</td>\n",
       "      <td>80.0</td>\n",
       "      <td>2017-07-17 13:29:03</td>\n",
       "      <td>0.0</td>\n",
       "      <td>1.0</td>\n",
       "      <td>1842529.0</td>\n",
       "      <td>3885207198</td>\n",
       "      <td>45128.0</td>\n",
       "    </tr>\n",
       "    <tr>\n",
       "      <th>2</th>\n",
       "      <td>6</td>\n",
       "      <td>95.0</td>\n",
       "      <td>80.0</td>\n",
       "      <td>2017-07-17 14:29:03</td>\n",
       "      <td>0.0</td>\n",
       "      <td>1.0</td>\n",
       "      <td>1842529.0</td>\n",
       "      <td>3885207198</td>\n",
       "      <td>45128.0</td>\n",
       "    </tr>\n",
       "    <tr>\n",
       "      <th>3</th>\n",
       "      <td>7</td>\n",
       "      <td>97.0</td>\n",
       "      <td>80.0</td>\n",
       "      <td>2017-07-17 15:29:03</td>\n",
       "      <td>0.0</td>\n",
       "      <td>1.0</td>\n",
       "      <td>1842529.0</td>\n",
       "      <td>3885207198</td>\n",
       "      <td>45128.0</td>\n",
       "    </tr>\n",
       "    <tr>\n",
       "      <th>4</th>\n",
       "      <td>8</td>\n",
       "      <td>97.0</td>\n",
       "      <td>80.0</td>\n",
       "      <td>2017-07-17 16:29:03</td>\n",
       "      <td>0.0</td>\n",
       "      <td>1.0</td>\n",
       "      <td>1842529.0</td>\n",
       "      <td>3885207198</td>\n",
       "      <td>45128.0</td>\n",
       "    </tr>\n",
       "    <tr>\n",
       "      <th>...</th>\n",
       "      <td>...</td>\n",
       "      <td>...</td>\n",
       "      <td>...</td>\n",
       "      <td>...</td>\n",
       "      <td>...</td>\n",
       "      <td>...</td>\n",
       "      <td>...</td>\n",
       "      <td>...</td>\n",
       "      <td>...</td>\n",
       "    </tr>\n",
       "    <tr>\n",
       "      <th>20</th>\n",
       "      <td>21</td>\n",
       "      <td>100.0</td>\n",
       "      <td>143.0</td>\n",
       "      <td>2018-03-29 04:50:55</td>\n",
       "      <td>0.0</td>\n",
       "      <td>1.0</td>\n",
       "      <td>99963024.0</td>\n",
       "      <td>58104498087</td>\n",
       "      <td>82995.0</td>\n",
       "    </tr>\n",
       "    <tr>\n",
       "      <th>21</th>\n",
       "      <td>22</td>\n",
       "      <td>98.0</td>\n",
       "      <td>143.0</td>\n",
       "      <td>2018-03-29 05:50:55</td>\n",
       "      <td>0.0</td>\n",
       "      <td>1.0</td>\n",
       "      <td>99963024.0</td>\n",
       "      <td>58104498087</td>\n",
       "      <td>82995.0</td>\n",
       "    </tr>\n",
       "    <tr>\n",
       "      <th>22</th>\n",
       "      <td>23</td>\n",
       "      <td>100.0</td>\n",
       "      <td>143.0</td>\n",
       "      <td>2018-03-29 06:50:55</td>\n",
       "      <td>0.0</td>\n",
       "      <td>1.0</td>\n",
       "      <td>99963024.0</td>\n",
       "      <td>58104498087</td>\n",
       "      <td>82995.0</td>\n",
       "    </tr>\n",
       "    <tr>\n",
       "      <th>23</th>\n",
       "      <td>24</td>\n",
       "      <td>100.0</td>\n",
       "      <td>143.0</td>\n",
       "      <td>2018-03-29 07:50:55</td>\n",
       "      <td>0.0</td>\n",
       "      <td>1.0</td>\n",
       "      <td>99963024.0</td>\n",
       "      <td>58104498087</td>\n",
       "      <td>82995.0</td>\n",
       "    </tr>\n",
       "    <tr>\n",
       "      <th>24</th>\n",
       "      <td>25</td>\n",
       "      <td>99.0</td>\n",
       "      <td>143.0</td>\n",
       "      <td>2018-03-29 08:50:55</td>\n",
       "      <td>0.0</td>\n",
       "      <td>1.0</td>\n",
       "      <td>99963024.0</td>\n",
       "      <td>58104498087</td>\n",
       "      <td>82995.0</td>\n",
       "    </tr>\n",
       "  </tbody>\n",
       "</table>\n",
       "<p>201589 rows × 9 columns</p>\n",
       "</div>"
      ],
      "text/plain": [
       "    index   spo2   pao2                times  Black  White      PAT_ID  \\\n",
       "0       4   97.0   80.0  2017-07-17 12:29:03    0.0    1.0   1842529.0   \n",
       "1       5   98.0   80.0  2017-07-17 13:29:03    0.0    1.0   1842529.0   \n",
       "2       6   95.0   80.0  2017-07-17 14:29:03    0.0    1.0   1842529.0   \n",
       "3       7   97.0   80.0  2017-07-17 15:29:03    0.0    1.0   1842529.0   \n",
       "4       8   97.0   80.0  2017-07-17 16:29:03    0.0    1.0   1842529.0   \n",
       "..    ...    ...    ...                  ...    ...    ...         ...   \n",
       "20     21  100.0  143.0  2018-03-29 04:50:55    0.0    1.0  99963024.0   \n",
       "21     22   98.0  143.0  2018-03-29 05:50:55    0.0    1.0  99963024.0   \n",
       "22     23  100.0  143.0  2018-03-29 06:50:55    0.0    1.0  99963024.0   \n",
       "23     24  100.0  143.0  2018-03-29 07:50:55    0.0    1.0  99963024.0   \n",
       "24     25   99.0  143.0  2018-03-29 08:50:55    0.0    1.0  99963024.0   \n",
       "\n",
       "            CSN  csn_idx  \n",
       "0    3885207198  45128.0  \n",
       "1    3885207198  45128.0  \n",
       "2    3885207198  45128.0  \n",
       "3    3885207198  45128.0  \n",
       "4    3885207198  45128.0  \n",
       "..          ...      ...  \n",
       "20  58104498087  82995.0  \n",
       "21  58104498087  82995.0  \n",
       "22  58104498087  82995.0  \n",
       "23  58104498087  82995.0  \n",
       "24  58104498087  82995.0  \n",
       "\n",
       "[201589 rows x 9 columns]"
      ]
     },
     "execution_count": 14,
     "metadata": {},
     "output_type": "execute_result"
    }
   ],
   "source": [
    "oxygen_sat_spo2_pao2_filedir = '/home/mchan82/kamaleswaranlab/Sepsis3_062321/dlin_analysis/Pat_BedTime_List_some_on_BMI_2_6_22_spo2_pao2.csv'\n",
    "df_spo2_pao2_sat = pd.read_csv(oxygen_sat_spo2_pao2_filedir, index_col=0)  \n",
    "\n",
    "mask = (df_spo2_pao2_sat['Black']==1) | (df_spo2_pao2_sat['White']==1)\n",
    "df_spo2_pao2_sat = df_spo2_pao2_sat[mask]\n",
    "df_spo2_pao2_sat = df_spo2_pao2_sat.rename(columns = {'pat_id':'PAT_ID', 'csn':'CSN'})\n",
    "df_spo2_pao2_sat"
   ]
  },
  {
   "cell_type": "code",
   "execution_count": 15,
   "id": "9a3e9fca-d251-47b0-8a3e-ac50c59530c2",
   "metadata": {},
   "outputs": [],
   "source": [
    "df_spo2_pao2_sat['times'] =  pd.to_datetime(df_spo2_pao2_sat['times'], format=\"%Y-%m-%d %H:%M:%S\")\n"
   ]
  },
  {
   "cell_type": "code",
   "execution_count": 16,
   "id": "0c8f8357-159f-4d18-b707-65ffab505820",
   "metadata": {},
   "outputs": [
    {
     "data": {
      "text/html": [
       "<div>\n",
       "<style scoped>\n",
       "    .dataframe tbody tr th:only-of-type {\n",
       "        vertical-align: middle;\n",
       "    }\n",
       "\n",
       "    .dataframe tbody tr th {\n",
       "        vertical-align: top;\n",
       "    }\n",
       "\n",
       "    .dataframe thead th {\n",
       "        text-align: right;\n",
       "    }\n",
       "</style>\n",
       "<table border=\"1\" class=\"dataframe\">\n",
       "  <thead>\n",
       "    <tr style=\"text-align: right;\">\n",
       "      <th></th>\n",
       "      <th>index</th>\n",
       "      <th>spo2</th>\n",
       "      <th>pao2</th>\n",
       "      <th>Black</th>\n",
       "      <th>White</th>\n",
       "      <th>PAT_ID</th>\n",
       "      <th>CSN</th>\n",
       "      <th>csn_idx</th>\n",
       "    </tr>\n",
       "  </thead>\n",
       "  <tbody>\n",
       "    <tr>\n",
       "      <th>count</th>\n",
       "      <td>201589.000000</td>\n",
       "      <td>201589.000000</td>\n",
       "      <td>201589.000000</td>\n",
       "      <td>201589.000000</td>\n",
       "      <td>201589.000000</td>\n",
       "      <td>2.015890e+05</td>\n",
       "      <td>2.015890e+05</td>\n",
       "      <td>201589.000000</td>\n",
       "    </tr>\n",
       "    <tr>\n",
       "      <th>mean</th>\n",
       "      <td>269.169741</td>\n",
       "      <td>97.046023</td>\n",
       "      <td>126.777645</td>\n",
       "      <td>0.408876</td>\n",
       "      <td>0.591124</td>\n",
       "      <td>6.554002e+07</td>\n",
       "      <td>3.652067e+10</td>\n",
       "      <td>48594.554028</td>\n",
       "    </tr>\n",
       "    <tr>\n",
       "      <th>std</th>\n",
       "      <td>362.015092</td>\n",
       "      <td>4.309443</td>\n",
       "      <td>65.725386</td>\n",
       "      <td>0.491628</td>\n",
       "      <td>0.491628</td>\n",
       "      <td>3.403344e+07</td>\n",
       "      <td>2.047610e+10</td>\n",
       "      <td>29490.600367</td>\n",
       "    </tr>\n",
       "    <tr>\n",
       "      <th>min</th>\n",
       "      <td>0.000000</td>\n",
       "      <td>0.000000</td>\n",
       "      <td>16.000000</td>\n",
       "      <td>0.000000</td>\n",
       "      <td>0.000000</td>\n",
       "      <td>1.842529e+06</td>\n",
       "      <td>6.669707e+07</td>\n",
       "      <td>73.000000</td>\n",
       "    </tr>\n",
       "    <tr>\n",
       "      <th>25%</th>\n",
       "      <td>45.000000</td>\n",
       "      <td>96.000000</td>\n",
       "      <td>84.000000</td>\n",
       "      <td>0.000000</td>\n",
       "      <td>0.000000</td>\n",
       "      <td>2.496497e+07</td>\n",
       "      <td>1.350943e+10</td>\n",
       "      <td>22993.000000</td>\n",
       "    </tr>\n",
       "    <tr>\n",
       "      <th>50%</th>\n",
       "      <td>136.000000</td>\n",
       "      <td>98.000000</td>\n",
       "      <td>111.000000</td>\n",
       "      <td>0.000000</td>\n",
       "      <td>1.000000</td>\n",
       "      <td>8.832823e+07</td>\n",
       "      <td>4.666620e+10</td>\n",
       "      <td>46759.000000</td>\n",
       "    </tr>\n",
       "    <tr>\n",
       "      <th>75%</th>\n",
       "      <td>350.000000</td>\n",
       "      <td>100.000000</td>\n",
       "      <td>148.000000</td>\n",
       "      <td>1.000000</td>\n",
       "      <td>1.000000</td>\n",
       "      <td>9.786810e+07</td>\n",
       "      <td>5.546849e+10</td>\n",
       "      <td>70885.000000</td>\n",
       "    </tr>\n",
       "    <tr>\n",
       "      <th>max</th>\n",
       "      <td>4426.000000</td>\n",
       "      <td>100.000000</td>\n",
       "      <td>531.000000</td>\n",
       "      <td>1.000000</td>\n",
       "      <td>1.000000</td>\n",
       "      <td>9.996302e+07</td>\n",
       "      <td>5.811763e+10</td>\n",
       "      <td>142522.000000</td>\n",
       "    </tr>\n",
       "  </tbody>\n",
       "</table>\n",
       "</div>"
      ],
      "text/plain": [
       "               index           spo2           pao2          Black  \\\n",
       "count  201589.000000  201589.000000  201589.000000  201589.000000   \n",
       "mean      269.169741      97.046023     126.777645       0.408876   \n",
       "std       362.015092       4.309443      65.725386       0.491628   \n",
       "min         0.000000       0.000000      16.000000       0.000000   \n",
       "25%        45.000000      96.000000      84.000000       0.000000   \n",
       "50%       136.000000      98.000000     111.000000       0.000000   \n",
       "75%       350.000000     100.000000     148.000000       1.000000   \n",
       "max      4426.000000     100.000000     531.000000       1.000000   \n",
       "\n",
       "               White        PAT_ID           CSN        csn_idx  \n",
       "count  201589.000000  2.015890e+05  2.015890e+05  201589.000000  \n",
       "mean        0.591124  6.554002e+07  3.652067e+10   48594.554028  \n",
       "std         0.491628  3.403344e+07  2.047610e+10   29490.600367  \n",
       "min         0.000000  1.842529e+06  6.669707e+07      73.000000  \n",
       "25%         0.000000  2.496497e+07  1.350943e+10   22993.000000  \n",
       "50%         1.000000  8.832823e+07  4.666620e+10   46759.000000  \n",
       "75%         1.000000  9.786810e+07  5.546849e+10   70885.000000  \n",
       "max         1.000000  9.996302e+07  5.811763e+10  142522.000000  "
      ]
     },
     "execution_count": 16,
     "metadata": {},
     "output_type": "execute_result"
    }
   ],
   "source": [
    "df_spo2_pao2_sat.describe()"
   ]
  },
  {
   "cell_type": "code",
   "execution_count": 17,
   "id": "60075831-cb48-4554-b222-3ea8550c15eb",
   "metadata": {},
   "outputs": [
    {
     "data": {
      "text/plain": [
       "(2297,)"
      ]
     },
     "execution_count": 17,
     "metadata": {},
     "output_type": "execute_result"
    }
   ],
   "source": [
    "df_spo2_pao2_sat['CSN'].unique().shape"
   ]
  },
  {
   "cell_type": "code",
   "execution_count": null,
   "id": "c67ac37a-d7c5-4dcd-9d94-75852017f22b",
   "metadata": {},
   "outputs": [],
   "source": []
  },
  {
   "cell_type": "code",
   "execution_count": null,
   "id": "211ccbab-cc9c-4f71-86c3-259b91feb8ea",
   "metadata": {},
   "outputs": [],
   "source": []
  },
  {
   "cell_type": "code",
   "execution_count": null,
   "id": "cd0f35a4-3983-4f2d-a7e1-256b33db42d2",
   "metadata": {},
   "outputs": [],
   "source": []
  },
  {
   "cell_type": "code",
   "execution_count": null,
   "id": "140665f6-f0de-4804-b603-edc15a0f659c",
   "metadata": {},
   "outputs": [],
   "source": []
  },
  {
   "cell_type": "code",
   "execution_count": null,
   "id": "a12a2577-c595-406b-a986-c938a617906a",
   "metadata": {},
   "outputs": [],
   "source": []
  },
  {
   "cell_type": "markdown",
   "id": "ebb02127-e94d-4860-8110-1c61c6834262",
   "metadata": {
    "tags": []
   },
   "source": [
    "## load the ind csv\n",
    "### compute BED Time Diff (to show that we have much more bed data)\n",
    "### show the median the time diffs"
   ]
  },
  {
   "cell_type": "code",
   "execution_count": 18,
   "id": "b4e0b3da-a0a6-4539-9937-b8d7ae4b74ea",
   "metadata": {},
   "outputs": [],
   "source": [
    "ind_filedir = '/home/mchan82/kamaleswaranlab/Sepsis3_062321/dlin_analysis/Pat_BedTime_List_some_on_BMI_2_6_22_ind.csv'\n",
    "df_ind = pd.read_csv(ind_filedir, index_col=0)  \n",
    "\n",
    "mask = (df_ind['Race String']=='African American  or Black') | (df_ind['Race String']=='Caucasian or White')\n",
    "df_ind = df_ind[mask]"
   ]
  },
  {
   "cell_type": "code",
   "execution_count": 19,
   "id": "6412035b-5f3f-496f-86fe-240a77cdefc0",
   "metadata": {},
   "outputs": [],
   "source": [
    "df_ind['DateStart'] = pd.to_datetime(df_ind['DateStart'], format=\"%Y-%m-%d %H:%M:%S\")\n",
    "df_ind['DateEnd'] = pd.to_datetime(df_ind['DateEnd'], format=\"%Y-%m-%d %H:%M:%S\")"
   ]
  },
  {
   "cell_type": "markdown",
   "id": "fcb7b5d5-c302-4ec9-84f5-8dd2d804eafc",
   "metadata": {},
   "source": [
    "## TODO: change BED Time Difference"
   ]
  },
  {
   "cell_type": "code",
   "execution_count": 20,
   "id": "e17cbc58-0c14-467c-a79e-5efffda65432",
   "metadata": {},
   "outputs": [],
   "source": [
    "BED_LOCATION_START = pd.to_datetime(df_ind['BED_LOCATION_START'], format=\"%Y-%m-%d %H:%M:%S\")\n",
    "BED_LOCATION_END = pd.to_datetime(df_ind['BED_LOCATION_END'], format=\"%m/%d/%Y %H:%M:%S\")\n",
    "\n",
    "df_ind['BED_LOCATION_START'] = BED_LOCATION_START\n",
    "df_ind['BED_LOCATION_END'] = BED_LOCATION_END\n"
   ]
  },
  {
   "cell_type": "code",
   "execution_count": 21,
   "id": "5673bd93-3d22-46d1-8cb5-8b32752a7c43",
   "metadata": {},
   "outputs": [],
   "source": [
    "DateStart = pd.to_datetime(df_ind['DateStart'], format=\"%Y-%m-%d %H:%M:%S\")\n",
    "DateEnd = pd.to_datetime(df_ind['DateEnd'], format=\"%m/%d/%Y %H:%M:%S\")\n",
    "\n",
    "df_ind['DateStart'] = DateStart\n",
    "df_ind['DateEnd'] = DateEnd\n",
    "\n",
    "df_ind['BED Time Difference'] = (DateEnd-DateStart).dt.total_seconds()"
   ]
  },
  {
   "cell_type": "code",
   "execution_count": 22,
   "id": "5ee1999b-c088-4b83-960a-e4f237b4b08a",
   "metadata": {
    "tags": []
   },
   "outputs": [
    {
     "name": "stdout",
     "output_type": "stream",
     "text": [
      "EHR time diff: -0.06hr\n",
      "Waveform time diff: 42.28hr\n"
     ]
    }
   ],
   "source": [
    "print('EHR time diff: {:.2f}hr'.format(df_ind['Time Difference'].median()/60/60))\n",
    "print('Waveform time diff: {:.2f}hr'.format(df_ind['BED Time Difference'].median()/60/60))"
   ]
  },
  {
   "cell_type": "code",
   "execution_count": 23,
   "id": "136323d2-6e6f-4722-9315-c8db76338d7f",
   "metadata": {},
   "outputs": [
    {
     "data": {
      "text/html": [
       "<div>\n",
       "<style scoped>\n",
       "    .dataframe tbody tr th:only-of-type {\n",
       "        vertical-align: middle;\n",
       "    }\n",
       "\n",
       "    .dataframe tbody tr th {\n",
       "        vertical-align: top;\n",
       "    }\n",
       "\n",
       "    .dataframe thead th {\n",
       "        text-align: right;\n",
       "    }\n",
       "</style>\n",
       "<table border=\"1\" class=\"dataframe\">\n",
       "  <thead>\n",
       "    <tr style=\"text-align: right;\">\n",
       "      <th></th>\n",
       "      <th>deBedTime</th>\n",
       "      <th>DateStart</th>\n",
       "      <th>DateEnd</th>\n",
       "      <th>PAT_ID</th>\n",
       "      <th>BED_LOCATION_START</th>\n",
       "      <th>BED_LOCATION_END</th>\n",
       "      <th>White</th>\n",
       "      <th>Black</th>\n",
       "      <th>Race String</th>\n",
       "      <th>Time Difference</th>\n",
       "      <th>Time Found</th>\n",
       "      <th>True Time Found</th>\n",
       "      <th>CSN Exist Flag</th>\n",
       "      <th>CSN</th>\n",
       "      <th>BED Time Difference</th>\n",
       "    </tr>\n",
       "  </thead>\n",
       "  <tbody>\n",
       "    <tr>\n",
       "      <th>0</th>\n",
       "      <td>A118-0520880083</td>\n",
       "      <td>2018-03-12 18:41:23</td>\n",
       "      <td>2018-03-12 23:13:00</td>\n",
       "      <td>18004189.0</td>\n",
       "      <td>2018-03-12 18:41:39</td>\n",
       "      <td>2018-03-14 20:20:00</td>\n",
       "      <td>False</td>\n",
       "      <td>True</td>\n",
       "      <td>African American  or Black</td>\n",
       "      <td>1235.0</td>\n",
       "      <td>2018-03-12 18:20:48</td>\n",
       "      <td>2018-03-12 11:20:48</td>\n",
       "      <td>True</td>\n",
       "      <td>3.967156e+10</td>\n",
       "      <td>1.629700e+04</td>\n",
       "    </tr>\n",
       "    <tr>\n",
       "      <th>1</th>\n",
       "      <td>A140-0515603029</td>\n",
       "      <td>2018-01-10 16:50:29</td>\n",
       "      <td>2018-01-10 19:03:47</td>\n",
       "      <td>94166433.0</td>\n",
       "      <td>2018-01-10 16:50:12</td>\n",
       "      <td>2018-01-18 21:15:32</td>\n",
       "      <td>True</td>\n",
       "      <td>False</td>\n",
       "      <td>Caucasian or White</td>\n",
       "      <td>-1531.0</td>\n",
       "      <td>2018-01-10 17:16:00</td>\n",
       "      <td>2017-12-18 21:16:00</td>\n",
       "      <td>True</td>\n",
       "      <td>4.991014e+10</td>\n",
       "      <td>7.998000e+03</td>\n",
       "    </tr>\n",
       "    <tr>\n",
       "      <th>2</th>\n",
       "      <td>A065-0489270594</td>\n",
       "      <td>2017-03-11 22:16:34</td>\n",
       "      <td>2017-03-14 14:50:58</td>\n",
       "      <td>96266988.0</td>\n",
       "      <td>2017-03-11 22:15:37</td>\n",
       "      <td>2017-03-14 10:58:53</td>\n",
       "      <td>False</td>\n",
       "      <td>True</td>\n",
       "      <td>African American  or Black</td>\n",
       "      <td>1450.0</td>\n",
       "      <td>2017-03-11 21:52:24</td>\n",
       "      <td>2017-03-11 16:52:24</td>\n",
       "      <td>True</td>\n",
       "      <td>5.290317e+10</td>\n",
       "      <td>2.324640e+05</td>\n",
       "    </tr>\n",
       "    <tr>\n",
       "      <th>3</th>\n",
       "      <td>A088-0516735120</td>\n",
       "      <td>2018-01-23 19:18:40</td>\n",
       "      <td>2018-01-23 19:43:15</td>\n",
       "      <td>17395882.0</td>\n",
       "      <td>2018-01-23 19:17:04</td>\n",
       "      <td>2018-01-26 20:42:23</td>\n",
       "      <td>True</td>\n",
       "      <td>False</td>\n",
       "      <td>Caucasian or White</td>\n",
       "      <td>-20.0</td>\n",
       "      <td>2018-01-23 19:19:00</td>\n",
       "      <td>2018-01-22 22:19:00</td>\n",
       "      <td>True</td>\n",
       "      <td>5.754876e+10</td>\n",
       "      <td>1.475000e+03</td>\n",
       "    </tr>\n",
       "    <tr>\n",
       "      <th>5</th>\n",
       "      <td>A051-0495488308</td>\n",
       "      <td>2017-05-22 21:25:08</td>\n",
       "      <td>2017-06-02 15:53:25</td>\n",
       "      <td>17655916.0</td>\n",
       "      <td>2017-05-22 21:21:50</td>\n",
       "      <td>2017-06-02 12:51:00</td>\n",
       "      <td>True</td>\n",
       "      <td>False</td>\n",
       "      <td>Caucasian or White</td>\n",
       "      <td>-652.0</td>\n",
       "      <td>2017-05-22 21:36:00</td>\n",
       "      <td>2017-05-22 18:36:00</td>\n",
       "      <td>True</td>\n",
       "      <td>3.005482e+10</td>\n",
       "      <td>9.304970e+05</td>\n",
       "    </tr>\n",
       "    <tr>\n",
       "      <th>...</th>\n",
       "      <td>...</td>\n",
       "      <td>...</td>\n",
       "      <td>...</td>\n",
       "      <td>...</td>\n",
       "      <td>...</td>\n",
       "      <td>...</td>\n",
       "      <td>...</td>\n",
       "      <td>...</td>\n",
       "      <td>...</td>\n",
       "      <td>...</td>\n",
       "      <td>...</td>\n",
       "      <td>...</td>\n",
       "      <td>...</td>\n",
       "      <td>...</td>\n",
       "      <td>...</td>\n",
       "    </tr>\n",
       "    <tr>\n",
       "      <th>6278</th>\n",
       "      <td>A050-0519142630</td>\n",
       "      <td>2018-02-20 16:03:50</td>\n",
       "      <td>2018-02-20 16:10:55</td>\n",
       "      <td>92165161.0</td>\n",
       "      <td>2017-10-27 21:00:00</td>\n",
       "      <td>2017-10-28 11:54:32</td>\n",
       "      <td>True</td>\n",
       "      <td>False</td>\n",
       "      <td>Caucasian or White</td>\n",
       "      <td>9436187.0</td>\n",
       "      <td>2017-11-03 11:54:03</td>\n",
       "      <td>2017-10-27 16:54:03</td>\n",
       "      <td>True</td>\n",
       "      <td>4.521433e+10</td>\n",
       "      <td>4.250000e+02</td>\n",
       "    </tr>\n",
       "    <tr>\n",
       "      <th>6279</th>\n",
       "      <td>A050-0519143068</td>\n",
       "      <td>2018-02-20 16:11:08</td>\n",
       "      <td>1969-12-31 23:59:58</td>\n",
       "      <td>92165161.0</td>\n",
       "      <td>2017-10-27 21:00:00</td>\n",
       "      <td>2017-10-28 11:54:32</td>\n",
       "      <td>True</td>\n",
       "      <td>False</td>\n",
       "      <td>Caucasian or White</td>\n",
       "      <td>9436625.0</td>\n",
       "      <td>2017-11-03 11:54:03</td>\n",
       "      <td>2017-10-27 16:54:03</td>\n",
       "      <td>True</td>\n",
       "      <td>4.521433e+10</td>\n",
       "      <td>-1.519143e+09</td>\n",
       "    </tr>\n",
       "    <tr>\n",
       "      <th>6280</th>\n",
       "      <td>A075-0519140345</td>\n",
       "      <td>2018-02-20 15:25:45</td>\n",
       "      <td>2018-02-20 15:32:34</td>\n",
       "      <td>50293730.0</td>\n",
       "      <td>2017-10-27 15:19:55</td>\n",
       "      <td>2017-10-27 21:08:22</td>\n",
       "      <td>True</td>\n",
       "      <td>False</td>\n",
       "      <td>Caucasian or White</td>\n",
       "      <td>8883352.0</td>\n",
       "      <td>2017-11-09 19:49:53</td>\n",
       "      <td>2017-10-24 10:49:53</td>\n",
       "      <td>True</td>\n",
       "      <td>1.426466e+10</td>\n",
       "      <td>4.090000e+02</td>\n",
       "    </tr>\n",
       "    <tr>\n",
       "      <th>6283</th>\n",
       "      <td>A047-0519141716</td>\n",
       "      <td>2018-02-20 15:48:36</td>\n",
       "      <td>2018-02-20 15:52:32</td>\n",
       "      <td>23329164.0</td>\n",
       "      <td>2017-10-25 10:08:13</td>\n",
       "      <td>2017-10-28 11:24:36</td>\n",
       "      <td>False</td>\n",
       "      <td>True</td>\n",
       "      <td>African American  or Black</td>\n",
       "      <td>9913831.0</td>\n",
       "      <td>2017-10-28 22:58:05</td>\n",
       "      <td>2017-10-18 18:58:05</td>\n",
       "      <td>True</td>\n",
       "      <td>1.089383e+10</td>\n",
       "      <td>2.360000e+02</td>\n",
       "    </tr>\n",
       "    <tr>\n",
       "      <th>6284</th>\n",
       "      <td>A052-0519140803</td>\n",
       "      <td>2018-02-20 15:33:22</td>\n",
       "      <td>2018-02-20 15:38:32</td>\n",
       "      <td>99044930.0</td>\n",
       "      <td>2017-10-22 12:42:38</td>\n",
       "      <td>2017-10-28 11:29:40</td>\n",
       "      <td>True</td>\n",
       "      <td>False</td>\n",
       "      <td>Caucasian or White</td>\n",
       "      <td>-3218438.0</td>\n",
       "      <td>2018-03-29 22:34:00</td>\n",
       "      <td>2018-03-29 22:34:00</td>\n",
       "      <td>True</td>\n",
       "      <td>5.685214e+10</td>\n",
       "      <td>3.100000e+02</td>\n",
       "    </tr>\n",
       "  </tbody>\n",
       "</table>\n",
       "<p>5696 rows × 15 columns</p>\n",
       "</div>"
      ],
      "text/plain": [
       "            deBedTime           DateStart             DateEnd      PAT_ID  \\\n",
       "0     A118-0520880083 2018-03-12 18:41:23 2018-03-12 23:13:00  18004189.0   \n",
       "1     A140-0515603029 2018-01-10 16:50:29 2018-01-10 19:03:47  94166433.0   \n",
       "2     A065-0489270594 2017-03-11 22:16:34 2017-03-14 14:50:58  96266988.0   \n",
       "3     A088-0516735120 2018-01-23 19:18:40 2018-01-23 19:43:15  17395882.0   \n",
       "5     A051-0495488308 2017-05-22 21:25:08 2017-06-02 15:53:25  17655916.0   \n",
       "...               ...                 ...                 ...         ...   \n",
       "6278  A050-0519142630 2018-02-20 16:03:50 2018-02-20 16:10:55  92165161.0   \n",
       "6279  A050-0519143068 2018-02-20 16:11:08 1969-12-31 23:59:58  92165161.0   \n",
       "6280  A075-0519140345 2018-02-20 15:25:45 2018-02-20 15:32:34  50293730.0   \n",
       "6283  A047-0519141716 2018-02-20 15:48:36 2018-02-20 15:52:32  23329164.0   \n",
       "6284  A052-0519140803 2018-02-20 15:33:22 2018-02-20 15:38:32  99044930.0   \n",
       "\n",
       "      BED_LOCATION_START    BED_LOCATION_END  White  Black  \\\n",
       "0    2018-03-12 18:41:39 2018-03-14 20:20:00  False   True   \n",
       "1    2018-01-10 16:50:12 2018-01-18 21:15:32   True  False   \n",
       "2    2017-03-11 22:15:37 2017-03-14 10:58:53  False   True   \n",
       "3    2018-01-23 19:17:04 2018-01-26 20:42:23   True  False   \n",
       "5    2017-05-22 21:21:50 2017-06-02 12:51:00   True  False   \n",
       "...                  ...                 ...    ...    ...   \n",
       "6278 2017-10-27 21:00:00 2017-10-28 11:54:32   True  False   \n",
       "6279 2017-10-27 21:00:00 2017-10-28 11:54:32   True  False   \n",
       "6280 2017-10-27 15:19:55 2017-10-27 21:08:22   True  False   \n",
       "6283 2017-10-25 10:08:13 2017-10-28 11:24:36  False   True   \n",
       "6284 2017-10-22 12:42:38 2017-10-28 11:29:40   True  False   \n",
       "\n",
       "                     Race String  Time Difference           Time Found  \\\n",
       "0     African American  or Black           1235.0  2018-03-12 18:20:48   \n",
       "1             Caucasian or White          -1531.0  2018-01-10 17:16:00   \n",
       "2     African American  or Black           1450.0  2017-03-11 21:52:24   \n",
       "3             Caucasian or White            -20.0  2018-01-23 19:19:00   \n",
       "5             Caucasian or White           -652.0  2017-05-22 21:36:00   \n",
       "...                          ...              ...                  ...   \n",
       "6278          Caucasian or White        9436187.0  2017-11-03 11:54:03   \n",
       "6279          Caucasian or White        9436625.0  2017-11-03 11:54:03   \n",
       "6280          Caucasian or White        8883352.0  2017-11-09 19:49:53   \n",
       "6283  African American  or Black        9913831.0  2017-10-28 22:58:05   \n",
       "6284          Caucasian or White       -3218438.0  2018-03-29 22:34:00   \n",
       "\n",
       "          True Time Found  CSN Exist Flag           CSN  BED Time Difference  \n",
       "0     2018-03-12 11:20:48            True  3.967156e+10         1.629700e+04  \n",
       "1     2017-12-18 21:16:00            True  4.991014e+10         7.998000e+03  \n",
       "2     2017-03-11 16:52:24            True  5.290317e+10         2.324640e+05  \n",
       "3     2018-01-22 22:19:00            True  5.754876e+10         1.475000e+03  \n",
       "5     2017-05-22 18:36:00            True  3.005482e+10         9.304970e+05  \n",
       "...                   ...             ...           ...                  ...  \n",
       "6278  2017-10-27 16:54:03            True  4.521433e+10         4.250000e+02  \n",
       "6279  2017-10-27 16:54:03            True  4.521433e+10        -1.519143e+09  \n",
       "6280  2017-10-24 10:49:53            True  1.426466e+10         4.090000e+02  \n",
       "6283  2017-10-18 18:58:05            True  1.089383e+10         2.360000e+02  \n",
       "6284  2018-03-29 22:34:00            True  5.685214e+10         3.100000e+02  \n",
       "\n",
       "[5696 rows x 15 columns]"
      ]
     },
     "execution_count": 23,
     "metadata": {},
     "output_type": "execute_result"
    }
   ],
   "source": [
    "df_ind"
   ]
  },
  {
   "cell_type": "code",
   "execution_count": null,
   "id": "5355b6d7-4621-4cd6-85ad-c98284aefa2a",
   "metadata": {},
   "outputs": [],
   "source": []
  },
  {
   "cell_type": "code",
   "execution_count": null,
   "id": "6f530bf2-8202-4c1f-a7aa-f1150eaae86a",
   "metadata": {},
   "outputs": [],
   "source": []
  },
  {
   "cell_type": "code",
   "execution_count": null,
   "id": "766760ca-c303-49fe-895f-248c49af36c7",
   "metadata": {},
   "outputs": [],
   "source": []
  },
  {
   "cell_type": "code",
   "execution_count": 24,
   "id": "6b49d1f0-2566-416f-b0fe-504711c02fec",
   "metadata": {},
   "outputs": [
    {
     "data": {
      "text/plain": [
       "(3644,)"
      ]
     },
     "execution_count": 24,
     "metadata": {},
     "output_type": "execute_result"
    }
   ],
   "source": [
    "df_ind['CSN'].unique().shape"
   ]
  },
  {
   "cell_type": "code",
   "execution_count": null,
   "id": "5223bb07-cd6f-4837-a797-086e8d63b8a3",
   "metadata": {},
   "outputs": [],
   "source": []
  },
  {
   "cell_type": "code",
   "execution_count": 25,
   "id": "27be446a-b850-44a9-a991-adba06736cfa",
   "metadata": {},
   "outputs": [
    {
     "data": {
      "text/plain": [
       "0          1235.0\n",
       "1         -1531.0\n",
       "2          1450.0\n",
       "3           -20.0\n",
       "5          -652.0\n",
       "          ...    \n",
       "6278    9436187.0\n",
       "6279    9436625.0\n",
       "6280    8883352.0\n",
       "6283    9913831.0\n",
       "6284   -3218438.0\n",
       "Name: Time Difference, Length: 5696, dtype: float64"
      ]
     },
     "execution_count": 25,
     "metadata": {},
     "output_type": "execute_result"
    }
   ],
   "source": [
    "df_ind['Time Difference']"
   ]
  },
  {
   "cell_type": "markdown",
   "id": "20d329cd-4f5d-4729-a5ab-726d7931c870",
   "metadata": {},
   "source": [
    "# merge df_ind with df_oxygen_sat so I can get deBedTime, DateStart, DateEnd, PAT_ID, White\tBlack, CSN, SaO2, SpO2, oxy sat. times in one column\n",
    "\n",
    "## TODO: merge using the CSN instead "
   ]
  },
  {
   "cell_type": "code",
   "execution_count": 26,
   "id": "eb43c996-ca4f-40d8-aed0-f9f544d5fff3",
   "metadata": {},
   "outputs": [
    {
     "data": {
      "text/html": [
       "<div>\n",
       "<style scoped>\n",
       "    .dataframe tbody tr th:only-of-type {\n",
       "        vertical-align: middle;\n",
       "    }\n",
       "\n",
       "    .dataframe tbody tr th {\n",
       "        vertical-align: top;\n",
       "    }\n",
       "\n",
       "    .dataframe thead th {\n",
       "        text-align: right;\n",
       "    }\n",
       "</style>\n",
       "<table border=\"1\" class=\"dataframe\">\n",
       "  <thead>\n",
       "    <tr style=\"text-align: right;\">\n",
       "      <th></th>\n",
       "      <th>deBedTime</th>\n",
       "      <th>DateStart</th>\n",
       "      <th>DateEnd</th>\n",
       "      <th>PAT_ID</th>\n",
       "      <th>BED_LOCATION_START</th>\n",
       "      <th>BED_LOCATION_END</th>\n",
       "      <th>White</th>\n",
       "      <th>Black</th>\n",
       "      <th>Race String</th>\n",
       "      <th>Time Difference</th>\n",
       "      <th>Time Found</th>\n",
       "      <th>True Time Found</th>\n",
       "      <th>CSN Exist Flag</th>\n",
       "      <th>CSN</th>\n",
       "      <th>BED Time Difference</th>\n",
       "      <th>spo2</th>\n",
       "      <th>sao2</th>\n",
       "      <th>times</th>\n",
       "    </tr>\n",
       "  </thead>\n",
       "  <tbody>\n",
       "    <tr>\n",
       "      <th>0</th>\n",
       "      <td>A118-0520880083</td>\n",
       "      <td>2018-03-12 18:41:23</td>\n",
       "      <td>2018-03-12 23:13:00</td>\n",
       "      <td>18004189.0</td>\n",
       "      <td>2018-03-12 18:41:39</td>\n",
       "      <td>2018-03-14 20:20:00</td>\n",
       "      <td>False</td>\n",
       "      <td>True</td>\n",
       "      <td>African American  or Black</td>\n",
       "      <td>1235.0</td>\n",
       "      <td>2018-03-12 18:20:48</td>\n",
       "      <td>2018-03-12 11:20:48</td>\n",
       "      <td>True</td>\n",
       "      <td>3.967156e+10</td>\n",
       "      <td>16297.0</td>\n",
       "      <td>NaN</td>\n",
       "      <td>NaN</td>\n",
       "      <td>NaT</td>\n",
       "    </tr>\n",
       "    <tr>\n",
       "      <th>1</th>\n",
       "      <td>A118-0520896395</td>\n",
       "      <td>2018-03-12 23:13:15</td>\n",
       "      <td>2018-03-15 03:19:11</td>\n",
       "      <td>18004189.0</td>\n",
       "      <td>2018-03-12 18:41:39</td>\n",
       "      <td>2018-03-14 20:20:00</td>\n",
       "      <td>False</td>\n",
       "      <td>True</td>\n",
       "      <td>African American  or Black</td>\n",
       "      <td>-453.0</td>\n",
       "      <td>2018-03-12 23:20:48</td>\n",
       "      <td>2018-03-12 11:20:48</td>\n",
       "      <td>True</td>\n",
       "      <td>3.967156e+10</td>\n",
       "      <td>187556.0</td>\n",
       "      <td>NaN</td>\n",
       "      <td>NaN</td>\n",
       "      <td>NaT</td>\n",
       "    </tr>\n",
       "    <tr>\n",
       "      <th>2</th>\n",
       "      <td>A140-0515603029</td>\n",
       "      <td>2018-01-10 16:50:29</td>\n",
       "      <td>2018-01-10 19:03:47</td>\n",
       "      <td>94166433.0</td>\n",
       "      <td>2018-01-10 16:50:12</td>\n",
       "      <td>2018-01-18 21:15:32</td>\n",
       "      <td>True</td>\n",
       "      <td>False</td>\n",
       "      <td>Caucasian or White</td>\n",
       "      <td>-1531.0</td>\n",
       "      <td>2018-01-10 17:16:00</td>\n",
       "      <td>2017-12-18 21:16:00</td>\n",
       "      <td>True</td>\n",
       "      <td>4.991014e+10</td>\n",
       "      <td>7998.0</td>\n",
       "      <td>94.500000</td>\n",
       "      <td>92.4</td>\n",
       "      <td>2018-01-10 17:16:00</td>\n",
       "    </tr>\n",
       "    <tr>\n",
       "      <th>3</th>\n",
       "      <td>A140-0515603029</td>\n",
       "      <td>2018-01-10 16:50:29</td>\n",
       "      <td>2018-01-10 19:03:47</td>\n",
       "      <td>94166433.0</td>\n",
       "      <td>2018-01-10 16:50:12</td>\n",
       "      <td>2018-01-18 21:15:32</td>\n",
       "      <td>True</td>\n",
       "      <td>False</td>\n",
       "      <td>Caucasian or White</td>\n",
       "      <td>-1531.0</td>\n",
       "      <td>2018-01-10 17:16:00</td>\n",
       "      <td>2017-12-18 21:16:00</td>\n",
       "      <td>True</td>\n",
       "      <td>4.991014e+10</td>\n",
       "      <td>7998.0</td>\n",
       "      <td>96.000000</td>\n",
       "      <td>92.4</td>\n",
       "      <td>2018-01-10 18:16:00</td>\n",
       "    </tr>\n",
       "    <tr>\n",
       "      <th>4</th>\n",
       "      <td>A140-0515603029</td>\n",
       "      <td>2018-01-10 16:50:29</td>\n",
       "      <td>2018-01-10 19:03:47</td>\n",
       "      <td>94166433.0</td>\n",
       "      <td>2018-01-10 16:50:12</td>\n",
       "      <td>2018-01-18 21:15:32</td>\n",
       "      <td>True</td>\n",
       "      <td>False</td>\n",
       "      <td>Caucasian or White</td>\n",
       "      <td>-1531.0</td>\n",
       "      <td>2018-01-10 17:16:00</td>\n",
       "      <td>2017-12-18 21:16:00</td>\n",
       "      <td>True</td>\n",
       "      <td>4.991014e+10</td>\n",
       "      <td>7998.0</td>\n",
       "      <td>95.333333</td>\n",
       "      <td>92.4</td>\n",
       "      <td>2018-01-10 19:16:00</td>\n",
       "    </tr>\n",
       "    <tr>\n",
       "      <th>...</th>\n",
       "      <td>...</td>\n",
       "      <td>...</td>\n",
       "      <td>...</td>\n",
       "      <td>...</td>\n",
       "      <td>...</td>\n",
       "      <td>...</td>\n",
       "      <td>...</td>\n",
       "      <td>...</td>\n",
       "      <td>...</td>\n",
       "      <td>...</td>\n",
       "      <td>...</td>\n",
       "      <td>...</td>\n",
       "      <td>...</td>\n",
       "      <td>...</td>\n",
       "      <td>...</td>\n",
       "      <td>...</td>\n",
       "      <td>...</td>\n",
       "      <td>...</td>\n",
       "    </tr>\n",
       "    <tr>\n",
       "      <th>390021</th>\n",
       "      <td>A106-0515603020</td>\n",
       "      <td>2018-01-10 16:50:19</td>\n",
       "      <td>2018-03-09 03:01:20</td>\n",
       "      <td>26319659.0</td>\n",
       "      <td>2017-12-28 02:51:36</td>\n",
       "      <td>2018-03-07 13:20:00</td>\n",
       "      <td>False</td>\n",
       "      <td>True</td>\n",
       "      <td>African American  or Black</td>\n",
       "      <td>1741485.0</td>\n",
       "      <td>2017-12-21 13:05:34</td>\n",
       "      <td>2017-11-08 11:05:34</td>\n",
       "      <td>True</td>\n",
       "      <td>1.129628e+10</td>\n",
       "      <td>4961461.0</td>\n",
       "      <td>99.000000</td>\n",
       "      <td>97.3</td>\n",
       "      <td>2017-12-03 01:05:34</td>\n",
       "    </tr>\n",
       "    <tr>\n",
       "      <th>390022</th>\n",
       "      <td>A106-0515603020</td>\n",
       "      <td>2018-01-10 16:50:19</td>\n",
       "      <td>2018-03-09 03:01:20</td>\n",
       "      <td>26319659.0</td>\n",
       "      <td>2017-12-28 02:51:36</td>\n",
       "      <td>2018-03-07 13:20:00</td>\n",
       "      <td>False</td>\n",
       "      <td>True</td>\n",
       "      <td>African American  or Black</td>\n",
       "      <td>1741485.0</td>\n",
       "      <td>2017-12-21 13:05:34</td>\n",
       "      <td>2017-11-08 11:05:34</td>\n",
       "      <td>True</td>\n",
       "      <td>1.129628e+10</td>\n",
       "      <td>4961461.0</td>\n",
       "      <td>99.000000</td>\n",
       "      <td>97.3</td>\n",
       "      <td>2017-12-03 02:05:34</td>\n",
       "    </tr>\n",
       "    <tr>\n",
       "      <th>390023</th>\n",
       "      <td>A106-0515603020</td>\n",
       "      <td>2018-01-10 16:50:19</td>\n",
       "      <td>2018-03-09 03:01:20</td>\n",
       "      <td>26319659.0</td>\n",
       "      <td>2017-12-28 02:51:36</td>\n",
       "      <td>2018-03-07 13:20:00</td>\n",
       "      <td>False</td>\n",
       "      <td>True</td>\n",
       "      <td>African American  or Black</td>\n",
       "      <td>1741485.0</td>\n",
       "      <td>2017-12-21 13:05:34</td>\n",
       "      <td>2017-11-08 11:05:34</td>\n",
       "      <td>True</td>\n",
       "      <td>1.129628e+10</td>\n",
       "      <td>4961461.0</td>\n",
       "      <td>98.000000</td>\n",
       "      <td>97.3</td>\n",
       "      <td>2017-12-03 03:05:34</td>\n",
       "    </tr>\n",
       "    <tr>\n",
       "      <th>390024</th>\n",
       "      <td>A112-0515603023</td>\n",
       "      <td>2018-01-10 16:50:23</td>\n",
       "      <td>2018-03-02 16:11:07</td>\n",
       "      <td>21341087.0</td>\n",
       "      <td>2017-11-30 15:02:07</td>\n",
       "      <td>2018-03-02 08:48:00</td>\n",
       "      <td>True</td>\n",
       "      <td>False</td>\n",
       "      <td>Caucasian or White</td>\n",
       "      <td>-1636.0</td>\n",
       "      <td>2018-01-10 17:17:39</td>\n",
       "      <td>2017-11-25 14:17:39</td>\n",
       "      <td>True</td>\n",
       "      <td>1.042668e+10</td>\n",
       "      <td>4404044.0</td>\n",
       "      <td>NaN</td>\n",
       "      <td>NaN</td>\n",
       "      <td>NaT</td>\n",
       "    </tr>\n",
       "    <tr>\n",
       "      <th>390025</th>\n",
       "      <td>A052-0519140803</td>\n",
       "      <td>2018-02-20 15:33:22</td>\n",
       "      <td>2018-02-20 15:38:32</td>\n",
       "      <td>99044930.0</td>\n",
       "      <td>2017-10-22 12:42:38</td>\n",
       "      <td>2017-10-28 11:29:40</td>\n",
       "      <td>True</td>\n",
       "      <td>False</td>\n",
       "      <td>Caucasian or White</td>\n",
       "      <td>-3218438.0</td>\n",
       "      <td>2018-03-29 22:34:00</td>\n",
       "      <td>2018-03-29 22:34:00</td>\n",
       "      <td>True</td>\n",
       "      <td>5.685214e+10</td>\n",
       "      <td>310.0</td>\n",
       "      <td>NaN</td>\n",
       "      <td>NaN</td>\n",
       "      <td>NaT</td>\n",
       "    </tr>\n",
       "  </tbody>\n",
       "</table>\n",
       "<p>390026 rows × 18 columns</p>\n",
       "</div>"
      ],
      "text/plain": [
       "              deBedTime           DateStart             DateEnd      PAT_ID  \\\n",
       "0       A118-0520880083 2018-03-12 18:41:23 2018-03-12 23:13:00  18004189.0   \n",
       "1       A118-0520896395 2018-03-12 23:13:15 2018-03-15 03:19:11  18004189.0   \n",
       "2       A140-0515603029 2018-01-10 16:50:29 2018-01-10 19:03:47  94166433.0   \n",
       "3       A140-0515603029 2018-01-10 16:50:29 2018-01-10 19:03:47  94166433.0   \n",
       "4       A140-0515603029 2018-01-10 16:50:29 2018-01-10 19:03:47  94166433.0   \n",
       "...                 ...                 ...                 ...         ...   \n",
       "390021  A106-0515603020 2018-01-10 16:50:19 2018-03-09 03:01:20  26319659.0   \n",
       "390022  A106-0515603020 2018-01-10 16:50:19 2018-03-09 03:01:20  26319659.0   \n",
       "390023  A106-0515603020 2018-01-10 16:50:19 2018-03-09 03:01:20  26319659.0   \n",
       "390024  A112-0515603023 2018-01-10 16:50:23 2018-03-02 16:11:07  21341087.0   \n",
       "390025  A052-0519140803 2018-02-20 15:33:22 2018-02-20 15:38:32  99044930.0   \n",
       "\n",
       "        BED_LOCATION_START    BED_LOCATION_END  White  Black  \\\n",
       "0      2018-03-12 18:41:39 2018-03-14 20:20:00  False   True   \n",
       "1      2018-03-12 18:41:39 2018-03-14 20:20:00  False   True   \n",
       "2      2018-01-10 16:50:12 2018-01-18 21:15:32   True  False   \n",
       "3      2018-01-10 16:50:12 2018-01-18 21:15:32   True  False   \n",
       "4      2018-01-10 16:50:12 2018-01-18 21:15:32   True  False   \n",
       "...                    ...                 ...    ...    ...   \n",
       "390021 2017-12-28 02:51:36 2018-03-07 13:20:00  False   True   \n",
       "390022 2017-12-28 02:51:36 2018-03-07 13:20:00  False   True   \n",
       "390023 2017-12-28 02:51:36 2018-03-07 13:20:00  False   True   \n",
       "390024 2017-11-30 15:02:07 2018-03-02 08:48:00   True  False   \n",
       "390025 2017-10-22 12:42:38 2017-10-28 11:29:40   True  False   \n",
       "\n",
       "                       Race String  Time Difference           Time Found  \\\n",
       "0       African American  or Black           1235.0  2018-03-12 18:20:48   \n",
       "1       African American  or Black           -453.0  2018-03-12 23:20:48   \n",
       "2               Caucasian or White          -1531.0  2018-01-10 17:16:00   \n",
       "3               Caucasian or White          -1531.0  2018-01-10 17:16:00   \n",
       "4               Caucasian or White          -1531.0  2018-01-10 17:16:00   \n",
       "...                            ...              ...                  ...   \n",
       "390021  African American  or Black        1741485.0  2017-12-21 13:05:34   \n",
       "390022  African American  or Black        1741485.0  2017-12-21 13:05:34   \n",
       "390023  African American  or Black        1741485.0  2017-12-21 13:05:34   \n",
       "390024          Caucasian or White          -1636.0  2018-01-10 17:17:39   \n",
       "390025          Caucasian or White       -3218438.0  2018-03-29 22:34:00   \n",
       "\n",
       "            True Time Found  CSN Exist Flag           CSN  \\\n",
       "0       2018-03-12 11:20:48            True  3.967156e+10   \n",
       "1       2018-03-12 11:20:48            True  3.967156e+10   \n",
       "2       2017-12-18 21:16:00            True  4.991014e+10   \n",
       "3       2017-12-18 21:16:00            True  4.991014e+10   \n",
       "4       2017-12-18 21:16:00            True  4.991014e+10   \n",
       "...                     ...             ...           ...   \n",
       "390021  2017-11-08 11:05:34            True  1.129628e+10   \n",
       "390022  2017-11-08 11:05:34            True  1.129628e+10   \n",
       "390023  2017-11-08 11:05:34            True  1.129628e+10   \n",
       "390024  2017-11-25 14:17:39            True  1.042668e+10   \n",
       "390025  2018-03-29 22:34:00            True  5.685214e+10   \n",
       "\n",
       "        BED Time Difference       spo2  sao2               times  \n",
       "0                   16297.0        NaN   NaN                 NaT  \n",
       "1                  187556.0        NaN   NaN                 NaT  \n",
       "2                    7998.0  94.500000  92.4 2018-01-10 17:16:00  \n",
       "3                    7998.0  96.000000  92.4 2018-01-10 18:16:00  \n",
       "4                    7998.0  95.333333  92.4 2018-01-10 19:16:00  \n",
       "...                     ...        ...   ...                 ...  \n",
       "390021            4961461.0  99.000000  97.3 2017-12-03 01:05:34  \n",
       "390022            4961461.0  99.000000  97.3 2017-12-03 02:05:34  \n",
       "390023            4961461.0  98.000000  97.3 2017-12-03 03:05:34  \n",
       "390024            4404044.0        NaN   NaN                 NaT  \n",
       "390025                310.0        NaN   NaN                 NaT  \n",
       "\n",
       "[390026 rows x 18 columns]"
      ]
     },
     "execution_count": 26,
     "metadata": {},
     "output_type": "execute_result"
    }
   ],
   "source": [
    "df_merged = df_ind.merge(df_oxygen_sat[['spo2', 'sao2', 'times', 'PAT_ID', 'CSN']], on=['CSN', 'PAT_ID'], how='outer')\n",
    "df_merged"
   ]
  },
  {
   "cell_type": "code",
   "execution_count": 27,
   "id": "b56b8232-b640-4b5a-9b38-740208aee634",
   "metadata": {},
   "outputs": [
    {
     "data": {
      "text/plain": [
       "0.030838969709711662"
      ]
     },
     "execution_count": 27,
     "metadata": {},
     "output_type": "execute_result"
    }
   ],
   "source": [
    "(df_merged['DateEnd']=='1969-12-31 23:59:58').mean()"
   ]
  },
  {
   "cell_type": "code",
   "execution_count": 28,
   "id": "0b1cba32-8ed4-4014-ad9b-ce5fdb100f72",
   "metadata": {},
   "outputs": [
    {
     "data": {
      "text/plain": [
       "0.9691610302902883"
      ]
     },
     "execution_count": 28,
     "metadata": {},
     "output_type": "execute_result"
    }
   ],
   "source": [
    "(df_merged['DateEnd']>'1970-12-31 23:59:58').mean()"
   ]
  },
  {
   "cell_type": "code",
   "execution_count": null,
   "id": "0f4226be-67c1-4a72-8b1f-f4b3251a0a7c",
   "metadata": {},
   "outputs": [],
   "source": [
    "\n"
   ]
  },
  {
   "cell_type": "code",
   "execution_count": null,
   "id": "b3dfc891-af67-42d9-9fe4-57bc74323273",
   "metadata": {},
   "outputs": [],
   "source": [
    "\n"
   ]
  },
  {
   "cell_type": "code",
   "execution_count": 29,
   "id": "4aaa4715-5660-4877-a77c-2e1cfed3f30e",
   "metadata": {},
   "outputs": [],
   "source": [
    "# df_merged[(df_merged['PAT_ID']==PAT_ID) & (df_merged['deBedTime']=='A140-0515603029')]"
   ]
  },
  {
   "cell_type": "markdown",
   "id": "1180c4ab-8cb4-42b6-b556-d41c3d708ba0",
   "metadata": {
    "tags": []
   },
   "source": [
    "# But simply merging them using PAT_ID is not ideal: same PAT_ID may have several deBedTime\n",
    "## need to filter out rows incorrectly align by checking the timing\n",
    "## only associate the demographic data to the ox sat. data when the timing match"
   ]
  },
  {
   "cell_type": "code",
   "execution_count": 30,
   "id": "be0ebf41-1c5e-4972-bd47-5fe060ca596b",
   "metadata": {},
   "outputs": [],
   "source": [
    "DateStart = pd.to_datetime(df_merged['DateStart'], format=\"%Y-%m-%d %H:%M:%S\") # str to datetime\n",
    "DateEnd = pd.to_datetime(df_merged['DateEnd'], format=\"%Y-%m-%d %H:%M:%S\")\n",
    "times = pd.to_datetime(df_merged['times'], format=\"%Y-%m-%d %H:%M:%S\")"
   ]
  },
  {
   "cell_type": "code",
   "execution_count": 31,
   "id": "164bd90a-859e-495e-9dd1-2f47c1e4ee00",
   "metadata": {},
   "outputs": [],
   "source": [
    "# timedelta: int to datetime\n",
    "mask = (times-timedelta(minutes=min_threshold) >= DateStart) & (times+timedelta(minutes=min_threshold) <= DateEnd)\n",
    "df_merged = df_merged[mask]"
   ]
  },
  {
   "cell_type": "code",
   "execution_count": 32,
   "id": "3a272181-fe1a-4c65-a713-0a84b86d46c6",
   "metadata": {},
   "outputs": [
    {
     "name": "stdout",
     "output_type": "stream",
     "text": [
      "0.3821847774250947\n"
     ]
    }
   ],
   "source": [
    "print(mask.mean())"
   ]
  },
  {
   "cell_type": "code",
   "execution_count": 33,
   "id": "83f0f0c1-b329-4cb9-814b-8c8c6c29034f",
   "metadata": {},
   "outputs": [
    {
     "data": {
      "text/plain": [
       "(2117,)"
      ]
     },
     "execution_count": 33,
     "metadata": {},
     "output_type": "execute_result"
    }
   ],
   "source": [
    "df_merged['CSN'].unique().shape"
   ]
  },
  {
   "cell_type": "code",
   "execution_count": 34,
   "id": "c381e769-660b-48bf-a0c8-bd96db926910",
   "metadata": {},
   "outputs": [
    {
     "data": {
      "text/plain": [
       "(2011,)"
      ]
     },
     "execution_count": 34,
     "metadata": {},
     "output_type": "execute_result"
    }
   ],
   "source": [
    "df_merged['PAT_ID'].unique().shape"
   ]
  },
  {
   "cell_type": "code",
   "execution_count": null,
   "id": "8845f754-b0b2-4617-9fc6-fd472bb1195a",
   "metadata": {},
   "outputs": [],
   "source": []
  },
  {
   "cell_type": "code",
   "execution_count": null,
   "id": "bcf35b81-54be-4960-9b4f-0b05d1e64ad8",
   "metadata": {},
   "outputs": [],
   "source": []
  },
  {
   "cell_type": "code",
   "execution_count": null,
   "id": "57711491-b91e-4978-8b1d-d950ce35f7bf",
   "metadata": {},
   "outputs": [],
   "source": []
  },
  {
   "cell_type": "code",
   "execution_count": 35,
   "id": "2e7097d3-785a-4fd2-9d1a-b14b58ec24b1",
   "metadata": {},
   "outputs": [],
   "source": [
    "# df_merged"
   ]
  },
  {
   "cell_type": "code",
   "execution_count": 36,
   "id": "b733cbb6-aa21-47f4-9071-55d6fa549d6d",
   "metadata": {},
   "outputs": [],
   "source": [
    "# CSN = df_merged['CSN'].values[0]"
   ]
  },
  {
   "cell_type": "code",
   "execution_count": 37,
   "id": "96212ea6-5baa-4508-b23f-02bfe716dd67",
   "metadata": {},
   "outputs": [],
   "source": [
    "# PAT_ID = df_merged['PAT_ID'].unique()[20]\n",
    "# df = df_merged[df_merged['PAT_ID']==PAT_ID]\n",
    "# df"
   ]
  },
  {
   "cell_type": "code",
   "execution_count": null,
   "id": "80f924f2-bb70-4175-b900-408e326b75df",
   "metadata": {},
   "outputs": [],
   "source": []
  },
  {
   "cell_type": "code",
   "execution_count": 38,
   "id": "d10d8195-d829-482c-adb6-7fd5ed2ac3c4",
   "metadata": {},
   "outputs": [],
   "source": [
    "# df_oxygen_sat[df_oxygen_sat['PAT_ID']==PAT_ID]"
   ]
  },
  {
   "cell_type": "code",
   "execution_count": 39,
   "id": "f9486eda-5aec-4ff7-8b5e-629e9b7dc6eb",
   "metadata": {},
   "outputs": [],
   "source": [
    "# df_ind[df_ind['PAT_ID']==PAT_ID]"
   ]
  },
  {
   "cell_type": "code",
   "execution_count": null,
   "id": "d8cb49cc-f458-4203-aa07-c8e944b0cd23",
   "metadata": {},
   "outputs": [],
   "source": []
  },
  {
   "cell_type": "code",
   "execution_count": null,
   "id": "c14ce716-73cc-4036-9843-fce6cb50eb74",
   "metadata": {},
   "outputs": [],
   "source": []
  },
  {
   "cell_type": "code",
   "execution_count": 40,
   "id": "06397982-9d17-4d38-a874-13ff82f54419",
   "metadata": {},
   "outputs": [],
   "source": [
    "# CSN = df_ind['CSN'].values[0]"
   ]
  },
  {
   "cell_type": "code",
   "execution_count": 41,
   "id": "3ec40fde-e351-478d-a156-cffbac956dac",
   "metadata": {},
   "outputs": [],
   "source": [
    "# df_oxygen_sat[df_oxygen_sat['csn']==CSN]"
   ]
  },
  {
   "cell_type": "code",
   "execution_count": 42,
   "id": "77c324e4-b6cc-4ab5-a6bf-c9760abf5aff",
   "metadata": {},
   "outputs": [],
   "source": [
    "# df_oxygen_sat"
   ]
  },
  {
   "cell_type": "code",
   "execution_count": 43,
   "id": "9cc25253-f433-4313-95ae-28c9dafb70a1",
   "metadata": {},
   "outputs": [],
   "source": [
    "# df_combined = "
   ]
  },
  {
   "cell_type": "code",
   "execution_count": null,
   "id": "f73033be-0f7b-4a20-b942-a731d65784f2",
   "metadata": {},
   "outputs": [],
   "source": []
  },
  {
   "cell_type": "code",
   "execution_count": 44,
   "id": "61722248-ae54-4f58-86b1-5e6f2b343e20",
   "metadata": {},
   "outputs": [],
   "source": [
    "# for PAT_ID in df_oxygen_sat['PAT_ID'].unique():\n",
    "#     df_pat = df_oxygen_sat[df_oxygen_sat['PAT_ID']==PAT_ID]\n",
    "#     sys.exit()\n",
    "    "
   ]
  },
  {
   "cell_type": "code",
   "execution_count": 45,
   "id": "82b499aa-89e5-4d1f-ae79-6b27125b1c13",
   "metadata": {},
   "outputs": [],
   "source": [
    "# df_pat = df_oxygen_sat[df_oxygen_sat['pat_id']==PAT_ID]"
   ]
  },
  {
   "cell_type": "code",
   "execution_count": 46,
   "id": "bf3472e0-1ad3-45f8-ba83-6c726692a93c",
   "metadata": {},
   "outputs": [],
   "source": [
    "# df_pat/"
   ]
  },
  {
   "cell_type": "code",
   "execution_count": null,
   "id": "6139fd0d-aad8-4d91-9655-f8a74d01896b",
   "metadata": {},
   "outputs": [],
   "source": []
  },
  {
   "cell_type": "code",
   "execution_count": null,
   "id": "46445b83-7146-41a3-bf00-2d1150cb08b9",
   "metadata": {},
   "outputs": [],
   "source": []
  },
  {
   "cell_type": "code",
   "execution_count": null,
   "id": "a5a2dc22-6369-47a7-9d51-89132cbb84e8",
   "metadata": {},
   "outputs": [],
   "source": []
  },
  {
   "cell_type": "code",
   "execution_count": null,
   "id": "e889774c-7790-458e-b831-57063cc83c47",
   "metadata": {},
   "outputs": [],
   "source": []
  },
  {
   "cell_type": "code",
   "execution_count": 47,
   "id": "a8f773a6-0d6f-4c93-971d-f3a009c1a863",
   "metadata": {},
   "outputs": [],
   "source": [
    "# can't move to dataIO.py\n",
    "def get_header_valid(inputdir_rec):\n",
    "\n",
    "    for header_name in sorted(os.listdir(inputdir_rec)):\n",
    "        if '.hea' not in header_name:\n",
    "            continue\n",
    "\n",
    "        if '_' not in header_name:\n",
    "            continue\n",
    "\n",
    "        if '_0n' in header_name:\n",
    "            continue\n",
    "        if 'layout' in header_name:\n",
    "            continue\n",
    "\n",
    "        # print(header_name)\n",
    "        headerdir = inputdir_rec + header_name\n",
    "\n",
    "\n",
    "        header_id = header_name.split('_')[-1].split('.hea')[0]\n",
    "\n",
    "\n",
    "        with open(headerdir, 'r') as f:\n",
    "            header = f.readlines()\n",
    "\n",
    "        header_dict = header_extract(header)\n",
    "\n",
    "\n",
    "        allheader_hours = int(header_id)*8\n",
    "        currentheader_hours = header_dict['t_dur(hr)']\n",
    "\n",
    "        # waveform_start = row['BED_LOCATION_START'] + timedelta(hours=allheader_hours)\n",
    "        # waveform_end = row['BED_LOCATION_START'] + timedelta(hours=allheader_hours) + timedelta(hours=currentheader_hours)\n",
    "\n",
    "        # using DateStart since it is the start time of the waveform\n",
    "        waveform_start = row['DateStart'] + timedelta(hours=allheader_hours)\n",
    "        waveform_end = row['DateStart'] + timedelta(hours=allheader_hours) + timedelta(hours=currentheader_hours)\n",
    "\n",
    "        header_dict['waveform_start'] = waveform_start\n",
    "        header_dict['waveform_end'] = waveform_end\n",
    "        header_dict['header_name'] = header_name\n",
    "        header_dict['header_id'] = header_id\n",
    "\n",
    "        if (waveform_start > row['times']) or (waveform_end < row['times']):\n",
    "            # print('wrong recording')\n",
    "            continue\n",
    "        else:\n",
    "            # print(header_start, header_end, row['times'])\n",
    "            # print('bingo!')\n",
    "            return header_dict\n",
    "\n",
    "\n",
    "        return None\n",
    "        # print('\\t', header_dict['start_time'], header_dict['date'])\n",
    "\n",
    "    # header_id = header_name.split('_')[-1]"
   ]
  },
  {
   "cell_type": "code",
   "execution_count": null,
   "id": "28136d85-0a38-4c4c-8673-186aa73f3dc5",
   "metadata": {},
   "outputs": [],
   "source": []
  },
  {
   "cell_type": "code",
   "execution_count": 48,
   "id": "b0489ac0-acdf-407c-bf20-3c41f1ef86ad",
   "metadata": {},
   "outputs": [],
   "source": [
    "# df_merged.shape\n",
    "\n",
    "# # df_merged['PAT_ID'].unique().shape"
   ]
  },
  {
   "cell_type": "code",
   "execution_count": 49,
   "id": "0460c35c-d1ae-4595-9a07-54b9bd589fe1",
   "metadata": {},
   "outputs": [
    {
     "name": "stdout",
     "output_type": "stream",
     "text": [
      "\n",
      "==================  working on rec_id: A140-0515603029 ==================\n"
     ]
    },
    {
     "name": "stderr",
     "output_type": "stream",
     "text": [
      "/opt/rh/rh-python38/root/usr/local/lib64/python3.8/site-packages/numpy/core/fromnumeric.py:3440: RuntimeWarning: Mean of empty slice.\n",
      "  return _methods._mean(a, axis=axis, dtype=dtype,\n",
      "/opt/rh/rh-python38/root/usr/local/lib64/python3.8/site-packages/numpy/core/_methods.py:189: RuntimeWarning: invalid value encountered in double_scalars\n",
      "  ret = ret.dtype.type(ret / rcount)\n"
     ]
    },
    {
     "name": "stdout",
     "output_type": "stream",
     "text": [
      "\t\textracting features\n",
      "\tsignals are too noisy\n",
      "\n",
      "==================  working on rec_id: A140-0515603029 ==================\n",
      "SPO2 channel is too quiet\n",
      "\n",
      "==================  working on rec_id: A140-0515620983 ==================\n"
     ]
    },
    {
     "name": "stderr",
     "output_type": "stream",
     "text": [
      "/opt/rh/rh-python38/root/usr/local/lib64/python3.8/site-packages/numpy/core/fromnumeric.py:3440: RuntimeWarning: Mean of empty slice.\n",
      "  return _methods._mean(a, axis=axis, dtype=dtype,\n",
      "/opt/rh/rh-python38/root/usr/local/lib64/python3.8/site-packages/numpy/core/_methods.py:189: RuntimeWarning: invalid value encountered in double_scalars\n",
      "  ret = ret.dtype.type(ret / rcount)\n"
     ]
    },
    {
     "name": "stdout",
     "output_type": "stream",
     "text": [
      "\t\textracting features\n",
      "\tsignals are too noisy\n",
      "\n",
      "==================  working on rec_id: A140-0515620983 ==================\n",
      "SPO2 channel is too quiet\n",
      "\n",
      "==================  working on rec_id: A140-0515620983 ==================\n",
      "SPO2 channel is too quiet\n",
      "\n",
      "==================  working on rec_id: A140-0515620983 ==================\n",
      "SPO2 channel is too quiet\n",
      "\n",
      "==================  working on rec_id: A140-0515620983 ==================\n",
      "SPO2 channel is too quiet\n",
      "\n",
      "==================  working on rec_id: A140-0515620983 ==================\n",
      "SPO2 channel is too quiet\n",
      "\n",
      "==================  working on rec_id: A140-0515620983 ==================\n",
      "SPO2 channel is too quiet\n",
      "\n",
      "==================  working on rec_id: A140-0515620983 ==================\n",
      "SPO2 channel is too quiet\n",
      "\n",
      "==================  working on rec_id: A140-0515620983 ==================\n"
     ]
    },
    {
     "name": "stderr",
     "output_type": "stream",
     "text": [
      "/opt/rh/rh-python38/root/usr/local/lib64/python3.8/site-packages/numpy/core/fromnumeric.py:3440: RuntimeWarning: Mean of empty slice.\n",
      "  return _methods._mean(a, axis=axis, dtype=dtype,\n",
      "/opt/rh/rh-python38/root/usr/local/lib64/python3.8/site-packages/numpy/core/_methods.py:189: RuntimeWarning: invalid value encountered in double_scalars\n",
      "  ret = ret.dtype.type(ret / rcount)\n"
     ]
    },
    {
     "name": "stdout",
     "output_type": "stream",
     "text": [
      "\t\textracting features\n",
      "\tsignals are too noisy\n",
      "\n",
      "==================  working on rec_id: A140-0515620983 ==================\n",
      "SPO2 channel is too quiet\n",
      "\n",
      "==================  working on rec_id: A140-0515620983 ==================\n",
      "SPO2 channel is too quiet\n",
      "\n",
      "==================  working on rec_id: A140-0515620983 ==================\n",
      "SPO2 channel is too quiet\n",
      "\n",
      "==================  working on rec_id: A140-0515620983 ==================\n",
      "SPO2 channel is too quiet\n",
      "\n",
      "==================  working on rec_id: A140-0515620983 ==================\n",
      "SPO2 channel is too quiet\n",
      "\n",
      "==================  working on rec_id: A140-0515620983 ==================\n",
      "SPO2 channel is too quiet\n",
      "\n",
      "==================  working on rec_id: A140-0515620983 ==================\n",
      "SPO2 channel is too quiet\n",
      "\n",
      "==================  working on rec_id: A140-0515620983 ==================\n"
     ]
    },
    {
     "name": "stderr",
     "output_type": "stream",
     "text": [
      "/opt/rh/rh-python38/root/usr/local/lib64/python3.8/site-packages/numpy/core/fromnumeric.py:3440: RuntimeWarning: Mean of empty slice.\n",
      "  return _methods._mean(a, axis=axis, dtype=dtype,\n",
      "/opt/rh/rh-python38/root/usr/local/lib64/python3.8/site-packages/numpy/core/_methods.py:189: RuntimeWarning: invalid value encountered in double_scalars\n",
      "  ret = ret.dtype.type(ret / rcount)\n"
     ]
    },
    {
     "name": "stdout",
     "output_type": "stream",
     "text": [
      "\t\textracting features\n",
      "\tsignals are too noisy\n",
      "\n",
      "==================  working on rec_id: A140-0515620983 ==================\n",
      "SPO2 channel is too quiet\n",
      "\n",
      "==================  working on rec_id: A140-0515620983 ==================\n",
      "SPO2 channel is too quiet\n",
      "\n",
      "==================  working on rec_id: A140-0515620983 ==================\n",
      "SPO2 channel is too quiet\n",
      "\n",
      "==================  working on rec_id: A140-0515620983 ==================\n",
      "SPO2 channel is too quiet\n",
      "\n",
      "==================  working on rec_id: A140-0515620983 ==================\n",
      "SPO2 channel is too quiet\n",
      "\n",
      "==================  working on rec_id: A140-0515620983 ==================\n",
      "SPO2 channel is too quiet\n",
      "\n",
      "==================  working on rec_id: A140-0515620983 ==================\n",
      "SPO2 channel is too quiet\n",
      "\n",
      "==================  working on rec_id: A140-0515620983 ==================\n"
     ]
    },
    {
     "name": "stderr",
     "output_type": "stream",
     "text": [
      "/opt/rh/rh-python38/root/usr/local/lib64/python3.8/site-packages/numpy/core/fromnumeric.py:3440: RuntimeWarning: Mean of empty slice.\n",
      "  return _methods._mean(a, axis=axis, dtype=dtype,\n",
      "/opt/rh/rh-python38/root/usr/local/lib64/python3.8/site-packages/numpy/core/_methods.py:189: RuntimeWarning: invalid value encountered in double_scalars\n",
      "  ret = ret.dtype.type(ret / rcount)\n"
     ]
    },
    {
     "name": "stdout",
     "output_type": "stream",
     "text": [
      "\t\textracting features\n",
      "\tsignals are too noisy\n",
      "\n",
      "==================  working on rec_id: A140-0515620983 ==================\n",
      "SPO2 channel is too quiet\n",
      "\n",
      "==================  working on rec_id: A140-0515620983 ==================\n",
      "SPO2 channel is too quiet\n",
      "\n",
      "==================  working on rec_id: A140-0515620983 ==================\n",
      "SPO2 channel is too quiet\n",
      "\n",
      "==================  working on rec_id: A140-0515620983 ==================\n",
      "SPO2 channel is too quiet\n",
      "\n",
      "==================  working on rec_id: A140-0515620983 ==================\n",
      "SPO2 channel is too quiet\n",
      "\n",
      "==================  working on rec_id: A140-0515620983 ==================\n",
      "SPO2 channel is too quiet\n",
      "\n",
      "==================  working on rec_id: A140-0515620983 ==================\n",
      "SPO2 channel is too quiet\n",
      "\n",
      "==================  working on rec_id: A140-0515620983 ==================\n"
     ]
    },
    {
     "name": "stderr",
     "output_type": "stream",
     "text": [
      "/opt/rh/rh-python38/root/usr/local/lib64/python3.8/site-packages/numpy/core/fromnumeric.py:3440: RuntimeWarning: Mean of empty slice.\n",
      "  return _methods._mean(a, axis=axis, dtype=dtype,\n",
      "/opt/rh/rh-python38/root/usr/local/lib64/python3.8/site-packages/numpy/core/_methods.py:189: RuntimeWarning: invalid value encountered in double_scalars\n",
      "  ret = ret.dtype.type(ret / rcount)\n"
     ]
    },
    {
     "name": "stdout",
     "output_type": "stream",
     "text": [
      "\t\textracting features\n",
      "\tsignals are too noisy\n",
      "\n",
      "==================  working on rec_id: A140-0515620983 ==================\n",
      "SPO2 channel is too quiet\n",
      "\n",
      "==================  working on rec_id: A140-0515620983 ==================\n",
      "SPO2 channel is too quiet\n",
      "\n",
      "==================  working on rec_id: A140-0515620983 ==================\n",
      "SPO2 channel is too quiet\n",
      "\n",
      "==================  working on rec_id: A140-0515620983 ==================\n",
      "SPO2 channel is too quiet\n",
      "\n",
      "==================  working on rec_id: A140-0515620983 ==================\n",
      "SPO2 channel is too quiet\n",
      "\n",
      "==================  working on rec_id: A140-0515620983 ==================\n",
      "SPO2 channel is too quiet\n",
      "\n",
      "==================  working on rec_id: A140-0515620983 ==================\n",
      "SPO2 channel is too quiet\n",
      "\n",
      "==================  working on rec_id: A140-0515620983 ==================\n"
     ]
    },
    {
     "name": "stderr",
     "output_type": "stream",
     "text": [
      "/opt/rh/rh-python38/root/usr/local/lib64/python3.8/site-packages/numpy/core/fromnumeric.py:3440: RuntimeWarning: Mean of empty slice.\n",
      "  return _methods._mean(a, axis=axis, dtype=dtype,\n",
      "/opt/rh/rh-python38/root/usr/local/lib64/python3.8/site-packages/numpy/core/_methods.py:189: RuntimeWarning: invalid value encountered in double_scalars\n",
      "  ret = ret.dtype.type(ret / rcount)\n"
     ]
    },
    {
     "name": "stdout",
     "output_type": "stream",
     "text": [
      "\t\textracting features\n",
      "\tsignals are too noisy\n",
      "\n",
      "==================  working on rec_id: A140-0515620983 ==================\n",
      "SPO2 channel is too quiet\n",
      "\n",
      "==================  working on rec_id: A140-0515620983 ==================\n",
      "SPO2 channel is too quiet\n",
      "\n",
      "==================  working on rec_id: A140-0515620983 ==================\n",
      "SPO2 channel is too quiet\n",
      "\n",
      "==================  working on rec_id: A140-0515620983 ==================\n",
      "SPO2 channel is too quiet\n",
      "\n",
      "==================  working on rec_id: A140-0515620983 ==================\n",
      "SPO2 channel is too quiet\n",
      "\n",
      "==================  working on rec_id: A140-0515620983 ==================\n",
      "SPO2 channel is too quiet\n",
      "\n",
      "==================  working on rec_id: A140-0515620983 ==================\n",
      "SPO2 channel is too quiet\n",
      "\n",
      "==================  working on rec_id: A140-0515620983 ==================\n"
     ]
    },
    {
     "name": "stderr",
     "output_type": "stream",
     "text": [
      "/opt/rh/rh-python38/root/usr/local/lib64/python3.8/site-packages/numpy/core/fromnumeric.py:3440: RuntimeWarning: Mean of empty slice.\n",
      "  return _methods._mean(a, axis=axis, dtype=dtype,\n",
      "/opt/rh/rh-python38/root/usr/local/lib64/python3.8/site-packages/numpy/core/_methods.py:189: RuntimeWarning: invalid value encountered in double_scalars\n",
      "  ret = ret.dtype.type(ret / rcount)\n"
     ]
    },
    {
     "name": "stdout",
     "output_type": "stream",
     "text": [
      "\t\textracting features\n",
      "\tsignals are too noisy\n",
      "\n",
      "==================  working on rec_id: A088-0516752917 ==================\n",
      "SPO2 channel is too quiet\n",
      "\n",
      "==================  working on rec_id: A088-0516752917 ==================\n",
      "SPO2 channel is too quiet\n",
      "\n",
      "==================  working on rec_id: A088-0516752917 ==================\n",
      "SPO2 channel is too quiet\n",
      "\n",
      "==================  working on rec_id: A088-0516752917 ==================\n",
      "SPO2 channel is too quiet\n",
      "\n",
      "==================  working on rec_id: A088-0516752917 ==================\n",
      "\t\textracting features\n",
      "\tsignals are too noisy\n",
      "\n",
      "==================  working on rec_id: A088-0516752917 ==================\n",
      "SPO2 channel is too quiet\n",
      "\n",
      "==================  working on rec_id: A088-0516752917 ==================\n",
      "SPO2 channel is too quiet\n",
      "\n",
      "==================  working on rec_id: A088-0516752917 ==================\n"
     ]
    },
    {
     "name": "stderr",
     "output_type": "stream",
     "text": [
      "/opt/rh/rh-python38/root/usr/local/lib64/python3.8/site-packages/numpy/core/fromnumeric.py:3440: RuntimeWarning: Mean of empty slice.\n",
      "  return _methods._mean(a, axis=axis, dtype=dtype,\n",
      "/opt/rh/rh-python38/root/usr/local/lib64/python3.8/site-packages/numpy/core/_methods.py:189: RuntimeWarning: invalid value encountered in double_scalars\n",
      "  ret = ret.dtype.type(ret / rcount)\n"
     ]
    },
    {
     "name": "stdout",
     "output_type": "stream",
     "text": [
      "\t\textracting features\n",
      "\tsignals are too noisy\n",
      "\n",
      "==================  working on rec_id: A088-0516752917 ==================\n",
      "SPO2 channel is too quiet\n",
      "\n",
      "==================  working on rec_id: A088-0516752917 ==================\n",
      "SPO2 channel is too quiet\n",
      "\n",
      "==================  working on rec_id: A088-0516752917 ==================\n",
      "SPO2 channel is too quiet\n",
      "\n",
      "==================  working on rec_id: A088-0516752917 ==================\n",
      "SPO2 channel is too quiet\n",
      "\n",
      "==================  working on rec_id: A088-0516752917 ==================\n",
      "SPO2 channel is too quiet\n",
      "\n",
      "==================  working on rec_id: A088-0516752917 ==================\n",
      "SPO2 channel is too quiet\n",
      "\n",
      "==================  working on rec_id: A088-0516752917 ==================\n",
      "SPO2 channel is too quiet\n",
      "\n",
      "==================  working on rec_id: A088-0516752917 ==================\n"
     ]
    },
    {
     "name": "stderr",
     "output_type": "stream",
     "text": [
      "/opt/rh/rh-python38/root/usr/local/lib64/python3.8/site-packages/numpy/core/fromnumeric.py:3440: RuntimeWarning: Mean of empty slice.\n",
      "  return _methods._mean(a, axis=axis, dtype=dtype,\n",
      "/opt/rh/rh-python38/root/usr/local/lib64/python3.8/site-packages/numpy/core/_methods.py:189: RuntimeWarning: invalid value encountered in double_scalars\n",
      "  ret = ret.dtype.type(ret / rcount)\n"
     ]
    },
    {
     "name": "stdout",
     "output_type": "stream",
     "text": [
      "\t\textracting features\n",
      "\tsignals are too noisy\n",
      "\n",
      "==================  working on rec_id: A088-0516752917 ==================\n",
      "SPO2 channel is too quiet\n",
      "\n",
      "==================  working on rec_id: A088-0516752917 ==================\n",
      "SPO2 channel is too quiet\n",
      "\n",
      "==================  working on rec_id: A088-0516752917 ==================\n",
      "SPO2 channel is too quiet\n",
      "\n",
      "==================  working on rec_id: A088-0516752917 ==================\n",
      "SPO2 channel is too quiet\n",
      "\n",
      "==================  working on rec_id: A088-0516752917 ==================\n",
      "SPO2 channel is too quiet\n",
      "\n",
      "==================  working on rec_id: A088-0516752917 ==================\n",
      "SPO2 channel is too quiet\n",
      "\n",
      "==================  working on rec_id: A088-0516752917 ==================\n",
      "SPO2 channel is too quiet\n",
      "\n",
      "==================  working on rec_id: A088-0516752917 ==================\n"
     ]
    },
    {
     "name": "stderr",
     "output_type": "stream",
     "text": [
      "/opt/rh/rh-python38/root/usr/local/lib64/python3.8/site-packages/numpy/core/fromnumeric.py:3440: RuntimeWarning: Mean of empty slice.\n",
      "  return _methods._mean(a, axis=axis, dtype=dtype,\n",
      "/opt/rh/rh-python38/root/usr/local/lib64/python3.8/site-packages/numpy/core/_methods.py:189: RuntimeWarning: invalid value encountered in double_scalars\n",
      "  ret = ret.dtype.type(ret / rcount)\n"
     ]
    },
    {
     "name": "stdout",
     "output_type": "stream",
     "text": [
      "\t\textracting features\n",
      "\tsignals are too noisy\n",
      "\n",
      "==================  working on rec_id: A088-0516752917 ==================\n",
      "SPO2 channel is too quiet\n",
      "\n",
      "==================  working on rec_id: A028-0495319861 ==================\n",
      "\t\textracting features\n",
      "\tsignals are too noisy\n",
      "\n",
      "==================  working on rec_id: A028-0495319861 ==================\n",
      "III channel is too quiet\n",
      "\n",
      "==================  working on rec_id: A028-0495319861 ==================\n",
      "SPO2 channel is too quiet\n",
      "\n",
      "==================  working on rec_id: A028-0495319861 ==================\n",
      "\t\textracting features\n",
      "\tsignals are too noisy\n",
      "\n",
      "==================  working on rec_id: A028-0495319861 ==================\n"
     ]
    },
    {
     "name": "stderr",
     "output_type": "stream",
     "text": [
      "/opt/rh/rh-python38/root/usr/local/lib64/python3.8/site-packages/numpy/core/fromnumeric.py:3440: RuntimeWarning: Mean of empty slice.\n",
      "  return _methods._mean(a, axis=axis, dtype=dtype,\n",
      "/opt/rh/rh-python38/root/usr/local/lib64/python3.8/site-packages/numpy/core/_methods.py:189: RuntimeWarning: invalid value encountered in double_scalars\n",
      "  ret = ret.dtype.type(ret / rcount)\n"
     ]
    },
    {
     "name": "stdout",
     "output_type": "stream",
     "text": [
      "\t\textracting features\n",
      "\tsignals are too noisy\n",
      "\n",
      "==================  working on rec_id: A028-0495319861 ==================\n",
      "V channel is too quiet\n",
      "\n",
      "==================  working on rec_id: A028-0495319861 ==================\n",
      "SPO2 channel is too quiet\n",
      "\n",
      "==================  working on rec_id: A028-0495319861 ==================\n",
      "V channel is too quiet\n",
      "\n",
      "==================  working on rec_id: A028-0495319861 ==================\n",
      "V channel is too quiet\n",
      "\n",
      "==================  working on rec_id: A028-0495319861 ==================\n",
      "\t\textracting features\n",
      "\tsignals are too noisy\n",
      "\n",
      "==================  working on rec_id: A028-0495319861 ==================\n",
      "\t\textracting features\n",
      "\tPPG outlier rate: 9.22%\n",
      "\tPPG outlier rate: 6.45%\n"
     ]
    },
    {
     "ename": "SystemExit",
     "evalue": "",
     "output_type": "error",
     "traceback": [
      "An exception has occurred, use %tb to see the full traceback.\n",
      "\u001b[0;31mSystemExit\u001b[0m\n"
     ]
    },
    {
     "name": "stderr",
     "output_type": "stream",
     "text": [
      "/opt/rh/rh-python38/root/usr/local/lib/python3.8/site-packages/IPython/core/interactiveshell.py:3348: UserWarning: To exit: use 'exit', 'quit', or Ctrl-D.\n",
      "  warn(\"To exit: use 'exit', 'quit', or Ctrl-D.\", stacklevel=1)\n"
     ]
    }
   ],
   "source": [
    "waveform_window = 30\n",
    "df_demographic_processed = pd.DataFrame()\n",
    "\n",
    "    \n",
    "for index, row in df_merged.iterrows():\n",
    "    \n",
    "    # 1. get header_dict\n",
    "    rec_id = row['deBedTime']\n",
    "    print('\\n==================  working on rec_id: {} =================='.format(rec_id) )\n",
    "    inputdir_rec = inputdir + rec_id + '/'\n",
    "    header_dict = get_header_valid(inputdir_rec) # None or some dictionary data\n",
    "    \n",
    "    # 2. continue if waveform is not within the header_dict timing range\n",
    "    if header_dict is None:\n",
    "        print('wrong recording')\n",
    "        print('\\t', row['deBedTime'], row['spo2'], row['sao2'], row['times'], row['Black'], row['White'])\n",
    "        continue\n",
    "\n",
    "    # 3. get the waveform data\n",
    "    df_bed, _ = get_df_bed(rec_id, inputdir, header_dict['header_id'])\n",
    "\n",
    "    # 4. get only a small piece of the waveform data\n",
    "    sync_start = row['times'] - timedelta(minutes=waveform_window)\n",
    "    sync_end = row['times'] + timedelta(minutes=waveform_window)\n",
    "\n",
    "    i_sync_start = int((sync_start - header_dict['waveform_start']).total_seconds() * header_dict['Fs'])\n",
    "    i_sync_end = int((sync_end - header_dict['waveform_start']).total_seconds() * header_dict['Fs'])\n",
    "\n",
    "    df_bed = df_bed[i_sync_start:i_sync_end]\n",
    "    \n",
    "    # sys.exit()\n",
    "    \n",
    "    # list_time =  [header_dict['waveform_start'] + timedelta(seconds=sec) for sec in df_bed['time']]\n",
    "    # df_bed['time'] = np.asarray(list_time)\n",
    "    # mask = (df_bed['time'] >= sync_start) & (df_bed['time'] <= sync_end)\n",
    "    # df_bed = df_bed[mask]\n",
    "\n",
    "\n",
    "    # 5. check on the waveform data. Continue if the signals are off\n",
    "\n",
    "    if 'SPO2' not in list(header_dict['unit_dict'].keys()):\n",
    "        print('SPO2 channel not in waveform')\n",
    "        continue\n",
    "        \n",
    "    if np.mean(np.diff(df_bed['SPO2'])==0)>signal_quite_threshold:\n",
    "        print('SPO2 channel is too quiet')\n",
    "        continue\n",
    "    if np.mean(np.diff(df_bed['I'])==0)>signal_quite_threshold:\n",
    "        print('I channel is too quiet')\n",
    "        continue\n",
    "    if np.mean(np.diff(df_bed['II'])==0)>signal_quite_threshold:\n",
    "        print('II channel is too quiet')\n",
    "        continue\n",
    "    if np.mean(np.diff(df_bed['III'])==0)>signal_quite_threshold:\n",
    "        print('III channel is too quiet')\n",
    "        continue\n",
    "    if np.mean(np.diff(df_bed['V'])==0)>signal_quite_threshold:\n",
    "        print('V channel is too quiet')\n",
    "        continue\n",
    "        \n",
    "    # 6. extract features from df_bed\n",
    "    print('\\t\\textracting features')\n",
    "    df_features_bed = get_df_features_bed(df_bed, header_dict, seg_duration=10*60, verbose=False)\n",
    "    if df_features_bed.shape[0]==0:\n",
    "        print('\\tsignals are too noisy')\n",
    "        continue\n",
    "        \n",
    "    # sys.exit()\n",
    "    df_features_bed = df_features_bed.drop('i_R_peak', axis=1)\n",
    "    \n",
    "    # sys.exit()\n",
    "    \n",
    "    # 7. get just the median of the features\n",
    "    feature_medians = df_features_bed.median()\n",
    "    feature_medians = pd.DataFrame(feature_medians).T\n",
    "\n",
    "    \n",
    "    # 8. combine the demographic and the features!\n",
    "    row = pd.DataFrame(row).T\n",
    "\n",
    "    row_processed = pd.concat([row.reset_index(drop=True),feature_medians.reset_index(drop=True)], axis=1 )\n",
    "    row_processed['index'] = row.index[0]\n",
    "\n",
    "    print('\\tshow df_features_bed size:', df_features_bed.shape)\n",
    "\n",
    "    df_demographic_processed = pd.concat([df_demographic_processed, row_processed])\n",
    "\n",
    "    # 9. store the features\n",
    "    # outputdir_recording = outputdir+rec_id+'/'\n",
    "    outputdir_recording = outputdir+rec_id+'_'+str(int(row['CSN']))+'/'\n",
    "    if not os.path.exists(outputdir_recording):\n",
    "        os.makedirs(outputdir_recording)\n",
    "\n",
    "    df_features_bed.to_csv(outputdir_recording+'df_features_bed.csv.gz', index=False, compression='gzip')\n",
    "    \n",
    "    # sys.exit()\n",
    "    # 10. store the combined df\n",
    "    df_demographic_processed.reset_index(drop=True).to_csv(outputdir+'df_demographic_processed.csv.gz', index=False, compression='gzip')\n",
    "\n",
    "    print('success!')\n",
    "    \n",
    "df_demographic_processed.reset_index(drop=True).to_csv(outputdir+'df_demographic_processed.csv.gz', index=False, compression='gzip')\n",
    "\n"
   ]
  },
  {
   "cell_type": "code",
   "execution_count": null,
   "id": "cbb10ddd-fa49-495e-8494-f1fdf0f29a07",
   "metadata": {},
   "outputs": [],
   "source": [
    "# 1/(np.diff(df_features_bed['i_R_peak'].values)/240)*60"
   ]
  },
  {
   "cell_type": "code",
   "execution_count": null,
   "id": "055f3064-d8e0-415d-b2fa-63f5f3344f49",
   "metadata": {},
   "outputs": [],
   "source": [
    "df_features_bed"
   ]
  },
  {
   "cell_type": "code",
   "execution_count": null,
   "id": "9999634f-ae71-495a-83c8-767507f2024a",
   "metadata": {},
   "outputs": [],
   "source": [
    "plt.plot(df_features_bed['HR'].values)"
   ]
  },
  {
   "cell_type": "code",
   "execution_count": null,
   "id": "e2fc43a4-0466-4cf0-994c-6c8c89e05e21",
   "metadata": {},
   "outputs": [],
   "source": []
  },
  {
   "cell_type": "code",
   "execution_count": null,
   "id": "39ce1ac6-f5d8-47b5-aeab-6f4f674930ad",
   "metadata": {},
   "outputs": [],
   "source": []
  },
  {
   "cell_type": "code",
   "execution_count": null,
   "id": "df522305-bf36-4639-8a4e-e1ed24e78414",
   "metadata": {},
   "outputs": [],
   "source": []
  },
  {
   "cell_type": "code",
   "execution_count": null,
   "id": "65717499-fa80-4bcd-af5f-02fb79e26232",
   "metadata": {},
   "outputs": [],
   "source": [
    "# outputdir_recording"
   ]
  },
  {
   "cell_type": "code",
   "execution_count": 112,
   "id": "f1067922-4d14-45b7-ae15-3d41987c4c9a",
   "metadata": {},
   "outputs": [],
   "source": [
    "# df_features_bed = get_df_features_bed(df_bed, header_dict, seg_duration=10*60, verbose=True)\n"
   ]
  },
  {
   "cell_type": "code",
   "execution_count": 113,
   "id": "97d2b756-ab06-4ac3-bf82-b9b7262180d8",
   "metadata": {},
   "outputs": [],
   "source": [
    "# df_demographic_processed"
   ]
  },
  {
   "cell_type": "code",
   "execution_count": 114,
   "id": "111619c5-8e52-4d65-aa50-cb066be0cdec",
   "metadata": {},
   "outputs": [],
   "source": [
    "# np.mean(np.diff(df_bed['SPO2'])==0), np.mean(np.diff(df_bed['I'])==0), np.mean(np.diff(df_bed['II'])==0), np.mean(np.diff(df_bed['III'])==0), np.mean(np.diff(df_bed['V'])==0)"
   ]
  },
  {
   "cell_type": "code",
   "execution_count": 115,
   "id": "655ba895-48c5-422f-8cdd-5e403d49960e",
   "metadata": {},
   "outputs": [],
   "source": [
    "# df_features_bed = get_df_features_bed(df_bed, header_dict, seg_duration=10*60)\n"
   ]
  },
  {
   "cell_type": "code",
   "execution_count": 116,
   "id": "ba52dff8-bf0e-4596-bb21-8924897652d3",
   "metadata": {},
   "outputs": [],
   "source": [
    "# feature_medians = df_features_bed.median()\n",
    "# feature_medians = pd.DataFrame(feature_medians).T\n",
    "# feature_medians"
   ]
  },
  {
   "cell_type": "code",
   "execution_count": 117,
   "id": "73c6bf24-95ce-429a-9010-2b0e2da328a5",
   "metadata": {},
   "outputs": [],
   "source": [
    "# feature_medians = df_features_bed.median()\n",
    "# feature_medians = pd.DataFrame(feature_medians).T\n",
    "\n",
    "# row = pd.DataFrame(row).T\n",
    "\n",
    "# row_processed = pd.concat([row.reset_index(drop=True),feature_medians.reset_index(drop=True)], axis=1 )\n",
    "# row_processed['index'] = row.index[0]"
   ]
  },
  {
   "cell_type": "code",
   "execution_count": 118,
   "id": "f442d2e9-2255-473f-9910-f50a9a5531e1",
   "metadata": {},
   "outputs": [],
   "source": [
    "# row_processed"
   ]
  },
  {
   "cell_type": "code",
   "execution_count": null,
   "id": "44e353ce-c7c3-4a54-89d1-7e12f87e4c82",
   "metadata": {},
   "outputs": [],
   "source": []
  },
  {
   "cell_type": "code",
   "execution_count": null,
   "id": "ebdf9caf-9daa-4637-b882-d1cb523d78d5",
   "metadata": {},
   "outputs": [],
   "source": []
  },
  {
   "cell_type": "code",
   "execution_count": 119,
   "id": "6cdb034d-f308-4784-9135-ea5060ac1ed2",
   "metadata": {},
   "outputs": [],
   "source": [
    "# df_bed, _ = get_df_bed(rec_id, inputdir, header_dict['header_id'])\n",
    "\n",
    "# # 4. get only a small piece of the waveform data\n",
    "# sync_start = row['times'] - timedelta(minutes=waveform_window)\n",
    "# sync_end = row['times'] + timedelta(minutes=waveform_window)\n",
    "\n",
    "# i_sync_start = int((sync_start - header_dict['waveform_start']).total_seconds() * header_dict['Fs'])\n",
    "# i_sync_end = int((sync_end - header_dict['waveform_start']).total_seconds() * header_dict['Fs'])\n",
    "\n",
    "# df_bed = df_bed[i_sync_start:i_sync_end]\n"
   ]
  },
  {
   "cell_type": "code",
   "execution_count": 121,
   "id": "dc6b7b1f-2cfa-42c1-bb7f-e67cea6cd7e3",
   "metadata": {},
   "outputs": [],
   "source": [
    "# list(header_dict['unit_dict'].keys())"
   ]
  },
  {
   "cell_type": "code",
   "execution_count": null,
   "id": "8ff2166c-8a5e-4163-bf06-a98754348c47",
   "metadata": {},
   "outputs": [],
   "source": []
  },
  {
   "cell_type": "code",
   "execution_count": null,
   "id": "d69d1cea-2e99-41cb-aca7-1cfde60c97cf",
   "metadata": {},
   "outputs": [],
   "source": []
  },
  {
   "cell_type": "code",
   "execution_count": null,
   "id": "45d86d62-9101-4480-88be-b4f310b35a63",
   "metadata": {},
   "outputs": [],
   "source": []
  },
  {
   "cell_type": "code",
   "execution_count": null,
   "id": "8a2f751c-e2e1-4c58-bc49-65de0ad9bc3d",
   "metadata": {},
   "outputs": [],
   "source": []
  },
  {
   "cell_type": "code",
   "execution_count": 122,
   "id": "2392ca2f-4165-4c0d-825d-b30784bcd62d",
   "metadata": {},
   "outputs": [],
   "source": [
    "# header_dict"
   ]
  },
  {
   "cell_type": "code",
   "execution_count": 61,
   "id": "b9f647a6-c1a0-40e8-8781-7ce01cd42b23",
   "metadata": {},
   "outputs": [
    {
     "data": {
      "text/plain": [
       "Timestamp('2017-11-06 20:26:00')"
      ]
     },
     "execution_count": 61,
     "metadata": {},
     "output_type": "execute_result"
    }
   ],
   "source": [
    "sync_start"
   ]
  },
  {
   "cell_type": "code",
   "execution_count": 60,
   "id": "d121d9ff-8557-4aa2-a70e-2111baee0a4e",
   "metadata": {},
   "outputs": [
    {
     "data": {
      "text/plain": [
       "Timestamp('2017-11-06 21:26:00')"
      ]
     },
     "execution_count": 60,
     "metadata": {},
     "output_type": "execute_result"
    }
   ],
   "source": [
    "sync_end"
   ]
  },
  {
   "cell_type": "code",
   "execution_count": null,
   "id": "8268b96d-4d40-4902-a31c-8eb6831778c8",
   "metadata": {},
   "outputs": [],
   "source": []
  },
  {
   "cell_type": "code",
   "execution_count": 50,
   "id": "56dd2dc7-e368-424a-a3d1-b32955c3b0f4",
   "metadata": {},
   "outputs": [],
   "source": [
    "df_bed, _ = get_df_bed(rec_id, inputdir, header_dict['header_id'])"
   ]
  },
  {
   "cell_type": "code",
   "execution_count": 66,
   "id": "1fc613e7-a265-4faa-8a74-2e9f5d7d3aab",
   "metadata": {},
   "outputs": [
    {
     "data": {
      "text/plain": [
       "25946.0"
      ]
     },
     "execution_count": 66,
     "metadata": {},
     "output_type": "execute_result"
    }
   ],
   "source": []
  },
  {
   "cell_type": "code",
   "execution_count": 67,
   "id": "e29ef7e5-1133-4682-b887-8e55cbbfb1be",
   "metadata": {},
   "outputs": [
    {
     "data": {
      "text/plain": [
       "29546.0"
      ]
     },
     "execution_count": 67,
     "metadata": {},
     "output_type": "execute_result"
    }
   ],
   "source": [
    "# (sync_end - header_dict['waveform_start']).total_seconds()"
   ]
  },
  {
   "cell_type": "code",
   "execution_count": 74,
   "id": "c2272c8d-69c4-41b9-82c7-328f1e298a09",
   "metadata": {},
   "outputs": [
    {
     "data": {
      "text/plain": [
       "240"
      ]
     },
     "execution_count": 74,
     "metadata": {},
     "output_type": "execute_result"
    }
   ],
   "source": []
  },
  {
   "cell_type": "code",
   "execution_count": 75,
   "id": "66df5b44-e5ea-4441-a936-cb7a189e88c6",
   "metadata": {},
   "outputs": [],
   "source": []
  },
  {
   "cell_type": "code",
   "execution_count": 79,
   "id": "673449bb-36fb-4989-a0ee-a11b5eb89e14",
   "metadata": {},
   "outputs": [
    {
     "data": {
      "text/plain": [
       "7091040"
      ]
     },
     "execution_count": 79,
     "metadata": {},
     "output_type": "execute_result"
    }
   ],
   "source": [
    "i_sync_start\n",
    "i_sync_end"
   ]
  },
  {
   "cell_type": "code",
   "execution_count": 84,
   "id": "703744d3-5537-4711-a93e-0a331994e54a",
   "metadata": {},
   "outputs": [
    {
     "data": {
      "text/plain": [
       "47.56666666666667"
      ]
     },
     "execution_count": 84,
     "metadata": {},
     "output_type": "execute_result"
    }
   ],
   "source": []
  },
  {
   "cell_type": "code",
   "execution_count": null,
   "id": "f6afd103-adb9-4c00-a0af-1631f955706b",
   "metadata": {},
   "outputs": [],
   "source": []
  },
  {
   "cell_type": "code",
   "execution_count": null,
   "id": "22ec2741-0575-4ac3-bc73-1332c6487347",
   "metadata": {},
   "outputs": [],
   "source": []
  },
  {
   "cell_type": "code",
   "execution_count": null,
   "id": "758977f7-3ffc-4d18-bb37-ad0f4d343b49",
   "metadata": {},
   "outputs": [],
   "source": []
  },
  {
   "cell_type": "code",
   "execution_count": 53,
   "id": "0851e44f-3a1f-4f37-be9b-f36446409425",
   "metadata": {},
   "outputs": [],
   "source": [
    "# 4. get only a small piece of the waveform data\n",
    "sync_start = row['times'] - timedelta(minutes=waveform_window)\n",
    "sync_end = row['times'] + timedelta(minutes=waveform_window)\n",
    "\n",
    "# list_time =  [header_dict['waveform_start'] + timedelta(seconds=sec) for sec in df_bed['time']]\n",
    "# df_bed['time'] = np.asarray(list_time)\n",
    "# mask = (df_bed['time'] >= sync_start) & (df_bed['time'] <= sync_end)\n",
    "# df_bed = df_bed[mask]"
   ]
  },
  {
   "cell_type": "code",
   "execution_count": 54,
   "id": "26078de9-3934-46c0-861c-094b1665b5ba",
   "metadata": {},
   "outputs": [
    {
     "name": "stderr",
     "output_type": "stream",
     "text": [
      "\n",
      "KeyboardInterrupt\n",
      "\n"
     ]
    }
   ],
   "source": [
    " list_time =  [header_dict['waveform_start'] + timedelta(seconds=sec) for sec in df_bed['time']]"
   ]
  },
  {
   "cell_type": "code",
   "execution_count": 59,
   "id": "a86ca659-1c8d-4f35-b169-7550469c58ca",
   "metadata": {},
   "outputs": [
    {
     "ename": "ValueError",
     "evalue": "day is out of range for month",
     "output_type": "error",
     "traceback": [
      "\u001b[0;31m---------------------------------------------------------------------------\u001b[0m",
      "\u001b[0;31mValueError\u001b[0m                                Traceback (most recent call last)",
      "Input \u001b[0;32mIn [59]\u001b[0m, in \u001b[0;36m<cell line: 1>\u001b[0;34m()\u001b[0m\n\u001b[0;32m----> 1\u001b[0m dates_list \u001b[38;5;241m=\u001b[39m [datetime(\u001b[38;5;241m2015\u001b[39m,\u001b[38;5;241m11\u001b[39m,i\u001b[38;5;241m+\u001b[39m\u001b[38;5;241m1\u001b[39m) \u001b[38;5;28;01mfor\u001b[39;00m i \u001b[38;5;129;01min\u001b[39;00m \u001b[38;5;28mrange\u001b[39m(df_bed\u001b[38;5;241m.\u001b[39mshape[\u001b[38;5;241m0\u001b[39m])]\n",
      "Input \u001b[0;32mIn [59]\u001b[0m, in \u001b[0;36m<listcomp>\u001b[0;34m(.0)\u001b[0m\n\u001b[0;32m----> 1\u001b[0m dates_list \u001b[38;5;241m=\u001b[39m [\u001b[43mdatetime\u001b[49m\u001b[43m(\u001b[49m\u001b[38;5;241;43m2015\u001b[39;49m\u001b[43m,\u001b[49m\u001b[38;5;241;43m11\u001b[39;49m\u001b[43m,\u001b[49m\u001b[43mi\u001b[49m\u001b[38;5;241;43m+\u001b[39;49m\u001b[38;5;241;43m1\u001b[39;49m\u001b[43m)\u001b[49m \u001b[38;5;28;01mfor\u001b[39;00m i \u001b[38;5;129;01min\u001b[39;00m \u001b[38;5;28mrange\u001b[39m(df_bed\u001b[38;5;241m.\u001b[39mshape[\u001b[38;5;241m0\u001b[39m])]\n",
      "\u001b[0;31mValueError\u001b[0m: day is out of range for month"
     ]
    }
   ],
   "source": [
    "dates_list = [datetime(2015,11,i+1) for i in range(df_bed.shape[0])]\n"
   ]
  },
  {
   "cell_type": "code",
   "execution_count": 58,
   "id": "a13f5a88-fc9f-429b-bf0c-2fcc7e61a877",
   "metadata": {},
   "outputs": [
    {
     "data": {
      "text/plain": [
       "(6912000, 9)"
      ]
     },
     "execution_count": 58,
     "metadata": {},
     "output_type": "execute_result"
    }
   ],
   "source": [
    "datetime"
   ]
  },
  {
   "cell_type": "code",
   "execution_count": null,
   "id": "88309d88-b368-46cd-91c9-f22bdf3ee4cd",
   "metadata": {},
   "outputs": [],
   "source": []
  },
  {
   "cell_type": "markdown",
   "id": "ad68fa3c-3f09-4367-ae0d-1f5607938edd",
   "metadata": {},
   "source": [
    "# TODO: check on df_demographic_processed"
   ]
  },
  {
   "cell_type": "code",
   "execution_count": null,
   "id": "a849e2b4-f740-4837-a073-ec48fa63e10c",
   "metadata": {},
   "outputs": [],
   "source": []
  },
  {
   "cell_type": "code",
   "execution_count": null,
   "id": "1da1d76e-21c0-4271-840c-ff59adbad4db",
   "metadata": {},
   "outputs": [],
   "source": []
  },
  {
   "cell_type": "code",
   "execution_count": null,
   "id": "1891a0e8-707a-4d5b-9fa1-35b56bdd1e75",
   "metadata": {},
   "outputs": [],
   "source": []
  },
  {
   "cell_type": "code",
   "execution_count": null,
   "id": "d6ec95d2-0e6e-449a-8007-ea8811c4bd72",
   "metadata": {},
   "outputs": [],
   "source": []
  },
  {
   "cell_type": "code",
   "execution_count": null,
   "id": "a9ea2877-4bab-4095-a7db-3b55907d4601",
   "metadata": {},
   "outputs": [],
   "source": []
  },
  {
   "cell_type": "code",
   "execution_count": null,
   "id": "ad1d4674-e332-4714-a0ec-e1f1bfaf4bd6",
   "metadata": {},
   "outputs": [],
   "source": []
  },
  {
   "cell_type": "code",
   "execution_count": null,
   "id": "98cf34d4-a988-457a-8280-565e7dba5e2e",
   "metadata": {},
   "outputs": [],
   "source": []
  },
  {
   "cell_type": "code",
   "execution_count": null,
   "id": "6d2208bb-9336-40d1-bcec-1efb3ed9a439",
   "metadata": {},
   "outputs": [],
   "source": []
  },
  {
   "cell_type": "code",
   "execution_count": null,
   "id": "f1af9db9-c410-4f0f-9b48-3273da0356ca",
   "metadata": {},
   "outputs": [],
   "source": []
  },
  {
   "cell_type": "code",
   "execution_count": null,
   "id": "fa80ac71-548e-4a4a-b77c-a8db0b82ebd9",
   "metadata": {},
   "outputs": [],
   "source": []
  },
  {
   "cell_type": "code",
   "execution_count": null,
   "id": "d7dff08f-7a45-433c-9ea1-033a022044da",
   "metadata": {},
   "outputs": [],
   "source": []
  },
  {
   "cell_type": "code",
   "execution_count": null,
   "id": "cb8a4a68-990b-4c7a-934c-ee496a8bd2d0",
   "metadata": {},
   "outputs": [],
   "source": []
  },
  {
   "cell_type": "code",
   "execution_count": null,
   "id": "1e9efcab-93a5-4bb7-b5ce-15f660312f26",
   "metadata": {},
   "outputs": [],
   "source": []
  },
  {
   "cell_type": "code",
   "execution_count": null,
   "id": "5ebceceb-241b-4a40-a9b8-8af792e2da29",
   "metadata": {},
   "outputs": [],
   "source": []
  },
  {
   "cell_type": "code",
   "execution_count": null,
   "id": "8d53b5c7-1755-4c07-a411-39e8acb27425",
   "metadata": {},
   "outputs": [],
   "source": []
  },
  {
   "cell_type": "code",
   "execution_count": null,
   "id": "f9184b95-8659-4314-92f9-de82fbedc4e7",
   "metadata": {},
   "outputs": [],
   "source": [
    "def fix_waveform_datetime(row, header_dict, vervose=False):\n",
    "\n",
    "    if vervose:\n",
    "        print('\\tdemographic start time: {}'.format(row['DateStart']))\n",
    "        print('\\tdemographic end time: {}'.format(row['DateEnd']))\n",
    "\n",
    "    date = row['DateStart'].split(' ')[0]\n",
    "    str_format = '%Y-%m-%d %H:%M:%S.%f'\n",
    "\n",
    "    waveform_start = datetime.strptime(date + ' ' + header_dict['start_time'], str_format)\n",
    "    waveform_end = waveform_start + timedelta(hours=header_dict['t_dur(hr)'])\n",
    "\n",
    "    waveform_start = waveform_start.strftime(str_format)\n",
    "    waveform_end = waveform_end.strftime(str_format)\n",
    "    # waveform_start, waveform_end\n",
    "\n",
    "    header_dict['waveform_start'] = waveform_start\n",
    "    header_dict['waveform_end'] = waveform_end\n",
    "\n",
    "    if vervose:\n",
    "        print('\\twaveform start time: {}'.format(header_dict['waveform_start']))\n",
    "        print('\\twaveform end time: {}'.format(header_dict['waveform_end']))\n",
    "\n",
    "    return header_dict"
   ]
  },
  {
   "cell_type": "code",
   "execution_count": null,
   "id": "f4686e90-4f28-410f-ade9-d83e7bfc8ea8",
   "metadata": {},
   "outputs": [],
   "source": []
  },
  {
   "cell_type": "code",
   "execution_count": null,
   "id": "b68d1144-8b27-4c65-b320-9beb4da11fc3",
   "metadata": {},
   "outputs": [],
   "source": [
    "df_demographic_processed = pd.DataFrame()\n",
    "\n",
    "for index, row in df_demographic.iterrows():\n",
    "    # if index%20!=0:\n",
    "    #     continue\n",
    "    if (row['White']==False) & (row['Black']==False):\n",
    "        continue\n",
    "\n",
    "    rec_id = row['deBedTime']\n",
    "    print('working on bed ID: ', rec_id)\n",
    "    \n",
    "    # df_bed = get_df_bed(rec_id)\n",
    "    # sys.exit()\n",
    "    try:\n",
    "        df_bed, header_dict = get_df_bed(rec_id, inputdir)\n",
    "    except:\n",
    "        continue\n",
    "    header_dict = fix_waveform_datetime(row, header_dict)\n",
    "\n",
    "\n",
    "    if 'SPO2' not in list(header_dict['unit_dict'].keys()):\n",
    "        continue\n",
    "        \n",
    "    if np.mean(np.diff(df_bed['SPO2'])==0)>0.3:\n",
    "        continue\n",
    "    if np.mean(np.diff(df_bed['I'])==0)>0.3:\n",
    "        continue\n",
    "    if np.mean(np.diff(df_bed['II'])==0)>0.3:\n",
    "        continue\n",
    "    if np.mean(np.diff(df_bed['III'])==0)>0.3:\n",
    "        continue\n",
    "    if np.mean(np.diff(df_bed['V'])==0)>0.3:\n",
    "        continue\n",
    "\n",
    "    print('\\t\\textracting features')\n",
    "    df_features_bed = get_df_features_bed(df_bed, header_dict, seg_duration=30*60)\n",
    "    if df_features_bed.shape[0]==0:\n",
    "        continue\n",
    "    df_features_bed = df_features_bed.drop('i_R_peak', axis=1)\n",
    "\n",
    "    feature_medians = df_features_bed.median()\n",
    "    feature_medians = pd.DataFrame(feature_medians).T\n",
    "\n",
    "    row = pd.DataFrame(row).T\n",
    "\n",
    "    row_processed = pd.concat([row.reset_index(drop=True),feature_medians.reset_index(drop=True)], axis=1 )\n",
    "    row_processed['index'] = row.index[0]\n",
    "\n",
    "    print('\\t\\tshow df_features_bed size:', df_features_bed.shape)\n",
    "\n",
    "    # sys.exit()\n",
    "\n",
    "\n",
    "    df_demographic_processed = pd.concat([df_demographic_processed, row_processed])\n",
    "    # df_demographic_processed = pd.concat([df_demographic_processed, row_processed])\n",
    "    # df_demographic_processed÷\n",
    "        \n",
    "        \n",
    "\n",
    "    # outputdir_recording = outputdir+recording_name+'/'\n",
    "    outputdir_recording = outputdir+rec_id+'/'\n",
    "    if not os.path.exists(outputdir_recording):\n",
    "        os.makedirs(outputdir_recording)\n",
    "\n",
    "    df_features_bed.to_csv(outputdir_recording+'df_features_bed.csv.gz', index=False, compression='gzip')\n",
    "    # df = pd.read_csv(outputdir_recording+'df_features_sub.csv.gz', compression='gzip')\n",
    "    # print(df)\n",
    "    # sys.exit()\n",
    "    \n",
    "df_demographic_processed.to_csv(outputdir+'df_demographic_processed.csv.gz', index=False, compression='gzip')\n"
   ]
  },
  {
   "cell_type": "code",
   "execution_count": null,
   "id": "f25373cf-de35-4ebb-bb47-de1cc66351e9",
   "metadata": {},
   "outputs": [],
   "source": [
    "# try:\n",
    "#     df_bed, header_dict = get_df_bed(rec_id, inputdir)\n",
    "# except:\n",
    "#     print('jj')"
   ]
  },
  {
   "cell_type": "code",
   "execution_count": null,
   "id": "105f26bb-7569-4488-8ba2-e986608c7b86",
   "metadata": {},
   "outputs": [],
   "source": [
    "# inputdir"
   ]
  },
  {
   "cell_type": "code",
   "execution_count": null,
   "id": "bbf26255-0f07-42ca-8fff-ba63ed1ca7ec",
   "metadata": {},
   "outputs": [],
   "source": [
    "# os.listdir(inputdir+'A003-0500955218')"
   ]
  },
  {
   "cell_type": "code",
   "execution_count": null,
   "id": "761a56a3-59c8-4516-b766-45f049cd20dc",
   "metadata": {},
   "outputs": [],
   "source": []
  },
  {
   "cell_type": "code",
   "execution_count": null,
   "id": "13ec9d68-3b31-4395-b433-d13ebcd47b1a",
   "metadata": {},
   "outputs": [],
   "source": []
  },
  {
   "cell_type": "code",
   "execution_count": null,
   "id": "089304bc-7bbc-4dec-a3a5-672056006d3b",
   "metadata": {},
   "outputs": [],
   "source": []
  },
  {
   "cell_type": "code",
   "execution_count": null,
   "id": "a94dacc3-cddd-488d-ba1d-4787f8e4ed77",
   "metadata": {},
   "outputs": [],
   "source": []
  },
  {
   "cell_type": "code",
   "execution_count": null,
   "id": "091588c1-67cb-4db6-b952-f424e5913c08",
   "metadata": {},
   "outputs": [],
   "source": []
  },
  {
   "cell_type": "code",
   "execution_count": null,
   "id": "5ba03b2a-304a-4bc4-a52b-c8a22654362a",
   "metadata": {},
   "outputs": [],
   "source": []
  },
  {
   "cell_type": "code",
   "execution_count": null,
   "id": "92a356f6-0abf-4e0f-89ed-df918f9285ed",
   "metadata": {},
   "outputs": [],
   "source": []
  },
  {
   "cell_type": "code",
   "execution_count": null,
   "id": "1e254ff5-4264-4888-a271-c60b995badae",
   "metadata": {},
   "outputs": [],
   "source": [
    "df_demographic_processed = pd.read_csv(outputdir+'df_demographic_processed.csv.gz')  \n"
   ]
  },
  {
   "cell_type": "code",
   "execution_count": null,
   "id": "0334966f-e4ee-41b4-9de4-d43aa24311dc",
   "metadata": {},
   "outputs": [],
   "source": [
    "# df_demographic_processed"
   ]
  },
  {
   "cell_type": "code",
   "execution_count": null,
   "id": "98048ac8-4820-4e19-86f8-f706ca9edfca",
   "metadata": {},
   "outputs": [],
   "source": [
    "df_demographic_processed\n",
    "\n",
    "id_vars = ['deBedTime', 'DateStart', 'DateEnd', 'PAT_ID', 'CSN', 'BED_LOCATION_START', 'BED_LOCATION_END', 'White', 'Black', 'Race String']\n",
    "\n",
    "df2 = pd.melt(df_demographic_processed, id_vars=id_vars, \n",
    "                  var_name=\"feature_name\", value_name=\"feature\")"
   ]
  },
  {
   "cell_type": "code",
   "execution_count": null,
   "id": "2137e2dd-19b7-41b0-94fc-b4efff20c7ed",
   "metadata": {},
   "outputs": [],
   "source": [
    "X = df_demographic_processed[ 'B2C', 'max2min', 'PI', 'std', 'skewness', 'kurtosis', 'rms', 'energy', 'mean'].values\n"
   ]
  },
  {
   "cell_type": "code",
   "execution_count": null,
   "id": "4acbd172-1c4d-412a-9e34-c089fa43cc98",
   "metadata": {},
   "outputs": [],
   "source": []
  },
  {
   "cell_type": "code",
   "execution_count": null,
   "id": "9457c698-7a7f-4ba0-9a9d-5bd4f60c3317",
   "metadata": {},
   "outputs": [],
   "source": []
  },
  {
   "cell_type": "code",
   "execution_count": null,
   "id": "1213b92b-f42a-4b06-86c3-491d36f2726d",
   "metadata": {},
   "outputs": [],
   "source": []
  },
  {
   "cell_type": "code",
   "execution_count": null,
   "id": "a6bf44a5-0b42-42b6-9188-726707111b38",
   "metadata": {},
   "outputs": [],
   "source": []
  },
  {
   "cell_type": "code",
   "execution_count": null,
   "id": "838a20cd-5f9c-4fd4-8a67-43348d2f7852",
   "metadata": {},
   "outputs": [],
   "source": []
  },
  {
   "cell_type": "code",
   "execution_count": null,
   "id": "8b7161b7-96aa-4310-b137-3722a6611bd1",
   "metadata": {},
   "outputs": [],
   "source": [
    "# df_demographic_processed['deBedTime']=="
   ]
  },
  {
   "cell_type": "code",
   "execution_count": null,
   "id": "106a55b1-568a-402b-8c77-1e65db92c44f",
   "metadata": {},
   "outputs": [],
   "source": [
    "# ax = sns.boxplot(x=\"feature_name\", y=\"feature\", hue=\"Race String\",\n",
    "#                  data=tips, linewidth=2.5)"
   ]
  },
  {
   "cell_type": "code",
   "execution_count": null,
   "id": "17de8e81-b368-4b3c-a663-e306b8ebbe10",
   "metadata": {},
   "outputs": [],
   "source": [
    "# row_processed"
   ]
  },
  {
   "cell_type": "code",
   "execution_count": null,
   "id": "fd1426a4-f03c-4427-91e9-4e7d08c7d8ec",
   "metadata": {},
   "outputs": [],
   "source": []
  },
  {
   "cell_type": "code",
   "execution_count": null,
   "id": "1aec28dc-e0bf-4adf-9aac-23b2c25ebacb",
   "metadata": {},
   "outputs": [],
   "source": []
  },
  {
   "cell_type": "code",
   "execution_count": null,
   "id": "cd07e4a4-df6b-42c2-967e-65bf05bc8513",
   "metadata": {},
   "outputs": [],
   "source": []
  },
  {
   "cell_type": "code",
   "execution_count": null,
   "id": "bfb85287-0f19-4576-bade-9f7510b5182d",
   "metadata": {},
   "outputs": [],
   "source": [
    "# result"
   ]
  },
  {
   "cell_type": "code",
   "execution_count": null,
   "id": "90aa946d-5ac2-4022-8689-f085f4bd88eb",
   "metadata": {},
   "outputs": [],
   "source": [
    "# aaa.index = 800\n",
    "# aaaa"
   ]
  },
  {
   "cell_type": "code",
   "execution_count": null,
   "id": "0d722b3a-0ede-48cc-adb2-75f8a34ddda6",
   "metadata": {},
   "outputs": [],
   "source": [
    "# pd.concat([row, aaa], axis=1).reset_index()\n"
   ]
  },
  {
   "cell_type": "code",
   "execution_count": null,
   "id": "eb749e6c",
   "metadata": {},
   "outputs": [],
   "source": [
    "# pd.DataFrame(row).T"
   ]
  },
  {
   "cell_type": "code",
   "execution_count": null,
   "id": "15008f5e",
   "metadata": {},
   "outputs": [],
   "source": [
    "# plot_all_sync(df_seg, rec_id, header_dict, t_start=0, t_end=20, fig_name=None, outputdir=None, show_plot=True)\n"
   ]
  },
  {
   "cell_type": "code",
   "execution_count": null,
   "id": "086ed4ce-eccf-490f-91d7-4ec754fae666",
   "metadata": {},
   "outputs": [],
   "source": []
  },
  {
   "cell_type": "code",
   "execution_count": null,
   "id": "5ee45629-8866-4bbe-b178-e50561a5f1e6",
   "metadata": {},
   "outputs": [],
   "source": []
  },
  {
   "cell_type": "code",
   "execution_count": null,
   "id": "15fcadd7-1e9a-46a6-b5ca-325c4d8efe94",
   "metadata": {},
   "outputs": [],
   "source": []
  },
  {
   "cell_type": "code",
   "execution_count": null,
   "id": "6fd9e68e-b843-45c5-a877-2295b29c4493",
   "metadata": {},
   "outputs": [],
   "source": []
  },
  {
   "cell_type": "code",
   "execution_count": null,
   "id": "6d7256a4-0a5f-4529-a9fb-7b7a892c0e6c",
   "metadata": {},
   "outputs": [],
   "source": []
  },
  {
   "cell_type": "markdown",
   "id": "891c0c07-fc9c-4a23-8d6b-557320940abc",
   "metadata": {},
   "source": [
    "# signal level functions"
   ]
  },
  {
   "cell_type": "code",
   "execution_count": null,
   "id": "b6df3552-9416-4990-965c-d89a0438b928",
   "metadata": {},
   "outputs": [],
   "source": [
    "# def get_ecg_IP_norm(ecg1, ecg2):\n",
    "#     return (ecg1 @ ecg2) / ((ecg1 @ ecg1)**0.5 * (ecg2 @ ecg2)**0.5)\n",
    "\n"
   ]
  },
  {
   "cell_type": "markdown",
   "id": "ec1d4572-9c61-459e-883a-02847968b498",
   "metadata": {},
   "source": [
    "# signal to beats"
   ]
  },
  {
   "cell_type": "code",
   "execution_count": null,
   "id": "8db804c3-7075-48e3-90c3-c026ba4f95c6",
   "metadata": {},
   "outputs": [],
   "source": [
    "# def segment_df(df_seg, QRS_detector_dict, Fs):\n",
    "    \n",
    "#     df = get_filt_df(df_seg, Fs).copy()\n",
    "    \n",
    "    \n",
    "#     ecg_dict = QRS_detector_dict['ecg_dict']\n",
    "#     i_R_peaks = QRS_detector_dict['i_R_peaks']\n",
    "# #     i_R_peaks = QRS_detector_dict['i_R_peaks']\n",
    "#     # end_offset = QRS_detector_dict['end_offset']\n",
    "#     end_offset = int(1*Fs)\n",
    "#     # print(end_offset)\n",
    "#     # sys.exit()\n",
    "    \n",
    "#     beats_dict = {}\n",
    "    \n",
    "\n",
    "#     for sig_name in df.columns:\n",
    "#         if sig_name =='time':\n",
    "#             continue\n",
    "#         if sig_name =='RR':\n",
    "#             continue\n",
    "#         sig_beats, i_R_peaks_used = beat_segmentation(df[sig_name].values, i_R_peaks, start_offset=0, end_offset=end_offset)\n",
    "#         beats_dict[sig_name] = sig_beats\n",
    "        \n",
    "        \n",
    "#     sig_beats, i_R_peaks_used = beat_segmentation(df_seg['SPO2'].values, i_R_peaks, start_offset=0, end_offset=end_offset)\n",
    "#     beats_dict['PPG_DC'] = sig_beats\n",
    "\n",
    "#     beats_dict['i_R_peaks'] = i_R_peaks_used\n",
    "    \n",
    "#     return beats_dict"
   ]
  },
  {
   "cell_type": "markdown",
   "id": "f6a5297c-2622-4793-8354-166d4935b31b",
   "metadata": {},
   "source": [
    "# feature level functions"
   ]
  },
  {
   "cell_type": "code",
   "execution_count": null,
   "id": "9e6643c0-9113-432f-be4a-2bff8b22f8e3",
   "metadata": {},
   "outputs": [],
   "source": [
    "# def get_B2C(sig,beat_deriv1, beat_deriv2, Fs):\n",
    "#     N_window = int(0.15*Fs)\n",
    "#     i_min, i_derivmax, i_foot, data_derivmax, data_min = PPG_argfoot(sig, fs=Fs)\n",
    "#     # np.argmin(np.abs(beat_deriv1[i_min-N_window:i_min+N_window]))\n",
    "#     # i_foot = i_max-N_window\n",
    "\n",
    "#     i_min = i_min[0]\n",
    "\n",
    "#     i_A = np.argmax(beat_deriv2[i_min:i_min+int(0.1*Fs)])\n",
    "#     i_A += i_min\n",
    "\n",
    "#     i_B = np.argmin(beat_deriv2[i_A:i_A+int(0.2*Fs)])\n",
    "#     i_B += i_A\n",
    "\n",
    "#     i_C = np.argmax(beat_deriv2[i_B:i_B+int(0.2*Fs)])\n",
    "#     i_C += i_B\n",
    "\n",
    "#     i_D = np.argmin(beat_deriv2[i_C:i_C+int(0.2*Fs)])\n",
    "#     i_D += i_C\n",
    "\n",
    "#     amplitude_A = np.abs(beat_deriv2[i_A])\n",
    "#     amplitude_B = np.abs(beat_deriv2[i_B])\n",
    "#     amplitude_C = np.abs(beat_deriv2[i_C])\n",
    "#     amplitude_D = np.abs(beat_deriv2[i_D])\n",
    "\n",
    "\n",
    "#     feature_B2C = amplitude_B/amplitude_C\n",
    "    \n",
    "#     output_dict = {\n",
    "#     'i_min': i_min,\n",
    "#     'i_A': i_A,\n",
    "#     'i_B': i_B,\n",
    "#     'i_C': i_C,\n",
    "#     'i_D': i_D,\n",
    "#     'amplitude_A': amplitude_A,\n",
    "#     'amplitude_B': amplitude_B,\n",
    "#     'amplitude_C': amplitude_C,\n",
    "#     'amplitude_D': amplitude_D,\n",
    "#     'feature_B2C': feature_B2C,\n",
    "#     }\n",
    "    \n",
    "#     return output_dict\n",
    "\n",
    "# def debug_B2C(beats_PPG, Fs):\n",
    "#     k = 20\n",
    "#     sig= beats_PPG[:,[k]]\n",
    "#     dx = 1/Fs\n",
    "\n",
    "#     beat_deriv1 = np.gradient(sig.squeeze(), dx)\n",
    "#     beat_deriv2 = np.gradient(np.gradient(sig.squeeze(), dx), dx)\n",
    "\n",
    "#     output_dict = get_B2C(sig, beat_deriv1, beat_deriv2, Fs)\n",
    "\n",
    "#     fig, (ax1, ax2, ax3) = plt.subplots(3, 1, figsize=(8,5), dpi=100)\n",
    "\n",
    "#     ax1.plot(t_beat, beats[:,k], color='gray', alpha=1)\n",
    "#     ax1.set_ylabel('PPG')\n",
    "#     ax2.plot(t_beat, beat_deriv1, color='gray', alpha=1)\n",
    "#     ax2.set_ylabel('PPG 1st derivative')\n",
    "\n",
    "#     ax3.plot(t_beat, beat_deriv2, color='gray', alpha=1)\n",
    "\n",
    "#     ax3.scatter(output_dict['i_min']/Fs, beat_deriv2[output_dict['i_min']])\n",
    "#     ax3.scatter(output_dict['i_A']/Fs, beat_deriv2[output_dict['i_A']], color='r')\n",
    "#     ax3.scatter(output_dict['i_B']/Fs, beat_deriv2[output_dict['i_B']], color='g')\n",
    "#     ax3.scatter(output_dict['i_C']/Fs, beat_deriv2[output_dict['i_C']], color='k')\n",
    "#     ax3.scatter(output_dict['i_D']/Fs, beat_deriv2[output_dict['i_D']], color='y')\n",
    "#     ax3.set_ylabel('PPG 2nd derivative')\n",
    "\n",
    "    \n",
    "# def get_max2min(sig):\n",
    "\n",
    "#     feature_max2min = sig.max()-sig.min()\n",
    "\n",
    "#     output_dict = {\n",
    "#         'feature_max2min': feature_max2min\n",
    "#     }\n",
    "\n",
    "#     return output_dict\n",
    "\n",
    "# def get_PI(feature_max2min, sig_DC):\n",
    "    \n",
    "#     featrue_PI = feature_max2min/sig_DC.mean()\n",
    "    \n",
    "#     output_dict = {\n",
    "#         'featrue_PI': featrue_PI\n",
    "#     }\n",
    "    \n",
    "#     return output_dict\n",
    "\n",
    "\n",
    "# def get_std(sig):\n",
    "#     return np.std(sig)\n",
    "\n",
    "# def get_skewness(sig):\n",
    "#     return scipy.stats.skew(sig)[0]\n",
    "\n",
    "# def get_kurtosis(sig):\n",
    "#     return scipy.stats.kurtosis(sig)[0]\n",
    "\n",
    "# def get_energy(sig):\n",
    "#     return np.sum((sig-sig.mean())**2)\n",
    "\n",
    "# def get_rms(sig):\n",
    "#     return np.sqrt(np.mean(sig**2))\n",
    "\n",
    "# def get_mean(sig_DC):\n",
    "#     return np.mean(sig_DC)\n"
   ]
  },
  {
   "cell_type": "markdown",
   "id": "726ccb16-163d-47aa-a657-6b38146b4156",
   "metadata": {},
   "source": [
    "# master beat2features function"
   ]
  },
  {
   "cell_type": "code",
   "execution_count": null,
   "id": "16f1bdae-7ce3-436d-9af0-eb4bbd881a86",
   "metadata": {},
   "outputs": [],
   "source": [
    "# def beat2features(beats_dict, Fs):\n",
    "\n",
    "#     beats_PPG = beats_dict['SPO2']\n",
    "#     beats_PPG_DC = beats_dict['PPG_DC']\n",
    "#     i_R_peaks = beats_dict['i_R_peaks']\n",
    "#     dx = 1/Fs\n",
    "\n",
    "#     df_features = pd.DataFrame()\n",
    "\n",
    "#     for k in range(beats_PPG.shape[1]):\n",
    "#         # print(k)\n",
    "#         sig = beats_PPG[:,[k]]\n",
    "#         sig_DC = beats_PPG_DC[:,[k]]\n",
    "#         i_R_peak = i_R_peaks[k]\n",
    "\n",
    "#         beat_deriv1 = np.gradient(sig.squeeze(), dx)\n",
    "#         beat_deriv2 = np.gradient(np.gradient(sig.squeeze(), dx), dx)\n",
    "\n",
    "#         feature_B2C = get_B2C(sig, beat_deriv1, beat_deriv2, Fs)['feature_B2C']\n",
    "#         feature_max2min = get_max2min(sig)['feature_max2min']\n",
    "#         featrue_PI = get_PI(feature_max2min, sig_DC)['featrue_PI']\n",
    "\n",
    "\n",
    "\n",
    "#         # features that use cardiac PPG (filtered between 0.8-4Hz)\n",
    "#         feature_std = get_std(sig)\n",
    "#         feature_skewness = get_skewness(sig)\n",
    "#         feature_kurtosis = get_kurtosis(sig)\n",
    "#         feature_rms = get_rms(sig)\n",
    "#         feature_energy = get_energy(sig)\n",
    "\n",
    "\n",
    "#         # features that use raw PPG\n",
    "#         feature_mean = get_mean(sig_DC)\n",
    "\n",
    "\n",
    "#         df_beat = pd.DataFrame({\n",
    "#             'i_R_peak': [i_R_peak],\n",
    "#             'B2C': [feature_B2C],\n",
    "#             'max2min': [feature_max2min],\n",
    "#             'PI': [featrue_PI],\n",
    "#             'std': [feature_std],\n",
    "#             'skewness': [feature_skewness],\n",
    "#             'kurtosis': [feature_kurtosis],\n",
    "#             'rms': [feature_rms],\n",
    "#             'energy': [feature_energy],\n",
    "#             'mean': [feature_mean],\n",
    "#         })\n",
    "\n",
    "#         df_features = pd.concat([df_features, df_beat])\n",
    "\n",
    "#         # df_features = df_features.append(df_beat)\n",
    "\n",
    "#     return df_features\n"
   ]
  },
  {
   "cell_type": "code",
   "execution_count": null,
   "id": "51b7dcaa-bc20-4531-8d2f-d45cdfa7eaaa",
   "metadata": {},
   "outputs": [],
   "source": [
    "# def get_FQI_dict(data):\n",
    "\n",
    "#     data_median = medfilt(data, k=9)\n",
    "\n",
    "#     data_deviation = np.abs(data - data_median)\n",
    "\n",
    "#     mask_feature = data_deviation < data_deviation.std()*3\n",
    "\n",
    "#     data_deviation_normed = (data_deviation-data_deviation.min()) / (data_deviation.max()-data_deviation.min())\n",
    "\n",
    "#     FQI = np.exp(-0.5*data_deviation_normed)\n",
    "\n",
    "#     FQI_dict = {\n",
    "#         'data_deviation': data_deviation,\n",
    "#         'mask_feature': mask_feature,\n",
    "#         'FQI': FQI,\n",
    "#     }\n",
    "#     return FQI_dict"
   ]
  },
  {
   "cell_type": "markdown",
   "id": "d965d3df-39ae-4b2a-ae99-5073627b9f55",
   "metadata": {},
   "source": [
    "# feature level qaulity assessment"
   ]
  },
  {
   "cell_type": "code",
   "execution_count": null,
   "id": "be8878dc-4f83-460d-b907-6d9f9e03975a",
   "metadata": {},
   "outputs": [],
   "source": []
  },
  {
   "cell_type": "code",
   "execution_count": null,
   "id": "f82716a5-a23f-4f71-871f-ad9978431f46",
   "metadata": {},
   "outputs": [],
   "source": [
    "# def get_mask_all(df_features):\n",
    "\n",
    "#     mask_feature_list = []\n",
    "#     for feature_name in df_features.columns:\n",
    "#         if feature_name == 'i_R_peak':\n",
    "#             continue\n",
    "\n",
    "#         FQI_dict = get_FQI_dict(df_features['B2C'].values)\n",
    "#         mask_feature = FQI_dict['mask_feature']\n",
    "#         mask_feature_list.append(mask_feature)\n",
    "#         # print(feature_name)\n",
    "\n",
    "#     mask_feature_list = np.stack(mask_feature_list).T\n",
    "#     mask_feature_list = np.prod(mask_feature_list, axis=1)\n",
    "#     mask_feature_list = mask_feature_list==1\n",
    "#     return mask_feature_list"
   ]
  },
  {
   "cell_type": "code",
   "execution_count": null,
   "id": "decc0439-cb3b-4ff4-b934-b027b9b042d3",
   "metadata": {},
   "outputs": [],
   "source": [
    "# def masking_beats_dict(beats_dict, mask):\n",
    "\n",
    "#     # print(beats_dict['AR1'].shape)\n",
    "#     for beat_name in beats_dict.keys():\n",
    "#         if beat_name == 'i_R_peaks':\n",
    "#             beats_dict[beat_name] = beats_dict[beat_name][mask]\n",
    "#         else:\n",
    "#             beats_dict[beat_name] = beats_dict[beat_name][:, mask]\n",
    "\n",
    "#     # print(beats_dict['AR1'].shape)\n",
    "\n",
    "#     return beats_dict"
   ]
  },
  {
   "cell_type": "code",
   "execution_count": null,
   "id": "101b03c3-6d58-4710-b914-f0e9d3706ff1",
   "metadata": {},
   "outputs": [],
   "source": []
  },
  {
   "cell_type": "code",
   "execution_count": null,
   "id": "7cecffd4-ac3f-4bae-93c1-e143ce7e99f6",
   "metadata": {},
   "outputs": [],
   "source": []
  },
  {
   "cell_type": "code",
   "execution_count": null,
   "id": "8588cf8c-ea5d-4bf8-bc41-0b28caa20b61",
   "metadata": {},
   "outputs": [],
   "source": []
  },
  {
   "cell_type": "code",
   "execution_count": null,
   "id": "08ff24e8-915b-487f-9e31-34ab31ad2da2",
   "metadata": {},
   "outputs": [],
   "source": []
  },
  {
   "cell_type": "code",
   "execution_count": null,
   "id": "1ac6e62d-f487-45fb-82f2-72a83f27263f",
   "metadata": {},
   "outputs": [],
   "source": []
  },
  {
   "cell_type": "code",
   "execution_count": null,
   "id": "6cbdbf14-cb76-4a15-93ea-913376dfcc88",
   "metadata": {},
   "outputs": [],
   "source": []
  },
  {
   "cell_type": "code",
   "execution_count": null,
   "id": "d6bf27e6-679b-47ac-8975-3c8075d31669",
   "metadata": {},
   "outputs": [],
   "source": [
    "# header_dict"
   ]
  },
  {
   "cell_type": "code",
   "execution_count": null,
   "id": "24049a53-ba00-4354-9272-09d050cc9e0e",
   "metadata": {},
   "outputs": [],
   "source": [
    "# def get_df_features_bed(df_bed, header_dict, seg_duration=30*60, verbose=False):\n",
    "#     # df_bed stores the waveform\n",
    "#     # header_dict stores the meta data\n",
    "#     # seg_duration: the duration to look at the data (in second)\n",
    "    \n",
    "#     # seg_duration = 1 * 60 * 60 # seconds\n",
    "#     # seg_duration = 30 * 60 # seconds\n",
    "#     if verbose:\n",
    "#         print('seg_duration is {} sec'.format(seg_duration))\n",
    "#     # unit_dict = header_dict['unit_dict']\n",
    "#     Fs = header_dict['Fs']\n",
    "#     N_segs = int((df_bed.shape[0]/Fs)//seg_duration)\n",
    "\n",
    "#     df_features_bed = pd.DataFrame()\n",
    "\n",
    "#     for i_seg in range(N_segs):\n",
    "\n",
    "#         if verbose:\n",
    "#             print('i_seg: ', i_seg)\n",
    "\n",
    "#         # if i_seg != 5:\n",
    "#         #     continue\n",
    "#         i_start = i_seg*seg_duration*Fs\n",
    "#         i_end = (i_seg+1)*seg_duration*Fs\n",
    "\n",
    "#         df_seg = df_bed[i_start:i_end]\n",
    "\n",
    "#         if df_seg.shape[0]==0:\n",
    "#             continue\n",
    "\n",
    "#         norm1 = np.abs(get_ecg_IP_norm(df_seg['I'].values, df_seg['II']))\n",
    "#         norm2 = np.abs(get_ecg_IP_norm(df_seg['I'].values, df_seg['III']))\n",
    "#         norm3 = np.abs(get_ecg_IP_norm(df_seg['I'].values, df_seg['V']))\n",
    "\n",
    "#         if (norm1 < 0.3) or (norm2 < 0.3) or (norm3 < 0.3):\n",
    "#             if verbose:\n",
    "#                 print('\\tbad ECG')\n",
    "#             continue\n",
    "\n",
    "\n",
    "#         sig_name = 'I'\n",
    "#         ECG = df_seg[sig_name].values\n",
    "\n",
    "\n",
    "#         # ECG = df[sig_name].values\n",
    "\n",
    "#         fig_name = 'ECG_diagnostics_'+sig_name\n",
    "#         # QRS_detector_dict = task_HR_detector(ECG, Fs, fig_name=fig_name, outputdir=None, show_plot=True)\n",
    "#         QRS_detector_dict = task_HR_detector(ECG, Fs, fig_name=fig_name, outputdir=None, show_plot=False)\n",
    "\n",
    "#     #     t_ecg = np.arange(ECG.shape[0])/Fs\n",
    "#     #     hr_interp = np.interp(t_ecg, QRS_detector_dict['ts_hr'], QRS_detector_dict['hr'])\n",
    "\n",
    "\n",
    "#         # segment the beats\n",
    "#         beats_dict = segment_df(df_seg, QRS_detector_dict, Fs)\n",
    "#         mask_ppg, ol_rate = clean_PPG(beats_dict['SPO2'], beats_dict['SPO2'].mean(axis=1), Fs)\n",
    "#         beats_dict = masking_beats_dict(beats_dict, mask_ppg)\n",
    "\n",
    "#         if ol_rate > 0.1:\n",
    "#             if verbose:\n",
    "#                 print('\\tbad PPG')\n",
    "#             continue\n",
    "#         print('\\t\\tPPG outlier rate: {:.2f}%'.format( ol_rate*100) )\n",
    "#         # sys.exit()\n",
    "\n",
    "\n",
    "#         # sys.exit()\n",
    "\n",
    "#         if verbose:\n",
    "#             print('\\t\\tpass ECG and PPG SQI tests...')\n",
    "\n",
    "\n",
    "#         beats_dict['i_R_peaks'] = beats_dict['i_R_peaks'] + i_start    \n",
    "\n",
    "#         # ensemble the beats (N=4)\n",
    "#         use_ensemble = True\n",
    "\n",
    "#         if use_ensemble:\n",
    "#             for key in beats_dict:\n",
    "#                 if 'ppg' not in key:\n",
    "#                     continue\n",
    "#                 sig_beats = beats_dict[key]\n",
    "#                 beats_dict[key] = get_ensemble_beats(sig_beats, N_enBeats=4, use_woody=False)\n",
    "\n",
    "\n",
    "#         df_features = beat2features(beats_dict, Fs)\n",
    "\n",
    "#         # reject unnecessary features\n",
    "#         mask_all = get_mask_all(df_features)\n",
    "#         # sys.exit()\n",
    "#         if verbose:\n",
    "#             print('\\t\\tfaeture rejection rate: {:.2f}%'.format( 100-mask_all.mean()*100) )\n",
    "#         df_features = df_features.loc[mask_all, :].copy()\n",
    "\n",
    "#         df_features_bed = pd.concat([df_features_bed, df_features])\n",
    "\n",
    "#     if verbose:\n",
    "#         print('done')\n",
    "#         print('show df_features_bed size:', df_features_bed.shape)\n",
    "    \n",
    "#     return df_features_bed"
   ]
  },
  {
   "cell_type": "code",
   "execution_count": null,
   "id": "eaf4f108-262b-4dfc-9f97-8b065f5b1c83",
   "metadata": {},
   "outputs": [],
   "source": []
  },
  {
   "cell_type": "code",
   "execution_count": null,
   "id": "b01a5196-c754-4714-9a1e-5d199a0b40d5",
   "metadata": {},
   "outputs": [],
   "source": []
  },
  {
   "cell_type": "code",
   "execution_count": null,
   "id": "9361ba1f-e9b3-4333-a9fa-55b6334750f1",
   "metadata": {},
   "outputs": [],
   "source": []
  },
  {
   "cell_type": "code",
   "execution_count": null,
   "id": "a6aff734-116d-48e0-83c8-e3e5f38b5872",
   "metadata": {},
   "outputs": [],
   "source": []
  },
  {
   "cell_type": "code",
   "execution_count": null,
   "id": "087d2601-4be2-48dc-8650-42e6b24b7cb3",
   "metadata": {},
   "outputs": [],
   "source": []
  },
  {
   "cell_type": "code",
   "execution_count": null,
   "id": "64c6528b-f573-4cdc-aea7-f0e2d593ebca",
   "metadata": {},
   "outputs": [],
   "source": []
  },
  {
   "cell_type": "code",
   "execution_count": null,
   "id": "d4b0ca06-6c55-43e2-9103-8fdb91e347ed",
   "metadata": {},
   "outputs": [],
   "source": []
  },
  {
   "cell_type": "code",
   "execution_count": null,
   "id": "0c81e261-b3d9-4f46-9669-1d810837c32f",
   "metadata": {},
   "outputs": [],
   "source": [
    "sys.exit()"
   ]
  },
  {
   "cell_type": "code",
   "execution_count": null,
   "id": "8af8f09f-41b8-46a6-be9d-a3589f3d7801",
   "metadata": {},
   "outputs": [],
   "source": []
  },
  {
   "cell_type": "code",
   "execution_count": null,
   "id": "4dd5fda3-a538-4afa-aa16-5c5204c3c9bf",
   "metadata": {},
   "outputs": [],
   "source": [
    "beats = beats_dict['SPO2']\n",
    "\n",
    "plt.plot(beats, color='gray', alpha=0.1)\n",
    "plt.plot(beats.mean(axis=1), color='red', alpha=0.7)\n",
    "# plt.ylim(-1,1)\n",
    "plt.show()\n",
    "\n",
    "beats = beats_dict['SPO2'][:, mask_all]\n",
    "\n",
    "plt.plot(beats, color='gray', alpha=0.1)\n",
    "plt.plot(beats.mean(axis=1), color='red', alpha=0.7)\n",
    "# plt.ylim(-1,1)\n",
    "plt.show()"
   ]
  },
  {
   "cell_type": "code",
   "execution_count": null,
   "id": "50162c51-844a-4bdc-a031-bce1c1c514ee",
   "metadata": {},
   "outputs": [],
   "source": []
  },
  {
   "cell_type": "code",
   "execution_count": null,
   "id": "008311c0-bb8d-43f0-8116-4e8eb8554658",
   "metadata": {},
   "outputs": [],
   "source": []
  },
  {
   "cell_type": "code",
   "execution_count": null,
   "id": "ba97e9b4-4355-4b90-b793-a6b14b3f82d9",
   "metadata": {},
   "outputs": [],
   "source": [
    "feature_names = list(df_features_sub.keys())\n",
    "feature_names.remove('i_R_peak')\n",
    "\n",
    "\n",
    "# feature_names"
   ]
  },
  {
   "cell_type": "code",
   "execution_count": null,
   "id": "b48bbb29-617c-479f-8c8c-df5ac3f30127",
   "metadata": {},
   "outputs": [],
   "source": [
    "# sns.set_theme(style=\"whitegrid\")\n",
    "# tips = sns.load_dataset(\"tips\")\n",
    "\n",
    "fig, axes = plt.subplots(len(feature_names),1, figsize=(5,20), dpi=80)\n",
    "\n",
    "for ax, feature_name in zip(axes, feature_names):\n",
    "# sns.violinplot(x=df_features[\"B2C\"], ax=axes[0], orient='v')\n",
    "# sns.violinplot(x=df_features[\"PI\"], ax=axes[1], orient='v')\n",
    "\n",
    "    sns.violinplot(data=df_features_sub, y=feature_name, ax=ax)\n",
    "# sns.violinplot(data=df_features_sub, y=\"PI\", ax=axes[1])\n"
   ]
  },
  {
   "cell_type": "code",
   "execution_count": null,
   "id": "8130426a-0e71-442e-8e7f-2d19cea08739",
   "metadata": {},
   "outputs": [],
   "source": [
    "df_features_sub.keys()"
   ]
  },
  {
   "cell_type": "code",
   "execution_count": null,
   "id": "9ca9b8b7-b5c4-4fa5-89ae-9c8bbad9dfb7",
   "metadata": {},
   "outputs": [],
   "source": [
    "plt.plot(df_features_sub['rms'].values)"
   ]
  },
  {
   "cell_type": "code",
   "execution_count": null,
   "id": "ae6eb36a-574d-40f6-9cf8-e6ef7893c4c3",
   "metadata": {},
   "outputs": [],
   "source": [
    "np.median(df_features_sub['max2min'].values)"
   ]
  },
  {
   "cell_type": "code",
   "execution_count": null,
   "id": "72cf3152-71b2-47d4-8b9b-785489e097bf",
   "metadata": {},
   "outputs": [],
   "source": []
  },
  {
   "cell_type": "code",
   "execution_count": null,
   "id": "d45c0210-c3ae-4101-bea3-cac69d4922e4",
   "metadata": {},
   "outputs": [],
   "source": []
  },
  {
   "cell_type": "code",
   "execution_count": null,
   "id": "a6819f02-55a8-44f4-832a-6de3c2c7a550",
   "metadata": {},
   "outputs": [],
   "source": []
  },
  {
   "cell_type": "code",
   "execution_count": null,
   "id": "f7fa4c07-7fd3-4fd6-b781-9970fcc9c44b",
   "metadata": {},
   "outputs": [],
   "source": []
  },
  {
   "cell_type": "code",
   "execution_count": null,
   "id": "9fec5b34-6130-4c99-a710-c8e7fddb9b78",
   "metadata": {},
   "outputs": [],
   "source": []
  },
  {
   "cell_type": "code",
   "execution_count": null,
   "id": "b1de4743-9d51-445b-afa1-c34e94b2cbc9",
   "metadata": {},
   "outputs": [],
   "source": [
    "\n",
    "# np.prod(mask_feature_list, axis=1)"
   ]
  },
  {
   "cell_type": "code",
   "execution_count": null,
   "id": "da2169cf-54b7-4049-99a6-8d09e48351da",
   "metadata": {},
   "outputs": [],
   "source": []
  },
  {
   "cell_type": "code",
   "execution_count": null,
   "id": "ca2b1dc2-8649-463c-808d-e83a9e0c9259",
   "metadata": {},
   "outputs": [],
   "source": [
    "mask_feature_list.shape"
   ]
  },
  {
   "cell_type": "code",
   "execution_count": null,
   "id": "bd8e118a-a0e8-48d4-9559-3531d482e24f",
   "metadata": {},
   "outputs": [],
   "source": [
    "aaa = np.asarray([[ True,  True,  True, True],\n",
    "       [ True,  False,  True, True],\n",
    "       [ True,  True,  True, True]])\n",
    "\n",
    "aaa"
   ]
  },
  {
   "cell_type": "code",
   "execution_count": null,
   "id": "a857978d-b5a6-4ceb-bd65-80a5ffc8c9c2",
   "metadata": {},
   "outputs": [],
   "source": [
    "np.prod(aaa, axis=1)"
   ]
  },
  {
   "cell_type": "code",
   "execution_count": null,
   "id": "0178d951-20d6-49b5-a7d4-b2efcefc38ff",
   "metadata": {},
   "outputs": [],
   "source": [
    "mask_feature_list.shape"
   ]
  },
  {
   "cell_type": "code",
   "execution_count": null,
   "id": "81a32fa1-8c9e-4d09-9fd1-aa519be380fe",
   "metadata": {},
   "outputs": [],
   "source": [
    "# np.stack(mask_feature_list).T\n",
    "# aaa = np.asarray([[1.,2.],[3.,4.]])\n",
    "# np.prod(aaa, axis=0), aaa"
   ]
  },
  {
   "cell_type": "code",
   "execution_count": null,
   "id": "52d5ee75-19db-41aa-8e39-e36a414cb303",
   "metadata": {},
   "outputs": [],
   "source": [
    "FQI_dict"
   ]
  },
  {
   "cell_type": "code",
   "execution_count": null,
   "id": "5b010f7c-3a8c-4d3a-998f-fe57e413a250",
   "metadata": {},
   "outputs": [],
   "source": [
    "FQI_dict = get_FQI_dict(df_features['B2C'].values)\n",
    "plt.plot(FQI_dict['FQI'])"
   ]
  },
  {
   "cell_type": "code",
   "execution_count": null,
   "id": "f5a79d1b-2dfc-4ac4-9c36-fbfe21ec8c09",
   "metadata": {},
   "outputs": [],
   "source": []
  },
  {
   "cell_type": "code",
   "execution_count": null,
   "id": "ac7f1538-c082-4e96-a8d1-2407307257e1",
   "metadata": {},
   "outputs": [],
   "source": []
  },
  {
   "cell_type": "code",
   "execution_count": null,
   "id": "7901661a-54af-4cd1-98de-85be31e21b51",
   "metadata": {},
   "outputs": [],
   "source": []
  },
  {
   "cell_type": "code",
   "execution_count": null,
   "id": "6f4ab725-5f70-401b-8c9e-c6a92d796e2c",
   "metadata": {},
   "outputs": [],
   "source": []
  },
  {
   "cell_type": "code",
   "execution_count": null,
   "id": "c509a3de-f46c-4435-808c-60cd2ee2b394",
   "metadata": {},
   "outputs": [],
   "source": [
    "plt.plot(ECG)\n",
    "plt.xlim(0,1000)"
   ]
  },
  {
   "cell_type": "code",
   "execution_count": null,
   "id": "ca2f8820-490c-4c69-8aab-3b946aecb541",
   "metadata": {},
   "outputs": [],
   "source": [
    "t_ecg = np.arange(ECG.shape[0])/Fs\n",
    "hr_interp = np.interp(t_ecg, QRS_detector_dict['ts_hr'], QRS_detector_dict['hr'])\n",
    "\n",
    "# plt.plot(t_ecg, hr_interp)\n",
    "plt.plot(QRS_detector_dict['ts_hr'], QRS_detector_dict['hr'])\n",
    "plt.xlim(0, 100)"
   ]
  },
  {
   "cell_type": "code",
   "execution_count": null,
   "id": "b7335933-591b-42f5-afb7-3c3f69f48fa6",
   "metadata": {},
   "outputs": [],
   "source": [
    "# plt.plot(t_ecg, ECG)\n",
    "# plt.xlim(0, 500)"
   ]
  },
  {
   "cell_type": "code",
   "execution_count": null,
   "id": "28791672-1780-489e-ad1a-8ae9c0af3f67",
   "metadata": {},
   "outputs": [],
   "source": [
    "# plt.plot(t_ecg, ECG)\n",
    "# plt.xlim(300, 350)"
   ]
  },
  {
   "cell_type": "code",
   "execution_count": null,
   "id": "e2d72931-fe8b-405b-8a0d-d2724c527896",
   "metadata": {},
   "outputs": [],
   "source": []
  },
  {
   "cell_type": "code",
   "execution_count": null,
   "id": "98f6220e-0bed-4b82-b0e9-7fffac2d296f",
   "metadata": {},
   "outputs": [],
   "source": []
  },
  {
   "cell_type": "code",
   "execution_count": null,
   "id": "b2eaeb15-0cd8-4cf3-99d2-bb88c897e8e5",
   "metadata": {},
   "outputs": [],
   "source": []
  },
  {
   "cell_type": "code",
   "execution_count": null,
   "id": "2746bdac-f067-4a1e-b9db-34bedba6c22f",
   "metadata": {},
   "outputs": [],
   "source": []
  },
  {
   "cell_type": "code",
   "execution_count": null,
   "id": "0793119c",
   "metadata": {},
   "outputs": [],
   "source": []
  },
  {
   "cell_type": "code",
   "execution_count": null,
   "id": "bbe0174d",
   "metadata": {},
   "outputs": [],
   "source": [
    "# plt.plot(t_ecg[::10], hr_interp[::10])\n",
    "# plt.xlim(0, 1000)"
   ]
  },
  {
   "cell_type": "code",
   "execution_count": null,
   "id": "411b9180",
   "metadata": {},
   "outputs": [],
   "source": [
    "# def get_filt_df(df_sync, Fs):\n",
    "#     df = df_sync.copy()\n",
    "\n",
    "#     for sig_name in df.columns:\n",
    "#         if 'I' == sig_name or 'II' == sig_name or 'III' == sig_name or 'V' == sig_name:\n",
    "#             df[sig_name] = get_padded_filt(df[sig_name].values, filter_padded=1, lowcutoff=FILT_ECG[0], highcutoff=FILT_ECG[1], Fs=Fs)\n",
    "#         elif 'RR' == sig_name:\n",
    "#             df[sig_name] = get_padded_filt_DSwrapper(df[sig_name].values, filter_padded=1, lowcutoff=FILT_RESP[0], highcutoff=FILT_RESP[1], Fs=Fs)\n",
    "#         elif 'SPO2' == sig_name:\n",
    "#             df[sig_name] = get_padded_filt(df[sig_name].values, filter_padded=1, lowcutoff=FILT_PPG[0], highcutoff=FILT_PPG[1], Fs=Fs)\n",
    "#         else:\n",
    "#             pass\n",
    "\n",
    "#     return df\n"
   ]
  },
  {
   "cell_type": "code",
   "execution_count": null,
   "id": "3f3d0a87",
   "metadata": {},
   "outputs": [],
   "source": []
  },
  {
   "cell_type": "code",
   "execution_count": null,
   "id": "054d1fce",
   "metadata": {},
   "outputs": [],
   "source": []
  },
  {
   "cell_type": "code",
   "execution_count": null,
   "id": "6058959a",
   "metadata": {},
   "outputs": [],
   "source": []
  },
  {
   "cell_type": "code",
   "execution_count": null,
   "id": "59b4fdba",
   "metadata": {},
   "outputs": [],
   "source": [
    "\n",
    "# beats_dict = segment_df(df_seg, QRS_detector_dict, Fs)\n",
    "# use_ensemble = True\n"
   ]
  },
  {
   "cell_type": "code",
   "execution_count": null,
   "id": "8aff6bcb",
   "metadata": {},
   "outputs": [],
   "source": []
  },
  {
   "cell_type": "code",
   "execution_count": null,
   "id": "5b5ea448",
   "metadata": {},
   "outputs": [],
   "source": [
    "# if use_ensemble:\n",
    "#     for key in beats_dict:\n",
    "#         if 'ppg' not in key:\n",
    "#             continue\n",
    "#         sig_beats = beats_dict[key]\n",
    "#         beats_dict[key] = get_ensemble_beats(sig_beats, N_enBeats=4, use_woody=False)"
   ]
  },
  {
   "cell_type": "code",
   "execution_count": null,
   "id": "eca33305",
   "metadata": {},
   "outputs": [],
   "source": []
  },
  {
   "cell_type": "code",
   "execution_count": null,
   "id": "f70cf61a",
   "metadata": {},
   "outputs": [],
   "source": [
    "beats_dict.keys()"
   ]
  },
  {
   "cell_type": "code",
   "execution_count": null,
   "id": "3b989a5d",
   "metadata": {},
   "outputs": [],
   "source": []
  },
  {
   "cell_type": "code",
   "execution_count": null,
   "id": "1c7e179c",
   "metadata": {},
   "outputs": [],
   "source": []
  },
  {
   "cell_type": "code",
   "execution_count": null,
   "id": "23fca3fb",
   "metadata": {},
   "outputs": [],
   "source": [
    "beats_id = [1,2,3,4,5,6]\n",
    "beats_names = ['I', 'II', 'III', 'V', 'SPO2', 'PPG_DC']\n",
    "unit_dict['PPG_DC'] = ''\n",
    "\n",
    "def plot_ALL_beats(beats_dict, beats_id, subject_id, Fs, show_good=None, fig_name=None, outputdir=None, show_plot=False):\n",
    "\n",
    "    t_beat = np.arange(beats_dict['I'].shape[0])/Fs\n",
    "\n",
    "    fig = plt.figure(figsize=(16, 10), dpi=80)\n",
    "    fontsize = 20\n",
    "    alpha = 0.03\n",
    "\n",
    "\n",
    "    # for (beat_name, beat_i) in zip(beats_dict, beats_id):\n",
    "    for (beat_name, beat_i) in zip(beats_names, beats_id):\n",
    "\n",
    "        beats = beats_dict[beat_name]\n",
    "\n",
    "        ax = fig.add_subplot(3, 4, beat_i)\n",
    "        ax.set_title(beat_name+'\\n', fontsize=fontsize)\n",
    "\n",
    "        show_good = True\n",
    "        if show_good is not None:\n",
    "\n",
    "\n",
    "            template = beats_dict[beat_name].mean(axis=1)\n",
    "            if beat_name=='SPO2':\n",
    "                mask_all, ol_rate = clean_PPG(beats, template, Fs)\n",
    "                ax.set_title(beat_name+'\\nacception_rate:{:.2f}'.format(1-ol_rate), fontsize=fontsize)\n",
    "\n",
    "            # if 'ppg' in beat_name:\n",
    "\n",
    "    #             # if beat_name[-1]=='1':\n",
    "    #                 template = beats_dict['ppg_r_1'].mean(axis=1)\n",
    "    #             elif beat_name[-1]=='2':\n",
    "    #                 template = beats_dict['ppg_r_1'].mean(axis=1)\n",
    "\n",
    "    #             mask_all, ol_rate = clean_PPG(beats, template, Fs)\n",
    "    #             if show_good==False:\n",
    "    #                 beats = beats[:, ~mask_all]\n",
    "    # #                     print(beat_name, ol_rate)\n",
    "    #                 ax.set_title(beat_name+'\\nrejection_rate:{:.2f}'.format(ol_rate), fontsize=fontsize)\n",
    "    #             else:\n",
    "    #                 beats = beats[:, mask_all]\n",
    "    # #                     print(beat_name, ol_rate)\n",
    "    #                 ax.set_title(beat_name+'\\nacception_rate:{:.2f}'.format(1-ol_rate), fontsize=fontsize)\n",
    "\n",
    "\n",
    "\n",
    "        ax.plot(t_beat, beats, color='gray', alpha=alpha)\n",
    "        ax.plot(t_beat, np.mean(beats,axis=1), color='firebrick', linewidth=3)\n",
    "\n",
    "        if 'SPO2' in beat_name or 'I' == beat_name or 'II' == beat_name or 'III' == beat_name or 'V' == beat_name:\n",
    "            beats_mean = np.mean(beats,axis=1)\n",
    "\n",
    "            ymin = beats_mean.mean() - beats_mean.std()*5\n",
    "            ymax = beats_mean.mean() + beats_mean.std()*5\n",
    "            ax.set_ylim(ymin, ymax)\n",
    "\n",
    "        ax.tick_params(axis='both', which='major', labelsize=13)\n",
    "        ax.set_ylabel(unit_dict[beat_name], fontsize=fontsize-3)\n",
    "        ax.set_xlabel('time (sec)', fontsize=fontsize)\n",
    "\n",
    "\n",
    "\n",
    "    fig.tight_layout()\n",
    "\n",
    "    # if outputdir is not None:\n",
    "\n",
    "    #     if fig_name is None:\n",
    "    #         fig_name = 'beats_ensemble_sub{}'.format(subject_id)\n",
    "\n",
    "    #     if not os.path.exists(outputdir):\n",
    "    #         os.makedirs(outputdir)\n",
    "    #     fig.savefig(outputdir + fig_name+'.png', transparent=False)\n",
    "\n",
    "    # if show_plot == False:\n",
    "    #     plt.close(fig)\n",
    "    #     pyplot.close(fig)\n",
    "    #     plt.close('all')\n",
    "\n",
    "\n",
    "    # #     if log_wandb:\n",
    "    # #         wandb.log({fig_name: wandb.Image(fig)})\n",
    "\n"
   ]
  },
  {
   "cell_type": "code",
   "execution_count": null,
   "id": "519b7553",
   "metadata": {},
   "outputs": [],
   "source": []
  },
  {
   "cell_type": "code",
   "execution_count": null,
   "id": "f1451aea",
   "metadata": {},
   "outputs": [],
   "source": []
  },
  {
   "cell_type": "code",
   "execution_count": null,
   "id": "5d5884b3",
   "metadata": {},
   "outputs": [],
   "source": []
  },
  {
   "cell_type": "code",
   "execution_count": null,
   "id": "5680fb9a",
   "metadata": {},
   "outputs": [],
   "source": [
    "\n"
   ]
  },
  {
   "cell_type": "code",
   "execution_count": null,
   "id": "93447d3c",
   "metadata": {},
   "outputs": [],
   "source": []
  },
  {
   "cell_type": "code",
   "execution_count": null,
   "id": "ac6ac4a9",
   "metadata": {},
   "outputs": [],
   "source": []
  },
  {
   "cell_type": "code",
   "execution_count": null,
   "id": "3b3dd1b2",
   "metadata": {},
   "outputs": [],
   "source": []
  },
  {
   "cell_type": "code",
   "execution_count": null,
   "id": "07900acf",
   "metadata": {},
   "outputs": [],
   "source": []
  },
  {
   "cell_type": "code",
   "execution_count": null,
   "id": "1b252593",
   "metadata": {},
   "outputs": [],
   "source": []
  },
  {
   "cell_type": "code",
   "execution_count": null,
   "id": "c65aaa89",
   "metadata": {},
   "outputs": [],
   "source": []
  },
  {
   "cell_type": "code",
   "execution_count": null,
   "id": "4fc7839b-0e2a-4d81-a41d-276a7fbad7d0",
   "metadata": {},
   "outputs": [],
   "source": []
  },
  {
   "cell_type": "code",
   "execution_count": null,
   "id": "35330d2a-4433-467d-a6c8-4387e8435c74",
   "metadata": {},
   "outputs": [],
   "source": []
  },
  {
   "cell_type": "code",
   "execution_count": null,
   "id": "9db7b20c",
   "metadata": {},
   "outputs": [],
   "source": []
  },
  {
   "cell_type": "code",
   "execution_count": null,
   "id": "5e883f78-1fe6-49a8-be19-86dbdd3f8402",
   "metadata": {},
   "outputs": [],
   "source": []
  },
  {
   "cell_type": "code",
   "execution_count": null,
   "id": "bb916ff8-f081-44a8-a4d7-83024e371b21",
   "metadata": {},
   "outputs": [],
   "source": [
    "df_features"
   ]
  },
  {
   "cell_type": "code",
   "execution_count": null,
   "id": "01982e0b-ecf3-4283-9baa-7150cc08b85c",
   "metadata": {},
   "outputs": [],
   "source": []
  },
  {
   "cell_type": "code",
   "execution_count": null,
   "id": "db96fa7f-e59c-4428-afe4-920dfaca3654",
   "metadata": {},
   "outputs": [],
   "source": []
  },
  {
   "cell_type": "code",
   "execution_count": null,
   "id": "3bab8d29-11fd-4f78-8a77-97e51d3e8431",
   "metadata": {},
   "outputs": [],
   "source": []
  },
  {
   "cell_type": "code",
   "execution_count": null,
   "id": "79829627",
   "metadata": {},
   "outputs": [],
   "source": [
    "plt.plot(df_features['PI'].values)"
   ]
  },
  {
   "cell_type": "code",
   "execution_count": null,
   "id": "d13e3ea0",
   "metadata": {},
   "outputs": [],
   "source": [
    "debug_B2C(beats_PPG, Fs)\n"
   ]
  },
  {
   "cell_type": "code",
   "execution_count": null,
   "id": "f0105059",
   "metadata": {},
   "outputs": [],
   "source": []
  },
  {
   "cell_type": "code",
   "execution_count": null,
   "id": "9105ce1c",
   "metadata": {},
   "outputs": [],
   "source": [
    "data = df_features['B2C'].values\n",
    "FQI_dict = get_FQI_dict(data)\n",
    "plt.plot(FQI_dict['FQI'])"
   ]
  },
  {
   "cell_type": "code",
   "execution_count": null,
   "id": "087e64b8",
   "metadata": {},
   "outputs": [],
   "source": [
    "df_features"
   ]
  },
  {
   "cell_type": "code",
   "execution_count": null,
   "id": "8ac333ba",
   "metadata": {},
   "outputs": [],
   "source": [
    "data = df_features['PI'].values\n",
    "FQI_dict = get_FQI_dict(data)\n",
    "plt.plot(FQI_dict['FQI'])"
   ]
  },
  {
   "cell_type": "code",
   "execution_count": null,
   "id": "b353976e",
   "metadata": {},
   "outputs": [],
   "source": [
    "data = df_features['max2min'].values\n",
    "FQI_dict = get_FQI_dict(data)\n",
    "plt.plot(FQI_dict['FQI'])"
   ]
  },
  {
   "cell_type": "code",
   "execution_count": null,
   "id": "5842c813",
   "metadata": {},
   "outputs": [],
   "source": []
  },
  {
   "cell_type": "code",
   "execution_count": null,
   "id": "4631879b",
   "metadata": {},
   "outputs": [],
   "source": []
  },
  {
   "cell_type": "code",
   "execution_count": null,
   "id": "83eede5e",
   "metadata": {},
   "outputs": [],
   "source": []
  },
  {
   "cell_type": "code",
   "execution_count": null,
   "id": "1af57406",
   "metadata": {},
   "outputs": [],
   "source": [
    "feature_names!='i_R_peak'"
   ]
  },
  {
   "cell_type": "code",
   "execution_count": null,
   "id": "5d1ad768",
   "metadata": {},
   "outputs": [],
   "source": [
    "feature_names"
   ]
  },
  {
   "cell_type": "code",
   "execution_count": null,
   "id": "429f4636",
   "metadata": {},
   "outputs": [],
   "source": [
    "feature_names = df_features.columns\n",
    "feature_names = feature_names[feature_names!='i_R_peak']\n",
    "N_feature = feature_names.shape[0]"
   ]
  },
  {
   "cell_type": "code",
   "execution_count": null,
   "id": "2ff5a3d3",
   "metadata": {},
   "outputs": [],
   "source": [
    "df_seg"
   ]
  },
  {
   "cell_type": "code",
   "execution_count": null,
   "id": "f52d87d8",
   "metadata": {},
   "outputs": [],
   "source": [
    "fig, (axes) = plt.subplots(N_feature+2, 1, figsize=(20,8), dpi=100)\n",
    "\n",
    "t_sig = df_seg['time'].values\n",
    "t_sig = t_sig-t_sig[0]\n",
    "\n",
    "ax1= axes[0]\n",
    "ax1.plot(t_sig, df_seg['SPO2'].values)\n",
    "ax1.set_ylabel('PPG')\n",
    "\n",
    "ax2= axes[1]\n",
    "ax2.plot(t_sig, df_seg['RR'].values)\n",
    "ax2.set_ylabel('RR')\n",
    "\n",
    "for i, feature_name in enumerate(feature_names):\n",
    "    ax = axes[i+2]\n",
    "    # ax2.scatter(beats_dict['i_R_peaks'][mask_feature], features_B2C[mask_feature])\n",
    "    data = df_features[feature_name].values\n",
    "    FQI_dict = get_FQI_dict(data)\n",
    "    mask_feature = FQI_dict['mask_feature']\n",
    "    ax.plot(df_features['i_R_peak'][mask_feature&mask_all]/Fs, df_features[feature_name][mask_feature&mask_all])\n",
    "    ax.scatter(df_features['i_R_peak'][mask_feature&mask_all]/Fs, df_features[feature_name][mask_feature&mask_all])\n",
    "    ax.set_ylabel(feature_name)\n",
    "\n",
    "ax.set_xlabel('time (s)')\n",
    "fig.tight_layout()\n"
   ]
  },
  {
   "cell_type": "code",
   "execution_count": null,
   "id": "b96e7300",
   "metadata": {},
   "outputs": [],
   "source": []
  },
  {
   "cell_type": "code",
   "execution_count": null,
   "id": "7a38e9b7",
   "metadata": {},
   "outputs": [],
   "source": []
  },
  {
   "cell_type": "code",
   "execution_count": null,
   "id": "a668fc21",
   "metadata": {},
   "outputs": [],
   "source": []
  },
  {
   "cell_type": "code",
   "execution_count": null,
   "id": "d8d24449",
   "metadata": {},
   "outputs": [],
   "source": []
  },
  {
   "cell_type": "code",
   "execution_count": null,
   "id": "274dc3be",
   "metadata": {},
   "outputs": [],
   "source": []
  },
  {
   "cell_type": "code",
   "execution_count": null,
   "id": "265b7714",
   "metadata": {},
   "outputs": [],
   "source": [
    "beats_dict['i_R_peaks'].shape, features_B2C.shape"
   ]
  },
  {
   "cell_type": "code",
   "execution_count": null,
   "id": "c3e4dcc3",
   "metadata": {},
   "outputs": [],
   "source": []
  },
  {
   "cell_type": "code",
   "execution_count": null,
   "id": "894ce89c",
   "metadata": {},
   "outputs": [],
   "source": []
  },
  {
   "cell_type": "code",
   "execution_count": null,
   "id": "99c2890d",
   "metadata": {},
   "outputs": [],
   "source": []
  },
  {
   "cell_type": "code",
   "execution_count": null,
   "id": "5b63ab78",
   "metadata": {},
   "outputs": [],
   "source": []
  },
  {
   "cell_type": "code",
   "execution_count": null,
   "id": "93e1f8d3",
   "metadata": {},
   "outputs": [],
   "source": []
  },
  {
   "cell_type": "code",
   "execution_count": null,
   "id": "435ea5fc",
   "metadata": {},
   "outputs": [],
   "source": [
    "sig_plt"
   ]
  },
  {
   "cell_type": "code",
   "execution_count": null,
   "id": "adb4fd51",
   "metadata": {},
   "outputs": [],
   "source": [
    "t_start = 1100\n",
    "t_end = 1150\n",
    "\n",
    "df_seg = df[(df['time']>=t_start) & (df['time']<=t_end)].copy()\n",
    "\n",
    "t_arr = df_seg['time'].values\n",
    "#     t_arr = t_arr - t_arr[0]\n",
    "\n",
    "t_start = t_arr[0]\n",
    "t_end = t_arr[-1]\n",
    "\n",
    "sig_name = 'SPO2'\n",
    "sig_plt = df_seg[sig_name].values\n",
    "\n",
    "\n",
    "sig_plt = get_padded_filt(sig_plt, filter_padded=5, lowcutoff=1, highcutoff=4, Fs=Fs)\n",
    "\n",
    "# t_arr = df_seg['time'].values\n",
    "alpha=0.5\n",
    "fig, ax = plt.subplots(1, 1, figsize=(25,10), gridspec_kw = {'wspace':0, 'hspace':0}, dpi=80)\n",
    "ax.plot(t_arr, sig_plt, alpha=alpha ,zorder=1, linewidth=linewidth)\n",
    "# ax.set_ylim(-5,5)"
   ]
  },
  {
   "cell_type": "code",
   "execution_count": null,
   "id": "717b313e",
   "metadata": {},
   "outputs": [],
   "source": [
    "unit_dict"
   ]
  },
  {
   "cell_type": "code",
   "execution_count": null,
   "id": "f21414b5",
   "metadata": {},
   "outputs": [],
   "source": []
  },
  {
   "cell_type": "code",
   "execution_count": null,
   "id": "a3f13064",
   "metadata": {},
   "outputs": [],
   "source": []
  },
  {
   "cell_type": "code",
   "execution_count": null,
   "id": "eeb89db0",
   "metadata": {},
   "outputs": [],
   "source": []
  },
  {
   "cell_type": "code",
   "execution_count": null,
   "id": "89128a61",
   "metadata": {},
   "outputs": [],
   "source": []
  },
  {
   "cell_type": "code",
   "execution_count": null,
   "id": "5ef198e4",
   "metadata": {},
   "outputs": [],
   "source": []
  },
  {
   "cell_type": "code",
   "execution_count": null,
   "id": "8325b7cd",
   "metadata": {},
   "outputs": [],
   "source": []
  },
  {
   "cell_type": "code",
   "execution_count": null,
   "id": "100ed96e",
   "metadata": {},
   "outputs": [],
   "source": []
  },
  {
   "cell_type": "code",
   "execution_count": null,
   "id": "02a0c357",
   "metadata": {},
   "outputs": [],
   "source": []
  },
  {
   "cell_type": "code",
   "execution_count": null,
   "id": "8615dccb",
   "metadata": {},
   "outputs": [],
   "source": []
  },
  {
   "cell_type": "code",
   "execution_count": null,
   "id": "8f5e9281",
   "metadata": {},
   "outputs": [],
   "source": []
  },
  {
   "cell_type": "code",
   "execution_count": null,
   "id": "d1ebbe58",
   "metadata": {},
   "outputs": [],
   "source": []
  },
  {
   "cell_type": "code",
   "execution_count": null,
   "id": "2971df0e",
   "metadata": {},
   "outputs": [],
   "source": []
  },
  {
   "cell_type": "code",
   "execution_count": null,
   "id": "3734917a",
   "metadata": {},
   "outputs": [],
   "source": []
  },
  {
   "cell_type": "code",
   "execution_count": null,
   "id": "9fd9f874",
   "metadata": {},
   "outputs": [],
   "source": []
  },
  {
   "cell_type": "code",
   "execution_count": null,
   "id": "8c262945",
   "metadata": {},
   "outputs": [],
   "source": []
  },
  {
   "cell_type": "code",
   "execution_count": null,
   "id": "84f25573",
   "metadata": {},
   "outputs": [],
   "source": []
  },
  {
   "cell_type": "code",
   "execution_count": null,
   "id": "06e7200f",
   "metadata": {},
   "outputs": [],
   "source": []
  },
  {
   "cell_type": "code",
   "execution_count": null,
   "id": "c90dd671",
   "metadata": {},
   "outputs": [],
   "source": []
  },
  {
   "cell_type": "code",
   "execution_count": null,
   "id": "bf534c24",
   "metadata": {},
   "outputs": [],
   "source": []
  },
  {
   "cell_type": "code",
   "execution_count": null,
   "id": "86f29d03",
   "metadata": {},
   "outputs": [],
   "source": []
  },
  {
   "cell_type": "code",
   "execution_count": null,
   "id": "f1b4d6f6",
   "metadata": {},
   "outputs": [],
   "source": []
  },
  {
   "cell_type": "code",
   "execution_count": null,
   "id": "8b586383",
   "metadata": {},
   "outputs": [],
   "source": []
  },
  {
   "cell_type": "code",
   "execution_count": null,
   "id": "853a55ff",
   "metadata": {},
   "outputs": [],
   "source": [
    "homedir = os.path.expanduser('~')+'/'"
   ]
  },
  {
   "cell_type": "code",
   "execution_count": null,
   "id": "d21e49df",
   "metadata": {},
   "outputs": [],
   "source": [
    "inputdir = homedir+'kamaleswaranlab/Sepsis3_062321/Files_cp_sftp_6_30_21/Files_cp_6_30_21/'"
   ]
  },
  {
   "cell_type": "code",
   "execution_count": null,
   "id": "5c6959dc",
   "metadata": {},
   "outputs": [],
   "source": [
    "for sub_file in os.listdir(inputdir):\n",
    "    # print(sub_file)\n",
    "    pass"
   ]
  },
  {
   "cell_type": "code",
   "execution_count": null,
   "id": "07034e57",
   "metadata": {},
   "outputs": [],
   "source": [
    "sub_id = 'A071-0512777549'"
   ]
  },
  {
   "cell_type": "code",
   "execution_count": null,
   "id": "e5456231",
   "metadata": {},
   "outputs": [],
   "source": [
    "for sub_file in os.listdir(inputdir+sub_id):\n",
    "    if 'hea' in sub_file:\n",
    "        print(sub_file)"
   ]
  },
  {
   "cell_type": "code",
   "execution_count": null,
   "id": "862c64dc",
   "metadata": {},
   "outputs": [],
   "source": []
  },
  {
   "cell_type": "code",
   "execution_count": null,
   "id": "888afd9c",
   "metadata": {},
   "outputs": [],
   "source": []
  },
  {
   "cell_type": "code",
   "execution_count": null,
   "id": "f0eb92fe",
   "metadata": {},
   "outputs": [],
   "source": []
  },
  {
   "cell_type": "code",
   "execution_count": null,
   "id": "f1f3c3ee",
   "metadata": {},
   "outputs": [],
   "source": []
  },
  {
   "cell_type": "code",
   "execution_count": null,
   "id": "11428bc6",
   "metadata": {},
   "outputs": [],
   "source": []
  },
  {
   "cell_type": "code",
   "execution_count": null,
   "id": "42904911",
   "metadata": {},
   "outputs": [],
   "source": []
  },
  {
   "cell_type": "code",
   "execution_count": null,
   "id": "6a4dadf8",
   "metadata": {},
   "outputs": [],
   "source": []
  },
  {
   "cell_type": "code",
   "execution_count": null,
   "id": "26294eff",
   "metadata": {},
   "outputs": [],
   "source": []
  },
  {
   "cell_type": "code",
   "execution_count": null,
   "id": "48f137cb",
   "metadata": {},
   "outputs": [],
   "source": []
  },
  {
   "cell_type": "code",
   "execution_count": null,
   "id": "ddb85b11",
   "metadata": {},
   "outputs": [],
   "source": []
  },
  {
   "cell_type": "code",
   "execution_count": null,
   "id": "f3009839",
   "metadata": {},
   "outputs": [],
   "source": []
  },
  {
   "cell_type": "code",
   "execution_count": null,
   "id": "8183887b",
   "metadata": {},
   "outputs": [],
   "source": []
  },
  {
   "cell_type": "code",
   "execution_count": null,
   "id": "e0da7568",
   "metadata": {},
   "outputs": [],
   "source": []
  },
  {
   "cell_type": "code",
   "execution_count": null,
   "id": "ead6acc4",
   "metadata": {},
   "outputs": [],
   "source": []
  },
  {
   "cell_type": "code",
   "execution_count": null,
   "id": "14c3b382",
   "metadata": {},
   "outputs": [],
   "source": []
  },
  {
   "cell_type": "code",
   "execution_count": null,
   "id": "ee8b9f1e",
   "metadata": {},
   "outputs": [],
   "source": []
  }
 ],
 "metadata": {
  "kernelspec": {
   "display_name": "Python 3 (ipykernel)",
   "language": "python",
   "name": "python3"
  },
  "language_info": {
   "codemirror_mode": {
    "name": "ipython",
    "version": 3
   },
   "file_extension": ".py",
   "mimetype": "text/x-python",
   "name": "python",
   "nbconvert_exporter": "python",
   "pygments_lexer": "ipython3",
   "version": "3.8.11"
  }
 },
 "nbformat": 4,
 "nbformat_minor": 5
}
