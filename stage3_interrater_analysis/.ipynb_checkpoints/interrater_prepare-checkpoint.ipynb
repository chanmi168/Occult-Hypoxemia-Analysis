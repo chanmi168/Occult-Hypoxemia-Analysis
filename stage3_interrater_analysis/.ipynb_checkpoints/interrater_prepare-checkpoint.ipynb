{
 "cells": [
  {
   "cell_type": "markdown",
   "id": "25793c03",
   "metadata": {},
   "source": [
    "# Iterating through all patients in all years to find peep>5"
   ]
  },
  {
   "cell_type": "code",
   "execution_count": 1,
   "id": "1ac6bba4",
   "metadata": {},
   "outputs": [],
   "source": [
    "import pandas as pd\n",
    "from datetime import datetime\n",
    "import os\n",
    "import pickle\n",
    "from datetime import timedelta\n",
    "from datetime import datetime\n",
    "from datetime import date\n",
    "from datetime import time\n",
    "from dateutil.relativedelta import relativedelta\n",
    "\n",
    "import pandas as pd\n",
    "import numpy as np\n",
    "import os\n",
    "\n",
    "import json\n",
    "\n",
    "import sys\n",
    "from scipy.io import loadmat\n",
    "\n",
    "import matplotlib\n",
    "import matplotlib.pyplot as plt\n",
    "plt.style.use('seaborn-white')\n",
    "matplotlib.rc( 'savefig', facecolor = 'white' )\n",
    "from matplotlib import pyplot\n",
    "import matplotlib.ticker as plticker\n",
    "\n",
    "import seaborn as sns\n",
    "\n",
    "\n",
    "import sys\n",
    "sys.path.append('../') # add this line so Data and data are visible in this file\n",
    "sys.path.append('../../') # add this line so Data and data are visible in this file\n",
    "sys.path.append('../PhysioMC/') # add this line so Data and data are visible in this file\n",
    "\n",
    "# from PatchWand import *\n",
    "from filters import *\n",
    "from setting import *\n",
    "# from preprocessing import *\n",
    "from ECG_module import *\n",
    "from dataIO import *\n",
    "from stage1_PPG_analysis import *\n",
    "\n",
    "from importlib import reload\n",
    "%load_ext autoreload\n",
    "%autoreload 2"
   ]
  },
  {
   "cell_type": "code",
   "execution_count": 2,
   "id": "b3ed2501",
   "metadata": {},
   "outputs": [],
   "source": [
    "# selected_id = 10"
   ]
  },
  {
   "cell_type": "code",
   "execution_count": 3,
   "id": "8c93df87",
   "metadata": {
    "tags": []
   },
   "outputs": [
    {
     "data": {
      "text/plain": [
       "'/labs/kamaleswaranlab/Sepsis3_062321/mchan_analysis/disparities_O2/repo/stage3_interrater_analysis'"
      ]
     },
     "execution_count": 3,
     "metadata": {},
     "output_type": "execute_result"
    }
   ],
   "source": [
    "%pwd"
   ]
  },
  {
   "cell_type": "code",
   "execution_count": 4,
   "id": "98a2f827-f4a2-4361-8f48-f88749291d85",
   "metadata": {},
   "outputs": [],
   "source": [
    "outputdir = '../../data/stage3/'\n",
    "if not os.path.exists(outputdir):\n",
    "    os.makedirs(outputdir)"
   ]
  },
  {
   "cell_type": "code",
   "execution_count": 5,
   "id": "a1f2ff38-fee3-4129-877c-4f51a5bdf9c2",
   "metadata": {},
   "outputs": [],
   "source": [
    "inputdir = '/labs/kamaleswaranlab/Sepsis3_062321/Files_cp_sftp_6_30_21/Files_cp_6_30_21/'"
   ]
  },
  {
   "cell_type": "code",
   "execution_count": 6,
   "id": "0bed5727-6dde-46c4-85a3-c28a7c5b190e",
   "metadata": {},
   "outputs": [],
   "source": [
    "demographic_filedir = '../../data/Pat_BedTime_List_some_on_BMI_2_6_22_dem.csv'\n",
    "\n",
    "df_demographic = pd.read_csv(demographic_filedir, index_col=0)  \n"
   ]
  },
  {
   "cell_type": "code",
   "execution_count": 7,
   "id": "03f472a6-d64c-4013-a2a3-ea008ced42c4",
   "metadata": {},
   "outputs": [
    {
     "data": {
      "text/plain": [
       "(6285, 9)"
      ]
     },
     "execution_count": 7,
     "metadata": {},
     "output_type": "execute_result"
    }
   ],
   "source": [
    "df_demographic.shape"
   ]
  },
  {
   "cell_type": "code",
   "execution_count": null,
   "id": "82b499aa-89e5-4d1f-ae79-6b27125b1c13",
   "metadata": {},
   "outputs": [],
   "source": []
  },
  {
   "cell_type": "code",
   "execution_count": null,
   "id": "17836e5a-d4e0-4371-a8b4-e15dd3aecf43",
   "metadata": {},
   "outputs": [],
   "source": []
  },
  {
   "cell_type": "code",
   "execution_count": null,
   "id": "29a08a5c-05dc-49da-95ad-3f412d8f18a4",
   "metadata": {},
   "outputs": [],
   "source": []
  },
  {
   "cell_type": "code",
   "execution_count": null,
   "id": "a4b6c23e-c18f-4bc3-8bb8-04e480e008f1",
   "metadata": {},
   "outputs": [],
   "source": []
  },
  {
   "cell_type": "code",
   "execution_count": null,
   "id": "4abc152c-1f6c-498c-abd5-d8f31a6be7c2",
   "metadata": {},
   "outputs": [],
   "source": []
  },
  {
   "cell_type": "code",
   "execution_count": null,
   "id": "c98409a0-c1d0-4291-9318-a9905eeb494c",
   "metadata": {},
   "outputs": [],
   "source": []
  },
  {
   "cell_type": "code",
   "execution_count": null,
   "id": "cb8a4a68-990b-4c7a-934c-ee496a8bd2d0",
   "metadata": {},
   "outputs": [],
   "source": []
  },
  {
   "cell_type": "code",
   "execution_count": null,
   "id": "1e9efcab-93a5-4bb7-b5ce-15f660312f26",
   "metadata": {},
   "outputs": [],
   "source": []
  },
  {
   "cell_type": "code",
   "execution_count": null,
   "id": "5ebceceb-241b-4a40-a9b8-8af792e2da29",
   "metadata": {},
   "outputs": [],
   "source": []
  },
  {
   "cell_type": "code",
   "execution_count": null,
   "id": "8d53b5c7-1755-4c07-a411-39e8acb27425",
   "metadata": {},
   "outputs": [],
   "source": []
  },
  {
   "cell_type": "code",
   "execution_count": 8,
   "id": "f9184b95-8659-4314-92f9-de82fbedc4e7",
   "metadata": {},
   "outputs": [],
   "source": [
    "def fix_waveform_datetime(row, header_dict, vervose=False):\n",
    "\n",
    "    if vervose:\n",
    "        print('\\tdemographic start time: {}'.format(row['DateStart']))\n",
    "        print('\\tdemographic end time: {}'.format(row['DateEnd']))\n",
    "\n",
    "    date = row['DateStart'].split(' ')[0]\n",
    "    str_format = '%Y-%m-%d %H:%M:%S.%f'\n",
    "\n",
    "    waveform_start = datetime.strptime(date + ' ' + header_dict['start_time'], str_format)\n",
    "    waveform_end = waveform_start + timedelta(hours=header_dict['t_dur(hr)'])\n",
    "\n",
    "    waveform_start = waveform_start.strftime(str_format)\n",
    "    waveform_end = waveform_end.strftime(str_format)\n",
    "    # waveform_start, waveform_end\n",
    "\n",
    "    header_dict['waveform_start'] = waveform_start\n",
    "    header_dict['waveform_end'] = waveform_end\n",
    "\n",
    "    if vervose:\n",
    "        print('\\twaveform start time: {}'.format(header_dict['waveform_start']))\n",
    "        print('\\twaveform end time: {}'.format(header_dict['waveform_end']))\n",
    "\n",
    "    return header_dict"
   ]
  },
  {
   "cell_type": "code",
   "execution_count": null,
   "id": "f4686e90-4f28-410f-ade9-d83e7bfc8ea8",
   "metadata": {},
   "outputs": [],
   "source": []
  },
  {
   "cell_type": "code",
   "execution_count": 9,
   "id": "b68d1144-8b27-4c65-b320-9beb4da11fc3",
   "metadata": {},
   "outputs": [
    {
     "name": "stdout",
     "output_type": "stream",
     "text": [
      "working on bed ID:  A118-0520880083\n",
      "working on bed ID:  A140-0515603029\n",
      "working on bed ID:  A088-0516735120\n",
      "working on bed ID:  A051-0495488308\n",
      "working on bed ID:  A121-0520783579\n",
      "working on bed ID:  A050-0507049017\n",
      "working on bed ID:  A108-0518398746\n",
      "working on bed ID:  A117-0520655417\n",
      "working on bed ID:  A080-0504067819\n",
      "working on bed ID:  A070-0513720061\n",
      "working on bed ID:  A070-0507909063\n",
      "working on bed ID:  A103-0493828138\n",
      "working on bed ID:  A031-0493249275\n",
      "working on bed ID:  A110-0516977186\n",
      "working on bed ID:  A069-0518647987\n",
      "working on bed ID:  A104-0516827109\n",
      "working on bed ID:  A108-0517612057\n",
      "working on bed ID:  A060-0516834366\n",
      "working on bed ID:  A132-0522270480\n",
      "working on bed ID:  A012-0514936481\n",
      "working on bed ID:  A014-0500309075\n",
      "working on bed ID:  A062-0519510176\n",
      "working on bed ID:  A003-0515713985\n",
      "\t\textracting features\n",
      "working on bed ID:  A013-0517960375\n",
      "working on bed ID:  A088-0519415557\n",
      "working on bed ID:  A085-0519671378\n",
      "working on bed ID:  A108-0521328454\n",
      "working on bed ID:  A080-0490280282\n",
      "working on bed ID:  A058-0519249333\n",
      "working on bed ID:  A078-0515599584\n",
      "working on bed ID:  A045-0517528131\n",
      "\t\textracting features\n",
      "\t\tPPG outlier rate: 5.90%\n",
      "\t\tshow df_features_bed size: (1930, 9)\n",
      "working on bed ID:  A003-0521644176\n",
      "working on bed ID:  A093-0521831911\n",
      "working on bed ID:  A054-0490743104\n",
      "working on bed ID:  A064-0489102860\n",
      "\t\textracting features\n",
      "\t\tPPG outlier rate: 7.34%\n",
      "\t\tshow df_features_bed size: (2501, 9)\n",
      "working on bed ID:  A118-0520278439\n",
      "working on bed ID:  A003-0515713470\n",
      "working on bed ID:  A114-0522007807\n",
      "working on bed ID:  A120-0517053476\n",
      "working on bed ID:  A037-0494603645\n",
      "working on bed ID:  A095-0515592418\n",
      "working on bed ID:  A003-0509209379\n",
      "working on bed ID:  A078-0515439432\n",
      "working on bed ID:  A116-0516906022\n",
      "working on bed ID:  A015-0500911952\n",
      "working on bed ID:  A032-0507138909\n",
      "working on bed ID:  A138-0521639985\n",
      "working on bed ID:  A138-0521640055\n",
      "working on bed ID:  A038-0502311159\n",
      "working on bed ID:  A078-0502204759\n",
      "working on bed ID:  A125-0516047808\n",
      "working on bed ID:  A138-0521640206\n",
      "working on bed ID:  A118-0521083979\n",
      "working on bed ID:  A125-0518005147\n",
      "working on bed ID:  A123-0516381655\n",
      "working on bed ID:  A038-0496679520\n",
      "working on bed ID:  A058-0521035342\n",
      "working on bed ID:  A043-0519603331\n",
      "working on bed ID:  A088-0498328870\n",
      "working on bed ID:  A011-0508859323\n",
      "working on bed ID:  A123-0516053080\n",
      "working on bed ID:  A014-0522073656\n",
      "working on bed ID:  A020-0490978451\n",
      "working on bed ID:  A034-0507211016\n",
      "working on bed ID:  A019-0490908846\n",
      "working on bed ID:  A052-0508532637\n",
      "working on bed ID:  A104-0516396488\n",
      "working on bed ID:  A142-0520364741\n",
      "working on bed ID:  A083-0517957929\n",
      "working on bed ID:  A134-0522181621\n",
      "working on bed ID:  A026-0488965476\n",
      "working on bed ID:  A056-0516269485\n",
      "working on bed ID:  A139-0518553927\n",
      "working on bed ID:  A104-0518052524\n",
      "working on bed ID:  A053-0498078355\n",
      "working on bed ID:  A003-0518138306\n",
      "\t\textracting features\n",
      "working on bed ID:  A064-0517276438\n",
      "working on bed ID:  A006-0515288927\n",
      "working on bed ID:  A105-0516242364\n",
      "working on bed ID:  A093-0516311018\n",
      "working on bed ID:  A117-0516482748\n",
      "working on bed ID:  A091-0521001035\n",
      "working on bed ID:  A021-0521760247\n",
      "working on bed ID:  A092-0512258187\n",
      "working on bed ID:  A010-0522087190\n",
      "\t\textracting features\n",
      "\t\tPPG outlier rate: 8.44%\n",
      "\t\tshow df_features_bed size: (2046, 9)\n",
      "working on bed ID:  A134-0521701124\n",
      "working on bed ID:  A083-0504912176\n",
      "working on bed ID:  A072-0519637326\n",
      "working on bed ID:  A102-0493719781\n",
      "working on bed ID:  A062-0504192215\n",
      "working on bed ID:  A047-0499619200\n",
      "working on bed ID:  A010-0516747037\n",
      "working on bed ID:  A056-0518740304\n",
      "working on bed ID:  A108-0521241255\n",
      "working on bed ID:  A053-0498061570\n",
      "working on bed ID:  A040-0498678462\n",
      "working on bed ID:  A143-0516820354\n",
      "working on bed ID:  A043-0515532432\n",
      "working on bed ID:  A038-0496847995\n",
      "working on bed ID:  A135-0519176020\n",
      "working on bed ID:  A049-0490380120\n",
      "working on bed ID:  A016-0502600944\n",
      "working on bed ID:  A070-0515520529\n",
      "working on bed ID:  A107-0518121563\n",
      "working on bed ID:  A045-0517590278\n",
      "working on bed ID:  A102-0516380028\n",
      "working on bed ID:  A094-0522095342\n",
      "working on bed ID:  A097-0505762632\n",
      "working on bed ID:  A080-0502575497\n",
      "working on bed ID:  A051-0520452891\n",
      "working on bed ID:  A109-0521261815\n",
      "working on bed ID:  A094-0495992461\n",
      "working on bed ID:  A091-0520999078\n",
      "working on bed ID:  A076-0495232117\n",
      "working on bed ID:  A131-0517010128\n",
      "working on bed ID:  A054-0521963809\n",
      "working on bed ID:  A082-0503105904\n",
      "working on bed ID:  A132-0520040944\n",
      "working on bed ID:  A142-0518294807\n",
      "working on bed ID:  A023-0520989512\n",
      "working on bed ID:  A116-0517519932\n",
      "working on bed ID:  A143-0521400449\n",
      "working on bed ID:  A102-0502906507\n",
      "working on bed ID:  A074-0521242576\n",
      "working on bed ID:  A039-0520607593\n",
      "working on bed ID:  A127-0522107873\n",
      "working on bed ID:  A108-0520373147\n",
      "working on bed ID:  A072-0516380330\n",
      "working on bed ID:  A026-0516381736\n",
      "working on bed ID:  A093-0508860963\n",
      "working on bed ID:  A094-0501277426\n",
      "working on bed ID:  A064-0517093449\n",
      "working on bed ID:  A084-0512671366\n",
      "working on bed ID:  A094-0508280199\n",
      "working on bed ID:  A068-0520888882\n",
      "working on bed ID:  A050-0507055887\n",
      "working on bed ID:  A068-0520888996\n",
      "working on bed ID:  A058-0521838086\n",
      "working on bed ID:  A091-0490049423\n",
      "working on bed ID:  A062-0498076998\n",
      "working on bed ID:  A021-0519682108\n",
      "working on bed ID:  A023-0497091497\n",
      "working on bed ID:  A084-0499282278\n",
      "working on bed ID:  A076-0513096856\n",
      "working on bed ID:  A036-0490811028\n",
      "working on bed ID:  A076-0511805640\n",
      "working on bed ID:  A126-0517369105\n",
      "working on bed ID:  A076-0513096795\n",
      "working on bed ID:  A014-0505507093\n",
      "working on bed ID:  A076-0515782611\n",
      "working on bed ID:  A016-0520614391\n",
      "working on bed ID:  A131-0518419914\n",
      "working on bed ID:  A040-0503695766\n",
      "working on bed ID:  A070-0502819846\n",
      "working on bed ID:  A033-0514838050\n",
      "working on bed ID:  A110-0522078031\n",
      "working on bed ID:  A035-0515992323\n",
      "working on bed ID:  A020-0512505480\n",
      "working on bed ID:  A104-0522088818\n",
      "working on bed ID:  A111-0515650181\n",
      "working on bed ID:  A108-0518647235\n",
      "working on bed ID:  A062-0504313525\n",
      "working on bed ID:  A028-0519938741\n",
      "working on bed ID:  A065-0495473749\n",
      "working on bed ID:  A088-0521111864\n",
      "\t\textracting features\n",
      "\t\tPPG outlier rate: 8.89%\n",
      "\t\tshow df_features_bed size: (2466, 9)\n",
      "working on bed ID:  A085-0491158668\n",
      "working on bed ID:  A138-0516909056\n",
      "working on bed ID:  A126-0520785156\n",
      "working on bed ID:  A040-0495465679\n",
      "working on bed ID:  A049-0502586257\n",
      "working on bed ID:  A064-0499986536\n",
      "working on bed ID:  A059-0507084695\n",
      "working on bed ID:  A094-0490262133\n",
      "working on bed ID:  A089-0499641041\n",
      "working on bed ID:  A007-0513025407\n",
      "working on bed ID:  A070-0497044859\n",
      "\t\textracting features\n",
      "\t\tPPG outlier rate: 7.09%\n",
      "\t\tPPG outlier rate: 3.83%\n",
      "\t\tPPG outlier rate: 3.46%\n",
      "\t\tshow df_features_bed size: (8563, 9)\n",
      "working on bed ID:  A011-0495134138\n",
      "working on bed ID:  A108-0520375114\n",
      "working on bed ID:  A065-0510249193\n",
      "working on bed ID:  A064-0521753378\n",
      "working on bed ID:  A138-0520694924\n",
      "working on bed ID:  A093-0517861014\n",
      "working on bed ID:  A014-0520615181\n",
      "working on bed ID:  A078-0510179166\n",
      "working on bed ID:  A094-0507074189\n",
      "working on bed ID:  A039-0500959442\n",
      "working on bed ID:  A025-0519766858\n",
      "working on bed ID:  A143-0518065115\n",
      "working on bed ID:  A014-0520615434\n",
      "working on bed ID:  A104-0516837253\n",
      "working on bed ID:  A092-0488389936\n",
      "working on bed ID:  A003-0512343999\n",
      "working on bed ID:  A006-0518567855\n",
      "working on bed ID:  A029-0518066112\n",
      "working on bed ID:  A051-0496653805\n",
      "working on bed ID:  A076-0512685499\n",
      "working on bed ID:  A050-0507058183\n",
      "working on bed ID:  A023-0515621768\n",
      "working on bed ID:  A117-0518827400\n",
      "working on bed ID:  A111-0521110736\n",
      "working on bed ID:  A089-0494096988\n",
      "working on bed ID:  A035-0520919680\n",
      "working on bed ID:  A104-0517772005\n",
      "working on bed ID:  A095-0505970597\n",
      "working on bed ID:  A131-0517013640\n",
      "working on bed ID:  A116-0521182057\n",
      "working on bed ID:  A108-0520244656\n",
      "working on bed ID:  A040-0506423770\n",
      "working on bed ID:  A043-0509983861\n",
      "working on bed ID:  A109-0522044844\n",
      "working on bed ID:  A107-0519948072\n",
      "working on bed ID:  A027-0519160170\n",
      "working on bed ID:  A047-0498446177\n",
      "working on bed ID:  A038-0505424539\n",
      "working on bed ID:  A011-0488484741\n",
      "working on bed ID:  A058-0517001476\n",
      "working on bed ID:  A065-0498210149\n",
      "working on bed ID:  A097-0504740274\n",
      "working on bed ID:  A119-0517943684\n",
      "working on bed ID:  A006-0509922730\n",
      "working on bed ID:  A095-0508560628\n",
      "working on bed ID:  A094-0522100158\n",
      "working on bed ID:  A031-0517713433\n",
      "working on bed ID:  A064-0520399519\n",
      "working on bed ID:  A083-0517886667\n",
      "working on bed ID:  A032-0510681525\n",
      "working on bed ID:  A016-0519146641\n",
      "working on bed ID:  A029-0502990266\n",
      "working on bed ID:  A040-0497259313\n",
      "working on bed ID:  A100-0521569742\n",
      "working on bed ID:  A112-0520808922\n",
      "working on bed ID:  A094-0496428042\n",
      "working on bed ID:  A020-0501191674\n",
      "working on bed ID:  A072-0499354227\n",
      "working on bed ID:  A004-0521179951\n",
      "working on bed ID:  A102-0521353744\n",
      "working on bed ID:  A077-0508729259\n",
      "working on bed ID:  A110-0518216909\n",
      "working on bed ID:  A051-0521480890\n",
      "working on bed ID:  A013-0518563375\n",
      "working on bed ID:  A021-0521410201\n",
      "working on bed ID:  A063-0497395488\n",
      "working on bed ID:  A015-0506157622\n",
      "working on bed ID:  A063-0521696653\n",
      "working on bed ID:  A064-0516531662\n",
      "working on bed ID:  A093-0496262488\n",
      "working on bed ID:  A032-0500515785\n",
      "working on bed ID:  A064-0518467176\n",
      "working on bed ID:  A054-0520495014\n",
      "working on bed ID:  A100-0490707498\n",
      "working on bed ID:  A063-0497395644\n",
      "working on bed ID:  A034-0500962960\n",
      "working on bed ID:  A130-0517180768\n",
      "working on bed ID:  A026-0502898496\n",
      "working on bed ID:  A060-0521129637\n",
      "working on bed ID:  A092-0493870786\n",
      "working on bed ID:  A064-0499989604\n",
      "working on bed ID:  A074-0514577106\n",
      "working on bed ID:  A033-0495469185\n",
      "working on bed ID:  A089-0500653820\n",
      "working on bed ID:  A103-0518031577\n",
      "working on bed ID:  A083-0497312621\n",
      "working on bed ID:  A094-0508284842\n",
      "working on bed ID:  A097-0491036504\n",
      "working on bed ID:  A006-0516505464\n",
      "working on bed ID:  A021-0512776570\n",
      "working on bed ID:  A070-0513732305\n",
      "working on bed ID:  A037-0504376737\n",
      "working on bed ID:  A077-0514350389\n",
      "working on bed ID:  A112-0520809828\n",
      "working on bed ID:  A131-0517526113\n",
      "working on bed ID:  A100-0517854524\n",
      "working on bed ID:  A020-0515016315\n",
      "working on bed ID:  A073-0507087617\n",
      "\t\textracting features\n",
      "\t\tPPG outlier rate: 4.14%\n",
      "\t\tPPG outlier rate: 7.23%\n",
      "\t\tPPG outlier rate: 1.83%\n",
      "\t\tPPG outlier rate: 6.07%\n",
      "\t\tshow df_features_bed size: (10938, 9)\n",
      "working on bed ID:  A103-0504908484\n",
      "working on bed ID:  A049-0489281813\n",
      "working on bed ID:  A029-0519478755\n",
      "working on bed ID:  A064-0504461705\n",
      "working on bed ID:  A050-0501121558\n",
      "working on bed ID:  A094-0494379189\n",
      "working on bed ID:  A085-0519682132\n",
      "working on bed ID:  A117-0519252364\n",
      "working on bed ID:  A117-0519252330\n",
      "working on bed ID:  A078-0496895678\n",
      "working on bed ID:  A004-0521203016\n",
      "working on bed ID:  A094-0521322761\n",
      "working on bed ID:  A063-0521571579\n",
      "working on bed ID:  A120-0515603038\n",
      "working on bed ID:  A080-0497193091\n",
      "working on bed ID:  A102-0522140868\n",
      "working on bed ID:  A080-0491179761\n",
      "working on bed ID:  A088-0520277620\n",
      "working on bed ID:  A040-0495645728\n",
      "working on bed ID:  A094-0506307094\n",
      "working on bed ID:  A025-0513948827\n",
      "working on bed ID:  A117-0521000532\n",
      "working on bed ID:  A110-0522082482\n",
      "working on bed ID:  A040-0515684117\n",
      "working on bed ID:  A140-0518315688\n",
      "working on bed ID:  A024-0497942899\n",
      "working on bed ID:  A100-0520961442\n",
      "working on bed ID:  A114-0518560157\n",
      "working on bed ID:  A039-0501555550\n",
      "working on bed ID:  A028-0495838585\n",
      "working on bed ID:  A043-0517701964\n",
      "working on bed ID:  A028-0494274230\n",
      "\t\textracting features\n",
      "working on bed ID:  A075-0502999896\n",
      "working on bed ID:  A102-0522141106\n",
      "\t\textracting features\n",
      "working on bed ID:  A062-0504653918\n",
      "working on bed ID:  A038-0496694977\n",
      "\t\textracting features\n",
      "\t\tPPG outlier rate: 1.00%\n",
      "\t\tPPG outlier rate: 1.52%\n",
      "\t\tshow df_features_bed size: (4749, 9)\n",
      "working on bed ID:  A075-0508531832\n",
      "working on bed ID:  A007-0519763470\n",
      "working on bed ID:  A132-0521394698\n",
      "working on bed ID:  A023-0509302552\n",
      "working on bed ID:  A011-0521236963\n",
      "\t\textracting features\n",
      "working on bed ID:  A070-0507416606\n",
      "working on bed ID:  A011-0509055866\n",
      "working on bed ID:  A040-0505165031\n",
      "working on bed ID:  A021-0497303306\n",
      "working on bed ID:  A035-0521990039\n",
      "working on bed ID:  A082-0503438105\n",
      "working on bed ID:  A062-0507783304\n",
      "working on bed ID:  A025-0503551753\n",
      "working on bed ID:  A102-0521355330\n",
      "working on bed ID:  A043-0514063076\n",
      "working on bed ID:  A065-0495478209\n",
      "working on bed ID:  A077-0490113712\n",
      "working on bed ID:  A024-0497943231\n",
      "working on bed ID:  A111-0520457503\n",
      "working on bed ID:  A084-0490115896\n",
      "working on bed ID:  A100-0503626230\n",
      "working on bed ID:  A064-0490916547\n",
      "working on bed ID:  A018-0501935418\n",
      "working on bed ID:  A049-0497054659\n",
      "working on bed ID:  A015-0500922543\n",
      "working on bed ID:  A116-0521204656\n",
      "working on bed ID:  A093-0500347831\n",
      "working on bed ID:  A111-0521759523\n",
      "working on bed ID:  A054-0521837667\n",
      "working on bed ID:  A083-0499113429\n",
      "working on bed ID:  A003-0500955233\n",
      "\t\textracting features\n",
      "working on bed ID:  A003-0500955218\n"
     ]
    },
    {
     "ename": "FileNotFoundError",
     "evalue": "[Errno 2] No such file or directory: '/labs/kamaleswaranlab/Sepsis3_062321/Files_cp_sftp_6_30_21/Files_cp_6_30_21/A003-0500955218/A003-0500955218_0000.hea'",
     "output_type": "error",
     "traceback": [
      "\u001b[0;31m---------------------------------------------------------------------------\u001b[0m",
      "\u001b[0;31mFileNotFoundError\u001b[0m                         Traceback (most recent call last)",
      "Input \u001b[0;32mIn [9]\u001b[0m, in \u001b[0;36m<cell line: 3>\u001b[0;34m()\u001b[0m\n\u001b[1;32m     10\u001b[0m \u001b[38;5;28mprint\u001b[39m(\u001b[38;5;124m'\u001b[39m\u001b[38;5;124mworking on bed ID: \u001b[39m\u001b[38;5;124m'\u001b[39m, rec_id)\n\u001b[1;32m     12\u001b[0m \u001b[38;5;66;03m# df_bed = get_df_bed(rec_id)\u001b[39;00m\n\u001b[1;32m     13\u001b[0m \u001b[38;5;66;03m# sys.exit()\u001b[39;00m\n\u001b[0;32m---> 15\u001b[0m df_bed, header_dict \u001b[38;5;241m=\u001b[39m get_df_bed(rec_id, inputdir)\n\u001b[1;32m     16\u001b[0m header_dict \u001b[38;5;241m=\u001b[39m fix_waveform_datetime(row, header_dict)\n\u001b[1;32m     19\u001b[0m \u001b[38;5;28;01mif\u001b[39;00m \u001b[38;5;124m'\u001b[39m\u001b[38;5;124mSPO2\u001b[39m\u001b[38;5;124m'\u001b[39m \u001b[38;5;129;01mnot\u001b[39;00m \u001b[38;5;129;01min\u001b[39;00m \u001b[38;5;28mlist\u001b[39m(header_dict[\u001b[38;5;124m'\u001b[39m\u001b[38;5;124munit_dict\u001b[39m\u001b[38;5;124m'\u001b[39m]\u001b[38;5;241m.\u001b[39mkeys()):\n",
      "File \u001b[0;32m/labs/kamaleswaranlab/Sepsis3_062321/mchan_analysis/disparities_O2/repo/stage3_interrater_analysis/../PhysioMC/dataIO.py:82\u001b[0m, in \u001b[0;36mget_df_bed\u001b[0;34m(rec_id, inputdir)\u001b[0m\n\u001b[1;32m     78\u001b[0m headerdir \u001b[38;5;241m=\u001b[39m inputdir_rec \u001b[38;5;241m+\u001b[39m header_name\n\u001b[1;32m     79\u001b[0m \u001b[38;5;66;03m# print(headerdir)\u001b[39;00m\n\u001b[1;32m     80\u001b[0m \n\u001b[1;32m     81\u001b[0m \u001b[38;5;66;03m# load header file\u001b[39;00m\n\u001b[0;32m---> 82\u001b[0m \u001b[38;5;28;01mwith\u001b[39;00m \u001b[38;5;28;43mopen\u001b[39;49m\u001b[43m(\u001b[49m\u001b[43mheaderdir\u001b[49m\u001b[43m,\u001b[49m\u001b[43m \u001b[49m\u001b[38;5;124;43m'\u001b[39;49m\u001b[38;5;124;43mr\u001b[39;49m\u001b[38;5;124;43m'\u001b[39;49m\u001b[43m)\u001b[49m \u001b[38;5;28;01mas\u001b[39;00m f:\n\u001b[1;32m     83\u001b[0m     header \u001b[38;5;241m=\u001b[39m f\u001b[38;5;241m.\u001b[39mreadlines()\n\u001b[1;32m     85\u001b[0m header_dict \u001b[38;5;241m=\u001b[39m header_extract(header)\n",
      "\u001b[0;31mFileNotFoundError\u001b[0m: [Errno 2] No such file or directory: '/labs/kamaleswaranlab/Sepsis3_062321/Files_cp_sftp_6_30_21/Files_cp_6_30_21/A003-0500955218/A003-0500955218_0000.hea'"
     ]
    }
   ],
   "source": [
    "df_demographic_processed = pd.DataFrame()\n",
    "\n",
    "for index, row in df_demographic.iterrows():\n",
    "    # if index%20!=0:\n",
    "    #     continue\n",
    "    if (row['White']==False) & (row['Black']==False):\n",
    "        continue\n",
    "\n",
    "    rec_id = row['deBedTime']\n",
    "    print('working on bed ID: ', rec_id)\n",
    "    \n",
    "    # df_bed = get_df_bed(rec_id)\n",
    "    # sys.exit()\n",
    "    try:\n",
    "        df_bed, header_dict = get_df_bed(rec_id, inputdir)\n",
    "    except:\n",
    "        continue\n",
    "    header_dict = fix_waveform_datetime(row, header_dict)\n",
    "\n",
    "\n",
    "    if 'SPO2' not in list(header_dict['unit_dict'].keys()):\n",
    "        continue\n",
    "        \n",
    "    if np.mean(np.diff(df_bed['SPO2'])==0)>0.3:\n",
    "        continue\n",
    "    if np.mean(np.diff(df_bed['I'])==0)>0.3:\n",
    "        continue\n",
    "    if np.mean(np.diff(df_bed['II'])==0)>0.3:\n",
    "        continue\n",
    "    if np.mean(np.diff(df_bed['III'])==0)>0.3:\n",
    "        continue\n",
    "    if np.mean(np.diff(df_bed['V'])==0)>0.3:\n",
    "        continue\n",
    "\n",
    "    print('\\t\\textracting features')\n",
    "    df_features_bed = get_df_features_bed(df_bed, header_dict, seg_duration=30*60)\n",
    "    if df_features_bed.shape[0]==0:\n",
    "        continue\n",
    "    df_features_bed = df_features_bed.drop('i_R_peak', axis=1)\n",
    "\n",
    "    feature_medians = df_features_bed.median()\n",
    "    feature_medians = pd.DataFrame(feature_medians).T\n",
    "\n",
    "    row = pd.DataFrame(row).T\n",
    "\n",
    "    row_processed = pd.concat([row.reset_index(drop=True),feature_medians.reset_index(drop=True)], axis=1 )\n",
    "    row_processed['index'] = row.index[0]\n",
    "\n",
    "    print('\\t\\tshow df_features_bed size:', df_features_bed.shape)\n",
    "\n",
    "    # sys.exit()\n",
    "\n",
    "\n",
    "    df_demographic_processed = pd.concat([df_demographic_processed, row_processed])\n",
    "    # df_demographic_processed = pd.concat([df_demographic_processed, row_processed])\n",
    "    # df_demographic_processed÷\n",
    "        \n",
    "        \n",
    "\n",
    "    # outputdir_recording = outputdir+recording_name+'/'\n",
    "    outputdir_recording = outputdir+rec_id+'/'\n",
    "    if not os.path.exists(outputdir_recording):\n",
    "        os.makedirs(outputdir_recording)\n",
    "\n",
    "    df_features_bed.to_csv(outputdir_recording+'df_features_bed.csv.gz', index=False, compression='gzip')\n",
    "    # df = pd.read_csv(outputdir_recording+'df_features_sub.csv.gz', compression='gzip')\n",
    "    # print(df)\n",
    "    # sys.exit()\n",
    "    \n",
    "df_demographic_processed.to_csv(outputdir+'df_demographic_processed.csv.gz', index=False, compression='gzip')\n"
   ]
  },
  {
   "cell_type": "code",
   "execution_count": 12,
   "id": "f25373cf-de35-4ebb-bb47-de1cc66351e9",
   "metadata": {},
   "outputs": [],
   "source": [
    "# try:\n",
    "#     df_bed, header_dict = get_df_bed(rec_id, inputdir)\n",
    "# except:\n",
    "#     print('jj')"
   ]
  },
  {
   "cell_type": "code",
   "execution_count": 13,
   "id": "105f26bb-7569-4488-8ba2-e986608c7b86",
   "metadata": {},
   "outputs": [
    {
     "data": {
      "text/plain": [
       "'/labs/kamaleswaranlab/Sepsis3_062321/Files_cp_sftp_6_30_21/Files_cp_6_30_21/'"
      ]
     },
     "execution_count": 13,
     "metadata": {},
     "output_type": "execute_result"
    }
   ],
   "source": [
    "# inputdir"
   ]
  },
  {
   "cell_type": "code",
   "execution_count": 15,
   "id": "bbf26255-0f07-42ca-8fff-ba63ed1ca7ec",
   "metadata": {},
   "outputs": [],
   "source": [
    "# os.listdir(inputdir+'A003-0500955218')"
   ]
  },
  {
   "cell_type": "code",
   "execution_count": null,
   "id": "761a56a3-59c8-4516-b766-45f049cd20dc",
   "metadata": {},
   "outputs": [],
   "source": []
  },
  {
   "cell_type": "code",
   "execution_count": null,
   "id": "13ec9d68-3b31-4395-b433-d13ebcd47b1a",
   "metadata": {},
   "outputs": [],
   "source": []
  },
  {
   "cell_type": "code",
   "execution_count": null,
   "id": "089304bc-7bbc-4dec-a3a5-672056006d3b",
   "metadata": {},
   "outputs": [],
   "source": []
  },
  {
   "cell_type": "code",
   "execution_count": null,
   "id": "a94dacc3-cddd-488d-ba1d-4787f8e4ed77",
   "metadata": {},
   "outputs": [],
   "source": []
  },
  {
   "cell_type": "code",
   "execution_count": null,
   "id": "091588c1-67cb-4db6-b952-f424e5913c08",
   "metadata": {},
   "outputs": [],
   "source": []
  },
  {
   "cell_type": "code",
   "execution_count": null,
   "id": "5ba03b2a-304a-4bc4-a52b-c8a22654362a",
   "metadata": {},
   "outputs": [],
   "source": []
  },
  {
   "cell_type": "code",
   "execution_count": null,
   "id": "92a356f6-0abf-4e0f-89ed-df918f9285ed",
   "metadata": {},
   "outputs": [],
   "source": []
  },
  {
   "cell_type": "code",
   "execution_count": 9,
   "id": "1e254ff5-4264-4888-a271-c60b995badae",
   "metadata": {},
   "outputs": [],
   "source": [
    "df_demographic_processed = pd.read_csv(outputdir+'df_demographic_processed.csv.gz')  \n"
   ]
  },
  {
   "cell_type": "code",
   "execution_count": 11,
   "id": "0334966f-e4ee-41b4-9de4-d43aa24311dc",
   "metadata": {},
   "outputs": [],
   "source": [
    "# df_demographic_processed"
   ]
  },
  {
   "cell_type": "code",
   "execution_count": 12,
   "id": "98048ac8-4820-4e19-86f8-f706ca9edfca",
   "metadata": {},
   "outputs": [],
   "source": [
    "df_demographic_processed\n",
    "\n",
    "id_vars = ['deBedTime', 'DateStart', 'DateEnd', 'PAT_ID', 'BED_LOCATION_START', 'BED_LOCATION_END', 'White', 'Black', 'Race String']\n",
    "\n",
    "df2 = pd.melt(df_demographic_processed, id_vars=id_vars, \n",
    "                  var_name=\"feature_name\", value_name=\"feature\")"
   ]
  },
  {
   "cell_type": "code",
   "execution_count": 20,
   "id": "2137e2dd-19b7-41b0-94fc-b4efff20c7ed",
   "metadata": {},
   "outputs": [
    {
     "ename": "KeyError",
     "evalue": "('B2C', 'max2min', 'PI', 'std', 'skewness', 'kurtosis', 'rms', 'energy', 'mean')",
     "output_type": "error",
     "traceback": [
      "\u001b[0;31m---------------------------------------------------------------------------\u001b[0m",
      "\u001b[0;31mKeyError\u001b[0m                                  Traceback (most recent call last)",
      "File \u001b[0;32m/opt/rh/rh-python38/root/usr/local/lib64/python3.8/site-packages/pandas/core/indexes/base.py:3621\u001b[0m, in \u001b[0;36mIndex.get_loc\u001b[0;34m(self, key, method, tolerance)\u001b[0m\n\u001b[1;32m   3620\u001b[0m \u001b[38;5;28;01mtry\u001b[39;00m:\n\u001b[0;32m-> 3621\u001b[0m     \u001b[38;5;28;01mreturn\u001b[39;00m \u001b[38;5;28;43mself\u001b[39;49m\u001b[38;5;241;43m.\u001b[39;49m\u001b[43m_engine\u001b[49m\u001b[38;5;241;43m.\u001b[39;49m\u001b[43mget_loc\u001b[49m\u001b[43m(\u001b[49m\u001b[43mcasted_key\u001b[49m\u001b[43m)\u001b[49m\n\u001b[1;32m   3622\u001b[0m \u001b[38;5;28;01mexcept\u001b[39;00m \u001b[38;5;167;01mKeyError\u001b[39;00m \u001b[38;5;28;01mas\u001b[39;00m err:\n",
      "File \u001b[0;32m/opt/rh/rh-python38/root/usr/local/lib64/python3.8/site-packages/pandas/_libs/index.pyx:136\u001b[0m, in \u001b[0;36mpandas._libs.index.IndexEngine.get_loc\u001b[0;34m()\u001b[0m\n",
      "File \u001b[0;32m/opt/rh/rh-python38/root/usr/local/lib64/python3.8/site-packages/pandas/_libs/index.pyx:163\u001b[0m, in \u001b[0;36mpandas._libs.index.IndexEngine.get_loc\u001b[0;34m()\u001b[0m\n",
      "File \u001b[0;32mpandas/_libs/hashtable_class_helper.pxi:5198\u001b[0m, in \u001b[0;36mpandas._libs.hashtable.PyObjectHashTable.get_item\u001b[0;34m()\u001b[0m\n",
      "File \u001b[0;32mpandas/_libs/hashtable_class_helper.pxi:5206\u001b[0m, in \u001b[0;36mpandas._libs.hashtable.PyObjectHashTable.get_item\u001b[0;34m()\u001b[0m\n",
      "\u001b[0;31mKeyError\u001b[0m: ('B2C', 'max2min', 'PI', 'std', 'skewness', 'kurtosis', 'rms', 'energy', 'mean')",
      "\nThe above exception was the direct cause of the following exception:\n",
      "\u001b[0;31mKeyError\u001b[0m                                  Traceback (most recent call last)",
      "Input \u001b[0;32mIn [20]\u001b[0m, in \u001b[0;36m<cell line: 1>\u001b[0;34m()\u001b[0m\n\u001b[0;32m----> 1\u001b[0m df_demographic_processed[ \u001b[38;5;124m'\u001b[39m\u001b[38;5;124mB2C\u001b[39m\u001b[38;5;124m'\u001b[39m, \u001b[38;5;124m'\u001b[39m\u001b[38;5;124mmax2min\u001b[39m\u001b[38;5;124m'\u001b[39m, \u001b[38;5;124m'\u001b[39m\u001b[38;5;124mPI\u001b[39m\u001b[38;5;124m'\u001b[39m, \u001b[38;5;124m'\u001b[39m\u001b[38;5;124mstd\u001b[39m\u001b[38;5;124m'\u001b[39m, \u001b[38;5;124m'\u001b[39m\u001b[38;5;124mskewness\u001b[39m\u001b[38;5;124m'\u001b[39m, \u001b[38;5;124m'\u001b[39m\u001b[38;5;124mkurtosis\u001b[39m\u001b[38;5;124m'\u001b[39m, \u001b[38;5;124m'\u001b[39m\u001b[38;5;124mrms\u001b[39m\u001b[38;5;124m'\u001b[39m, \u001b[38;5;124m'\u001b[39m\u001b[38;5;124menergy\u001b[39m\u001b[38;5;124m'\u001b[39m, \u001b[38;5;124m'\u001b[39m\u001b[38;5;124mmean\u001b[39m\u001b[38;5;124m'\u001b[39m]\u001b[38;5;241m.\u001b[39mvalues\n",
      "File \u001b[0;32m/opt/rh/rh-python38/root/usr/local/lib64/python3.8/site-packages/pandas/core/frame.py:3505\u001b[0m, in \u001b[0;36mDataFrame.__getitem__\u001b[0;34m(self, key)\u001b[0m\n\u001b[1;32m   3503\u001b[0m \u001b[38;5;28;01mif\u001b[39;00m \u001b[38;5;28mself\u001b[39m\u001b[38;5;241m.\u001b[39mcolumns\u001b[38;5;241m.\u001b[39mnlevels \u001b[38;5;241m>\u001b[39m \u001b[38;5;241m1\u001b[39m:\n\u001b[1;32m   3504\u001b[0m     \u001b[38;5;28;01mreturn\u001b[39;00m \u001b[38;5;28mself\u001b[39m\u001b[38;5;241m.\u001b[39m_getitem_multilevel(key)\n\u001b[0;32m-> 3505\u001b[0m indexer \u001b[38;5;241m=\u001b[39m \u001b[38;5;28;43mself\u001b[39;49m\u001b[38;5;241;43m.\u001b[39;49m\u001b[43mcolumns\u001b[49m\u001b[38;5;241;43m.\u001b[39;49m\u001b[43mget_loc\u001b[49m\u001b[43m(\u001b[49m\u001b[43mkey\u001b[49m\u001b[43m)\u001b[49m\n\u001b[1;32m   3506\u001b[0m \u001b[38;5;28;01mif\u001b[39;00m is_integer(indexer):\n\u001b[1;32m   3507\u001b[0m     indexer \u001b[38;5;241m=\u001b[39m [indexer]\n",
      "File \u001b[0;32m/opt/rh/rh-python38/root/usr/local/lib64/python3.8/site-packages/pandas/core/indexes/base.py:3623\u001b[0m, in \u001b[0;36mIndex.get_loc\u001b[0;34m(self, key, method, tolerance)\u001b[0m\n\u001b[1;32m   3621\u001b[0m     \u001b[38;5;28;01mreturn\u001b[39;00m \u001b[38;5;28mself\u001b[39m\u001b[38;5;241m.\u001b[39m_engine\u001b[38;5;241m.\u001b[39mget_loc(casted_key)\n\u001b[1;32m   3622\u001b[0m \u001b[38;5;28;01mexcept\u001b[39;00m \u001b[38;5;167;01mKeyError\u001b[39;00m \u001b[38;5;28;01mas\u001b[39;00m err:\n\u001b[0;32m-> 3623\u001b[0m     \u001b[38;5;28;01mraise\u001b[39;00m \u001b[38;5;167;01mKeyError\u001b[39;00m(key) \u001b[38;5;28;01mfrom\u001b[39;00m \u001b[38;5;21;01merr\u001b[39;00m\n\u001b[1;32m   3624\u001b[0m \u001b[38;5;28;01mexcept\u001b[39;00m \u001b[38;5;167;01mTypeError\u001b[39;00m:\n\u001b[1;32m   3625\u001b[0m     \u001b[38;5;66;03m# If we have a listlike key, _check_indexing_error will raise\u001b[39;00m\n\u001b[1;32m   3626\u001b[0m     \u001b[38;5;66;03m#  InvalidIndexError. Otherwise we fall through and re-raise\u001b[39;00m\n\u001b[1;32m   3627\u001b[0m     \u001b[38;5;66;03m#  the TypeError.\u001b[39;00m\n\u001b[1;32m   3628\u001b[0m     \u001b[38;5;28mself\u001b[39m\u001b[38;5;241m.\u001b[39m_check_indexing_error(key)\n",
      "\u001b[0;31mKeyError\u001b[0m: ('B2C', 'max2min', 'PI', 'std', 'skewness', 'kurtosis', 'rms', 'energy', 'mean')"
     ]
    }
   ],
   "source": [
    "X = df_demographic_processed[ 'B2C', 'max2min', 'PI', 'std', 'skewness', 'kurtosis', 'rms', 'energy', 'mean'].values\n"
   ]
  },
  {
   "cell_type": "code",
   "execution_count": null,
   "id": "4acbd172-1c4d-412a-9e34-c089fa43cc98",
   "metadata": {},
   "outputs": [],
   "source": []
  },
  {
   "cell_type": "code",
   "execution_count": null,
   "id": "9457c698-7a7f-4ba0-9a9d-5bd4f60c3317",
   "metadata": {},
   "outputs": [],
   "source": []
  },
  {
   "cell_type": "code",
   "execution_count": null,
   "id": "1213b92b-f42a-4b06-86c3-491d36f2726d",
   "metadata": {},
   "outputs": [],
   "source": []
  },
  {
   "cell_type": "code",
   "execution_count": null,
   "id": "a6bf44a5-0b42-42b6-9188-726707111b38",
   "metadata": {},
   "outputs": [],
   "source": []
  },
  {
   "cell_type": "code",
   "execution_count": null,
   "id": "838a20cd-5f9c-4fd4-8a67-43348d2f7852",
   "metadata": {},
   "outputs": [],
   "source": []
  },
  {
   "cell_type": "code",
   "execution_count": 13,
   "id": "8b7161b7-96aa-4310-b137-3722a6611bd1",
   "metadata": {},
   "outputs": [],
   "source": [
    "# df_demographic_processed['deBedTime']=="
   ]
  },
  {
   "cell_type": "code",
   "execution_count": 15,
   "id": "106a55b1-568a-402b-8c77-1e65db92c44f",
   "metadata": {},
   "outputs": [],
   "source": [
    "# ax = sns.boxplot(x=\"feature_name\", y=\"feature\", hue=\"Race String\",\n",
    "#                  data=tips, linewidth=2.5)"
   ]
  },
  {
   "cell_type": "code",
   "execution_count": null,
   "id": "17de8e81-b368-4b3c-a663-e306b8ebbe10",
   "metadata": {},
   "outputs": [],
   "source": [
    "# row_processed"
   ]
  },
  {
   "cell_type": "code",
   "execution_count": null,
   "id": "fd1426a4-f03c-4427-91e9-4e7d08c7d8ec",
   "metadata": {},
   "outputs": [],
   "source": []
  },
  {
   "cell_type": "code",
   "execution_count": null,
   "id": "1aec28dc-e0bf-4adf-9aac-23b2c25ebacb",
   "metadata": {},
   "outputs": [],
   "source": []
  },
  {
   "cell_type": "code",
   "execution_count": null,
   "id": "cd07e4a4-df6b-42c2-967e-65bf05bc8513",
   "metadata": {},
   "outputs": [],
   "source": []
  },
  {
   "cell_type": "code",
   "execution_count": null,
   "id": "bfb85287-0f19-4576-bade-9f7510b5182d",
   "metadata": {},
   "outputs": [],
   "source": [
    "# result"
   ]
  },
  {
   "cell_type": "code",
   "execution_count": null,
   "id": "90aa946d-5ac2-4022-8689-f085f4bd88eb",
   "metadata": {},
   "outputs": [],
   "source": [
    "# aaa.index = 800\n",
    "# aaaa"
   ]
  },
  {
   "cell_type": "code",
   "execution_count": null,
   "id": "0d722b3a-0ede-48cc-adb2-75f8a34ddda6",
   "metadata": {},
   "outputs": [],
   "source": [
    "# pd.concat([row, aaa], axis=1).reset_index()\n"
   ]
  },
  {
   "cell_type": "code",
   "execution_count": null,
   "id": "eb749e6c",
   "metadata": {},
   "outputs": [],
   "source": [
    "# pd.DataFrame(row).T"
   ]
  },
  {
   "cell_type": "code",
   "execution_count": null,
   "id": "15008f5e",
   "metadata": {},
   "outputs": [],
   "source": [
    "# plot_all_sync(df_seg, rec_id, header_dict, t_start=0, t_end=20, fig_name=None, outputdir=None, show_plot=True)\n"
   ]
  },
  {
   "cell_type": "code",
   "execution_count": null,
   "id": "086ed4ce-eccf-490f-91d7-4ec754fae666",
   "metadata": {},
   "outputs": [],
   "source": []
  },
  {
   "cell_type": "code",
   "execution_count": null,
   "id": "5ee45629-8866-4bbe-b178-e50561a5f1e6",
   "metadata": {},
   "outputs": [],
   "source": []
  },
  {
   "cell_type": "code",
   "execution_count": null,
   "id": "15fcadd7-1e9a-46a6-b5ca-325c4d8efe94",
   "metadata": {},
   "outputs": [],
   "source": []
  },
  {
   "cell_type": "code",
   "execution_count": null,
   "id": "6fd9e68e-b843-45c5-a877-2295b29c4493",
   "metadata": {},
   "outputs": [],
   "source": []
  },
  {
   "cell_type": "code",
   "execution_count": null,
   "id": "6d7256a4-0a5f-4529-a9fb-7b7a892c0e6c",
   "metadata": {},
   "outputs": [],
   "source": []
  },
  {
   "cell_type": "markdown",
   "id": "891c0c07-fc9c-4a23-8d6b-557320940abc",
   "metadata": {},
   "source": [
    "# signal level functions"
   ]
  },
  {
   "cell_type": "code",
   "execution_count": null,
   "id": "b6df3552-9416-4990-965c-d89a0438b928",
   "metadata": {},
   "outputs": [],
   "source": [
    "# def get_ecg_IP_norm(ecg1, ecg2):\n",
    "#     return (ecg1 @ ecg2) / ((ecg1 @ ecg1)**0.5 * (ecg2 @ ecg2)**0.5)\n",
    "\n"
   ]
  },
  {
   "cell_type": "markdown",
   "id": "ec1d4572-9c61-459e-883a-02847968b498",
   "metadata": {},
   "source": [
    "# signal to beats"
   ]
  },
  {
   "cell_type": "code",
   "execution_count": null,
   "id": "8db804c3-7075-48e3-90c3-c026ba4f95c6",
   "metadata": {},
   "outputs": [],
   "source": [
    "# def segment_df(df_seg, QRS_detector_dict, Fs):\n",
    "    \n",
    "#     df = get_filt_df(df_seg, Fs).copy()\n",
    "    \n",
    "    \n",
    "#     ecg_dict = QRS_detector_dict['ecg_dict']\n",
    "#     i_R_peaks = QRS_detector_dict['i_R_peaks']\n",
    "# #     i_R_peaks = QRS_detector_dict['i_R_peaks']\n",
    "#     # end_offset = QRS_detector_dict['end_offset']\n",
    "#     end_offset = int(1*Fs)\n",
    "#     # print(end_offset)\n",
    "#     # sys.exit()\n",
    "    \n",
    "#     beats_dict = {}\n",
    "    \n",
    "\n",
    "#     for sig_name in df.columns:\n",
    "#         if sig_name =='time':\n",
    "#             continue\n",
    "#         if sig_name =='RR':\n",
    "#             continue\n",
    "#         sig_beats, i_R_peaks_used = beat_segmentation(df[sig_name].values, i_R_peaks, start_offset=0, end_offset=end_offset)\n",
    "#         beats_dict[sig_name] = sig_beats\n",
    "        \n",
    "        \n",
    "#     sig_beats, i_R_peaks_used = beat_segmentation(df_seg['SPO2'].values, i_R_peaks, start_offset=0, end_offset=end_offset)\n",
    "#     beats_dict['PPG_DC'] = sig_beats\n",
    "\n",
    "#     beats_dict['i_R_peaks'] = i_R_peaks_used\n",
    "    \n",
    "#     return beats_dict"
   ]
  },
  {
   "cell_type": "markdown",
   "id": "f6a5297c-2622-4793-8354-166d4935b31b",
   "metadata": {},
   "source": [
    "# feature level functions"
   ]
  },
  {
   "cell_type": "code",
   "execution_count": null,
   "id": "9e6643c0-9113-432f-be4a-2bff8b22f8e3",
   "metadata": {},
   "outputs": [],
   "source": [
    "# def get_B2C(sig,beat_deriv1, beat_deriv2, Fs):\n",
    "#     N_window = int(0.15*Fs)\n",
    "#     i_min, i_derivmax, i_foot, data_derivmax, data_min = PPG_argfoot(sig, fs=Fs)\n",
    "#     # np.argmin(np.abs(beat_deriv1[i_min-N_window:i_min+N_window]))\n",
    "#     # i_foot = i_max-N_window\n",
    "\n",
    "#     i_min = i_min[0]\n",
    "\n",
    "#     i_A = np.argmax(beat_deriv2[i_min:i_min+int(0.1*Fs)])\n",
    "#     i_A += i_min\n",
    "\n",
    "#     i_B = np.argmin(beat_deriv2[i_A:i_A+int(0.2*Fs)])\n",
    "#     i_B += i_A\n",
    "\n",
    "#     i_C = np.argmax(beat_deriv2[i_B:i_B+int(0.2*Fs)])\n",
    "#     i_C += i_B\n",
    "\n",
    "#     i_D = np.argmin(beat_deriv2[i_C:i_C+int(0.2*Fs)])\n",
    "#     i_D += i_C\n",
    "\n",
    "#     amplitude_A = np.abs(beat_deriv2[i_A])\n",
    "#     amplitude_B = np.abs(beat_deriv2[i_B])\n",
    "#     amplitude_C = np.abs(beat_deriv2[i_C])\n",
    "#     amplitude_D = np.abs(beat_deriv2[i_D])\n",
    "\n",
    "\n",
    "#     feature_B2C = amplitude_B/amplitude_C\n",
    "    \n",
    "#     output_dict = {\n",
    "#     'i_min': i_min,\n",
    "#     'i_A': i_A,\n",
    "#     'i_B': i_B,\n",
    "#     'i_C': i_C,\n",
    "#     'i_D': i_D,\n",
    "#     'amplitude_A': amplitude_A,\n",
    "#     'amplitude_B': amplitude_B,\n",
    "#     'amplitude_C': amplitude_C,\n",
    "#     'amplitude_D': amplitude_D,\n",
    "#     'feature_B2C': feature_B2C,\n",
    "#     }\n",
    "    \n",
    "#     return output_dict\n",
    "\n",
    "# def debug_B2C(beats_PPG, Fs):\n",
    "#     k = 20\n",
    "#     sig= beats_PPG[:,[k]]\n",
    "#     dx = 1/Fs\n",
    "\n",
    "#     beat_deriv1 = np.gradient(sig.squeeze(), dx)\n",
    "#     beat_deriv2 = np.gradient(np.gradient(sig.squeeze(), dx), dx)\n",
    "\n",
    "#     output_dict = get_B2C(sig, beat_deriv1, beat_deriv2, Fs)\n",
    "\n",
    "#     fig, (ax1, ax2, ax3) = plt.subplots(3, 1, figsize=(8,5), dpi=100)\n",
    "\n",
    "#     ax1.plot(t_beat, beats[:,k], color='gray', alpha=1)\n",
    "#     ax1.set_ylabel('PPG')\n",
    "#     ax2.plot(t_beat, beat_deriv1, color='gray', alpha=1)\n",
    "#     ax2.set_ylabel('PPG 1st derivative')\n",
    "\n",
    "#     ax3.plot(t_beat, beat_deriv2, color='gray', alpha=1)\n",
    "\n",
    "#     ax3.scatter(output_dict['i_min']/Fs, beat_deriv2[output_dict['i_min']])\n",
    "#     ax3.scatter(output_dict['i_A']/Fs, beat_deriv2[output_dict['i_A']], color='r')\n",
    "#     ax3.scatter(output_dict['i_B']/Fs, beat_deriv2[output_dict['i_B']], color='g')\n",
    "#     ax3.scatter(output_dict['i_C']/Fs, beat_deriv2[output_dict['i_C']], color='k')\n",
    "#     ax3.scatter(output_dict['i_D']/Fs, beat_deriv2[output_dict['i_D']], color='y')\n",
    "#     ax3.set_ylabel('PPG 2nd derivative')\n",
    "\n",
    "    \n",
    "# def get_max2min(sig):\n",
    "\n",
    "#     feature_max2min = sig.max()-sig.min()\n",
    "\n",
    "#     output_dict = {\n",
    "#         'feature_max2min': feature_max2min\n",
    "#     }\n",
    "\n",
    "#     return output_dict\n",
    "\n",
    "# def get_PI(feature_max2min, sig_DC):\n",
    "    \n",
    "#     featrue_PI = feature_max2min/sig_DC.mean()\n",
    "    \n",
    "#     output_dict = {\n",
    "#         'featrue_PI': featrue_PI\n",
    "#     }\n",
    "    \n",
    "#     return output_dict\n",
    "\n",
    "\n",
    "# def get_std(sig):\n",
    "#     return np.std(sig)\n",
    "\n",
    "# def get_skewness(sig):\n",
    "#     return scipy.stats.skew(sig)[0]\n",
    "\n",
    "# def get_kurtosis(sig):\n",
    "#     return scipy.stats.kurtosis(sig)[0]\n",
    "\n",
    "# def get_energy(sig):\n",
    "#     return np.sum((sig-sig.mean())**2)\n",
    "\n",
    "# def get_rms(sig):\n",
    "#     return np.sqrt(np.mean(sig**2))\n",
    "\n",
    "# def get_mean(sig_DC):\n",
    "#     return np.mean(sig_DC)\n"
   ]
  },
  {
   "cell_type": "markdown",
   "id": "726ccb16-163d-47aa-a657-6b38146b4156",
   "metadata": {},
   "source": [
    "# master beat2features function"
   ]
  },
  {
   "cell_type": "code",
   "execution_count": null,
   "id": "16f1bdae-7ce3-436d-9af0-eb4bbd881a86",
   "metadata": {},
   "outputs": [],
   "source": [
    "# def beat2features(beats_dict, Fs):\n",
    "\n",
    "#     beats_PPG = beats_dict['SPO2']\n",
    "#     beats_PPG_DC = beats_dict['PPG_DC']\n",
    "#     i_R_peaks = beats_dict['i_R_peaks']\n",
    "#     dx = 1/Fs\n",
    "\n",
    "#     df_features = pd.DataFrame()\n",
    "\n",
    "#     for k in range(beats_PPG.shape[1]):\n",
    "#         # print(k)\n",
    "#         sig = beats_PPG[:,[k]]\n",
    "#         sig_DC = beats_PPG_DC[:,[k]]\n",
    "#         i_R_peak = i_R_peaks[k]\n",
    "\n",
    "#         beat_deriv1 = np.gradient(sig.squeeze(), dx)\n",
    "#         beat_deriv2 = np.gradient(np.gradient(sig.squeeze(), dx), dx)\n",
    "\n",
    "#         feature_B2C = get_B2C(sig, beat_deriv1, beat_deriv2, Fs)['feature_B2C']\n",
    "#         feature_max2min = get_max2min(sig)['feature_max2min']\n",
    "#         featrue_PI = get_PI(feature_max2min, sig_DC)['featrue_PI']\n",
    "\n",
    "\n",
    "\n",
    "#         # features that use cardiac PPG (filtered between 0.8-4Hz)\n",
    "#         feature_std = get_std(sig)\n",
    "#         feature_skewness = get_skewness(sig)\n",
    "#         feature_kurtosis = get_kurtosis(sig)\n",
    "#         feature_rms = get_rms(sig)\n",
    "#         feature_energy = get_energy(sig)\n",
    "\n",
    "\n",
    "#         # features that use raw PPG\n",
    "#         feature_mean = get_mean(sig_DC)\n",
    "\n",
    "\n",
    "#         df_beat = pd.DataFrame({\n",
    "#             'i_R_peak': [i_R_peak],\n",
    "#             'B2C': [feature_B2C],\n",
    "#             'max2min': [feature_max2min],\n",
    "#             'PI': [featrue_PI],\n",
    "#             'std': [feature_std],\n",
    "#             'skewness': [feature_skewness],\n",
    "#             'kurtosis': [feature_kurtosis],\n",
    "#             'rms': [feature_rms],\n",
    "#             'energy': [feature_energy],\n",
    "#             'mean': [feature_mean],\n",
    "#         })\n",
    "\n",
    "#         df_features = pd.concat([df_features, df_beat])\n",
    "\n",
    "#         # df_features = df_features.append(df_beat)\n",
    "\n",
    "#     return df_features\n"
   ]
  },
  {
   "cell_type": "code",
   "execution_count": null,
   "id": "51b7dcaa-bc20-4531-8d2f-d45cdfa7eaaa",
   "metadata": {},
   "outputs": [],
   "source": [
    "# def get_FQI_dict(data):\n",
    "\n",
    "#     data_median = medfilt(data, k=9)\n",
    "\n",
    "#     data_deviation = np.abs(data - data_median)\n",
    "\n",
    "#     mask_feature = data_deviation < data_deviation.std()*3\n",
    "\n",
    "#     data_deviation_normed = (data_deviation-data_deviation.min()) / (data_deviation.max()-data_deviation.min())\n",
    "\n",
    "#     FQI = np.exp(-0.5*data_deviation_normed)\n",
    "\n",
    "#     FQI_dict = {\n",
    "#         'data_deviation': data_deviation,\n",
    "#         'mask_feature': mask_feature,\n",
    "#         'FQI': FQI,\n",
    "#     }\n",
    "#     return FQI_dict"
   ]
  },
  {
   "cell_type": "markdown",
   "id": "d965d3df-39ae-4b2a-ae99-5073627b9f55",
   "metadata": {},
   "source": [
    "# feature level qaulity assessment"
   ]
  },
  {
   "cell_type": "code",
   "execution_count": null,
   "id": "be8878dc-4f83-460d-b907-6d9f9e03975a",
   "metadata": {},
   "outputs": [],
   "source": []
  },
  {
   "cell_type": "code",
   "execution_count": null,
   "id": "f82716a5-a23f-4f71-871f-ad9978431f46",
   "metadata": {},
   "outputs": [],
   "source": [
    "# def get_mask_all(df_features):\n",
    "\n",
    "#     mask_feature_list = []\n",
    "#     for feature_name in df_features.columns:\n",
    "#         if feature_name == 'i_R_peak':\n",
    "#             continue\n",
    "\n",
    "#         FQI_dict = get_FQI_dict(df_features['B2C'].values)\n",
    "#         mask_feature = FQI_dict['mask_feature']\n",
    "#         mask_feature_list.append(mask_feature)\n",
    "#         # print(feature_name)\n",
    "\n",
    "#     mask_feature_list = np.stack(mask_feature_list).T\n",
    "#     mask_feature_list = np.prod(mask_feature_list, axis=1)\n",
    "#     mask_feature_list = mask_feature_list==1\n",
    "#     return mask_feature_list"
   ]
  },
  {
   "cell_type": "code",
   "execution_count": null,
   "id": "decc0439-cb3b-4ff4-b934-b027b9b042d3",
   "metadata": {},
   "outputs": [],
   "source": [
    "# def masking_beats_dict(beats_dict, mask):\n",
    "\n",
    "#     # print(beats_dict['AR1'].shape)\n",
    "#     for beat_name in beats_dict.keys():\n",
    "#         if beat_name == 'i_R_peaks':\n",
    "#             beats_dict[beat_name] = beats_dict[beat_name][mask]\n",
    "#         else:\n",
    "#             beats_dict[beat_name] = beats_dict[beat_name][:, mask]\n",
    "\n",
    "#     # print(beats_dict['AR1'].shape)\n",
    "\n",
    "#     return beats_dict"
   ]
  },
  {
   "cell_type": "code",
   "execution_count": null,
   "id": "101b03c3-6d58-4710-b914-f0e9d3706ff1",
   "metadata": {},
   "outputs": [],
   "source": []
  },
  {
   "cell_type": "code",
   "execution_count": null,
   "id": "7cecffd4-ac3f-4bae-93c1-e143ce7e99f6",
   "metadata": {},
   "outputs": [],
   "source": []
  },
  {
   "cell_type": "code",
   "execution_count": null,
   "id": "8588cf8c-ea5d-4bf8-bc41-0b28caa20b61",
   "metadata": {},
   "outputs": [],
   "source": []
  },
  {
   "cell_type": "code",
   "execution_count": null,
   "id": "08ff24e8-915b-487f-9e31-34ab31ad2da2",
   "metadata": {},
   "outputs": [],
   "source": []
  },
  {
   "cell_type": "code",
   "execution_count": null,
   "id": "1ac6e62d-f487-45fb-82f2-72a83f27263f",
   "metadata": {},
   "outputs": [],
   "source": []
  },
  {
   "cell_type": "code",
   "execution_count": null,
   "id": "6cbdbf14-cb76-4a15-93ea-913376dfcc88",
   "metadata": {},
   "outputs": [],
   "source": []
  },
  {
   "cell_type": "code",
   "execution_count": null,
   "id": "d6bf27e6-679b-47ac-8975-3c8075d31669",
   "metadata": {},
   "outputs": [],
   "source": [
    "# header_dict"
   ]
  },
  {
   "cell_type": "code",
   "execution_count": null,
   "id": "24049a53-ba00-4354-9272-09d050cc9e0e",
   "metadata": {},
   "outputs": [],
   "source": [
    "# def get_df_features_bed(df_bed, header_dict, seg_duration=30*60, verbose=False):\n",
    "#     # df_bed stores the waveform\n",
    "#     # header_dict stores the meta data\n",
    "#     # seg_duration: the duration to look at the data (in second)\n",
    "    \n",
    "#     # seg_duration = 1 * 60 * 60 # seconds\n",
    "#     # seg_duration = 30 * 60 # seconds\n",
    "#     if verbose:\n",
    "#         print('seg_duration is {} sec'.format(seg_duration))\n",
    "#     # unit_dict = header_dict['unit_dict']\n",
    "#     Fs = header_dict['Fs']\n",
    "#     N_segs = int((df_bed.shape[0]/Fs)//seg_duration)\n",
    "\n",
    "#     df_features_bed = pd.DataFrame()\n",
    "\n",
    "#     for i_seg in range(N_segs):\n",
    "\n",
    "#         if verbose:\n",
    "#             print('i_seg: ', i_seg)\n",
    "\n",
    "#         # if i_seg != 5:\n",
    "#         #     continue\n",
    "#         i_start = i_seg*seg_duration*Fs\n",
    "#         i_end = (i_seg+1)*seg_duration*Fs\n",
    "\n",
    "#         df_seg = df_bed[i_start:i_end]\n",
    "\n",
    "#         if df_seg.shape[0]==0:\n",
    "#             continue\n",
    "\n",
    "#         norm1 = np.abs(get_ecg_IP_norm(df_seg['I'].values, df_seg['II']))\n",
    "#         norm2 = np.abs(get_ecg_IP_norm(df_seg['I'].values, df_seg['III']))\n",
    "#         norm3 = np.abs(get_ecg_IP_norm(df_seg['I'].values, df_seg['V']))\n",
    "\n",
    "#         if (norm1 < 0.3) or (norm2 < 0.3) or (norm3 < 0.3):\n",
    "#             if verbose:\n",
    "#                 print('\\tbad ECG')\n",
    "#             continue\n",
    "\n",
    "\n",
    "#         sig_name = 'I'\n",
    "#         ECG = df_seg[sig_name].values\n",
    "\n",
    "\n",
    "#         # ECG = df[sig_name].values\n",
    "\n",
    "#         fig_name = 'ECG_diagnostics_'+sig_name\n",
    "#         # QRS_detector_dict = task_HR_detector(ECG, Fs, fig_name=fig_name, outputdir=None, show_plot=True)\n",
    "#         QRS_detector_dict = task_HR_detector(ECG, Fs, fig_name=fig_name, outputdir=None, show_plot=False)\n",
    "\n",
    "#     #     t_ecg = np.arange(ECG.shape[0])/Fs\n",
    "#     #     hr_interp = np.interp(t_ecg, QRS_detector_dict['ts_hr'], QRS_detector_dict['hr'])\n",
    "\n",
    "\n",
    "#         # segment the beats\n",
    "#         beats_dict = segment_df(df_seg, QRS_detector_dict, Fs)\n",
    "#         mask_ppg, ol_rate = clean_PPG(beats_dict['SPO2'], beats_dict['SPO2'].mean(axis=1), Fs)\n",
    "#         beats_dict = masking_beats_dict(beats_dict, mask_ppg)\n",
    "\n",
    "#         if ol_rate > 0.1:\n",
    "#             if verbose:\n",
    "#                 print('\\tbad PPG')\n",
    "#             continue\n",
    "#         print('\\t\\tPPG outlier rate: {:.2f}%'.format( ol_rate*100) )\n",
    "#         # sys.exit()\n",
    "\n",
    "\n",
    "#         # sys.exit()\n",
    "\n",
    "#         if verbose:\n",
    "#             print('\\t\\tpass ECG and PPG SQI tests...')\n",
    "\n",
    "\n",
    "#         beats_dict['i_R_peaks'] = beats_dict['i_R_peaks'] + i_start    \n",
    "\n",
    "#         # ensemble the beats (N=4)\n",
    "#         use_ensemble = True\n",
    "\n",
    "#         if use_ensemble:\n",
    "#             for key in beats_dict:\n",
    "#                 if 'ppg' not in key:\n",
    "#                     continue\n",
    "#                 sig_beats = beats_dict[key]\n",
    "#                 beats_dict[key] = get_ensemble_beats(sig_beats, N_enBeats=4, use_woody=False)\n",
    "\n",
    "\n",
    "#         df_features = beat2features(beats_dict, Fs)\n",
    "\n",
    "#         # reject unnecessary features\n",
    "#         mask_all = get_mask_all(df_features)\n",
    "#         # sys.exit()\n",
    "#         if verbose:\n",
    "#             print('\\t\\tfaeture rejection rate: {:.2f}%'.format( 100-mask_all.mean()*100) )\n",
    "#         df_features = df_features.loc[mask_all, :].copy()\n",
    "\n",
    "#         df_features_bed = pd.concat([df_features_bed, df_features])\n",
    "\n",
    "#     if verbose:\n",
    "#         print('done')\n",
    "#         print('show df_features_bed size:', df_features_bed.shape)\n",
    "    \n",
    "#     return df_features_bed"
   ]
  },
  {
   "cell_type": "code",
   "execution_count": null,
   "id": "eaf4f108-262b-4dfc-9f97-8b065f5b1c83",
   "metadata": {},
   "outputs": [],
   "source": []
  },
  {
   "cell_type": "code",
   "execution_count": null,
   "id": "b01a5196-c754-4714-9a1e-5d199a0b40d5",
   "metadata": {},
   "outputs": [],
   "source": []
  },
  {
   "cell_type": "code",
   "execution_count": null,
   "id": "9361ba1f-e9b3-4333-a9fa-55b6334750f1",
   "metadata": {},
   "outputs": [],
   "source": []
  },
  {
   "cell_type": "code",
   "execution_count": null,
   "id": "a6aff734-116d-48e0-83c8-e3e5f38b5872",
   "metadata": {},
   "outputs": [],
   "source": []
  },
  {
   "cell_type": "code",
   "execution_count": null,
   "id": "087d2601-4be2-48dc-8650-42e6b24b7cb3",
   "metadata": {},
   "outputs": [],
   "source": []
  },
  {
   "cell_type": "code",
   "execution_count": null,
   "id": "64c6528b-f573-4cdc-aea7-f0e2d593ebca",
   "metadata": {},
   "outputs": [],
   "source": []
  },
  {
   "cell_type": "code",
   "execution_count": null,
   "id": "d4b0ca06-6c55-43e2-9103-8fdb91e347ed",
   "metadata": {},
   "outputs": [],
   "source": []
  },
  {
   "cell_type": "code",
   "execution_count": null,
   "id": "0c81e261-b3d9-4f46-9669-1d810837c32f",
   "metadata": {},
   "outputs": [],
   "source": [
    "sys.exit()"
   ]
  },
  {
   "cell_type": "code",
   "execution_count": null,
   "id": "8af8f09f-41b8-46a6-be9d-a3589f3d7801",
   "metadata": {},
   "outputs": [],
   "source": []
  },
  {
   "cell_type": "code",
   "execution_count": null,
   "id": "4dd5fda3-a538-4afa-aa16-5c5204c3c9bf",
   "metadata": {},
   "outputs": [],
   "source": [
    "beats = beats_dict['SPO2']\n",
    "\n",
    "plt.plot(beats, color='gray', alpha=0.1)\n",
    "plt.plot(beats.mean(axis=1), color='red', alpha=0.7)\n",
    "# plt.ylim(-1,1)\n",
    "plt.show()\n",
    "\n",
    "beats = beats_dict['SPO2'][:, mask_all]\n",
    "\n",
    "plt.plot(beats, color='gray', alpha=0.1)\n",
    "plt.plot(beats.mean(axis=1), color='red', alpha=0.7)\n",
    "# plt.ylim(-1,1)\n",
    "plt.show()"
   ]
  },
  {
   "cell_type": "code",
   "execution_count": null,
   "id": "50162c51-844a-4bdc-a031-bce1c1c514ee",
   "metadata": {},
   "outputs": [],
   "source": []
  },
  {
   "cell_type": "code",
   "execution_count": null,
   "id": "008311c0-bb8d-43f0-8116-4e8eb8554658",
   "metadata": {},
   "outputs": [],
   "source": []
  },
  {
   "cell_type": "code",
   "execution_count": null,
   "id": "ba97e9b4-4355-4b90-b793-a6b14b3f82d9",
   "metadata": {},
   "outputs": [],
   "source": [
    "feature_names = list(df_features_sub.keys())\n",
    "feature_names.remove('i_R_peak')\n",
    "\n",
    "\n",
    "# feature_names"
   ]
  },
  {
   "cell_type": "code",
   "execution_count": null,
   "id": "b48bbb29-617c-479f-8c8c-df5ac3f30127",
   "metadata": {},
   "outputs": [],
   "source": [
    "# sns.set_theme(style=\"whitegrid\")\n",
    "# tips = sns.load_dataset(\"tips\")\n",
    "\n",
    "fig, axes = plt.subplots(len(feature_names),1, figsize=(5,20), dpi=80)\n",
    "\n",
    "for ax, feature_name in zip(axes, feature_names):\n",
    "# sns.violinplot(x=df_features[\"B2C\"], ax=axes[0], orient='v')\n",
    "# sns.violinplot(x=df_features[\"PI\"], ax=axes[1], orient='v')\n",
    "\n",
    "    sns.violinplot(data=df_features_sub, y=feature_name, ax=ax)\n",
    "# sns.violinplot(data=df_features_sub, y=\"PI\", ax=axes[1])\n"
   ]
  },
  {
   "cell_type": "code",
   "execution_count": null,
   "id": "8130426a-0e71-442e-8e7f-2d19cea08739",
   "metadata": {},
   "outputs": [],
   "source": [
    "df_features_sub.keys()"
   ]
  },
  {
   "cell_type": "code",
   "execution_count": null,
   "id": "9ca9b8b7-b5c4-4fa5-89ae-9c8bbad9dfb7",
   "metadata": {},
   "outputs": [],
   "source": [
    "plt.plot(df_features_sub['rms'].values)"
   ]
  },
  {
   "cell_type": "code",
   "execution_count": null,
   "id": "ae6eb36a-574d-40f6-9cf8-e6ef7893c4c3",
   "metadata": {},
   "outputs": [],
   "source": [
    "np.median(df_features_sub['max2min'].values)"
   ]
  },
  {
   "cell_type": "code",
   "execution_count": null,
   "id": "72cf3152-71b2-47d4-8b9b-785489e097bf",
   "metadata": {},
   "outputs": [],
   "source": []
  },
  {
   "cell_type": "code",
   "execution_count": null,
   "id": "d45c0210-c3ae-4101-bea3-cac69d4922e4",
   "metadata": {},
   "outputs": [],
   "source": []
  },
  {
   "cell_type": "code",
   "execution_count": null,
   "id": "a6819f02-55a8-44f4-832a-6de3c2c7a550",
   "metadata": {},
   "outputs": [],
   "source": []
  },
  {
   "cell_type": "code",
   "execution_count": null,
   "id": "f7fa4c07-7fd3-4fd6-b781-9970fcc9c44b",
   "metadata": {},
   "outputs": [],
   "source": []
  },
  {
   "cell_type": "code",
   "execution_count": null,
   "id": "9fec5b34-6130-4c99-a710-c8e7fddb9b78",
   "metadata": {},
   "outputs": [],
   "source": []
  },
  {
   "cell_type": "code",
   "execution_count": null,
   "id": "b1de4743-9d51-445b-afa1-c34e94b2cbc9",
   "metadata": {},
   "outputs": [],
   "source": [
    "\n",
    "# np.prod(mask_feature_list, axis=1)"
   ]
  },
  {
   "cell_type": "code",
   "execution_count": null,
   "id": "da2169cf-54b7-4049-99a6-8d09e48351da",
   "metadata": {},
   "outputs": [],
   "source": []
  },
  {
   "cell_type": "code",
   "execution_count": null,
   "id": "ca2b1dc2-8649-463c-808d-e83a9e0c9259",
   "metadata": {},
   "outputs": [],
   "source": [
    "mask_feature_list.shape"
   ]
  },
  {
   "cell_type": "code",
   "execution_count": null,
   "id": "bd8e118a-a0e8-48d4-9559-3531d482e24f",
   "metadata": {},
   "outputs": [],
   "source": [
    "aaa = np.asarray([[ True,  True,  True, True],\n",
    "       [ True,  False,  True, True],\n",
    "       [ True,  True,  True, True]])\n",
    "\n",
    "aaa"
   ]
  },
  {
   "cell_type": "code",
   "execution_count": null,
   "id": "a857978d-b5a6-4ceb-bd65-80a5ffc8c9c2",
   "metadata": {},
   "outputs": [],
   "source": [
    "np.prod(aaa, axis=1)"
   ]
  },
  {
   "cell_type": "code",
   "execution_count": null,
   "id": "0178d951-20d6-49b5-a7d4-b2efcefc38ff",
   "metadata": {},
   "outputs": [],
   "source": [
    "mask_feature_list.shape"
   ]
  },
  {
   "cell_type": "code",
   "execution_count": null,
   "id": "81a32fa1-8c9e-4d09-9fd1-aa519be380fe",
   "metadata": {},
   "outputs": [],
   "source": [
    "# np.stack(mask_feature_list).T\n",
    "# aaa = np.asarray([[1.,2.],[3.,4.]])\n",
    "# np.prod(aaa, axis=0), aaa"
   ]
  },
  {
   "cell_type": "code",
   "execution_count": null,
   "id": "52d5ee75-19db-41aa-8e39-e36a414cb303",
   "metadata": {},
   "outputs": [],
   "source": [
    "FQI_dict"
   ]
  },
  {
   "cell_type": "code",
   "execution_count": null,
   "id": "5b010f7c-3a8c-4d3a-998f-fe57e413a250",
   "metadata": {},
   "outputs": [],
   "source": [
    "FQI_dict = get_FQI_dict(df_features['B2C'].values)\n",
    "plt.plot(FQI_dict['FQI'])"
   ]
  },
  {
   "cell_type": "code",
   "execution_count": null,
   "id": "f5a79d1b-2dfc-4ac4-9c36-fbfe21ec8c09",
   "metadata": {},
   "outputs": [],
   "source": []
  },
  {
   "cell_type": "code",
   "execution_count": null,
   "id": "ac7f1538-c082-4e96-a8d1-2407307257e1",
   "metadata": {},
   "outputs": [],
   "source": []
  },
  {
   "cell_type": "code",
   "execution_count": null,
   "id": "7901661a-54af-4cd1-98de-85be31e21b51",
   "metadata": {},
   "outputs": [],
   "source": []
  },
  {
   "cell_type": "code",
   "execution_count": null,
   "id": "6f4ab725-5f70-401b-8c9e-c6a92d796e2c",
   "metadata": {},
   "outputs": [],
   "source": []
  },
  {
   "cell_type": "code",
   "execution_count": null,
   "id": "c509a3de-f46c-4435-808c-60cd2ee2b394",
   "metadata": {},
   "outputs": [],
   "source": [
    "plt.plot(ECG)\n",
    "plt.xlim(0,1000)"
   ]
  },
  {
   "cell_type": "code",
   "execution_count": null,
   "id": "ca2f8820-490c-4c69-8aab-3b946aecb541",
   "metadata": {},
   "outputs": [],
   "source": [
    "t_ecg = np.arange(ECG.shape[0])/Fs\n",
    "hr_interp = np.interp(t_ecg, QRS_detector_dict['ts_hr'], QRS_detector_dict['hr'])\n",
    "\n",
    "# plt.plot(t_ecg, hr_interp)\n",
    "plt.plot(QRS_detector_dict['ts_hr'], QRS_detector_dict['hr'])\n",
    "plt.xlim(0, 100)"
   ]
  },
  {
   "cell_type": "code",
   "execution_count": null,
   "id": "b7335933-591b-42f5-afb7-3c3f69f48fa6",
   "metadata": {},
   "outputs": [],
   "source": [
    "# plt.plot(t_ecg, ECG)\n",
    "# plt.xlim(0, 500)"
   ]
  },
  {
   "cell_type": "code",
   "execution_count": null,
   "id": "28791672-1780-489e-ad1a-8ae9c0af3f67",
   "metadata": {},
   "outputs": [],
   "source": [
    "# plt.plot(t_ecg, ECG)\n",
    "# plt.xlim(300, 350)"
   ]
  },
  {
   "cell_type": "code",
   "execution_count": null,
   "id": "e2d72931-fe8b-405b-8a0d-d2724c527896",
   "metadata": {},
   "outputs": [],
   "source": []
  },
  {
   "cell_type": "code",
   "execution_count": null,
   "id": "98f6220e-0bed-4b82-b0e9-7fffac2d296f",
   "metadata": {},
   "outputs": [],
   "source": []
  },
  {
   "cell_type": "code",
   "execution_count": null,
   "id": "b2eaeb15-0cd8-4cf3-99d2-bb88c897e8e5",
   "metadata": {},
   "outputs": [],
   "source": []
  },
  {
   "cell_type": "code",
   "execution_count": null,
   "id": "2746bdac-f067-4a1e-b9db-34bedba6c22f",
   "metadata": {},
   "outputs": [],
   "source": []
  },
  {
   "cell_type": "code",
   "execution_count": null,
   "id": "0793119c",
   "metadata": {},
   "outputs": [],
   "source": []
  },
  {
   "cell_type": "code",
   "execution_count": null,
   "id": "bbe0174d",
   "metadata": {},
   "outputs": [],
   "source": [
    "# plt.plot(t_ecg[::10], hr_interp[::10])\n",
    "# plt.xlim(0, 1000)"
   ]
  },
  {
   "cell_type": "code",
   "execution_count": null,
   "id": "411b9180",
   "metadata": {},
   "outputs": [],
   "source": [
    "# def get_filt_df(df_sync, Fs):\n",
    "#     df = df_sync.copy()\n",
    "\n",
    "#     for sig_name in df.columns:\n",
    "#         if 'I' == sig_name or 'II' == sig_name or 'III' == sig_name or 'V' == sig_name:\n",
    "#             df[sig_name] = get_padded_filt(df[sig_name].values, filter_padded=1, lowcutoff=FILT_ECG[0], highcutoff=FILT_ECG[1], Fs=Fs)\n",
    "#         elif 'RR' == sig_name:\n",
    "#             df[sig_name] = get_padded_filt_DSwrapper(df[sig_name].values, filter_padded=1, lowcutoff=FILT_RESP[0], highcutoff=FILT_RESP[1], Fs=Fs)\n",
    "#         elif 'SPO2' == sig_name:\n",
    "#             df[sig_name] = get_padded_filt(df[sig_name].values, filter_padded=1, lowcutoff=FILT_PPG[0], highcutoff=FILT_PPG[1], Fs=Fs)\n",
    "#         else:\n",
    "#             pass\n",
    "\n",
    "#     return df\n"
   ]
  },
  {
   "cell_type": "code",
   "execution_count": null,
   "id": "3f3d0a87",
   "metadata": {},
   "outputs": [],
   "source": []
  },
  {
   "cell_type": "code",
   "execution_count": null,
   "id": "054d1fce",
   "metadata": {},
   "outputs": [],
   "source": []
  },
  {
   "cell_type": "code",
   "execution_count": null,
   "id": "6058959a",
   "metadata": {},
   "outputs": [],
   "source": []
  },
  {
   "cell_type": "code",
   "execution_count": null,
   "id": "59b4fdba",
   "metadata": {},
   "outputs": [],
   "source": [
    "\n",
    "# beats_dict = segment_df(df_seg, QRS_detector_dict, Fs)\n",
    "# use_ensemble = True\n"
   ]
  },
  {
   "cell_type": "code",
   "execution_count": null,
   "id": "8aff6bcb",
   "metadata": {},
   "outputs": [],
   "source": []
  },
  {
   "cell_type": "code",
   "execution_count": null,
   "id": "5b5ea448",
   "metadata": {},
   "outputs": [],
   "source": [
    "# if use_ensemble:\n",
    "#     for key in beats_dict:\n",
    "#         if 'ppg' not in key:\n",
    "#             continue\n",
    "#         sig_beats = beats_dict[key]\n",
    "#         beats_dict[key] = get_ensemble_beats(sig_beats, N_enBeats=4, use_woody=False)"
   ]
  },
  {
   "cell_type": "code",
   "execution_count": null,
   "id": "eca33305",
   "metadata": {},
   "outputs": [],
   "source": []
  },
  {
   "cell_type": "code",
   "execution_count": null,
   "id": "f70cf61a",
   "metadata": {},
   "outputs": [],
   "source": [
    "beats_dict.keys()"
   ]
  },
  {
   "cell_type": "code",
   "execution_count": null,
   "id": "3b989a5d",
   "metadata": {},
   "outputs": [],
   "source": []
  },
  {
   "cell_type": "code",
   "execution_count": null,
   "id": "1c7e179c",
   "metadata": {},
   "outputs": [],
   "source": []
  },
  {
   "cell_type": "code",
   "execution_count": null,
   "id": "23fca3fb",
   "metadata": {},
   "outputs": [],
   "source": [
    "beats_id = [1,2,3,4,5,6]\n",
    "beats_names = ['I', 'II', 'III', 'V', 'SPO2', 'PPG_DC']\n",
    "unit_dict['PPG_DC'] = ''\n",
    "\n",
    "def plot_ALL_beats(beats_dict, beats_id, subject_id, Fs, show_good=None, fig_name=None, outputdir=None, show_plot=False):\n",
    "\n",
    "    t_beat = np.arange(beats_dict['I'].shape[0])/Fs\n",
    "\n",
    "    fig = plt.figure(figsize=(16, 10), dpi=80)\n",
    "    fontsize = 20\n",
    "    alpha = 0.03\n",
    "\n",
    "\n",
    "    # for (beat_name, beat_i) in zip(beats_dict, beats_id):\n",
    "    for (beat_name, beat_i) in zip(beats_names, beats_id):\n",
    "\n",
    "        beats = beats_dict[beat_name]\n",
    "\n",
    "        ax = fig.add_subplot(3, 4, beat_i)\n",
    "        ax.set_title(beat_name+'\\n', fontsize=fontsize)\n",
    "\n",
    "        show_good = True\n",
    "        if show_good is not None:\n",
    "\n",
    "\n",
    "            template = beats_dict[beat_name].mean(axis=1)\n",
    "            if beat_name=='SPO2':\n",
    "                mask_all, ol_rate = clean_PPG(beats, template, Fs)\n",
    "                ax.set_title(beat_name+'\\nacception_rate:{:.2f}'.format(1-ol_rate), fontsize=fontsize)\n",
    "\n",
    "            # if 'ppg' in beat_name:\n",
    "\n",
    "    #             # if beat_name[-1]=='1':\n",
    "    #                 template = beats_dict['ppg_r_1'].mean(axis=1)\n",
    "    #             elif beat_name[-1]=='2':\n",
    "    #                 template = beats_dict['ppg_r_1'].mean(axis=1)\n",
    "\n",
    "    #             mask_all, ol_rate = clean_PPG(beats, template, Fs)\n",
    "    #             if show_good==False:\n",
    "    #                 beats = beats[:, ~mask_all]\n",
    "    # #                     print(beat_name, ol_rate)\n",
    "    #                 ax.set_title(beat_name+'\\nrejection_rate:{:.2f}'.format(ol_rate), fontsize=fontsize)\n",
    "    #             else:\n",
    "    #                 beats = beats[:, mask_all]\n",
    "    # #                     print(beat_name, ol_rate)\n",
    "    #                 ax.set_title(beat_name+'\\nacception_rate:{:.2f}'.format(1-ol_rate), fontsize=fontsize)\n",
    "\n",
    "\n",
    "\n",
    "        ax.plot(t_beat, beats, color='gray', alpha=alpha)\n",
    "        ax.plot(t_beat, np.mean(beats,axis=1), color='firebrick', linewidth=3)\n",
    "\n",
    "        if 'SPO2' in beat_name or 'I' == beat_name or 'II' == beat_name or 'III' == beat_name or 'V' == beat_name:\n",
    "            beats_mean = np.mean(beats,axis=1)\n",
    "\n",
    "            ymin = beats_mean.mean() - beats_mean.std()*5\n",
    "            ymax = beats_mean.mean() + beats_mean.std()*5\n",
    "            ax.set_ylim(ymin, ymax)\n",
    "\n",
    "        ax.tick_params(axis='both', which='major', labelsize=13)\n",
    "        ax.set_ylabel(unit_dict[beat_name], fontsize=fontsize-3)\n",
    "        ax.set_xlabel('time (sec)', fontsize=fontsize)\n",
    "\n",
    "\n",
    "\n",
    "    fig.tight_layout()\n",
    "\n",
    "    # if outputdir is not None:\n",
    "\n",
    "    #     if fig_name is None:\n",
    "    #         fig_name = 'beats_ensemble_sub{}'.format(subject_id)\n",
    "\n",
    "    #     if not os.path.exists(outputdir):\n",
    "    #         os.makedirs(outputdir)\n",
    "    #     fig.savefig(outputdir + fig_name+'.png', transparent=False)\n",
    "\n",
    "    # if show_plot == False:\n",
    "    #     plt.close(fig)\n",
    "    #     pyplot.close(fig)\n",
    "    #     plt.close('all')\n",
    "\n",
    "\n",
    "    # #     if log_wandb:\n",
    "    # #         wandb.log({fig_name: wandb.Image(fig)})\n",
    "\n"
   ]
  },
  {
   "cell_type": "code",
   "execution_count": null,
   "id": "519b7553",
   "metadata": {},
   "outputs": [],
   "source": []
  },
  {
   "cell_type": "code",
   "execution_count": null,
   "id": "f1451aea",
   "metadata": {},
   "outputs": [],
   "source": []
  },
  {
   "cell_type": "code",
   "execution_count": null,
   "id": "5d5884b3",
   "metadata": {},
   "outputs": [],
   "source": []
  },
  {
   "cell_type": "code",
   "execution_count": null,
   "id": "5680fb9a",
   "metadata": {},
   "outputs": [],
   "source": [
    "\n"
   ]
  },
  {
   "cell_type": "code",
   "execution_count": null,
   "id": "93447d3c",
   "metadata": {},
   "outputs": [],
   "source": []
  },
  {
   "cell_type": "code",
   "execution_count": null,
   "id": "ac6ac4a9",
   "metadata": {},
   "outputs": [],
   "source": []
  },
  {
   "cell_type": "code",
   "execution_count": null,
   "id": "3b3dd1b2",
   "metadata": {},
   "outputs": [],
   "source": []
  },
  {
   "cell_type": "code",
   "execution_count": null,
   "id": "07900acf",
   "metadata": {},
   "outputs": [],
   "source": []
  },
  {
   "cell_type": "code",
   "execution_count": null,
   "id": "1b252593",
   "metadata": {},
   "outputs": [],
   "source": []
  },
  {
   "cell_type": "code",
   "execution_count": null,
   "id": "c65aaa89",
   "metadata": {},
   "outputs": [],
   "source": []
  },
  {
   "cell_type": "code",
   "execution_count": null,
   "id": "4fc7839b-0e2a-4d81-a41d-276a7fbad7d0",
   "metadata": {},
   "outputs": [],
   "source": []
  },
  {
   "cell_type": "code",
   "execution_count": null,
   "id": "35330d2a-4433-467d-a6c8-4387e8435c74",
   "metadata": {},
   "outputs": [],
   "source": []
  },
  {
   "cell_type": "code",
   "execution_count": null,
   "id": "9db7b20c",
   "metadata": {},
   "outputs": [],
   "source": []
  },
  {
   "cell_type": "code",
   "execution_count": null,
   "id": "5e883f78-1fe6-49a8-be19-86dbdd3f8402",
   "metadata": {},
   "outputs": [],
   "source": []
  },
  {
   "cell_type": "code",
   "execution_count": null,
   "id": "bb916ff8-f081-44a8-a4d7-83024e371b21",
   "metadata": {},
   "outputs": [],
   "source": [
    "df_features"
   ]
  },
  {
   "cell_type": "code",
   "execution_count": null,
   "id": "01982e0b-ecf3-4283-9baa-7150cc08b85c",
   "metadata": {},
   "outputs": [],
   "source": []
  },
  {
   "cell_type": "code",
   "execution_count": null,
   "id": "db96fa7f-e59c-4428-afe4-920dfaca3654",
   "metadata": {},
   "outputs": [],
   "source": []
  },
  {
   "cell_type": "code",
   "execution_count": null,
   "id": "3bab8d29-11fd-4f78-8a77-97e51d3e8431",
   "metadata": {},
   "outputs": [],
   "source": []
  },
  {
   "cell_type": "code",
   "execution_count": null,
   "id": "79829627",
   "metadata": {},
   "outputs": [],
   "source": [
    "plt.plot(df_features['PI'].values)"
   ]
  },
  {
   "cell_type": "code",
   "execution_count": null,
   "id": "d13e3ea0",
   "metadata": {},
   "outputs": [],
   "source": [
    "debug_B2C(beats_PPG, Fs)\n"
   ]
  },
  {
   "cell_type": "code",
   "execution_count": null,
   "id": "f0105059",
   "metadata": {},
   "outputs": [],
   "source": []
  },
  {
   "cell_type": "code",
   "execution_count": null,
   "id": "9105ce1c",
   "metadata": {},
   "outputs": [],
   "source": [
    "data = df_features['B2C'].values\n",
    "FQI_dict = get_FQI_dict(data)\n",
    "plt.plot(FQI_dict['FQI'])"
   ]
  },
  {
   "cell_type": "code",
   "execution_count": null,
   "id": "087e64b8",
   "metadata": {},
   "outputs": [],
   "source": [
    "df_features"
   ]
  },
  {
   "cell_type": "code",
   "execution_count": null,
   "id": "8ac333ba",
   "metadata": {},
   "outputs": [],
   "source": [
    "data = df_features['PI'].values\n",
    "FQI_dict = get_FQI_dict(data)\n",
    "plt.plot(FQI_dict['FQI'])"
   ]
  },
  {
   "cell_type": "code",
   "execution_count": null,
   "id": "b353976e",
   "metadata": {},
   "outputs": [],
   "source": [
    "data = df_features['max2min'].values\n",
    "FQI_dict = get_FQI_dict(data)\n",
    "plt.plot(FQI_dict['FQI'])"
   ]
  },
  {
   "cell_type": "code",
   "execution_count": null,
   "id": "5842c813",
   "metadata": {},
   "outputs": [],
   "source": []
  },
  {
   "cell_type": "code",
   "execution_count": null,
   "id": "4631879b",
   "metadata": {},
   "outputs": [],
   "source": []
  },
  {
   "cell_type": "code",
   "execution_count": null,
   "id": "83eede5e",
   "metadata": {},
   "outputs": [],
   "source": []
  },
  {
   "cell_type": "code",
   "execution_count": null,
   "id": "1af57406",
   "metadata": {},
   "outputs": [],
   "source": [
    "feature_names!='i_R_peak'"
   ]
  },
  {
   "cell_type": "code",
   "execution_count": null,
   "id": "5d1ad768",
   "metadata": {},
   "outputs": [],
   "source": [
    "feature_names"
   ]
  },
  {
   "cell_type": "code",
   "execution_count": null,
   "id": "429f4636",
   "metadata": {},
   "outputs": [],
   "source": [
    "feature_names = df_features.columns\n",
    "feature_names = feature_names[feature_names!='i_R_peak']\n",
    "N_feature = feature_names.shape[0]"
   ]
  },
  {
   "cell_type": "code",
   "execution_count": null,
   "id": "2ff5a3d3",
   "metadata": {},
   "outputs": [],
   "source": [
    "df_seg"
   ]
  },
  {
   "cell_type": "code",
   "execution_count": null,
   "id": "f52d87d8",
   "metadata": {},
   "outputs": [],
   "source": [
    "fig, (axes) = plt.subplots(N_feature+2, 1, figsize=(20,8), dpi=100)\n",
    "\n",
    "t_sig = df_seg['time'].values\n",
    "t_sig = t_sig-t_sig[0]\n",
    "\n",
    "ax1= axes[0]\n",
    "ax1.plot(t_sig, df_seg['SPO2'].values)\n",
    "ax1.set_ylabel('PPG')\n",
    "\n",
    "ax2= axes[1]\n",
    "ax2.plot(t_sig, df_seg['RR'].values)\n",
    "ax2.set_ylabel('RR')\n",
    "\n",
    "for i, feature_name in enumerate(feature_names):\n",
    "    ax = axes[i+2]\n",
    "    # ax2.scatter(beats_dict['i_R_peaks'][mask_feature], features_B2C[mask_feature])\n",
    "    data = df_features[feature_name].values\n",
    "    FQI_dict = get_FQI_dict(data)\n",
    "    mask_feature = FQI_dict['mask_feature']\n",
    "    ax.plot(df_features['i_R_peak'][mask_feature&mask_all]/Fs, df_features[feature_name][mask_feature&mask_all])\n",
    "    ax.scatter(df_features['i_R_peak'][mask_feature&mask_all]/Fs, df_features[feature_name][mask_feature&mask_all])\n",
    "    ax.set_ylabel(feature_name)\n",
    "\n",
    "ax.set_xlabel('time (s)')\n",
    "fig.tight_layout()\n"
   ]
  },
  {
   "cell_type": "code",
   "execution_count": null,
   "id": "b96e7300",
   "metadata": {},
   "outputs": [],
   "source": []
  },
  {
   "cell_type": "code",
   "execution_count": null,
   "id": "7a38e9b7",
   "metadata": {},
   "outputs": [],
   "source": []
  },
  {
   "cell_type": "code",
   "execution_count": null,
   "id": "a668fc21",
   "metadata": {},
   "outputs": [],
   "source": []
  },
  {
   "cell_type": "code",
   "execution_count": null,
   "id": "d8d24449",
   "metadata": {},
   "outputs": [],
   "source": []
  },
  {
   "cell_type": "code",
   "execution_count": null,
   "id": "274dc3be",
   "metadata": {},
   "outputs": [],
   "source": []
  },
  {
   "cell_type": "code",
   "execution_count": null,
   "id": "265b7714",
   "metadata": {},
   "outputs": [],
   "source": [
    "beats_dict['i_R_peaks'].shape, features_B2C.shape"
   ]
  },
  {
   "cell_type": "code",
   "execution_count": null,
   "id": "c3e4dcc3",
   "metadata": {},
   "outputs": [],
   "source": []
  },
  {
   "cell_type": "code",
   "execution_count": null,
   "id": "894ce89c",
   "metadata": {},
   "outputs": [],
   "source": []
  },
  {
   "cell_type": "code",
   "execution_count": null,
   "id": "99c2890d",
   "metadata": {},
   "outputs": [],
   "source": []
  },
  {
   "cell_type": "code",
   "execution_count": null,
   "id": "5b63ab78",
   "metadata": {},
   "outputs": [],
   "source": []
  },
  {
   "cell_type": "code",
   "execution_count": null,
   "id": "93e1f8d3",
   "metadata": {},
   "outputs": [],
   "source": []
  },
  {
   "cell_type": "code",
   "execution_count": null,
   "id": "435ea5fc",
   "metadata": {},
   "outputs": [],
   "source": [
    "sig_plt"
   ]
  },
  {
   "cell_type": "code",
   "execution_count": null,
   "id": "adb4fd51",
   "metadata": {},
   "outputs": [],
   "source": [
    "t_start = 1100\n",
    "t_end = 1150\n",
    "\n",
    "df_seg = df[(df['time']>=t_start) & (df['time']<=t_end)].copy()\n",
    "\n",
    "t_arr = df_seg['time'].values\n",
    "#     t_arr = t_arr - t_arr[0]\n",
    "\n",
    "t_start = t_arr[0]\n",
    "t_end = t_arr[-1]\n",
    "\n",
    "sig_name = 'SPO2'\n",
    "sig_plt = df_seg[sig_name].values\n",
    "\n",
    "\n",
    "sig_plt = get_padded_filt(sig_plt, filter_padded=5, lowcutoff=1, highcutoff=4, Fs=Fs)\n",
    "\n",
    "# t_arr = df_seg['time'].values\n",
    "alpha=0.5\n",
    "fig, ax = plt.subplots(1, 1, figsize=(25,10), gridspec_kw = {'wspace':0, 'hspace':0}, dpi=80)\n",
    "ax.plot(t_arr, sig_plt, alpha=alpha ,zorder=1, linewidth=linewidth)\n",
    "# ax.set_ylim(-5,5)"
   ]
  },
  {
   "cell_type": "code",
   "execution_count": null,
   "id": "717b313e",
   "metadata": {},
   "outputs": [],
   "source": [
    "unit_dict"
   ]
  },
  {
   "cell_type": "code",
   "execution_count": null,
   "id": "f21414b5",
   "metadata": {},
   "outputs": [],
   "source": []
  },
  {
   "cell_type": "code",
   "execution_count": null,
   "id": "a3f13064",
   "metadata": {},
   "outputs": [],
   "source": []
  },
  {
   "cell_type": "code",
   "execution_count": null,
   "id": "eeb89db0",
   "metadata": {},
   "outputs": [],
   "source": []
  },
  {
   "cell_type": "code",
   "execution_count": null,
   "id": "89128a61",
   "metadata": {},
   "outputs": [],
   "source": []
  },
  {
   "cell_type": "code",
   "execution_count": null,
   "id": "5ef198e4",
   "metadata": {},
   "outputs": [],
   "source": []
  },
  {
   "cell_type": "code",
   "execution_count": null,
   "id": "8325b7cd",
   "metadata": {},
   "outputs": [],
   "source": []
  },
  {
   "cell_type": "code",
   "execution_count": null,
   "id": "100ed96e",
   "metadata": {},
   "outputs": [],
   "source": []
  },
  {
   "cell_type": "code",
   "execution_count": null,
   "id": "02a0c357",
   "metadata": {},
   "outputs": [],
   "source": []
  },
  {
   "cell_type": "code",
   "execution_count": null,
   "id": "8615dccb",
   "metadata": {},
   "outputs": [],
   "source": []
  },
  {
   "cell_type": "code",
   "execution_count": null,
   "id": "8f5e9281",
   "metadata": {},
   "outputs": [],
   "source": []
  },
  {
   "cell_type": "code",
   "execution_count": null,
   "id": "d1ebbe58",
   "metadata": {},
   "outputs": [],
   "source": []
  },
  {
   "cell_type": "code",
   "execution_count": null,
   "id": "2971df0e",
   "metadata": {},
   "outputs": [],
   "source": []
  },
  {
   "cell_type": "code",
   "execution_count": null,
   "id": "3734917a",
   "metadata": {},
   "outputs": [],
   "source": []
  },
  {
   "cell_type": "code",
   "execution_count": null,
   "id": "9fd9f874",
   "metadata": {},
   "outputs": [],
   "source": []
  },
  {
   "cell_type": "code",
   "execution_count": null,
   "id": "8c262945",
   "metadata": {},
   "outputs": [],
   "source": []
  },
  {
   "cell_type": "code",
   "execution_count": null,
   "id": "84f25573",
   "metadata": {},
   "outputs": [],
   "source": []
  },
  {
   "cell_type": "code",
   "execution_count": null,
   "id": "06e7200f",
   "metadata": {},
   "outputs": [],
   "source": []
  },
  {
   "cell_type": "code",
   "execution_count": null,
   "id": "c90dd671",
   "metadata": {},
   "outputs": [],
   "source": []
  },
  {
   "cell_type": "code",
   "execution_count": null,
   "id": "bf534c24",
   "metadata": {},
   "outputs": [],
   "source": []
  },
  {
   "cell_type": "code",
   "execution_count": null,
   "id": "86f29d03",
   "metadata": {},
   "outputs": [],
   "source": []
  },
  {
   "cell_type": "code",
   "execution_count": null,
   "id": "f1b4d6f6",
   "metadata": {},
   "outputs": [],
   "source": []
  },
  {
   "cell_type": "code",
   "execution_count": null,
   "id": "8b586383",
   "metadata": {},
   "outputs": [],
   "source": []
  },
  {
   "cell_type": "code",
   "execution_count": null,
   "id": "853a55ff",
   "metadata": {},
   "outputs": [],
   "source": [
    "homedir = os.path.expanduser('~')+'/'"
   ]
  },
  {
   "cell_type": "code",
   "execution_count": null,
   "id": "d21e49df",
   "metadata": {},
   "outputs": [],
   "source": [
    "inputdir = homedir+'kamaleswaranlab/Sepsis3_062321/Files_cp_sftp_6_30_21/Files_cp_6_30_21/'"
   ]
  },
  {
   "cell_type": "code",
   "execution_count": null,
   "id": "5c6959dc",
   "metadata": {},
   "outputs": [],
   "source": [
    "for sub_file in os.listdir(inputdir):\n",
    "    # print(sub_file)\n",
    "    pass"
   ]
  },
  {
   "cell_type": "code",
   "execution_count": null,
   "id": "07034e57",
   "metadata": {},
   "outputs": [],
   "source": [
    "sub_id = 'A071-0512777549'"
   ]
  },
  {
   "cell_type": "code",
   "execution_count": null,
   "id": "e5456231",
   "metadata": {},
   "outputs": [],
   "source": [
    "for sub_file in os.listdir(inputdir+sub_id):\n",
    "    if 'hea' in sub_file:\n",
    "        print(sub_file)"
   ]
  },
  {
   "cell_type": "code",
   "execution_count": null,
   "id": "862c64dc",
   "metadata": {},
   "outputs": [],
   "source": []
  },
  {
   "cell_type": "code",
   "execution_count": null,
   "id": "888afd9c",
   "metadata": {},
   "outputs": [],
   "source": []
  },
  {
   "cell_type": "code",
   "execution_count": null,
   "id": "f0eb92fe",
   "metadata": {},
   "outputs": [],
   "source": []
  },
  {
   "cell_type": "code",
   "execution_count": null,
   "id": "f1f3c3ee",
   "metadata": {},
   "outputs": [],
   "source": []
  },
  {
   "cell_type": "code",
   "execution_count": null,
   "id": "11428bc6",
   "metadata": {},
   "outputs": [],
   "source": []
  },
  {
   "cell_type": "code",
   "execution_count": null,
   "id": "42904911",
   "metadata": {},
   "outputs": [],
   "source": []
  },
  {
   "cell_type": "code",
   "execution_count": null,
   "id": "6a4dadf8",
   "metadata": {},
   "outputs": [],
   "source": []
  },
  {
   "cell_type": "code",
   "execution_count": null,
   "id": "26294eff",
   "metadata": {},
   "outputs": [],
   "source": []
  },
  {
   "cell_type": "code",
   "execution_count": null,
   "id": "48f137cb",
   "metadata": {},
   "outputs": [],
   "source": []
  },
  {
   "cell_type": "code",
   "execution_count": null,
   "id": "ddb85b11",
   "metadata": {},
   "outputs": [],
   "source": []
  },
  {
   "cell_type": "code",
   "execution_count": null,
   "id": "f3009839",
   "metadata": {},
   "outputs": [],
   "source": []
  },
  {
   "cell_type": "code",
   "execution_count": null,
   "id": "8183887b",
   "metadata": {},
   "outputs": [],
   "source": []
  },
  {
   "cell_type": "code",
   "execution_count": null,
   "id": "e0da7568",
   "metadata": {},
   "outputs": [],
   "source": []
  },
  {
   "cell_type": "code",
   "execution_count": null,
   "id": "ead6acc4",
   "metadata": {},
   "outputs": [],
   "source": []
  },
  {
   "cell_type": "code",
   "execution_count": null,
   "id": "14c3b382",
   "metadata": {},
   "outputs": [],
   "source": []
  },
  {
   "cell_type": "code",
   "execution_count": null,
   "id": "ee8b9f1e",
   "metadata": {},
   "outputs": [],
   "source": []
  }
 ],
 "metadata": {
  "kernelspec": {
   "display_name": "Python 3 (ipykernel)",
   "language": "python",
   "name": "python3"
  },
  "language_info": {
   "codemirror_mode": {
    "name": "ipython",
    "version": 3
   },
   "file_extension": ".py",
   "mimetype": "text/x-python",
   "name": "python",
   "nbconvert_exporter": "python",
   "pygments_lexer": "ipython3",
   "version": "3.8.11"
  }
 },
 "nbformat": 4,
 "nbformat_minor": 5
}
